{
 "cells": [
  {
   "cell_type": "code",
   "execution_count": 59,
   "metadata": {},
   "outputs": [],
   "source": [
    "import os \n",
    "import pandas as pd\n",
    "import numpy as np\n",
    "from datetime import datetime\n",
    "import seaborn as sn"
   ]
  },
  {
   "cell_type": "markdown",
   "metadata": {},
   "source": [
    "## Obtaining Data"
   ]
  },
  {
   "cell_type": "code",
   "execution_count": 60,
   "metadata": {},
   "outputs": [],
   "source": [
    "path = '../data/raw/'"
   ]
  },
  {
   "cell_type": "code",
   "execution_count": 61,
   "metadata": {},
   "outputs": [],
   "source": [
    "def df_classifier(path,service,sheet):\n",
    "    \n",
    "    df_list =[]\n",
    "    \n",
    "    for root, dirs, files in os.walk(path):\n",
    "        \n",
    "        for filename in files:\n",
    "            \n",
    "            if filename.startswith(service):\n",
    "                \n",
    "                df_list.append(pd.read_excel(f'{path}{filename}', sheet_name=sheet))\n",
    "            \n",
    "                print(filename)\n",
    "                \n",
    "            elif service == 'all':\n",
    "                \n",
    "                df_list.append(pd.read_excel(f'{path}{filename}', sheet_name=sheet))\n",
    "                \n",
    "                print(filename)\n",
    "                \n",
    "    return df_list"
   ]
  },
  {
   "cell_type": "code",
   "execution_count": 62,
   "metadata": {},
   "outputs": [
    {
     "name": "stdout",
     "output_type": "stream",
     "text": [
      "hl1986to2001.xlsx\n",
      "gtgg1986to2001.xlsx\n",
      "hl2010toPresent.xlsx\n",
      "hl2002to2009.xlsx\n",
      "lng2011toPresent.xlsx\n",
      "gd2010toPresent.xlsx\n",
      "gtgg2002to2009.xlsx\n",
      "gtggungs2010toPresent.xlsx\n",
      "gdmar2004to2009.xlsx\n",
      "gd1986tofeb2004.xlsx\n"
     ]
    }
   ],
   "source": [
    "df_list = df_classifier(path, 'all', 1)"
   ]
  },
  {
   "cell_type": "code",
   "execution_count": 63,
   "metadata": {},
   "outputs": [
    {
     "data": {
      "text/plain": [
       "Index(['DATAFILE_AS_OF', 'SIGNIFICANT', 'SERIOUS', 'SYSTEM_TYPE', 'RPTID',\n",
       "       'DOR', 'OPID', 'NAME', 'ACCITY', 'ACCOUNTY', 'ACSTATE', 'ACZIP',\n",
       "       'MPOST', 'SURVY', 'DTHH', 'IDATE', 'CLASS', 'SHORE', 'OFFAREA', 'BNUMB',\n",
       "       'OFFST', 'OCS', 'IFED', 'ITYPE', 'RUPLN', 'FAT', 'INJ', 'TOTAL_COST',\n",
       "       'TOTAL_COST_IN84', 'TOTAL_COST_CURRENT', 'OPJUD', 'STHH', 'STMN',\n",
       "       'TELRN', 'TELRT', 'INPRS', 'MXPRS', 'MPEST', 'TEST', 'CAUSE',\n",
       "       'MAP_CAUSE', 'MAP_SUBCAUSE', 'PRTLK', 'PRTFL', 'PRTFO', 'MLKD', 'MLKDO',\n",
       "       'PRTSY', 'PRTSO', 'PRTYR', 'NMDIA', 'THK', 'SPEC', 'SMYS', 'SEAM',\n",
       "       'VALVE', 'MANU', 'MANYR', 'LOCLK', 'LOCLO', 'PNAME', 'PHONE', 'LOC',\n",
       "       'ADESC', 'DESCO', 'CAUCR', 'CAUCO', 'COAT', 'PROT', 'CPYR', 'CAULK',\n",
       "       'DMGO', 'NOTIF', 'NOTDT', 'MARK', 'MRKTP', 'STAT', 'CAULC', 'CAULO',\n",
       "       'CTEST', 'TESTD', 'MED', 'MEDO', 'TMPS', 'LKPS', 'NARRATIVE'],\n",
       "      dtype='object')"
      ]
     },
     "execution_count": 63,
     "metadata": {},
     "output_type": "execute_result"
    }
   ],
   "source": [
    "df_list[1].columns"
   ]
  },
  {
   "cell_type": "markdown",
   "metadata": {},
   "source": [
    "## Cleaning Data"
   ]
  },
  {
   "cell_type": "markdown",
   "metadata": {},
   "source": [
    "### 0. Previous modifications before removing nan columns"
   ]
  },
  {
   "cell_type": "code",
   "execution_count": 64,
   "metadata": {},
   "outputs": [],
   "source": [
    "columns_to_fill_empty = ['ONSHORE_CITY_NAME', 'OFF_ACCIDENT_ORIGIN', 'ONSHORE_COUNTY_NAME', 'OFFSHORE_COUNTY_NAME',\n",
    "                         'ONSHORE_STATE_ABBREVIATION', 'OFFSHORE_STATE_ABBREVIATION']"
   ]
  },
  {
   "cell_type": "code",
   "execution_count": 65,
   "metadata": {},
   "outputs": [],
   "source": [
    "columns_to_fill_zeros = ['INJURE','FATAL', 'INC_PRS']"
   ]
  },
  {
   "cell_type": "code",
   "execution_count": 66,
   "metadata": {},
   "outputs": [],
   "source": [
    "def fillna_empty(df, column):\n",
    "\n",
    "    \"\"\"Fill column nan values with empty values\"\"\"\n",
    "\n",
    "    if column in df:\n",
    "            \n",
    "            return df[column].fillna('', inplace=True)"
   ]
  },
  {
   "cell_type": "code",
   "execution_count": 67,
   "metadata": {},
   "outputs": [],
   "source": [
    "def fillna_zeros(df, column):\n",
    "\n",
    "    \"\"\"Fill column nan values with zeros\"\"\"\n",
    "\n",
    "    if column in df:\n",
    "            \n",
    "        return df[column].fillna(0, inplace=True)"
   ]
  },
  {
   "cell_type": "code",
   "execution_count": 68,
   "metadata": {},
   "outputs": [],
   "source": [
    "# Fix nan Values\n",
    "\n",
    "def preliminary_fill_nan(df_list):\n",
    "\n",
    "    for df in df_list:\n",
    "    \n",
    "        for column in columns_to_fill_empty:\n",
    "        \n",
    "            fillna_empty(df, column)\n",
    "        \n",
    "        for column in columns_to_fill_zeros: \n",
    "    \n",
    "            fillna_zeros(df, column)"
   ]
  },
  {
   "cell_type": "code",
   "execution_count": 69,
   "metadata": {},
   "outputs": [],
   "source": [
    "# Fix locations of datesets hl2010toPresent and gtggungs2010toPresent\n",
    "\n",
    "def on_offshore(df_list, list_index):\n",
    "    \n",
    "    preliminary_fill_nan(df_list)\n",
    "    \n",
    "    for i in list_index:\n",
    "\n",
    "        df_list[i]['LOCATION_CITY_NAME'] = df_list[i].apply(lambda x:\n",
    "                                                     x.ONSHORE_CITY_NAME +\n",
    "                                                     x.OFF_ACCIDENT_ORIGIN, axis=1)\n",
    "        df_list[i]['LOCATION_COUNTY_NAME'] = df_list[i].apply(lambda x:\n",
    "                                                     x.ONSHORE_COUNTY_NAME +\n",
    "                                                     x.OFFSHORE_COUNTY_NAME, axis=1)\n",
    "        df_list[i]['LOCATION_STATE_ABBREVIATION'] = df_list[i].apply(lambda x:\n",
    "                                                     x.ONSHORE_STATE_ABBREVIATION +\n",
    "                                                     x.OFFSHORE_STATE_ABBREVIATION, axis=1)"
   ]
  },
  {
   "cell_type": "code",
   "execution_count": 70,
   "metadata": {},
   "outputs": [],
   "source": [
    "on_offshore(df_list,[2,7])"
   ]
  },
  {
   "cell_type": "markdown",
   "metadata": {},
   "source": [
    "### 1. Fixing Datetime Column"
   ]
  },
  {
   "cell_type": "code",
   "execution_count": 71,
   "metadata": {},
   "outputs": [],
   "source": [
    "def time(df_column):\n",
    "    \n",
    "    \"\"\"This function convert string type column into datetime type\"\"\"\n",
    "    \n",
    "    return pd.to_datetime(df_column, format=\"%Y-%m-%d %H:%M:%S\")"
   ]
  },
  {
   "cell_type": "code",
   "execution_count": 72,
   "metadata": {},
   "outputs": [],
   "source": [
    "def add_zeros(df, df_column, leading: int, trailing: int):\n",
    "    \n",
    "    \"\"\" Add leading zeros and trailing zeros to a value from a column data frame\"\"\"\n",
    "    \n",
    "    # Add leading zeros (4)\n",
    "\n",
    "    df[df_column] = df.apply(lambda x: x[df_column].zfill(leading), axis=1)\n",
    "\n",
    "    # Add trailing zeros (6)\n",
    "\n",
    "    df[df_column] = df.apply(lambda x: x[df_column].ljust(trailing, '0'), axis=1)\n",
    "    \n",
    "    return df[df_column]"
   ]
  },
  {
   "cell_type": "code",
   "execution_count": 73,
   "metadata": {},
   "outputs": [],
   "source": [
    "def insert_colon(df, df_column, to_insert: str, step):\n",
    "    \n",
    "    \"\"\" Insert a string into a value column (also string) \"\"\"\n",
    "    \n",
    "    df[df_column] = df.apply(lambda x: to_insert.join(x[df_column][i:i+2] for i in range(0, len(x[df_column]), step)), axis=1)\n",
    "    \n",
    "    return df[df_column]"
   ]
  },
  {
   "cell_type": "code",
   "execution_count": 74,
   "metadata": {},
   "outputs": [],
   "source": [
    "def datetime_format(df, df_column, leading, trailing, insertion, step):\n",
    "    \n",
    "    \"\"\" Transform a string into a datetime format\"\"\"\n",
    "    \n",
    "    # Add leading and trailing zeros\n",
    "\n",
    "    add_zeros(df, df_column, leading, trailing)\n",
    "\n",
    "    # And insert colon in the date to fit the format\n",
    "\n",
    "    insert_colon(df, df_column, insertion, step)\n",
    "    \n",
    "    return df[df_column]"
   ]
  },
  {
   "cell_type": "code",
   "execution_count": 75,
   "metadata": {},
   "outputs": [],
   "source": [
    "def remove_blank_spaces(df, df_column, value: str):\n",
    "    \n",
    "    \"\"\"Find blank spaces into a column and replace them by a value\"\"\"\n",
    "    \n",
    "    df.loc[df[df_column].str.contains(r'\\s+') == True, ['DTHH']] = value"
   ]
  },
  {
   "cell_type": "code",
   "execution_count": 76,
   "metadata": {},
   "outputs": [],
   "source": [
    "def change_column_type(df, df_column, new_type: str):\n",
    "    \n",
    "    df[df_column] = df[df_column].astype(new_type)\n",
    "    \n",
    "    return df[df_column]"
   ]
  },
  {
   "cell_type": "code",
   "execution_count": 77,
   "metadata": {},
   "outputs": [],
   "source": [
    "def fixing_datetime_column(df_list):\n",
    "    \n",
    "    for df in df_list:\n",
    "\n",
    "        df.rename(columns={'IHOUR' : 'DTHH'}, inplace=True)\n",
    "\n",
    "        if 'DTHH' in df:\n",
    "\n",
    "            if df['DTHH'].dtype == 'object':\n",
    "\n",
    "                # It seems there are some rows with 'spaces' we need to feel to convert the column to integer\n",
    "\n",
    "                remove_blank_spaces(df, 'DTHH', '0000')\n",
    "\n",
    "            df['DTHH'].fillna(0, inplace = True)\n",
    "\n",
    "            change_column_type(df, 'DTHH', 'int64')\n",
    "\n",
    "            # Check that there are no times above 2400\n",
    "\n",
    "            df.loc[df['DTHH'] >= 2400, ['DTHH']] = 0\n",
    "\n",
    "            # Convert column to string\n",
    "\n",
    "            change_column_type(df, 'DTHH', 'str')\n",
    "\n",
    "            datetime_format(df, 'DTHH', 4, 6, ':', 2)\n",
    "\n",
    "            df['LOCAL_DATETIME'] = df['IDATE'].astype('str').str.cat(df['DTHH'],sep=\" \")\n",
    "\n",
    "            df.drop(df[df['LOCAL_DATETIME'] == '1998-09-17 01:63:00'].index, inplace = True)\n",
    "            \n",
    "        if df['LOCAL_DATETIME'].dtype == 'object':\n",
    "    \n",
    "            df['LOCAL_DATETIME'] = df.apply(lambda x: time(x.LOCAL_DATETIME), axis=1)\n",
    "        \n",
    "    return df['LOCAL_DATETIME']"
   ]
  },
  {
   "cell_type": "code",
   "execution_count": 78,
   "metadata": {},
   "outputs": [
    {
     "data": {
      "text/plain": [
       "0      1986-01-02 13:25:00\n",
       "1      1986-01-13 01:35:00\n",
       "2      1986-01-13 09:00:00\n",
       "3      1986-01-01 15:05:00\n",
       "4      1986-01-10 10:43:00\n",
       "               ...        \n",
       "2430   2004-04-06 17:55:00\n",
       "2431   2004-04-27 09:00:00\n",
       "2432   2004-01-13 11:42:00\n",
       "2433   2004-06-29 12:30:00\n",
       "2434   2004-07-25 10:00:00\n",
       "Name: LOCAL_DATETIME, Length: 2435, dtype: datetime64[ns]"
      ]
     },
     "execution_count": 78,
     "metadata": {},
     "output_type": "execute_result"
    }
   ],
   "source": [
    "fixing_datetime_column(df_list)"
   ]
  },
  {
   "cell_type": "markdown",
   "metadata": {},
   "source": [
    "### 2. Drop columns with high nan percentage"
   ]
  },
  {
   "cell_type": "code",
   "execution_count": 79,
   "metadata": {},
   "outputs": [],
   "source": [
    "def nan_removal(df, percentage):\n",
    "\n",
    "    nan_values = df.isna().sum()\n",
    "        \n",
    "    nan_percentage = nan_values / len(df) * 100\n",
    "        \n",
    "    filter_nan_percentage = nan_percentage > percentage\n",
    "    \n",
    "    high_nan_columns = df.columns[filter_nan_percentage].to_list()\n",
    "    \n",
    "    return df.drop(columns=high_nan_columns, inplace=True)"
   ]
  },
  {
   "cell_type": "markdown",
   "metadata": {},
   "source": [
    "### 3. Renaming of variables to be used."
   ]
  },
  {
   "cell_type": "code",
   "execution_count": 80,
   "metadata": {},
   "outputs": [],
   "source": [
    "for df in df_list:\n",
    "    \n",
    "    df.rename(columns={'ACCTY' : 'LOCATION_CITY_NAME',\n",
    "                       'FACILITY_NAME' : 'LOCATION_CITY_NAME',\n",
    "                       'ACCITY' : 'LOCATION_CITY_NAME',\n",
    "                      'ACCNT' : 'LOCATION_COUNTY_NAME',\n",
    "                       'ACCOUNTY' : 'LOCATION_COUNTY_NAME',\n",
    "                       'ACCST' : 'LOCATION_STATE_ABBREVIATION',\n",
    "                       'ACSTATE' : 'LOCATION_STATE_ABBREVIATION',\n",
    "                       'FACILITY_STATE' : 'LOCATION_STATE_ABBREVIATION',\n",
    "                       'ACZIP' : 'LOCATION_POSTAL_CODE',\n",
    "                       'LATITUDE' : 'LOCATION_LATITUDE',\n",
    "                       'LONGITUDE' : 'LOCATION_LONGITUDE',\n",
    "                       'FACILITY_LATITUDE' : 'LOCATION_LATITUDE',\n",
    "                       'FACILITY_LONGITUDE' : 'LOCATION_LONGITUDE',\n",
    "                       'RPTID' : 'REPORT_NUMBER',\n",
    "                       'INADR' : 'LOCATION_STREET_ADDRESS',\n",
    "                       'CLASS' : 'CLASS_LOCATION_TYPE',\n",
    "                       'COMM' : 'COMMODITY_RELEASED_TYPE',\n",
    "                       'CSYS' : 'SYSTEM_PART_INVOLVED',\n",
    "                       'OFFSHORE' : 'ON_OFF_SHORE',\n",
    "                       'SHORE' : 'ON_OFF_SHORE',\n",
    "                       'OFFSHORE_TEXT' : 'ON_OFF_SHORE',\n",
    "                      'OPID' : 'OPERATOR_ID',\n",
    "                      'IFED' : 'FEDERAL',\n",
    "                       'INTER_INTRA':'PIPE_FACILITY_TYPE',\n",
    "                       'INTER_TEXT' : 'PIPE_FACILITY_TYPE',\n",
    "                       'INTER' : 'PIPE_FACILITY_TYPE',\n",
    "                       'TFAT' : 'FATAL',\n",
    "                       'EFAT' : 'NUM_EMP_FATALITIES',\n",
    "                       'FAT' : 'FATAL',\n",
    "                       'TINJ' : 'INJURE',\n",
    "                       'EINJ' : 'NUM_EMP_INJURIES',\n",
    "                       'INJ' : 'INJURE',\n",
    "                       'ACPRS' : 'ACCIDENT_PSIG',\n",
    "                       'INPRS' : 'ACCIDENT_PSIG',\n",
    "                       'INC_PRS' : 'ACCIDENT_PSIG',\n",
    "                       'MAOP' : 'MOP_PSIG',\n",
    "                       'MXPRS' : 'MOP_PSIG',\n",
    "                       'DSPRS' : 'MOP_PSIG',\n",
    "                       'PRTST' : 'MOP_CFR_SECTION',\n",
    "                       'TEST' : 'EX_HYDROTEST_PRESSURE',\n",
    "                       'PRTLK' : 'CUSTOMER_TYPE',\n",
    "                       'MLKD' : 'MATERIAL_INVOLVED',\n",
    "                       'MLKD_TEXT' : 'MATERIAL_INVOLVED',\n",
    "                       'NMDIA' : 'PIPE_DIAMETER',\n",
    "                       'NPS' : 'PIPE_DIAMETER',\n",
    "                       'THK' : 'WT_STEEL',\n",
    "                       'SPEC' : 'PIPE_SPECIFICATION',\n",
    "                       'PRTYR' : 'INSTALLATION_YEAR',\n",
    "                       'ITMYR' : 'INSTALLATION_YEAR',\n",
    "                       'MANYR' : 'MANUFACTURED_YEAR',\n",
    "                       'MANU' : 'PIPE_MANUFACTURER',\n",
    "                       'LOCLK' : 'INCIDENT_AREA_TYPE',\n",
    "                       'LOCLK_TEXT' : 'INCIDENT_AREA_TYPE',\n",
    "                       'PNAME' : 'PREPARER_NAME',\n",
    "                       'PHONE' : 'PREPARER_PHONE',\n",
    "                       'PPHONE' : 'PREPARER_PHONE',\n",
    "                       'PROT' : 'UNDER_CATHODIC_PROTECTION_IND',\n",
    "                       'FACAT' : 'UNDER_CATHODIC_PROTECTION_IND',\n",
    "                       'CAULK' : 'CAUSE_DETAILS',\n",
    "                       'ITYPE' : 'RELEASE_TYPE',\n",
    "                       'LRTYPE_TEXT' : 'RELEASE_TYPE',\n",
    "                       'ORGLK' : 'ITEM_INVOLVED',\n",
    "                       'PRTSY_TEXT' : 'ITEM_INVOLVED',\n",
    "                       'PRTSY' : 'ITEM_INVOLVED',\n",
    "                       'PRTFL' : 'SYSTEM_PART_DETAILS',\n",
    "                       'PRTFL_TEXT' : 'SYSTEM_PART_DETAILS',\n",
    "                       'LOSS' : 'UNINTENTIONAL_RELEASE_BBLS',\n",
    "                       'RECOV' : 'RECOVERED_BBLS',\n",
    "                       'FIRE' : 'IGNITE_IND',\n",
    "                       'IGNITE' : 'IGNITE_IND',\n",
    "                       'EXP' : 'EXPLODE_IND',\n",
    "                       'EXPLO' : 'EXPLODE_IND',\n",
    "                       'SMYS' : 'PIPE_SMYS',\n",
    "                       'CORRO' : 'CORROSION_TYPE',\n",
    "                       'UNINTENTIONAL_RELEASE' : 'UNINTENTIONAL_RELEASE_BBLS'\n",
    "                      }, inplace=True)"
   ]
  },
  {
   "cell_type": "markdown",
   "metadata": {},
   "source": [
    "### 4. Fill nan values and remove useless columns"
   ]
  },
  {
   "cell_type": "code",
   "execution_count": 81,
   "metadata": {},
   "outputs": [],
   "source": [
    "def nan_col_selection(df):\n",
    "    \n",
    "    return df.columns[df.isna().any()].tolist()"
   ]
  },
  {
   "cell_type": "code",
   "execution_count": 82,
   "metadata": {},
   "outputs": [],
   "source": [
    "def fillna_num_col(df, column_list):\n",
    "    \n",
    "    return df[column_list].select_dtypes(include=['float64', 'int64']).fillna(0)"
   ]
  },
  {
   "cell_type": "code",
   "execution_count": 83,
   "metadata": {},
   "outputs": [],
   "source": [
    "def fillna_cat_col(df, column_list):\n",
    "    \n",
    "    return df[column_list].select_dtypes(exclude=['float64', 'int64']).fillna('NO DATA')"
   ]
  },
  {
   "cell_type": "code",
   "execution_count": 84,
   "metadata": {},
   "outputs": [],
   "source": [
    "def df_clean(df, df_cat, df_num):\n",
    "    \n",
    "    for column in df_cat.columns:\n",
    "    \n",
    "        df[column] = df_cat[column]\n",
    "    \n",
    "    for column in df_num.columns:\n",
    "    \n",
    "        df[column] = df_num[column]\n",
    "        \n",
    "    return df"
   ]
  },
  {
   "cell_type": "code",
   "execution_count": 85,
   "metadata": {},
   "outputs": [],
   "source": [
    "for df in df_list:\n",
    "    \n",
    "    df.drop(columns=[\n",
    "                        'DATAFILE_AS_OF','OPSTREET', 'OPCITY', 'OPCOUNTY', 'OPSTATE',\n",
    "                       'OPZIP', 'PPPRP', 'PPPRPCURRENT', 'EMRPRP', 'ACSTREET',\n",
    "                       'EMRPRPCURRENT', 'ENVPRP', 'ENVPRPCURRENT', 'OPCPRP', 'OPCPRPCURRENT',\n",
    "                       'PRODPRP', 'PRODPRPCURRENT', 'OOPRP', 'OOPRPCURRENT', 'OOPPRP', 'GASPRP',\n",
    "                       'GASPRPCURRENT', 'OPPRP', 'OPPRPCURRENT', 'NUM_EMP_FATALITIES',\n",
    "                       'OOPPRPCURRENT', 'IPE', 'IA_IPE', 'OM_IPE', 'NUM_EMP_INJURIES',\n",
    "                        'SUPPLEMENTAL_NUMBER', 'REPORT_RECEIVED_DATE', 'REPORT_TYPE',\n",
    "                        'OPERATOR_STREET_ADDRESS', 'OPERATOR_CITY_NAME', 'CUSTOMER_TYPE',\n",
    "                        'OPERATOR_STATE_ABBREVIATION', 'OPERATOR_POSTAL_CODE', 'IYEAR',\n",
    "                        'LOCATION_POSTAL_CODE', 'ONSHORE_POSTAL_CODE', \n",
    "                        'ONSHORE_CITY_NAME', 'OFF_ACCIDENT_ORIGIN', 'ONSHORE_COUNTY_NAME', \n",
    "                        'OFFSHORE_COUNTY_NAME', 'ONSHORE_STATE_ABBREVIATION', 'OFFSHORE_STATE_ABBREVIATION',\n",
    "                        'EST_COST_OPER_PAID','EST_COST_OPER_PAID_CURRENT', 'EST_COST_GAS_RELEASED',\n",
    "                       'EST_COST_GAS_RELEASED_CURRENT', 'EST_COST_PROP_DAMAGE',\n",
    "                       'EST_COST_PROP_DAMAGE_CURRENT', 'EST_COST_EMERGENCY',\n",
    "                       'EST_COST_EMERGENCY_CURRENT', 'EST_COST_ENVIRONMENTAL', 'IDATE', 'DTHH',\n",
    "                       'EST_COST_ENVIRONMENTAL_CURRENT', 'EST_COST_OTHER',\n",
    "                       'EST_COST_OTHER_CURRENT', 'CORLC', 'EXT_INT_CORROSION',\n",
    "                        'PREPARER_NAME', 'PREPARER_TITLE', 'PREPARER_EMAIL','PREPARER_PHONE',\n",
    "                       'PREPARER_TELEPHONE', 'PREPARED_DATE', 'AUTHORIZER_NAME',\n",
    "                       'AUTHORIZER_TITLE', 'AUTHORIZER_TELEPHONE', 'AUTHORIZER_EMAIL', 'FATALITY_IND',\n",
    "                        'INJURY_IND','SHUTDOWN_DUE_ACCIDENT_IND', 'INCIDENT_IDENTIFIED_DATETIME',\n",
    "                           'ON_SITE_DATETIME', 'DESIGNATED_NAME', 'NUM_PUB_EVACUATED',\n",
    "                           'PIPE_FAC_NAME', 'SEGMENT_NAME', 'FEDERAL', 'LOCATION_TYPE', \n",
    "                           'CROSSING','SYSTEM_PART_INVOLVED', 'DESIGNATED_LOCATION', 'WILDLIFE_IMPACT_IND',\n",
    "                           'SOIL_CONTAMINATION','LONG_TERM_ASSESSMENT', 'REMEDIATION_IND', \n",
    "                           'WATER_CONTAM_IND', 'COULD_BE_HCA', 'COMMODITY_REACHED_HCA', 'ACCIDENT_PRESSURE',\n",
    "                           'PRESSURE_RESTRICTION_IND', 'PART_C_QUESTION_2_IND', 'PIPELINE_FUNCTION', 'SCADA_IN_PLACE_IND', 'CPM_IN_PLACE_IND',\n",
    "                           'ACCIDENT_IDENTIFIER', 'INVESTIGATION_STATUS', 'EMPLOYEE_DRUG_TEST_IND',\n",
    "                            'CONTRACTOR_DRUG_TEST_IND','SPILL_TYPE_CATEGORY', 'MOP_CFR_SECTION',\n",
    "                           'SCADA_OPERATING_IND', 'SCADA_FUNCTIONAL_IND', 'SCADA_DETECTION_IND',\n",
    "                           'SCADA_CONF_IND','NRC_RPT_NUM', 'NRC_RPT_DATETIME', 'INTENTIONAL_RELEASE'\n",
    "                          ],errors='ignore', inplace=True)\n",
    "    \n",
    "    nan_removal(df, 20)\n",
    "    \n",
    "    df_clean(df, fillna_cat_col(df, nan_col_selection(df)), fillna_num_col(df, nan_col_selection(df)))"
   ]
  },
  {
   "cell_type": "markdown",
   "metadata": {},
   "source": [
    "### 5. Selecting variables"
   ]
  },
  {
   "cell_type": "markdown",
   "metadata": {},
   "source": [
    "### - hl_1986_to_2001"
   ]
  },
  {
   "cell_type": "code",
   "execution_count": 86,
   "metadata": {},
   "outputs": [],
   "source": [
    "df_list[0].drop(columns = ['COOR', 'SPLOC', 'TELRN', 'ORGLO',\n",
    "                          'CAUSO', 'NFAT', 'NINJ', 'CORR', 'PREVT',\n",
    "                          'JNT', 'MOP_PSIG', 'DUR', 'CAULO', 'TMPMK',\n",
    "                          'FACTD', 'ONECL', 'ONEOT', 'EXCAL'],errors='ignore', inplace=True)"
   ]
  },
  {
   "cell_type": "code",
   "execution_count": 87,
   "metadata": {},
   "outputs": [],
   "source": [
    "df_list[0].PIPE_FACILITY_TYPE.replace(['YES', 'NO'],['INTERSTATE', 'INTRASTATE'], inplace=True)"
   ]
  },
  {
   "cell_type": "code",
   "execution_count": 88,
   "metadata": {},
   "outputs": [],
   "source": [
    "df_list[0].ON_OFF_SHORE.replace(['YES', 'NO'],['OFFSHORE', 'ONSHORE'], inplace=True)"
   ]
  },
  {
   "cell_type": "code",
   "execution_count": 89,
   "metadata": {},
   "outputs": [
    {
     "data": {
      "text/plain": [
       "Index(['SIGNIFICANT', 'SERIOUS', 'REPORT_NUMBER', 'OPERATOR_ID', 'NAME',\n",
       "       'PIPE_FACILITY_TYPE', 'LOCATION_STATE_ABBREVIATION',\n",
       "       'LOCATION_COUNTY_NAME', 'LOCATION_CITY_NAME', 'ON_OFF_SHORE',\n",
       "       'ITEM_INVOLVED', 'INSTALLATION_YEAR', 'CAUSE', 'MAP_CAUSE',\n",
       "       'MAP_SUBCAUSE', 'FATAL', 'INJURE', 'TOTAL_COST', 'TOTAL_COST_IN84',\n",
       "       'TOTAL_COST_CURRENT', 'COMMODITY_RELEASED_TYPE', 'CLASS_LOCATION_TYPE',\n",
       "       'UNINTENTIONAL_RELEASE_BBLS', 'RECOVERED_BBLS', 'IGNITE_IND',\n",
       "       'EXPLODE_IND', 'PIPE_DIAMETER', 'WT_STEEL', 'PIPE_SMYS',\n",
       "       'ACCIDENT_PSIG', 'UNDER_CATHODIC_PROTECTION_IND', 'CORROSION_TYPE',\n",
       "       'CAUSE_DETAILS', 'NARRATIVE', 'LOCAL_DATETIME'],\n",
       "      dtype='object')"
      ]
     },
     "execution_count": 89,
     "metadata": {},
     "output_type": "execute_result"
    }
   ],
   "source": [
    "df_list[0].columns"
   ]
  },
  {
   "cell_type": "markdown",
   "metadata": {},
   "source": [
    "### - gtgg_1986_to_2001"
   ]
  },
  {
   "cell_type": "code",
   "execution_count": 90,
   "metadata": {},
   "outputs": [],
   "source": [
    "df_list[1].drop(columns = ['MPOST', 'SURVY', 'OFFAREA', 'BNUMB',\n",
    "                          'OFFST', 'OCS', 'OPJUD', 'STHH',\n",
    "                          'STMN', 'TELRN', 'TELRT', 'MPEST', 'PRTFO',\n",
    "                          'PRTSY', 'PRTSO', 'SEAM', 'LOCLO', 'DESCO',\n",
    "                            'CAUCO', 'DMGO', 'NOTIF', 'MARK', 'MRKTP',\n",
    "                          'CAULO', 'STAT', 'CTEST', 'MEDO', 'MLKDO'], errors='ignore', inplace=True)"
   ]
  },
  {
   "cell_type": "code",
   "execution_count": 91,
   "metadata": {},
   "outputs": [],
   "source": [
    "df_list[1].ON_OFF_SHORE.replace(['YES', 'NO'],['OFFSHORE', 'ONSHORE'], inplace=True)"
   ]
  },
  {
   "cell_type": "code",
   "execution_count": 92,
   "metadata": {},
   "outputs": [],
   "source": [
    "df_list[1].COMMODITY_RELEASED_TYPE = 'NATURAL GAS'"
   ]
  },
  {
   "cell_type": "code",
   "execution_count": 93,
   "metadata": {},
   "outputs": [
    {
     "data": {
      "text/plain": [
       "Index(['SIGNIFICANT', 'SERIOUS', 'SYSTEM_TYPE', 'REPORT_NUMBER', 'OPERATOR_ID',\n",
       "       'NAME', 'LOCATION_CITY_NAME', 'LOCATION_COUNTY_NAME',\n",
       "       'LOCATION_STATE_ABBREVIATION', 'CLASS_LOCATION_TYPE', 'ON_OFF_SHORE',\n",
       "       'RELEASE_TYPE', 'FATAL', 'INJURE', 'TOTAL_COST', 'TOTAL_COST_IN84',\n",
       "       'TOTAL_COST_CURRENT', 'ACCIDENT_PSIG', 'MOP_PSIG',\n",
       "       'EX_HYDROTEST_PRESSURE', 'CAUSE', 'MAP_CAUSE', 'MAP_SUBCAUSE',\n",
       "       'SYSTEM_PART_DETAILS', 'MATERIAL_INVOLVED', 'ITEM_INVOLVED',\n",
       "       'INSTALLATION_YEAR', 'PIPE_DIAMETER', 'WT_STEEL', 'PIPE_SPECIFICATION',\n",
       "       'PIPE_SMYS', 'PIPE_MANUFACTURER', 'MANUFACTURED_YEAR',\n",
       "       'INCIDENT_AREA_TYPE', 'UNDER_CATHODIC_PROTECTION_IND', 'CAUSE_DETAILS',\n",
       "       'NARRATIVE', 'LOCAL_DATETIME'],\n",
       "      dtype='object')"
      ]
     },
     "execution_count": 93,
     "metadata": {},
     "output_type": "execute_result"
    }
   ],
   "source": [
    "df_list[1].columns"
   ]
  },
  {
   "cell_type": "markdown",
   "metadata": {},
   "source": [
    "### - gd_1986_to_2004"
   ]
  },
  {
   "cell_type": "code",
   "execution_count": 94,
   "metadata": {},
   "outputs": [],
   "source": [
    "df_list[9].drop(columns = ['OPJUD', 'STHH', 'STMN', 'TELRN', 'TELRT' ,\n",
    "                           'MPEST', 'NOTIF', 'MARK', 'STAT'],errors='ignore', inplace=True)"
   ]
  },
  {
   "cell_type": "code",
   "execution_count": 95,
   "metadata": {},
   "outputs": [
    {
     "data": {
      "text/plain": [
       "Index(['SIGNIFICANT', 'SERIOUS', 'REPORT_NUMBER', 'OPERATOR_ID', 'NAME',\n",
       "       'LOCATION_STREET_ADDRESS', 'LOCATION_CITY_NAME', 'LOCATION_COUNTY_NAME',\n",
       "       'LOCATION_STATE_ABBREVIATION', 'CLASS_LOCATION_TYPE', 'FATAL', 'INJURE',\n",
       "       'TOTAL_COST', 'TOTAL_COST_IN84', 'TOTAL_COST_CURRENT', 'ACCIDENT_PSIG',\n",
       "       'MOP_PSIG', 'EX_HYDROTEST_PRESSURE', 'CAUSE', 'MAP_CAUSE',\n",
       "       'MAP_SUBCAUSE', 'SYSTEM_PART_DETAILS', 'MATERIAL_INVOLVED',\n",
       "       'PIPE_DIAMETER', 'WT_STEEL', 'PIPE_SPECIFICATION', 'PIPE_MANUFACTURER',\n",
       "       'MANUFACTURED_YEAR', 'INSTALLATION_YEAR', 'INCIDENT_AREA_TYPE',\n",
       "       'UNDER_CATHODIC_PROTECTION_IND', 'CAUSE_DETAILS', 'NARRATIVE',\n",
       "       'LOCAL_DATETIME'],\n",
       "      dtype='object')"
      ]
     },
     "execution_count": 95,
     "metadata": {},
     "output_type": "execute_result"
    }
   ],
   "source": [
    "df_list[9].columns"
   ]
  },
  {
   "cell_type": "markdown",
   "metadata": {},
   "source": [
    "### - hl_2002_to_2009"
   ]
  },
  {
   "cell_type": "code",
   "execution_count": 96,
   "metadata": {},
   "outputs": [],
   "source": [
    "df_list[3].drop(columns = ['DOR', 'IYEAR', 'SPILLED', 'CLASS_TEXT', 'SPUNIT_TEXT',\n",
    "                           'PEMAIL', 'NFAT', 'GPFAT', 'NINJ', 'GPINJ',\n",
    "                          'IO_DRUG', 'IO_ALCO'],errors='ignore', inplace=True)"
   ]
  },
  {
   "cell_type": "code",
   "execution_count": 97,
   "metadata": {},
   "outputs": [
    {
     "data": {
      "text/plain": [
       "Index(['SIGNIFICANT', 'SERIOUS', 'REPORT_NUMBER', 'OPERATOR_ID', 'NAME',\n",
       "       'LOCATION_LATITUDE', 'LOCATION_LONGITUDE', 'LOCATION_CITY_NAME',\n",
       "       'LOCATION_COUNTY_NAME', 'LOCATION_STATE_ABBREVIATION', 'TOTAL_COST',\n",
       "       'TOTAL_COST_IN84', 'TOTAL_COST_CURRENT', 'COMMODITY_RELEASED_TYPE',\n",
       "       'UNINTENTIONAL_RELEASE_BBLS', 'RECOVERED_BBLS', 'ON_OFF_SHORE',\n",
       "       'ACCIDENT_PSIG', 'FATAL', 'INJURE', 'CAUSE', 'MAP_CAUSE',\n",
       "       'MAP_SUBCAUSE', 'LOCAL_DATETIME'],\n",
       "      dtype='object')"
      ]
     },
     "execution_count": 97,
     "metadata": {},
     "output_type": "execute_result"
    }
   ],
   "source": [
    "df_list[3].columns"
   ]
  },
  {
   "cell_type": "markdown",
   "metadata": {},
   "source": [
    "### - gtgg_2002_to_2009"
   ]
  },
  {
   "cell_type": "code",
   "execution_count": 98,
   "metadata": {},
   "outputs": [],
   "source": [
    "df_list[6].drop(columns = ['DOR', 'IYEAR', 'OCS', 'HIGHCON',\n",
    "                           'PEMAIL', 'NFAT', 'GPFAT', 'NINJ', 'GPINJ', 'EVAC',\n",
    "                           'EVACNO', 'STHH', 'TELRN', 'TELDT',\n",
    "                          'MAOPSEC1', 'MAOPSEC2', 'MAOPSEC3', 'MAOPSEC4',\n",
    "                           'MAOPSECC', 'OVERPRS', 'PLAS_DUCT', 'PLAS_BRIT',\n",
    "                           'PLAS_JNT', 'TYSYS_TEXT'\n",
    "                          ],errors='ignore', inplace=True)"
   ]
  },
  {
   "cell_type": "code",
   "execution_count": 99,
   "metadata": {},
   "outputs": [
    {
     "data": {
      "text/plain": [
       "Index(['SIGNIFICANT', 'SERIOUS', 'SYSTEM_TYPE', 'REPORT_NUMBER', 'OPERATOR_ID',\n",
       "       'NAME', 'LOCATION_STATE_ABBREVIATION', 'LOCATION_LATITUDE',\n",
       "       'LOCATION_LONGITUDE', 'ON_OFF_SHORE', 'PIPE_FACILITY_TYPE',\n",
       "       'RELEASE_TYPE', 'FATAL', 'INJURE', 'TOTAL_COST', 'TOTAL_COST_IN84',\n",
       "       'TOTAL_COST_CURRENT', 'IGNITE_IND', 'EXPLODE_IND', 'ACCIDENT_PSIG',\n",
       "       'MOP_PSIG', 'SYSTEM_PART_DETAILS', 'MATERIAL_INVOLVED', 'ITEM_INVOLVED',\n",
       "       'INSTALLATION_YEAR', 'PIPE_DIAMETER', 'INCIDENT_AREA_TYPE', 'CAUSE',\n",
       "       'CAUSE_DETAILS', 'MAP_CAUSE', 'MAP_SUBCAUSE', 'NARRATIVE',\n",
       "       'LOCAL_DATETIME'],\n",
       "      dtype='object')"
      ]
     },
     "execution_count": 99,
     "metadata": {},
     "output_type": "execute_result"
    }
   ],
   "source": [
    "df_list[6].columns"
   ]
  },
  {
   "cell_type": "markdown",
   "metadata": {},
   "source": [
    "### - gd_2004_to_2009"
   ]
  },
  {
   "cell_type": "code",
   "execution_count": 100,
   "metadata": {},
   "outputs": [],
   "source": [
    "df_list[8].drop(columns = ['FF', 'DOR', 'IYEAR', 'OCS', 'HIGHCON',\n",
    "                           'PEMAIL', 'NFAT', 'GPFAT', 'NINJ', 'GPINJ', 'EVAC',\n",
    "                           'EVACNO', 'STHH', 'STMN', 'TELRN', 'TELDT',\n",
    "                           'MAOPEST', 'OVERPRS', 'PLAS_DUCT', 'PLAS_BRIT',\n",
    "                           'PLAS_JNT', 'TYSYS_TEXT', 'NOTIF', 'MARKED', 'PERM_MARK',\n",
    "                           'MKD_IN_TIME', 'PIPE_DAMAGE', 'PRS_TEST' \n",
    "                          ],errors='ignore', inplace=True)"
   ]
  },
  {
   "cell_type": "code",
   "execution_count": 101,
   "metadata": {},
   "outputs": [
    {
     "data": {
      "text/plain": [
       "Index(['SIGNIFICANT', 'SERIOUS', 'REPORT_NUMBER', 'OPERATOR_ID', 'NAME',\n",
       "       'LOCATION_CITY_NAME', 'LOCATION_COUNTY_NAME',\n",
       "       'LOCATION_STATE_ABBREVIATION', 'CLASS_LOCATION_TYPE', 'RELEASE_TYPE',\n",
       "       'FATAL', 'INJURE', 'TOTAL_COST', 'TOTAL_COST_IN84',\n",
       "       'TOTAL_COST_CURRENT', 'IGNITE_IND', 'EXPLODE_IND', 'ACCIDENT_PSIG',\n",
       "       'MOP_PSIG', 'SYSTEM_PART_DETAILS', 'MATERIAL_INVOLVED',\n",
       "       'INCIDENT_AREA_TYPE', 'CAUSE', 'CAUSE_DETAILS', 'MAP_CAUSE',\n",
       "       'MAP_SUBCAUSE', 'NARRATIVE', 'LOCAL_DATETIME'],\n",
       "      dtype='object')"
      ]
     },
     "execution_count": 101,
     "metadata": {},
     "output_type": "execute_result"
    }
   ],
   "source": [
    "df_list[8].columns"
   ]
  },
  {
   "cell_type": "markdown",
   "metadata": {},
   "source": [
    "### - hl_2010_to_Present"
   ]
  },
  {
   "cell_type": "code",
   "execution_count": 102,
   "metadata": {},
   "outputs": [
    {
     "data": {
      "text/plain": [
       "Index(['SIGNIFICANT', 'SERIOUS', 'REPORT_NUMBER', 'OPERATOR_ID', 'NAME',\n",
       "       'LOCAL_DATETIME', 'LOCATION_LATITUDE', 'LOCATION_LONGITUDE',\n",
       "       'COMMODITY_RELEASED_TYPE', 'UNINTENTIONAL_RELEASE_BBLS',\n",
       "       'RECOVERED_BBLS', 'NET_LOSS_BBLS', 'FATAL', 'INJURE', 'IGNITE_IND',\n",
       "       'EXPLODE_IND', 'ON_OFF_SHORE', 'INCIDENT_AREA_TYPE',\n",
       "       'PIPE_FACILITY_TYPE', 'ITEM_INVOLVED', 'MATERIAL_INVOLVED',\n",
       "       'RELEASE_TYPE', 'TOTAL_COST', 'TOTAL_COST_IN84', 'TOTAL_COST_CURRENT',\n",
       "       'ACCIDENT_PSIG', 'MOP_PSIG', 'CAUSE', 'CAUSE_DETAILS', 'MAP_CAUSE',\n",
       "       'MAP_SUBCAUSE', 'NARRATIVE', 'LOCATION_CITY_NAME',\n",
       "       'LOCATION_COUNTY_NAME', 'LOCATION_STATE_ABBREVIATION'],\n",
       "      dtype='object')"
      ]
     },
     "execution_count": 102,
     "metadata": {},
     "output_type": "execute_result"
    }
   ],
   "source": [
    "df_list[2].columns"
   ]
  },
  {
   "cell_type": "markdown",
   "metadata": {},
   "source": [
    "### - gtgg_2010_to_Present"
   ]
  },
  {
   "cell_type": "code",
   "execution_count": 103,
   "metadata": {},
   "outputs": [],
   "source": [
    "df_list[7].drop(columns = ['INCIDENT_AREA_SUBTYPE', 'CLASS_LOCATION_TYPE', 'PIR_RADIUS', \n",
    "                          'HEAT_DAMAGE_IND', 'NON_HEAT_DAMAGE_IND',\n",
    "                           'HCA_FATALITIES_IND', 'EST_COST_INTENT_REL',\n",
    "                           'EST_COST_INTENT_REL_CURRENT',],errors='ignore', inplace=True)"
   ]
  },
  {
   "cell_type": "code",
   "execution_count": 104,
   "metadata": {},
   "outputs": [
    {
     "data": {
      "text/plain": [
       "Index(['SIGNIFICANT', 'SERIOUS', 'SYSTEM_TYPE', 'REPORT_NUMBER', 'OPERATOR_ID',\n",
       "       'NAME', 'LOCAL_DATETIME', 'LOCATION_LATITUDE', 'LOCATION_LONGITUDE',\n",
       "       'COMMODITY_RELEASED_TYPE', 'UNINTENTIONAL_RELEASE_BBLS',\n",
       "       'ACCOMPANYING_LIQUID', 'FATAL', 'INJURE', 'IGNITE_IND', 'EXPLODE_IND',\n",
       "       'ON_OFF_SHORE', 'INCIDENT_AREA_TYPE', 'PIPE_FACILITY_TYPE',\n",
       "       'ITEM_INVOLVED', 'INSTALLATION_YEAR', 'MATERIAL_INVOLVED',\n",
       "       'RELEASE_TYPE', 'TOTAL_COST', 'TOTAL_COST_IN84', 'TOTAL_COST_CURRENT',\n",
       "       'ACCIDENT_PSIG', 'MOP_PSIG', 'CAUSE', 'CAUSE_DETAILS', 'MAP_CAUSE',\n",
       "       'MAP_SUBCAUSE', 'NARRATIVE', 'LOCATION_CITY_NAME',\n",
       "       'LOCATION_COUNTY_NAME', 'LOCATION_STATE_ABBREVIATION'],\n",
       "      dtype='object')"
      ]
     },
     "execution_count": 104,
     "metadata": {},
     "output_type": "execute_result"
    }
   ],
   "source": [
    "df_list[7].columns"
   ]
  },
  {
   "cell_type": "markdown",
   "metadata": {},
   "source": [
    "### - gd_2010_to_Present"
   ]
  },
  {
   "cell_type": "code",
   "execution_count": 105,
   "metadata": {},
   "outputs": [],
   "source": [
    "df_list[5].drop(columns = ['FF','CLASS_LOCATION_TYPE', 'INCIDENT_AREA_SUBTYPE', 'EST_COST_UNINTENTIONAL_RELEASE',\n",
    "                           'EST_COST_UNINTENT_REL_CURRENT', 'EST_COST_INTENT_REL_CURRENT', 'COMMERCIAL_AFFECTED',\n",
    "                           'INDUSTRIAL_AFFECTED','RESIDENCES_AFFECTED'],errors='ignore', inplace=True)"
   ]
  },
  {
   "cell_type": "code",
   "execution_count": 106,
   "metadata": {},
   "outputs": [
    {
     "data": {
      "text/plain": [
       "Index(['SIGNIFICANT', 'SERIOUS', 'REPORT_NUMBER', 'OPERATOR_ID', 'NAME',\n",
       "       'LOCAL_DATETIME', 'LOCATION_STREET_ADDRESS', 'LOCATION_CITY_NAME',\n",
       "       'LOCATION_COUNTY_NAME', 'LOCATION_STATE_ABBREVIATION',\n",
       "       'LOCATION_LATITUDE', 'LOCATION_LONGITUDE', 'COMMODITY_RELEASED_TYPE',\n",
       "       'UNINTENTIONAL_RELEASE_BBLS', 'FATAL', 'INJURE', 'IGNITE_IND',\n",
       "       'EXPLODE_IND', 'INCIDENT_AREA_TYPE', 'PIPE_FACILITY_TYPE',\n",
       "       'INSTALLATION_YEAR', 'MATERIAL_INVOLVED', 'RELEASE_TYPE', 'TOTAL_COST',\n",
       "       'TOTAL_COST_IN84', 'TOTAL_COST_CURRENT', 'ACCIDENT_PSIG', 'NORMAL_PSIG',\n",
       "       'MOP_PSIG', 'CAUSE', 'CAUSE_DETAILS', 'MAP_CAUSE', 'MAP_SUBCAUSE',\n",
       "       'NARRATIVE'],\n",
       "      dtype='object')"
      ]
     },
     "execution_count": 106,
     "metadata": {},
     "output_type": "execute_result"
    }
   ],
   "source": [
    "df_list[5].columns"
   ]
  },
  {
   "cell_type": "markdown",
   "metadata": {},
   "source": [
    "### - LNG_2010_to_Present"
   ]
  },
  {
   "cell_type": "code",
   "execution_count": 107,
   "metadata": {},
   "outputs": [],
   "source": [
    "df_list[4].drop(columns = ['UNINTENTIONAL_RELEASE_IND','INTENTIONAL_RELEASE_IND', 'EMERGENCY_SHUTDOWN_IND',\n",
    "                           'RESULTED_FROM_OTHER_IND', 'NUM_OPER_AND_CONTRACTOR_EVAC',\n",
    "                          'FACILITY_STATUS', 'FACILITY_LIQUID_VAPOR_RATE', 'FACILITY_NUM_VAPORIZERS',\n",
    "                           'FACILITY_TOTAL_CAPACITY', 'FACILITY_SOURCE_LIQUEFY_IND',\n",
    "                           'FACILITY_NUMBER_TANKS', 'FACILITY_VOLUME_STORAGE',\n",
    "                           'EST_COST_INTENTIONAL_RELEASE', 'EST_COST_INTENT_REL_CURRENT',\n",
    "                           'CCS_IN_PLACE_IND', 'CCS_OPERATING_IND', 'CCS_FUNCTIONAL_IND',\n",
    "                          ],errors='ignore', inplace=True)"
   ]
  },
  {
   "cell_type": "code",
   "execution_count": 108,
   "metadata": {},
   "outputs": [
    {
     "data": {
      "text/plain": [
       "Index(['SIGNIFICANT', 'SERIOUS', 'REPORT_NUMBER', 'OPERATOR_ID', 'NAME',\n",
       "       'LOCAL_DATETIME', 'COMMODITY_RELEASED_TYPE', 'FATAL', 'INJURE',\n",
       "       'IGNITE_IND', 'EXPLODE_IND', 'LOCATION_CITY_NAME',\n",
       "       'LOCATION_STATE_ABBREVIATION', 'PIPE_FACILITY_TYPE', 'ITEM_INVOLVED',\n",
       "       'TOTAL_COST', 'TOTAL_COST_IN84', 'TOTAL_COST_CURRENT', 'CAUSE',\n",
       "       'CAUSE_DETAILS', 'MAP_CAUSE', 'MAP_SUBCAUSE', 'NARRATIVE'],\n",
       "      dtype='object')"
      ]
     },
     "execution_count": 108,
     "metadata": {},
     "output_type": "execute_result"
    }
   ],
   "source": [
    "df_list[4].columns"
   ]
  },
  {
   "cell_type": "markdown",
   "metadata": {},
   "source": [
    "### 6. Concatenate Datasets and create final Dataframe for Data Visualization"
   ]
  },
  {
   "cell_type": "code",
   "execution_count": 109,
   "metadata": {},
   "outputs": [
    {
     "data": {
      "text/plain": [
       "(18692, 51)"
      ]
     },
     "execution_count": 109,
     "metadata": {},
     "output_type": "execute_result"
    }
   ],
   "source": [
    "mergedStuff = pd.concat(df_list , ignore_index=True)\n",
    "mergedStuff.shape"
   ]
  },
  {
   "cell_type": "code",
   "execution_count": 110,
   "metadata": {},
   "outputs": [],
   "source": [
    "def final_df(df, nan_values):\n",
    "\n",
    "    total_nan = df.isna().sum()\n",
    "        \n",
    "    filter_nan = total_nan > nan_values\n",
    "    \n",
    "    useless_columns = df.columns[filter_nan].to_list()\n",
    "    \n",
    "    return df.drop(columns=useless_columns)"
   ]
  },
  {
   "cell_type": "code",
   "execution_count": 111,
   "metadata": {},
   "outputs": [],
   "source": [
    "merged_df_datavis = final_df(mergedStuff, 6500)"
   ]
  },
  {
   "cell_type": "markdown",
   "metadata": {},
   "source": [
    "## 7. Processing Dataset to Visualization"
   ]
  },
  {
   "cell_type": "code",
   "execution_count": 112,
   "metadata": {},
   "outputs": [],
   "source": [
    "processed_df = df_clean(merged_df_datavis, fillna_cat_col(merged_df_datavis, nan_col_selection(merged_df_datavis)), fillna_num_col(merged_df_datavis, nan_col_selection(merged_df_datavis)))"
   ]
  },
  {
   "cell_type": "code",
   "execution_count": 113,
   "metadata": {},
   "outputs": [],
   "source": [
    "order_list = ['LOCAL_DATETIME', 'REPORT_NUMBER',\n",
    "                             'SIGNIFICANT', 'SERIOUS',\n",
    "                             'ON_OFF_SHORE', 'LOCATION_CITY_NAME', 'LOCATION_COUNTY_NAME','LOCATION_STATE_ABBREVIATION','INCIDENT_AREA_TYPE', \n",
    "                             'CAUSE', 'MAP_CAUSE', 'MAP_SUBCAUSE',\n",
    "                             'FATAL', 'INJURE', 'UNINTENTIONAL_RELEASE_BBLS', 'TOTAL_COST_IN84', 'TOTAL_COST_CURRENT',\n",
    "                             'ACCIDENT_PSIG', 'MOP_PSIG', 'NAME', 'OPERATOR_ID', 'MATERIAL_INVOLVED', 'COMMODITY_RELEASED_TYPE'\n",
    "                            ]"
   ]
  },
  {
   "cell_type": "code",
   "execution_count": 116,
   "metadata": {},
   "outputs": [],
   "source": [
    "processed_df = processed_df[order_list]"
   ]
  },
  {
   "cell_type": "code",
   "execution_count": 117,
   "metadata": {},
   "outputs": [],
   "source": [
    "processed_df = processed_df.sort_values('LOCAL_DATETIME', ignore_index=True)"
   ]
  },
  {
   "cell_type": "code",
   "execution_count": 118,
   "metadata": {},
   "outputs": [],
   "source": [
    "processed_df[[ 'TOTAL_COST_IN84', 'TOTAL_COST_CURRENT']] = processed_df[[ 'TOTAL_COST_IN84', 'TOTAL_COST_CURRENT']].astype('int')"
   ]
  },
  {
   "cell_type": "code",
   "execution_count": 119,
   "metadata": {},
   "outputs": [],
   "source": [
    "processed_df.loc[processed_df['ON_OFF_SHORE'].str.contains('YES') == True, ['ON_OFF_SHORE']] = 'ONSHORE'"
   ]
  },
  {
   "cell_type": "code",
   "execution_count": 120,
   "metadata": {},
   "outputs": [],
   "source": [
    "processed_df.loc[processed_df['ON_OFF_SHORE'].str.contains('NO') == True, ['ON_OFF_SHORE']] = 'OFFSHORE'"
   ]
  },
  {
   "cell_type": "markdown",
   "metadata": {},
   "source": [
    "### 7.1 Scrap EEUU State abbreviations"
   ]
  },
  {
   "cell_type": "code",
   "execution_count": 121,
   "metadata": {},
   "outputs": [],
   "source": [
    "url = 'https://www.infoplease.com/us/postal-information/state-abbreviations-and-state-postal-codes'"
   ]
  },
  {
   "cell_type": "code",
   "execution_count": 122,
   "metadata": {},
   "outputs": [],
   "source": [
    "tables_df = pd.read_html(url)"
   ]
  },
  {
   "cell_type": "code",
   "execution_count": 123,
   "metadata": {},
   "outputs": [],
   "source": [
    "def replace_state(code, state_list, code_list):\n",
    "    \n",
    "    for i in range(len(code_list)):\n",
    "        \n",
    "        if code == code_list[i]:\n",
    "            \n",
    "            return state_list[i]\n",
    "        \n",
    "        elif code == 'NO DATA':\n",
    "            \n",
    "            return 'NO DATA'"
   ]
  },
  {
   "cell_type": "code",
   "execution_count": 124,
   "metadata": {},
   "outputs": [],
   "source": [
    "def upper(column):\n",
    "    \n",
    "    return column.upper()"
   ]
  },
  {
   "cell_type": "code",
   "execution_count": 125,
   "metadata": {},
   "outputs": [],
   "source": [
    "tables_df[1].rename(columns={'Territory/Associate' : 'State/District'}, inplace = True)\n",
    "\n",
    "states = pd.concat([tables_df[0],tables_df[1]])"
   ]
  },
  {
   "cell_type": "code",
   "execution_count": 126,
   "metadata": {},
   "outputs": [],
   "source": [
    "processed_df['LOCATION_STATE_ABBREVIATION'] = processed_df['LOCATION_STATE_ABBREVIATION'].replace(['  ', '', 'GM'], ['NO DATA', 'NO DATA', 'GU'])"
   ]
  },
  {
   "cell_type": "code",
   "execution_count": 127,
   "metadata": {},
   "outputs": [],
   "source": [
    "processed_df['LOCATION_STATE_ABBREVIATION'] = processed_df.apply(lambda x: replace_state(x['LOCATION_STATE_ABBREVIATION'], list(states['State/District']), list(states['Postal Code'])), axis=1)"
   ]
  },
  {
   "cell_type": "code",
   "execution_count": 128,
   "metadata": {},
   "outputs": [],
   "source": [
    "processed_df['LOCATION_STATE_ABBREVIATION'] = processed_df.apply(lambda x: x['LOCATION_STATE_ABBREVIATION'].upper(), axis = 1)"
   ]
  },
  {
   "cell_type": "markdown",
   "metadata": {},
   "source": [
    "### 7.2 Correct column values"
   ]
  },
  {
   "cell_type": "code",
   "execution_count": 129,
   "metadata": {},
   "outputs": [
    {
     "data": {
      "text/plain": [
       "array(['WITHIN/UNDER BUILDING', 'NO DATA', 'OTHER',\n",
       "       'UNDER GROUND OR UNDER WATER', 'UNDER PAVEMENT', 'UNDER WATER',\n",
       "       'UNDER GROUND', 'ABOVE GROUND', 'OPEN DITCH',\n",
       "       'INSIDE/UNDER BUILDING', 'ABOVEGROUND', 'UNDERGROUND',\n",
       "       'TANK, INCLUDING ATTACHED APPURTENANCES', 'TRANSITION AREA',\n",
       "       'BELOWGROUND STORAGE OR ABOVEGROUND STORAGE VESSEL, INCLUDING ATTACHED APPURTENANCE'],\n",
       "      dtype=object)"
      ]
     },
     "execution_count": 129,
     "metadata": {},
     "output_type": "execute_result"
    }
   ],
   "source": [
    "# INCIDENT_AREA_TYPE\n",
    "\n",
    "processed_df['INCIDENT_AREA_TYPE'].unique()"
   ]
  },
  {
   "cell_type": "code",
   "execution_count": 130,
   "metadata": {},
   "outputs": [],
   "source": [
    "processed_df['INCIDENT_AREA_TYPE'].replace(['UNDER GROUND', 'UNDER PAVEMENT', 'ABOVE GROUND', 'WITHIN/UNDER BUILDING'], \n",
    "                                           ['UNDERGROUND', 'UNDERGROUND', 'ABOVEGROUND', 'INSIDE/UNDER BUILDING'], inplace=True)"
   ]
  },
  {
   "cell_type": "code",
   "execution_count": 131,
   "metadata": {},
   "outputs": [
    {
     "data": {
      "text/plain": [
       "array(['STEEL', 'NO DATA', 'CAST IRON', 'OTHER', 'POLYETHYLENE PLASTIC',\n",
       "       'OTHER PLASTIC', 'POLYETHELENE PLASTIC', 'CAST/WROUGHT IRON',\n",
       "       'OTHER MATERIAL', 'PLASTIC', 'CARBON STEEL',\n",
       "       'MATERIAL OTHER THAN CARBON STEEL',\n",
       "       'MATERIAL OTHER THAN CARBON STEEL OR PLASTIC', 'UNKNOWN',\n",
       "       'DUCTILE IRON', 'COPPER'], dtype=object)"
      ]
     },
     "execution_count": 131,
     "metadata": {},
     "output_type": "execute_result"
    }
   ],
   "source": [
    "# MATERIAL INVOLVED\n",
    "\n",
    "processed_df['MATERIAL_INVOLVED'].unique()"
   ]
  },
  {
   "cell_type": "code",
   "execution_count": 132,
   "metadata": {},
   "outputs": [],
   "source": [
    "processed_df['MATERIAL_INVOLVED'].replace(['POLYETHELENE PLASTIC', 'CAST/WROUGHT IRON', 'OTHER MATERIAL', 'MATERIAL OTHER THAN CARBON STEEL', 'UNKNOWN', 'MATERIAL OTHER THAN CARBON STEEL OR PLASTIC', 'STEEL'], \n",
    "                                           ['POLYETHYLENE PLASTIC', 'CAST IRON', 'OTHER', 'OTHER', 'OTHER', 'OTHER', 'CARBON STEEL'], inplace=True)"
   ]
  },
  {
   "cell_type": "markdown",
   "metadata": {},
   "source": [
    "### 7.3 Export to directory"
   ]
  },
  {
   "cell_type": "code",
   "execution_count": 133,
   "metadata": {},
   "outputs": [],
   "source": [
    "processed_df.to_csv('../data/processed/pipelines_incident.csv')"
   ]
  },
  {
   "cell_type": "code",
   "execution_count": 134,
   "metadata": {},
   "outputs": [
    {
     "data": {
      "text/html": [
       "<div>\n",
       "<style scoped>\n",
       "    .dataframe tbody tr th:only-of-type {\n",
       "        vertical-align: middle;\n",
       "    }\n",
       "\n",
       "    .dataframe tbody tr th {\n",
       "        vertical-align: top;\n",
       "    }\n",
       "\n",
       "    .dataframe thead th {\n",
       "        text-align: right;\n",
       "    }\n",
       "</style>\n",
       "<table border=\"1\" class=\"dataframe\">\n",
       "  <thead>\n",
       "    <tr style=\"text-align: right;\">\n",
       "      <th></th>\n",
       "      <th>12847</th>\n",
       "      <th>17975</th>\n",
       "      <th>13332</th>\n",
       "      <th>25</th>\n",
       "      <th>15607</th>\n",
       "      <th>224</th>\n",
       "      <th>5485</th>\n",
       "      <th>5756</th>\n",
       "      <th>1278</th>\n",
       "      <th>17925</th>\n",
       "    </tr>\n",
       "  </thead>\n",
       "  <tbody>\n",
       "    <tr>\n",
       "      <th>LOCAL_DATETIME</th>\n",
       "      <td>2011-12-01 16:40:00</td>\n",
       "      <td>2019-11-05 10:35:00</td>\n",
       "      <td>2012-10-07 17:36:00</td>\n",
       "      <td>1986-01-30 19:30:00</td>\n",
       "      <td>2016-02-24 10:00:00</td>\n",
       "      <td>1986-07-09 15:30:00</td>\n",
       "      <td>1999-03-05 16:05:00</td>\n",
       "      <td>1999-12-25 11:17:00</td>\n",
       "      <td>1988-10-13 07:30:00</td>\n",
       "      <td>2019-10-09 09:40:00</td>\n",
       "    </tr>\n",
       "    <tr>\n",
       "      <th>REPORT_NUMBER</th>\n",
       "      <td>20110457</td>\n",
       "      <td>20190366</td>\n",
       "      <td>20120317</td>\n",
       "      <td>19860030</td>\n",
       "      <td>20160119</td>\n",
       "      <td>19860117</td>\n",
       "      <td>19990044</td>\n",
       "      <td>20000010</td>\n",
       "      <td>19880187</td>\n",
       "      <td>20190330</td>\n",
       "    </tr>\n",
       "    <tr>\n",
       "      <th>SIGNIFICANT</th>\n",
       "      <td>YES</td>\n",
       "      <td>NO</td>\n",
       "      <td>YES</td>\n",
       "      <td>YES</td>\n",
       "      <td>YES</td>\n",
       "      <td>NO</td>\n",
       "      <td>NO</td>\n",
       "      <td>YES</td>\n",
       "      <td>YES</td>\n",
       "      <td>NO</td>\n",
       "    </tr>\n",
       "    <tr>\n",
       "      <th>SERIOUS</th>\n",
       "      <td>NO</td>\n",
       "      <td>NO</td>\n",
       "      <td>NO</td>\n",
       "      <td>NO</td>\n",
       "      <td>NO</td>\n",
       "      <td>NO</td>\n",
       "      <td>NO</td>\n",
       "      <td>NO</td>\n",
       "      <td>NO</td>\n",
       "      <td>NO</td>\n",
       "    </tr>\n",
       "    <tr>\n",
       "      <th>ON_OFF_SHORE</th>\n",
       "      <td>ONSHORE</td>\n",
       "      <td>ONSHORE</td>\n",
       "      <td>ONSHORE</td>\n",
       "      <td>ONSHORE</td>\n",
       "      <td>ONSHORE</td>\n",
       "      <td>ONSHORE</td>\n",
       "      <td>ONSHORE</td>\n",
       "      <td>ONSHORE</td>\n",
       "      <td>ONSHORE</td>\n",
       "      <td>ONSHORE</td>\n",
       "    </tr>\n",
       "    <tr>\n",
       "      <th>LOCATION_CITY_NAME</th>\n",
       "      <td>COALINGA</td>\n",
       "      <td>EULESS</td>\n",
       "      <td>RACELAND</td>\n",
       "      <td>KATY</td>\n",
       "      <td>BAYONNE</td>\n",
       "      <td></td>\n",
       "      <td></td>\n",
       "      <td>NO DATA</td>\n",
       "      <td></td>\n",
       "      <td>PLACITAS VILLLAGE</td>\n",
       "    </tr>\n",
       "    <tr>\n",
       "      <th>LOCATION_COUNTY_NAME</th>\n",
       "      <td>FRESNO</td>\n",
       "      <td>TARRANT</td>\n",
       "      <td>LAFOURCHE</td>\n",
       "      <td>FORT BEND</td>\n",
       "      <td>HUDSON</td>\n",
       "      <td>ERATH</td>\n",
       "      <td>NOBEL</td>\n",
       "      <td>HOWARD</td>\n",
       "      <td>MONTGOMERY</td>\n",
       "      <td>SANDOVAL</td>\n",
       "    </tr>\n",
       "    <tr>\n",
       "      <th>LOCATION_STATE_ABBREVIATION</th>\n",
       "      <td>CALIFORNIA</td>\n",
       "      <td>TEXAS</td>\n",
       "      <td>LOUISIANA</td>\n",
       "      <td>TEXAS</td>\n",
       "      <td>NEW JERSEY</td>\n",
       "      <td>TEXAS</td>\n",
       "      <td>OKLAHOMA</td>\n",
       "      <td>TEXAS</td>\n",
       "      <td>KANSAS</td>\n",
       "      <td>NEW MEXICO</td>\n",
       "    </tr>\n",
       "    <tr>\n",
       "      <th>INCIDENT_AREA_TYPE</th>\n",
       "      <td>ABOVEGROUND</td>\n",
       "      <td>ABOVEGROUND</td>\n",
       "      <td>TANK, INCLUDING ATTACHED APPURTENANCES</td>\n",
       "      <td>NO DATA</td>\n",
       "      <td>TANK, INCLUDING ATTACHED APPURTENANCES</td>\n",
       "      <td>NO DATA</td>\n",
       "      <td>NO DATA</td>\n",
       "      <td>NO DATA</td>\n",
       "      <td>NO DATA</td>\n",
       "      <td>ABOVEGROUND</td>\n",
       "    </tr>\n",
       "    <tr>\n",
       "      <th>CAUSE</th>\n",
       "      <td>EQUIPMENT FAILURE</td>\n",
       "      <td>INCORRECT OPERATION</td>\n",
       "      <td>NATURAL FORCE DAMAGE</td>\n",
       "      <td>CORROSION</td>\n",
       "      <td>CORROSION FAILURE</td>\n",
       "      <td>CORROSION</td>\n",
       "      <td>CORROSION</td>\n",
       "      <td>OTHER</td>\n",
       "      <td>OTHER</td>\n",
       "      <td>INCORRECT OPERATION</td>\n",
       "    </tr>\n",
       "    <tr>\n",
       "      <th>MAP_CAUSE</th>\n",
       "      <td>MATERIAL/WELD/EQUIP FAILURE</td>\n",
       "      <td>INCORRECT OPERATION</td>\n",
       "      <td>NATURAL FORCE DAMAGE</td>\n",
       "      <td>CORROSION</td>\n",
       "      <td>CORROSION</td>\n",
       "      <td>CORROSION</td>\n",
       "      <td>CORROSION</td>\n",
       "      <td>ALL OTHER CAUSES</td>\n",
       "      <td>ALL OTHER CAUSES</td>\n",
       "      <td>INCORRECT OPERATION</td>\n",
       "    </tr>\n",
       "    <tr>\n",
       "      <th>MAP_SUBCAUSE</th>\n",
       "      <td>PUMP/COMPRESSOR OR PUMP/COMPRESSOR-RELATED EQU...</td>\n",
       "      <td>DAMAGE BY OPERATOR OR OPERATOR'S CONTRACTOR</td>\n",
       "      <td>EARTH MOVEMENT</td>\n",
       "      <td>INTERNAL</td>\n",
       "      <td>INTERNAL</td>\n",
       "      <td>UNSPECIFIED CORROSION</td>\n",
       "      <td>EXTERNAL</td>\n",
       "      <td>MISCELLANEOUS</td>\n",
       "      <td>MISCELLANEOUS</td>\n",
       "      <td>OVERFILL/OVERFLOW OF TANK/VESSEL/SUMP</td>\n",
       "    </tr>\n",
       "    <tr>\n",
       "      <th>FATAL</th>\n",
       "      <td>0</td>\n",
       "      <td>0</td>\n",
       "      <td>0</td>\n",
       "      <td>0</td>\n",
       "      <td>0</td>\n",
       "      <td>0</td>\n",
       "      <td>0</td>\n",
       "      <td>0</td>\n",
       "      <td>0</td>\n",
       "      <td>0</td>\n",
       "    </tr>\n",
       "    <tr>\n",
       "      <th>INJURE</th>\n",
       "      <td>0</td>\n",
       "      <td>0</td>\n",
       "      <td>0</td>\n",
       "      <td>0</td>\n",
       "      <td>0</td>\n",
       "      <td>0</td>\n",
       "      <td>0</td>\n",
       "      <td>0</td>\n",
       "      <td>0</td>\n",
       "      <td>0</td>\n",
       "    </tr>\n",
       "    <tr>\n",
       "      <th>UNINTENTIONAL_RELEASE_BBLS</th>\n",
       "      <td>0.02</td>\n",
       "      <td>1.52</td>\n",
       "      <td>59.7</td>\n",
       "      <td>3000</td>\n",
       "      <td>0</td>\n",
       "      <td>40</td>\n",
       "      <td>0</td>\n",
       "      <td>400</td>\n",
       "      <td>3300</td>\n",
       "      <td>1.9</td>\n",
       "    </tr>\n",
       "    <tr>\n",
       "      <th>TOTAL_COST_IN84</th>\n",
       "      <td>182610</td>\n",
       "      <td>1737</td>\n",
       "      <td>170068</td>\n",
       "      <td>0</td>\n",
       "      <td>51695</td>\n",
       "      <td>0</td>\n",
       "      <td>0</td>\n",
       "      <td>68965</td>\n",
       "      <td>6277</td>\n",
       "      <td>3468</td>\n",
       "    </tr>\n",
       "    <tr>\n",
       "      <th>TOTAL_COST_CURRENT</th>\n",
       "      <td>397821</td>\n",
       "      <td>3785</td>\n",
       "      <td>370497</td>\n",
       "      <td>0</td>\n",
       "      <td>112620</td>\n",
       "      <td>0</td>\n",
       "      <td>0</td>\n",
       "      <td>150242</td>\n",
       "      <td>13674</td>\n",
       "      <td>7556</td>\n",
       "    </tr>\n",
       "    <tr>\n",
       "      <th>ACCIDENT_PSIG</th>\n",
       "      <td>250</td>\n",
       "      <td>14</td>\n",
       "      <td>0</td>\n",
       "      <td>111</td>\n",
       "      <td>115</td>\n",
       "      <td>0</td>\n",
       "      <td>0</td>\n",
       "      <td>300</td>\n",
       "      <td>0</td>\n",
       "      <td>328</td>\n",
       "    </tr>\n",
       "    <tr>\n",
       "      <th>MOP_PSIG</th>\n",
       "      <td>925</td>\n",
       "      <td>275</td>\n",
       "      <td>0</td>\n",
       "      <td>0</td>\n",
       "      <td>115</td>\n",
       "      <td>0</td>\n",
       "      <td>0</td>\n",
       "      <td>0</td>\n",
       "      <td>0</td>\n",
       "      <td>784</td>\n",
       "    </tr>\n",
       "    <tr>\n",
       "      <th>NAME</th>\n",
       "      <td>SHELL PIPELINE CO., L.P.</td>\n",
       "      <td>EXPLORER PIPELINE CO</td>\n",
       "      <td>EXXONMOBIL PIPELINE CO</td>\n",
       "      <td>SHELL PIPE LINE CORP</td>\n",
       "      <td>IMTT-BAYONNE</td>\n",
       "      <td>CHEVRON PIPELINE CO</td>\n",
       "      <td>KOCH PIPELINE COMPANY, L.P.</td>\n",
       "      <td>MOBIL OIL CORPORATION</td>\n",
       "      <td>ARCO PIPE LINE CO</td>\n",
       "      <td>WESTERN REFINING LOGISTICS, LP</td>\n",
       "    </tr>\n",
       "    <tr>\n",
       "      <th>OPERATOR_ID</th>\n",
       "      <td>31174</td>\n",
       "      <td>4805</td>\n",
       "      <td>4906</td>\n",
       "      <td>18273</td>\n",
       "      <td>39149</td>\n",
       "      <td>2731</td>\n",
       "      <td>22855</td>\n",
       "      <td>30991</td>\n",
       "      <td>809</td>\n",
       "      <td>31574</td>\n",
       "    </tr>\n",
       "    <tr>\n",
       "      <th>MATERIAL_INVOLVED</th>\n",
       "      <td>CARBON STEEL</td>\n",
       "      <td>CARBON STEEL</td>\n",
       "      <td>CARBON STEEL</td>\n",
       "      <td>NO DATA</td>\n",
       "      <td>CARBON STEEL</td>\n",
       "      <td>NO DATA</td>\n",
       "      <td>NO DATA</td>\n",
       "      <td>NO DATA</td>\n",
       "      <td>NO DATA</td>\n",
       "      <td>CARBON STEEL</td>\n",
       "    </tr>\n",
       "    <tr>\n",
       "      <th>COMMODITY_RELEASED_TYPE</th>\n",
       "      <td>CRUDE OIL</td>\n",
       "      <td>REFINED AND/OR PETROLEUM PRODUCT (NON-HVL) WHI...</td>\n",
       "      <td>CRUDE OIL</td>\n",
       "      <td>CRUDE OIL</td>\n",
       "      <td>REFINED AND/OR PETROLEUM PRODUCT (NON-HVL) WHI...</td>\n",
       "      <td>GASOLINE</td>\n",
       "      <td>CRUDE OIL</td>\n",
       "      <td>CRUDE OIL</td>\n",
       "      <td>CRUDE OIL</td>\n",
       "      <td>CRUDE OIL</td>\n",
       "    </tr>\n",
       "  </tbody>\n",
       "</table>\n",
       "</div>"
      ],
      "text/plain": [
       "                                                                         12847  \\\n",
       "LOCAL_DATETIME                                             2011-12-01 16:40:00   \n",
       "REPORT_NUMBER                                                         20110457   \n",
       "SIGNIFICANT                                                                YES   \n",
       "SERIOUS                                                                     NO   \n",
       "ON_OFF_SHORE                                                           ONSHORE   \n",
       "LOCATION_CITY_NAME                                                    COALINGA   \n",
       "LOCATION_COUNTY_NAME                                                    FRESNO   \n",
       "LOCATION_STATE_ABBREVIATION                                         CALIFORNIA   \n",
       "INCIDENT_AREA_TYPE                                                 ABOVEGROUND   \n",
       "CAUSE                                                        EQUIPMENT FAILURE   \n",
       "MAP_CAUSE                                          MATERIAL/WELD/EQUIP FAILURE   \n",
       "MAP_SUBCAUSE                 PUMP/COMPRESSOR OR PUMP/COMPRESSOR-RELATED EQU...   \n",
       "FATAL                                                                        0   \n",
       "INJURE                                                                       0   \n",
       "UNINTENTIONAL_RELEASE_BBLS                                                0.02   \n",
       "TOTAL_COST_IN84                                                         182610   \n",
       "TOTAL_COST_CURRENT                                                      397821   \n",
       "ACCIDENT_PSIG                                                              250   \n",
       "MOP_PSIG                                                                   925   \n",
       "NAME                                                  SHELL PIPELINE CO., L.P.   \n",
       "OPERATOR_ID                                                              31174   \n",
       "MATERIAL_INVOLVED                                                 CARBON STEEL   \n",
       "COMMODITY_RELEASED_TYPE                                              CRUDE OIL   \n",
       "\n",
       "                                                                         17975  \\\n",
       "LOCAL_DATETIME                                             2019-11-05 10:35:00   \n",
       "REPORT_NUMBER                                                         20190366   \n",
       "SIGNIFICANT                                                                 NO   \n",
       "SERIOUS                                                                     NO   \n",
       "ON_OFF_SHORE                                                           ONSHORE   \n",
       "LOCATION_CITY_NAME                                                     EULESS    \n",
       "LOCATION_COUNTY_NAME                                                   TARRANT   \n",
       "LOCATION_STATE_ABBREVIATION                                              TEXAS   \n",
       "INCIDENT_AREA_TYPE                                                 ABOVEGROUND   \n",
       "CAUSE                                                      INCORRECT OPERATION   \n",
       "MAP_CAUSE                                                  INCORRECT OPERATION   \n",
       "MAP_SUBCAUSE                       DAMAGE BY OPERATOR OR OPERATOR'S CONTRACTOR   \n",
       "FATAL                                                                        0   \n",
       "INJURE                                                                       0   \n",
       "UNINTENTIONAL_RELEASE_BBLS                                                1.52   \n",
       "TOTAL_COST_IN84                                                           1737   \n",
       "TOTAL_COST_CURRENT                                                        3785   \n",
       "ACCIDENT_PSIG                                                               14   \n",
       "MOP_PSIG                                                                   275   \n",
       "NAME                                                      EXPLORER PIPELINE CO   \n",
       "OPERATOR_ID                                                               4805   \n",
       "MATERIAL_INVOLVED                                                 CARBON STEEL   \n",
       "COMMODITY_RELEASED_TYPE      REFINED AND/OR PETROLEUM PRODUCT (NON-HVL) WHI...   \n",
       "\n",
       "                                                              13332  \\\n",
       "LOCAL_DATETIME                                  2012-10-07 17:36:00   \n",
       "REPORT_NUMBER                                              20120317   \n",
       "SIGNIFICANT                                                     YES   \n",
       "SERIOUS                                                          NO   \n",
       "ON_OFF_SHORE                                                ONSHORE   \n",
       "LOCATION_CITY_NAME                                         RACELAND   \n",
       "LOCATION_COUNTY_NAME                                      LAFOURCHE   \n",
       "LOCATION_STATE_ABBREVIATION                               LOUISIANA   \n",
       "INCIDENT_AREA_TYPE           TANK, INCLUDING ATTACHED APPURTENANCES   \n",
       "CAUSE                                          NATURAL FORCE DAMAGE   \n",
       "MAP_CAUSE                                      NATURAL FORCE DAMAGE   \n",
       "MAP_SUBCAUSE                                         EARTH MOVEMENT   \n",
       "FATAL                                                             0   \n",
       "INJURE                                                            0   \n",
       "UNINTENTIONAL_RELEASE_BBLS                                     59.7   \n",
       "TOTAL_COST_IN84                                              170068   \n",
       "TOTAL_COST_CURRENT                                           370497   \n",
       "ACCIDENT_PSIG                                                     0   \n",
       "MOP_PSIG                                                          0   \n",
       "NAME                                         EXXONMOBIL PIPELINE CO   \n",
       "OPERATOR_ID                                                    4906   \n",
       "MATERIAL_INVOLVED                                      CARBON STEEL   \n",
       "COMMODITY_RELEASED_TYPE                                   CRUDE OIL   \n",
       "\n",
       "                                            25     \\\n",
       "LOCAL_DATETIME                1986-01-30 19:30:00   \n",
       "REPORT_NUMBER                            19860030   \n",
       "SIGNIFICANT                                   YES   \n",
       "SERIOUS                                        NO   \n",
       "ON_OFF_SHORE                              ONSHORE   \n",
       "LOCATION_CITY_NAME                           KATY   \n",
       "LOCATION_COUNTY_NAME                    FORT BEND   \n",
       "LOCATION_STATE_ABBREVIATION                 TEXAS   \n",
       "INCIDENT_AREA_TYPE                        NO DATA   \n",
       "CAUSE                                   CORROSION   \n",
       "MAP_CAUSE                               CORROSION   \n",
       "MAP_SUBCAUSE                             INTERNAL   \n",
       "FATAL                                           0   \n",
       "INJURE                                          0   \n",
       "UNINTENTIONAL_RELEASE_BBLS                   3000   \n",
       "TOTAL_COST_IN84                                 0   \n",
       "TOTAL_COST_CURRENT                              0   \n",
       "ACCIDENT_PSIG                                 111   \n",
       "MOP_PSIG                                        0   \n",
       "NAME                         SHELL PIPE LINE CORP   \n",
       "OPERATOR_ID                                 18273   \n",
       "MATERIAL_INVOLVED                         NO DATA   \n",
       "COMMODITY_RELEASED_TYPE                 CRUDE OIL   \n",
       "\n",
       "                                                                         15607  \\\n",
       "LOCAL_DATETIME                                             2016-02-24 10:00:00   \n",
       "REPORT_NUMBER                                                         20160119   \n",
       "SIGNIFICANT                                                                YES   \n",
       "SERIOUS                                                                     NO   \n",
       "ON_OFF_SHORE                                                           ONSHORE   \n",
       "LOCATION_CITY_NAME                                                     BAYONNE   \n",
       "LOCATION_COUNTY_NAME                                                    HUDSON   \n",
       "LOCATION_STATE_ABBREVIATION                                         NEW JERSEY   \n",
       "INCIDENT_AREA_TYPE                      TANK, INCLUDING ATTACHED APPURTENANCES   \n",
       "CAUSE                                                        CORROSION FAILURE   \n",
       "MAP_CAUSE                                                            CORROSION   \n",
       "MAP_SUBCAUSE                                                          INTERNAL   \n",
       "FATAL                                                                        0   \n",
       "INJURE                                                                       0   \n",
       "UNINTENTIONAL_RELEASE_BBLS                                                   0   \n",
       "TOTAL_COST_IN84                                                          51695   \n",
       "TOTAL_COST_CURRENT                                                      112620   \n",
       "ACCIDENT_PSIG                                                              115   \n",
       "MOP_PSIG                                                                   115   \n",
       "NAME                                                              IMTT-BAYONNE   \n",
       "OPERATOR_ID                                                              39149   \n",
       "MATERIAL_INVOLVED                                                 CARBON STEEL   \n",
       "COMMODITY_RELEASED_TYPE      REFINED AND/OR PETROLEUM PRODUCT (NON-HVL) WHI...   \n",
       "\n",
       "                                             224    \\\n",
       "LOCAL_DATETIME                 1986-07-09 15:30:00   \n",
       "REPORT_NUMBER                             19860117   \n",
       "SIGNIFICANT                                     NO   \n",
       "SERIOUS                                         NO   \n",
       "ON_OFF_SHORE                               ONSHORE   \n",
       "LOCATION_CITY_NAME                                   \n",
       "LOCATION_COUNTY_NAME                         ERATH   \n",
       "LOCATION_STATE_ABBREVIATION                  TEXAS   \n",
       "INCIDENT_AREA_TYPE                         NO DATA   \n",
       "CAUSE                                    CORROSION   \n",
       "MAP_CAUSE                                CORROSION   \n",
       "MAP_SUBCAUSE                 UNSPECIFIED CORROSION   \n",
       "FATAL                                            0   \n",
       "INJURE                                           0   \n",
       "UNINTENTIONAL_RELEASE_BBLS                      40   \n",
       "TOTAL_COST_IN84                                  0   \n",
       "TOTAL_COST_CURRENT                               0   \n",
       "ACCIDENT_PSIG                                    0   \n",
       "MOP_PSIG                                         0   \n",
       "NAME                           CHEVRON PIPELINE CO   \n",
       "OPERATOR_ID                                   2731   \n",
       "MATERIAL_INVOLVED                          NO DATA   \n",
       "COMMODITY_RELEASED_TYPE                   GASOLINE   \n",
       "\n",
       "                                                   5485   \\\n",
       "LOCAL_DATETIME                       1999-03-05 16:05:00   \n",
       "REPORT_NUMBER                                   19990044   \n",
       "SIGNIFICANT                                           NO   \n",
       "SERIOUS                                               NO   \n",
       "ON_OFF_SHORE                                     ONSHORE   \n",
       "LOCATION_CITY_NAME                                         \n",
       "LOCATION_COUNTY_NAME                               NOBEL   \n",
       "LOCATION_STATE_ABBREVIATION                     OKLAHOMA   \n",
       "INCIDENT_AREA_TYPE                               NO DATA   \n",
       "CAUSE                                          CORROSION   \n",
       "MAP_CAUSE                                      CORROSION   \n",
       "MAP_SUBCAUSE                                    EXTERNAL   \n",
       "FATAL                                                  0   \n",
       "INJURE                                                 0   \n",
       "UNINTENTIONAL_RELEASE_BBLS                             0   \n",
       "TOTAL_COST_IN84                                        0   \n",
       "TOTAL_COST_CURRENT                                     0   \n",
       "ACCIDENT_PSIG                                          0   \n",
       "MOP_PSIG                                               0   \n",
       "NAME                         KOCH PIPELINE COMPANY, L.P.   \n",
       "OPERATOR_ID                                        22855   \n",
       "MATERIAL_INVOLVED                                NO DATA   \n",
       "COMMODITY_RELEASED_TYPE                        CRUDE OIL   \n",
       "\n",
       "                                             5756                 1278   \\\n",
       "LOCAL_DATETIME                 1999-12-25 11:17:00  1988-10-13 07:30:00   \n",
       "REPORT_NUMBER                             20000010             19880187   \n",
       "SIGNIFICANT                                    YES                  YES   \n",
       "SERIOUS                                         NO                   NO   \n",
       "ON_OFF_SHORE                               ONSHORE              ONSHORE   \n",
       "LOCATION_CITY_NAME                         NO DATA                        \n",
       "LOCATION_COUNTY_NAME                        HOWARD           MONTGOMERY   \n",
       "LOCATION_STATE_ABBREVIATION                  TEXAS               KANSAS   \n",
       "INCIDENT_AREA_TYPE                         NO DATA              NO DATA   \n",
       "CAUSE                                        OTHER                OTHER   \n",
       "MAP_CAUSE                         ALL OTHER CAUSES     ALL OTHER CAUSES   \n",
       "MAP_SUBCAUSE                         MISCELLANEOUS        MISCELLANEOUS   \n",
       "FATAL                                            0                    0   \n",
       "INJURE                                           0                    0   \n",
       "UNINTENTIONAL_RELEASE_BBLS                     400                 3300   \n",
       "TOTAL_COST_IN84                              68965                 6277   \n",
       "TOTAL_COST_CURRENT                          150242                13674   \n",
       "ACCIDENT_PSIG                                  300                    0   \n",
       "MOP_PSIG                                         0                    0   \n",
       "NAME                         MOBIL OIL CORPORATION    ARCO PIPE LINE CO   \n",
       "OPERATOR_ID                                  30991                  809   \n",
       "MATERIAL_INVOLVED                          NO DATA              NO DATA   \n",
       "COMMODITY_RELEASED_TYPE                  CRUDE OIL            CRUDE OIL   \n",
       "\n",
       "                                                             17925  \n",
       "LOCAL_DATETIME                                 2019-10-09 09:40:00  \n",
       "REPORT_NUMBER                                             20190330  \n",
       "SIGNIFICANT                                                     NO  \n",
       "SERIOUS                                                         NO  \n",
       "ON_OFF_SHORE                                               ONSHORE  \n",
       "LOCATION_CITY_NAME                               PLACITAS VILLLAGE  \n",
       "LOCATION_COUNTY_NAME                                      SANDOVAL  \n",
       "LOCATION_STATE_ABBREVIATION                             NEW MEXICO  \n",
       "INCIDENT_AREA_TYPE                                     ABOVEGROUND  \n",
       "CAUSE                                          INCORRECT OPERATION  \n",
       "MAP_CAUSE                                      INCORRECT OPERATION  \n",
       "MAP_SUBCAUSE                 OVERFILL/OVERFLOW OF TANK/VESSEL/SUMP  \n",
       "FATAL                                                            0  \n",
       "INJURE                                                           0  \n",
       "UNINTENTIONAL_RELEASE_BBLS                                     1.9  \n",
       "TOTAL_COST_IN84                                               3468  \n",
       "TOTAL_COST_CURRENT                                            7556  \n",
       "ACCIDENT_PSIG                                                  328  \n",
       "MOP_PSIG                                                       784  \n",
       "NAME                                WESTERN REFINING LOGISTICS, LP  \n",
       "OPERATOR_ID                                                  31574  \n",
       "MATERIAL_INVOLVED                                     CARBON STEEL  \n",
       "COMMODITY_RELEASED_TYPE                                  CRUDE OIL  "
      ]
     },
     "execution_count": 134,
     "metadata": {},
     "output_type": "execute_result"
    }
   ],
   "source": [
    "processed_df.sample(10).T"
   ]
  },
  {
   "cell_type": "markdown",
   "metadata": {},
   "source": [
    "## 8. Data Visualization"
   ]
  },
  {
   "cell_type": "markdown",
   "metadata": {},
   "source": [
    "### 8.1 Correlation between variables"
   ]
  },
  {
   "cell_type": "code",
   "execution_count": 64,
   "metadata": {},
   "outputs": [
    {
     "data": {
      "text/html": [
       "<div>\n",
       "<style scoped>\n",
       "    .dataframe tbody tr th:only-of-type {\n",
       "        vertical-align: middle;\n",
       "    }\n",
       "\n",
       "    .dataframe tbody tr th {\n",
       "        vertical-align: top;\n",
       "    }\n",
       "\n",
       "    .dataframe thead th {\n",
       "        text-align: right;\n",
       "    }\n",
       "</style>\n",
       "<table border=\"1\" class=\"dataframe\">\n",
       "  <thead>\n",
       "    <tr style=\"text-align: right;\">\n",
       "      <th></th>\n",
       "      <th>REPORT_NUMBER</th>\n",
       "      <th>FATAL</th>\n",
       "      <th>INJURE</th>\n",
       "      <th>UNINTENTIONAL_RELEASE_BBLS</th>\n",
       "      <th>TOTAL_COST_IN84</th>\n",
       "      <th>TOTAL_COST_CURRENT</th>\n",
       "      <th>ACCIDENT_PSIG</th>\n",
       "      <th>MOP_PSIG</th>\n",
       "      <th>OPERATOR_ID</th>\n",
       "    </tr>\n",
       "  </thead>\n",
       "  <tbody>\n",
       "    <tr>\n",
       "      <th>REPORT_NUMBER</th>\n",
       "      <td>1.000000</td>\n",
       "      <td>-0.036985</td>\n",
       "      <td>-0.019117</td>\n",
       "      <td>0.096316</td>\n",
       "      <td>0.019141</td>\n",
       "      <td>0.018888</td>\n",
       "      <td>0.052905</td>\n",
       "      <td>0.317816</td>\n",
       "      <td>0.294913</td>\n",
       "    </tr>\n",
       "    <tr>\n",
       "      <th>FATAL</th>\n",
       "      <td>-0.036985</td>\n",
       "      <td>1.000000</td>\n",
       "      <td>0.046663</td>\n",
       "      <td>0.001408</td>\n",
       "      <td>0.066232</td>\n",
       "      <td>0.066270</td>\n",
       "      <td>-0.029313</td>\n",
       "      <td>-0.029446</td>\n",
       "      <td>-0.027488</td>\n",
       "    </tr>\n",
       "    <tr>\n",
       "      <th>INJURE</th>\n",
       "      <td>-0.019117</td>\n",
       "      <td>0.046663</td>\n",
       "      <td>1.000000</td>\n",
       "      <td>0.014856</td>\n",
       "      <td>0.030908</td>\n",
       "      <td>0.030925</td>\n",
       "      <td>-0.005986</td>\n",
       "      <td>-0.012769</td>\n",
       "      <td>-0.018022</td>\n",
       "    </tr>\n",
       "    <tr>\n",
       "      <th>UNINTENTIONAL_RELEASE_BBLS</th>\n",
       "      <td>0.096316</td>\n",
       "      <td>0.001408</td>\n",
       "      <td>0.014856</td>\n",
       "      <td>1.000000</td>\n",
       "      <td>0.028623</td>\n",
       "      <td>0.026918</td>\n",
       "      <td>0.133008</td>\n",
       "      <td>0.100280</td>\n",
       "      <td>-0.012459</td>\n",
       "    </tr>\n",
       "    <tr>\n",
       "      <th>TOTAL_COST_IN84</th>\n",
       "      <td>0.019141</td>\n",
       "      <td>0.066232</td>\n",
       "      <td>0.030908</td>\n",
       "      <td>0.028623</td>\n",
       "      <td>1.000000</td>\n",
       "      <td>0.999991</td>\n",
       "      <td>0.011844</td>\n",
       "      <td>0.011659</td>\n",
       "      <td>-0.009528</td>\n",
       "    </tr>\n",
       "    <tr>\n",
       "      <th>TOTAL_COST_CURRENT</th>\n",
       "      <td>0.018888</td>\n",
       "      <td>0.066270</td>\n",
       "      <td>0.030925</td>\n",
       "      <td>0.026918</td>\n",
       "      <td>0.999991</td>\n",
       "      <td>1.000000</td>\n",
       "      <td>0.011248</td>\n",
       "      <td>0.011135</td>\n",
       "      <td>-0.009510</td>\n",
       "    </tr>\n",
       "    <tr>\n",
       "      <th>ACCIDENT_PSIG</th>\n",
       "      <td>0.052905</td>\n",
       "      <td>-0.029313</td>\n",
       "      <td>-0.005986</td>\n",
       "      <td>0.133008</td>\n",
       "      <td>0.011844</td>\n",
       "      <td>0.011248</td>\n",
       "      <td>1.000000</td>\n",
       "      <td>0.698533</td>\n",
       "      <td>0.034533</td>\n",
       "    </tr>\n",
       "    <tr>\n",
       "      <th>MOP_PSIG</th>\n",
       "      <td>0.317816</td>\n",
       "      <td>-0.029446</td>\n",
       "      <td>-0.012769</td>\n",
       "      <td>0.100280</td>\n",
       "      <td>0.011659</td>\n",
       "      <td>0.011135</td>\n",
       "      <td>0.698533</td>\n",
       "      <td>1.000000</td>\n",
       "      <td>0.139551</td>\n",
       "    </tr>\n",
       "    <tr>\n",
       "      <th>OPERATOR_ID</th>\n",
       "      <td>0.294913</td>\n",
       "      <td>-0.027488</td>\n",
       "      <td>-0.018022</td>\n",
       "      <td>-0.012459</td>\n",
       "      <td>-0.009528</td>\n",
       "      <td>-0.009510</td>\n",
       "      <td>0.034533</td>\n",
       "      <td>0.139551</td>\n",
       "      <td>1.000000</td>\n",
       "    </tr>\n",
       "  </tbody>\n",
       "</table>\n",
       "</div>"
      ],
      "text/plain": [
       "                            REPORT_NUMBER     FATAL    INJURE  \\\n",
       "REPORT_NUMBER                    1.000000 -0.036985 -0.019117   \n",
       "FATAL                           -0.036985  1.000000  0.046663   \n",
       "INJURE                          -0.019117  0.046663  1.000000   \n",
       "UNINTENTIONAL_RELEASE_BBLS       0.096316  0.001408  0.014856   \n",
       "TOTAL_COST_IN84                  0.019141  0.066232  0.030908   \n",
       "TOTAL_COST_CURRENT               0.018888  0.066270  0.030925   \n",
       "ACCIDENT_PSIG                    0.052905 -0.029313 -0.005986   \n",
       "MOP_PSIG                         0.317816 -0.029446 -0.012769   \n",
       "OPERATOR_ID                      0.294913 -0.027488 -0.018022   \n",
       "\n",
       "                            UNINTENTIONAL_RELEASE_BBLS  TOTAL_COST_IN84  \\\n",
       "REPORT_NUMBER                                 0.096316         0.019141   \n",
       "FATAL                                         0.001408         0.066232   \n",
       "INJURE                                        0.014856         0.030908   \n",
       "UNINTENTIONAL_RELEASE_BBLS                    1.000000         0.028623   \n",
       "TOTAL_COST_IN84                               0.028623         1.000000   \n",
       "TOTAL_COST_CURRENT                            0.026918         0.999991   \n",
       "ACCIDENT_PSIG                                 0.133008         0.011844   \n",
       "MOP_PSIG                                      0.100280         0.011659   \n",
       "OPERATOR_ID                                  -0.012459        -0.009528   \n",
       "\n",
       "                            TOTAL_COST_CURRENT  ACCIDENT_PSIG  MOP_PSIG  \\\n",
       "REPORT_NUMBER                         0.018888       0.052905  0.317816   \n",
       "FATAL                                 0.066270      -0.029313 -0.029446   \n",
       "INJURE                                0.030925      -0.005986 -0.012769   \n",
       "UNINTENTIONAL_RELEASE_BBLS            0.026918       0.133008  0.100280   \n",
       "TOTAL_COST_IN84                       0.999991       0.011844  0.011659   \n",
       "TOTAL_COST_CURRENT                    1.000000       0.011248  0.011135   \n",
       "ACCIDENT_PSIG                         0.011248       1.000000  0.698533   \n",
       "MOP_PSIG                              0.011135       0.698533  1.000000   \n",
       "OPERATOR_ID                          -0.009510       0.034533  0.139551   \n",
       "\n",
       "                            OPERATOR_ID  \n",
       "REPORT_NUMBER                  0.294913  \n",
       "FATAL                         -0.027488  \n",
       "INJURE                        -0.018022  \n",
       "UNINTENTIONAL_RELEASE_BBLS    -0.012459  \n",
       "TOTAL_COST_IN84               -0.009528  \n",
       "TOTAL_COST_CURRENT            -0.009510  \n",
       "ACCIDENT_PSIG                  0.034533  \n",
       "MOP_PSIG                       0.139551  \n",
       "OPERATOR_ID                    1.000000  "
      ]
     },
     "execution_count": 64,
     "metadata": {},
     "output_type": "execute_result"
    }
   ],
   "source": [
    "processed_df.corr(method='pearson')"
   ]
  }
 ],
 "metadata": {
  "kernelspec": {
   "display_name": "Python [conda env:ironhack_env]",
   "language": "python",
   "name": "conda-env-ironhack_env-py"
  },
  "language_info": {
   "codemirror_mode": {
    "name": "ipython",
    "version": 3
   },
   "file_extension": ".py",
   "mimetype": "text/x-python",
   "name": "python",
   "nbconvert_exporter": "python",
   "pygments_lexer": "ipython3",
   "version": "3.8.8"
  }
 },
 "nbformat": 4,
 "nbformat_minor": 4
}
