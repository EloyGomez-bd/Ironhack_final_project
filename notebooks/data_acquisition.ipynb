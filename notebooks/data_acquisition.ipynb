{
 "cells": [
  {
   "cell_type": "code",
   "execution_count": 12,
   "metadata": {},
   "outputs": [],
   "source": [
    "import os \n",
    "import pandas as pd\n",
    "import numpy as np\n",
    "from datetime import datetime"
   ]
  },
  {
   "cell_type": "markdown",
   "metadata": {},
   "source": [
    "## Obtaining Data"
   ]
  },
  {
   "cell_type": "code",
   "execution_count": 13,
   "metadata": {},
   "outputs": [],
   "source": [
    "path = '../data/raw/'"
   ]
  },
  {
   "cell_type": "code",
   "execution_count": 14,
   "metadata": {},
   "outputs": [],
   "source": [
    "def df_classifier(path,service,sheet):\n",
    "    \n",
    "    df_list =[]\n",
    "    \n",
    "    for root, dirs, files in os.walk(path):\n",
    "        \n",
    "        for filename in files:\n",
    "            \n",
    "            if filename.startswith(service):\n",
    "                \n",
    "                df_list.append(pd.read_excel(f'{path}{filename}', sheet_name=sheet))\n",
    "            \n",
    "                print(filename)\n",
    "                \n",
    "            elif service == 'all':\n",
    "                \n",
    "                df_list.append(pd.read_excel(f'{path}{filename}', sheet_name=sheet))\n",
    "                \n",
    "                print(filename)\n",
    "                \n",
    "    return df_list"
   ]
  },
  {
   "cell_type": "code",
   "execution_count": 166,
   "metadata": {},
   "outputs": [
    {
     "name": "stdout",
     "output_type": "stream",
     "text": [
      "hl1986to2001.xlsx\n",
      "gtgg1986to2001.xlsx\n",
      "hl2010toPresent.xlsx\n",
      "hl2002to2009.xlsx\n",
      "lng2011toPresent.xlsx\n",
      "gd2010toPresent.xlsx\n",
      "gtgg2002to2009.xlsx\n",
      "gtggungs2010toPresent.xlsx\n",
      "gdmar2004to2009.xlsx\n",
      "gd1986tofeb2004.xlsx\n"
     ]
    }
   ],
   "source": [
    "df_list = df_classifier(path, 'all', 1)"
   ]
  },
  {
   "cell_type": "markdown",
   "metadata": {},
   "source": [
    "## Cleaning Data"
   ]
  },
  {
   "cell_type": "markdown",
   "metadata": {},
   "source": [
    "### 0. Previous modifications before removing nan columns"
   ]
  },
  {
   "cell_type": "code",
   "execution_count": 167,
   "metadata": {},
   "outputs": [],
   "source": [
    "# Fix locations of datesets hl2010toPresent and gtggungs2010toPresent\n",
    "\n",
    "list_index = [2, 7]\n",
    "\n",
    "for i in list_index:\n",
    "    \n",
    "    df_list[i].ONSHORE_CITY_NAME.fillna('', inplace=True)\n",
    "    df_list[i].OFF_ACCIDENT_ORIGIN.fillna('', inplace=True)\n",
    "    df_list[i].ONSHORE_COUNTY_NAME.fillna('', inplace=True)\n",
    "    df_list[i].OFFSHORE_COUNTY_NAME.fillna('', inplace=True)\n",
    "    df_list[i].ONSHORE_STATE_ABBREVIATION.fillna('', inplace=True)\n",
    "    df_list[i].OFFSHORE_STATE_ABBREVIATION.fillna('', inplace=True)\n",
    "    \n",
    "    df_list[i]['LOCATION_CITY_NAME'] = df_list[i].apply(lambda x: \n",
    "                                                 x.ONSHORE_CITY_NAME + x.OFF_ACCIDENT_ORIGIN, axis=1)\n",
    "    df_list[i]['LOCATION_COUNTY_NAME'] = df_list[i].apply(lambda x: \n",
    "                                                 x.ONSHORE_COUNTY_NAME + x.OFFSHORE_COUNTY_NAME, axis=1)\n",
    "    df_list[i]['LOCATION_STATE_ABBREVIATION'] = df_list[i].apply(lambda x: \n",
    "                                                 x.ONSHORE_STATE_ABBREVIATION + x.OFFSHORE_STATE_ABBREVIATION, axis=1)"
   ]
  },
  {
   "cell_type": "code",
   "execution_count": 168,
   "metadata": {},
   "outputs": [],
   "source": [
    "# Fix FATAL and INJURIES columns\n",
    "\n",
    "for df in df_list:\n",
    "    \n",
    "    if 'FATAL' in df:\n",
    "    \n",
    "        df['FATAL'].fillna(0, inplace = True)\n",
    "        \n",
    "    if 'INJURE' in df:\n",
    "        \n",
    "        df['INJURE'].fillna(0, inplace = True)"
   ]
  },
  {
   "cell_type": "markdown",
   "metadata": {},
   "source": [
    "### 1. Fixing Datetime Column"
   ]
  },
  {
   "cell_type": "code",
   "execution_count": 169,
   "metadata": {},
   "outputs": [],
   "source": [
    "# It seems there are some rows with 'spaces' we need to feel to convert the column to integer\n",
    "\n",
    "df_list[9].loc[df_list[9]['DTHH'].str.contains(r'\\s+') == True, ['DTHH']] = '0000'"
   ]
  },
  {
   "cell_type": "code",
   "execution_count": 170,
   "metadata": {},
   "outputs": [],
   "source": [
    "# Check that there are no times above 2400\n",
    "\n",
    "df_list[9]['DTHH'] = df_list[9]['DTHH'].astype('int64')\n",
    "df_list[9].loc[df_list[9]['DTHH'] >= 2400, ['DTHH']] = 0"
   ]
  },
  {
   "cell_type": "code",
   "execution_count": 171,
   "metadata": {},
   "outputs": [],
   "source": [
    "# It seems there are some rows with 'spaces' we need to feel to convert the column to integer\n",
    "\n",
    "df_list[9]['DTHH'] = df_list[9]['DTHH'].astype('str')\n",
    "\n",
    "df_list[9].loc[df_list[9]['DTHH'].str.contains(r'\\s+') == True, ['DTHH']] = '0000'"
   ]
  },
  {
   "cell_type": "code",
   "execution_count": 172,
   "metadata": {},
   "outputs": [],
   "source": [
    "# Convert column to string\n",
    "\n",
    "df_list[9]['DTHH'] = df_list[9]['DTHH'].astype('str')"
   ]
  },
  {
   "cell_type": "code",
   "execution_count": 173,
   "metadata": {},
   "outputs": [],
   "source": [
    "# Add leading zeros\n",
    "\n",
    "df_list[9]['DTHH'] = df_list[9].apply(lambda x: x.DTHH.zfill(4), axis=1)"
   ]
  },
  {
   "cell_type": "code",
   "execution_count": 174,
   "metadata": {},
   "outputs": [],
   "source": [
    "# Add trailing zeros\n",
    "\n",
    "df_list[9]['DTHH'] = df_list[9].apply(lambda x: x.DTHH.ljust(6, '0'), axis=1)"
   ]
  },
  {
   "cell_type": "code",
   "execution_count": 175,
   "metadata": {},
   "outputs": [],
   "source": [
    "# And insert colon in the date to fit the format\n",
    "\n",
    "df_list[9]['DTHH'] = df_list[9].apply(lambda x: ':'.join(x['DTHH'][i:i+2] for i in range(0, len(x['DTHH']), 2)), axis=1)"
   ]
  },
  {
   "cell_type": "code",
   "execution_count": 176,
   "metadata": {},
   "outputs": [],
   "source": [
    "df_list[9]['LOCAL_DATETIME'] = df_list[9]['IDATE'].astype('str').str.cat(df_list[9]['DTHH'],sep=\" \")"
   ]
  },
  {
   "cell_type": "code",
   "execution_count": 177,
   "metadata": {},
   "outputs": [],
   "source": [
    "def time(df_column):\n",
    "    \n",
    "    return datetime.strptime(df_column, \"%Y-%m-%d %H:%M:%S\")"
   ]
  },
  {
   "cell_type": "code",
   "execution_count": 178,
   "metadata": {},
   "outputs": [],
   "source": [
    "df_list[9]['LOCAL_DATETIME'] = df_list[9].apply(lambda x: time(x.LOCAL_DATETIME), axis=1)"
   ]
  },
  {
   "cell_type": "markdown",
   "metadata": {},
   "source": [
    "### 2. Drop columns with high nan percentage"
   ]
  },
  {
   "cell_type": "code",
   "execution_count": 200,
   "metadata": {},
   "outputs": [],
   "source": [
    "def nan_removal(df, percentage):\n",
    "\n",
    "    nan_values = df.isna().sum()\n",
    "        \n",
    "    nan_percentage = nan_values / len(df) * 100\n",
    "        \n",
    "    filter_nan_percentage = nan_percentage > percentage\n",
    "    \n",
    "    high_nan_columns = df.columns[filter_nan_percentage].to_list()\n",
    "    \n",
    "    return df.drop(columns=high_nan_columns, inplace=True)"
   ]
  },
  {
   "cell_type": "markdown",
   "metadata": {},
   "source": [
    "### 3. Renaming of variables to be used."
   ]
  },
  {
   "cell_type": "code",
   "execution_count": 201,
   "metadata": {},
   "outputs": [],
   "source": [
    "for df in df_list:\n",
    "    \n",
    "    df.rename(columns={'ACCTY' : 'LOCATION_CITY_NAME',\n",
    "                       'FACILITY_NAME' : 'LOCATION_CITY_NAME',\n",
    "                       'ACCITY' : 'LOCATION_CITY_NAME',\n",
    "                      'ACCNT' : 'LOCATION_COUNTY_NAME',\n",
    "                       'ACCOUNTY' : 'LOCATION_COUNTY_NAME',\n",
    "                       'ACCST' : 'LOCATION_STATE_ABBREVIATION',\n",
    "                       'ACSTATE' : 'LOCATION_STATE_ABBREVIATION',\n",
    "                       'FACILITY_STATE' : 'LOCATION_STATE_ABBREVIATION',\n",
    "                       'ACZIP' : 'LOCATION_POSTAL_CODE',\n",
    "                       'LATITUDE' : 'LOCATION_LATITUDE',\n",
    "                       'LONGITUDE' : 'LOCATION_LONGITUDE',\n",
    "                       'FACILITY_LATITUDE' : 'LOCATION_LATITUDE',\n",
    "                       'FACILITY_LONGITUDE' : 'LOCATION_LONGITUDE',\n",
    "                       'RPTID' : 'REPORT_NUMBER',\n",
    "                       'INADR' : 'LOCATION_STREET_ADDRESS',\n",
    "                       'CLASS' : 'CLASS_LOCATION_TYPE',\n",
    "                       'COMM' : 'COMMODITY_RELEASED_TYPE',\n",
    "                       'CSYS' : 'SYSTEM_PART_INVOLVED',\n",
    "                       'OFFSHORE' : 'ON_OFF_SHORE',\n",
    "                       'SHORE' : 'ON_OFF_SHORE',\n",
    "                       'OFFSHORE_TEXT' : 'ON_OFF_SHORE',\n",
    "                      'OPID' : 'OPERATOR_ID',\n",
    "                      'IFED' : 'FEDERAL',\n",
    "                       'IDATE' : 'LOCAL_DATETIME',\n",
    "                       'IHOUR' : 'DTHH',\n",
    "                       'INTER_INTRA':'PIPE_FACILITY_TYPE',\n",
    "                       'INTER_TEXT' : 'PIPE_FACILITY_TYPE',\n",
    "                       'INTER' : 'PIPE_FACILITY_TYPE',\n",
    "                       'TFAT' : 'FATAL',\n",
    "                       'EFAT' : 'NUM_EMP_FATALITIES',\n",
    "                       'FAT' : 'FATAL',\n",
    "                       'TINJ' : 'INJURE',\n",
    "                       'EINJ' : 'NUM_EMP_INJURIES',\n",
    "                       'INJ' : 'INJURE',\n",
    "                       'ACPRS' : 'ACCIDENT_PSIG',\n",
    "                       'INPRS' : 'ACCIDENT_PSIG',\n",
    "                       'INC_PRS' : 'ACCIDENT_PSIG',\n",
    "                       'MAOP' : 'MOP_PSIG',\n",
    "                       'MXPRS' : 'MOP_PSIG',\n",
    "                       'DSPRS' : 'MOP_PSIG',\n",
    "                       'PRTST' : 'MOP_CFR_SECTION',\n",
    "                       'TEST' : 'EX_HYDROTEST_PRESSURE',\n",
    "                       'PRTLK' : 'CUSTOMER_TYPE',\n",
    "                       'MLKD' : 'MATERIAL_INVOLVED',\n",
    "                       'MLKD_TEXT' : 'MATERIAL_INVOLVED',\n",
    "                       'NMDIA' : 'PIPE_DIAMETER',\n",
    "                       'NPS' : 'PIPE_DIAMETER',\n",
    "                       'THK' : 'WT_STEEL',\n",
    "                       'SPEC' : 'PIPE_SPECIFICATION',\n",
    "                       'PRTYR' : 'INSTALLATION_YEAR',\n",
    "                       'ITMYR' : 'INSTALLATION_YEAR',\n",
    "                       'MANYR' : 'MANUFACTURED_YEAR',\n",
    "                       'MANU' : 'PIPE_MANUFACTURER',\n",
    "                       'LOCLK' : 'INCIDENT_AREA_TYPE',\n",
    "                       'LOCLK_TEXT' : 'INCIDENT_AREA_TYPE',\n",
    "                       'PNAME' : 'PREPARER_NAME',\n",
    "                       'PHONE' : 'PREPARER_PHONE',\n",
    "                       'PPHONE' : 'PREPARER_PHONE',\n",
    "                       'PROT' : 'UNDER_CATHODIC_PROTECTION_IND',\n",
    "                       'FACAT' : 'UNDER_CATHODIC_PROTECTION_IND',\n",
    "                       'CAULK' : 'CAUSE_DETAILS',\n",
    "                       'ITYPE' : 'RELEASE_TYPE',\n",
    "                       'LRTYPE_TEXT' : 'RELEASE_TYPE',\n",
    "                       'ORGLK' : 'ITEM_INVOLVED',\n",
    "                       'PRTSY_TEXT' : 'ITEM_INVOLVED',\n",
    "                       'PRTSY' : 'ITEM_INVOLVED',\n",
    "                       'PRTFL' : 'SYSTEM_PART_DETAILS',\n",
    "                       'PRTFL_TEXT' : 'SYSTEM_PART_DETAILS',\n",
    "                       'LOSS' : 'UNINTENTIONAL_RELEASE_BBLS',\n",
    "                       'RECOV' : 'RECOVERED_BBLS',\n",
    "                       'FIRE' : 'IGNITE_IND',\n",
    "                       'IGNITE' : 'IGNITE_IND',\n",
    "                       'EXP' : 'EXPLODE_IND',\n",
    "                       'EXPLO' : 'EXPLODE_IND',\n",
    "                       'SMYS' : 'PIPE_SMYS',\n",
    "                       'CORRO' : 'CORROSION_TYPE',\n",
    "                       'UNINTENTIONAL_RELEASE' : 'UNINTENTIONAL_RELEASE_BBLS'\n",
    "                      }, inplace=True)"
   ]
  },
  {
   "cell_type": "markdown",
   "metadata": {},
   "source": [
    "### 4. Fill nan values and remove useless columns"
   ]
  },
  {
   "cell_type": "code",
   "execution_count": 202,
   "metadata": {},
   "outputs": [],
   "source": [
    "def nan_col_selection(df):\n",
    "    \n",
    "    return df.columns[df.isna().any()].tolist()"
   ]
  },
  {
   "cell_type": "code",
   "execution_count": 203,
   "metadata": {},
   "outputs": [],
   "source": [
    "def fillna_num_col(df, column_list):\n",
    "    \n",
    "    return df[column_list].select_dtypes(include=['float64', 'int64']).fillna(0)"
   ]
  },
  {
   "cell_type": "code",
   "execution_count": 204,
   "metadata": {},
   "outputs": [],
   "source": [
    "def fillna_cat_col(df, column_list):\n",
    "    \n",
    "    return df[column_list].select_dtypes(exclude=['float64', 'int64']).fillna('NO DATA')"
   ]
  },
  {
   "cell_type": "code",
   "execution_count": 205,
   "metadata": {},
   "outputs": [],
   "source": [
    "def df_clean(df, df_cat, df_num):\n",
    "    \n",
    "    for column in df_cat.columns:\n",
    "    \n",
    "        df[column] = df_cat[column]\n",
    "    \n",
    "    for column in df_num.columns:\n",
    "    \n",
    "        df[column] = df_num[column]\n",
    "        \n",
    "    return df"
   ]
  },
  {
   "cell_type": "code",
   "execution_count": 231,
   "metadata": {},
   "outputs": [],
   "source": [
    "for df in df_list:\n",
    "    \n",
    "    df.drop(columns=[\n",
    "                        'DATAFILE_AS_OF','OPSTREET', 'OPCITY', 'OPCOUNTY', 'OPSTATE',\n",
    "                       'OPZIP', 'PPPRP', 'PPPRPCURRENT', 'EMRPRP', 'ACSTREET',\n",
    "                       'EMRPRPCURRENT', 'ENVPRP', 'ENVPRPCURRENT', 'OPCPRP', 'OPCPRPCURRENT',\n",
    "                       'PRODPRP', 'PRODPRPCURRENT', 'OOPRP', 'OOPRPCURRENT', 'OOPPRP', 'GASPRP',\n",
    "                       'GASPRPCURRENT', 'OPPRP', 'OPPRPCURRENT', 'NUM_EMP_FATALITIES',\n",
    "                       'OOPPRPCURRENT', 'IPE', 'IA_IPE', 'OM_IPE', 'NUM_EMP_INJURIES',\n",
    "                        'SUPPLEMENTAL_NUMBER', 'REPORT_RECEIVED_DATE', 'REPORT_TYPE',\n",
    "                        'OPERATOR_STREET_ADDRESS', 'OPERATOR_CITY_NAME', 'CUSTOMER_TYPE',\n",
    "                        'OPERATOR_STATE_ABBREVIATION', 'OPERATOR_POSTAL_CODE', 'IYEAR',\n",
    "                        'LOCATION_POSTAL_CODE', 'ONSHORE_POSTAL_CODE', \n",
    "                        'ONSHORE_CITY_NAME', 'OFF_ACCIDENT_ORIGIN', 'ONSHORE_COUNTY_NAME', \n",
    "                        'OFFSHORE_COUNTY_NAME', 'ONSHORE_STATE_ABBREVIATION', 'OFFSHORE_STATE_ABBREVIATION',\n",
    "                        'EST_COST_OPER_PAID','EST_COST_OPER_PAID_CURRENT', 'EST_COST_GAS_RELEASED',\n",
    "                       'EST_COST_GAS_RELEASED_CURRENT', 'EST_COST_PROP_DAMAGE',\n",
    "                       'EST_COST_PROP_DAMAGE_CURRENT', 'EST_COST_EMERGENCY',\n",
    "                       'EST_COST_EMERGENCY_CURRENT', 'EST_COST_ENVIRONMENTAL',\n",
    "                       'EST_COST_ENVIRONMENTAL_CURRENT', 'EST_COST_OTHER',\n",
    "                       'EST_COST_OTHER_CURRENT', 'CORLC', 'EXT_INT_CORROSION',\n",
    "                        'PREPARER_NAME', 'PREPARER_TITLE', 'PREPARER_EMAIL','PREPARER_PHONE',\n",
    "                       'PREPARER_TELEPHONE', 'PREPARED_DATE', 'AUTHORIZER_NAME',\n",
    "                       'AUTHORIZER_TITLE', 'AUTHORIZER_TELEPHONE', 'AUTHORIZER_EMAIL', 'FATALITY_IND',\n",
    "                        'INJURY_IND','SHUTDOWN_DUE_ACCIDENT_IND', 'INCIDENT_IDENTIFIED_DATETIME',\n",
    "                           'ON_SITE_DATETIME', 'DESIGNATED_NAME', 'NUM_PUB_EVACUATED',\n",
    "                           'PIPE_FAC_NAME', 'SEGMENT_NAME', 'FEDERAL', 'LOCATION_TYPE', \n",
    "                           'CROSSING','SYSTEM_PART_INVOLVED', 'DESIGNATED_LOCATION', 'WILDLIFE_IMPACT_IND',\n",
    "                           'SOIL_CONTAMINATION','LONG_TERM_ASSESSMENT', 'REMEDIATION_IND', \n",
    "                           'WATER_CONTAM_IND', 'COULD_BE_HCA', 'COMMODITY_REACHED_HCA', 'ACCIDENT_PRESSURE',\n",
    "                           'PRESSURE_RESTRICTION_IND', 'PART_C_QUESTION_2_IND', 'PIPELINE_FUNCTION', 'SCADA_IN_PLACE_IND', 'CPM_IN_PLACE_IND',\n",
    "                           'ACCIDENT_IDENTIFIER', 'INVESTIGATION_STATUS', 'EMPLOYEE_DRUG_TEST_IND',\n",
    "                            'CONTRACTOR_DRUG_TEST_IND','SPILL_TYPE_CATEGORY', 'MOP_CFR_SECTION',\n",
    "                           'SCADA_OPERATING_IND', 'SCADA_FUNCTIONAL_IND', 'SCADA_DETECTION_IND',\n",
    "                           'SCADA_CONF_IND','NRC_RPT_NUM', 'NRC_RPT_DATETIME', 'INTENTIONAL_RELEASE'\n",
    "                          ],errors='ignore', inplace=True)\n",
    "    \n",
    "    nan_removal(df, 20)\n",
    "    \n",
    "    df_clean(df, fillna_cat_col(df, nan_col_selection(df)), fillna_num_col(df, nan_col_selection(df)))"
   ]
  },
  {
   "cell_type": "markdown",
   "metadata": {},
   "source": [
    "### 5. Selecting variables"
   ]
  },
  {
   "cell_type": "markdown",
   "metadata": {},
   "source": [
    "### - hl_1986_to_2001"
   ]
  },
  {
   "cell_type": "code",
   "execution_count": 232,
   "metadata": {},
   "outputs": [],
   "source": [
    "df_list[0].drop(columns = ['COOR', 'SPLOC', 'TELRN', 'ORGLO',\n",
    "                          'CAUSO', 'NFAT', 'NINJ', 'CORR', 'PREVT',\n",
    "                          'JNT', 'MOP_PSIG', 'DUR', 'CAULO', 'TMPMK',\n",
    "                          'FACTD', 'ONECL', 'ONEOT', 'EXCAL'],errors='ignore', inplace=True)"
   ]
  },
  {
   "cell_type": "code",
   "execution_count": 233,
   "metadata": {},
   "outputs": [],
   "source": [
    "df_list[0].PIPE_FACILITY_TYPE.replace(['YES', 'NO'],['INTERSTATE', 'INTRASTATE'], inplace=True)"
   ]
  },
  {
   "cell_type": "code",
   "execution_count": 234,
   "metadata": {},
   "outputs": [],
   "source": [
    "df_list[0].ON_OFF_SHORE.replace(['YES', 'NO'],['OFFSHORE', 'ONSHORE'], inplace=True)"
   ]
  },
  {
   "cell_type": "code",
   "execution_count": 235,
   "metadata": {},
   "outputs": [
    {
     "data": {
      "text/plain": [
       "Index(['SIGNIFICANT', 'SERIOUS', 'REPORT_NUMBER', 'OPERATOR_ID', 'NAME',\n",
       "       'PIPE_FACILITY_TYPE', 'LOCAL_DATETIME', 'DTHH',\n",
       "       'LOCATION_STATE_ABBREVIATION', 'LOCATION_COUNTY_NAME',\n",
       "       'LOCATION_CITY_NAME', 'ON_OFF_SHORE', 'ITEM_INVOLVED',\n",
       "       'INSTALLATION_YEAR', 'CAUSE', 'MAP_CAUSE', 'MAP_SUBCAUSE', 'FATAL',\n",
       "       'INJURE', 'TOTAL_COST', 'TOTAL_COST_IN84', 'TOTAL_COST_CURRENT',\n",
       "       'COMMODITY_RELEASED_TYPE', 'CLASS_LOCATION_TYPE',\n",
       "       'UNINTENTIONAL_RELEASE_BBLS', 'RECOVERED_BBLS', 'IGNITE_IND',\n",
       "       'EXPLODE_IND', 'PIPE_DIAMETER', 'WT_STEEL', 'PIPE_SMYS',\n",
       "       'ACCIDENT_PSIG', 'UNDER_CATHODIC_PROTECTION_IND', 'CORROSION_TYPE',\n",
       "       'CAUSE_DETAILS', 'NARRATIVE'],\n",
       "      dtype='object')"
      ]
     },
     "execution_count": 235,
     "metadata": {},
     "output_type": "execute_result"
    }
   ],
   "source": [
    "df_list[0].columns"
   ]
  },
  {
   "cell_type": "markdown",
   "metadata": {},
   "source": [
    "### - gtgg_1986_to_2001"
   ]
  },
  {
   "cell_type": "code",
   "execution_count": 258,
   "metadata": {},
   "outputs": [],
   "source": [
    "df_list[1].drop(columns = ['MPOST', 'SURVY', 'OFFAREA', 'BNUMB',\n",
    "                          'OFFST', 'OCS', 'OPJUD', 'STHH',\n",
    "                          'STMN', 'TELRN', 'TELRT', 'MPEST', 'PRTFO',\n",
    "                          'PRTSY', 'PRTSO', 'SEAM', 'LOCLO', 'DESCO',\n",
    "                            'CAUCO', 'DMGO', 'NOTIF', 'MARK', 'MRKTP',\n",
    "                          'CAULO', 'STAT', 'CTEST', 'MEDO', 'MLKDO'], errors='ignore', inplace=True)"
   ]
  },
  {
   "cell_type": "code",
   "execution_count": 259,
   "metadata": {},
   "outputs": [],
   "source": [
    "df_list[1].ON_OFF_SHORE.replace(['YES', 'NO'],['OFFSHORE', 'ONSHORE'], inplace=True)"
   ]
  },
  {
   "cell_type": "code",
   "execution_count": 262,
   "metadata": {},
   "outputs": [],
   "source": [
    "df_list[1].COMMODITY_RELEASED_TYPE = 'NATURAL GAS'"
   ]
  },
  {
   "cell_type": "code",
   "execution_count": 263,
   "metadata": {},
   "outputs": [
    {
     "data": {
      "text/plain": [
       "Index(['SIGNIFICANT', 'SERIOUS', 'SYSTEM_TYPE', 'REPORT_NUMBER', 'OPERATOR_ID',\n",
       "       'NAME', 'LOCATION_CITY_NAME', 'LOCATION_COUNTY_NAME',\n",
       "       'LOCATION_STATE_ABBREVIATION', 'DTHH', 'LOCAL_DATETIME',\n",
       "       'CLASS_LOCATION_TYPE', 'ON_OFF_SHORE', 'RELEASE_TYPE', 'FATAL',\n",
       "       'INJURE', 'TOTAL_COST', 'TOTAL_COST_IN84', 'TOTAL_COST_CURRENT',\n",
       "       'ACCIDENT_PSIG', 'MOP_PSIG', 'EX_HYDROTEST_PRESSURE', 'CAUSE',\n",
       "       'MAP_CAUSE', 'MAP_SUBCAUSE', 'SYSTEM_PART_DETAILS', 'MATERIAL_INVOLVED',\n",
       "       'ITEM_INVOLVED', 'INSTALLATION_YEAR', 'PIPE_DIAMETER', 'WT_STEEL',\n",
       "       'PIPE_SPECIFICATION', 'PIPE_SMYS', 'PIPE_MANUFACTURER',\n",
       "       'MANUFACTURED_YEAR', 'INCIDENT_AREA_TYPE',\n",
       "       'UNDER_CATHODIC_PROTECTION_IND', 'CAUSE_DETAILS', 'NARRATIVE'],\n",
       "      dtype='object')"
      ]
     },
     "execution_count": 263,
     "metadata": {},
     "output_type": "execute_result"
    }
   ],
   "source": [
    "df_list[1].columns"
   ]
  },
  {
   "cell_type": "markdown",
   "metadata": {},
   "source": [
    "### - gd_1986_to_2004"
   ]
  },
  {
   "cell_type": "code",
   "execution_count": 239,
   "metadata": {},
   "outputs": [],
   "source": [
    "df_list[9].drop(columns = ['OPJUD', 'STHH', 'STMN', 'TELRN', 'TELRT' ,\n",
    "                           'MPEST', 'NOTIF', 'MARK', 'STAT'],errors='ignore', inplace=True)"
   ]
  },
  {
   "cell_type": "code",
   "execution_count": 240,
   "metadata": {},
   "outputs": [
    {
     "data": {
      "text/plain": [
       "Index(['SIGNIFICANT', 'SERIOUS', 'REPORT_NUMBER', 'OPERATOR_ID', 'NAME',\n",
       "       'LOCATION_STREET_ADDRESS', 'LOCATION_CITY_NAME', 'LOCATION_COUNTY_NAME',\n",
       "       'LOCATION_STATE_ABBREVIATION', 'CLASS_LOCATION_TYPE', 'DTHH',\n",
       "       'LOCAL_DATETIME', 'FATAL', 'INJURE', 'TOTAL_COST', 'TOTAL_COST_IN84',\n",
       "       'TOTAL_COST_CURRENT', 'ACCIDENT_PSIG', 'MOP_PSIG',\n",
       "       'EX_HYDROTEST_PRESSURE', 'CAUSE', 'MAP_CAUSE', 'MAP_SUBCAUSE',\n",
       "       'SYSTEM_PART_DETAILS', 'MATERIAL_INVOLVED', 'PIPE_DIAMETER', 'WT_STEEL',\n",
       "       'PIPE_SPECIFICATION', 'PIPE_MANUFACTURER', 'MANUFACTURED_YEAR',\n",
       "       'INSTALLATION_YEAR', 'INCIDENT_AREA_TYPE',\n",
       "       'UNDER_CATHODIC_PROTECTION_IND', 'CAUSE_DETAILS', 'NARRATIVE'],\n",
       "      dtype='object')"
      ]
     },
     "execution_count": 240,
     "metadata": {},
     "output_type": "execute_result"
    }
   ],
   "source": [
    "df_list[9].columns"
   ]
  },
  {
   "cell_type": "markdown",
   "metadata": {},
   "source": [
    "### - hl_2002_to_2009"
   ]
  },
  {
   "cell_type": "code",
   "execution_count": 241,
   "metadata": {},
   "outputs": [],
   "source": [
    "df_list[3].drop(columns = ['DOR', 'IYEAR', 'SPILLED', 'CLASS_TEXT', 'SPUNIT_TEXT',\n",
    "                           'PEMAIL', 'NFAT', 'GPFAT', 'NINJ', 'GPINJ',\n",
    "                          'IO_DRUG', 'IO_ALCO'],errors='ignore', inplace=True)"
   ]
  },
  {
   "cell_type": "code",
   "execution_count": 242,
   "metadata": {},
   "outputs": [
    {
     "data": {
      "text/plain": [
       "Index(['SIGNIFICANT', 'SERIOUS', 'REPORT_NUMBER', 'OPERATOR_ID', 'NAME',\n",
       "       'DTHH', 'LOCAL_DATETIME', 'LOCATION_LATITUDE', 'LOCATION_LONGITUDE',\n",
       "       'LOCATION_CITY_NAME', 'LOCATION_COUNTY_NAME',\n",
       "       'LOCATION_STATE_ABBREVIATION', 'TOTAL_COST', 'TOTAL_COST_IN84',\n",
       "       'TOTAL_COST_CURRENT', 'COMMODITY_RELEASED_TYPE',\n",
       "       'UNINTENTIONAL_RELEASE_BBLS', 'RECOVERED_BBLS', 'ON_OFF_SHORE', 'FATAL',\n",
       "       'INJURE', 'CAUSE', 'MAP_CAUSE', 'MAP_SUBCAUSE'],\n",
       "      dtype='object')"
      ]
     },
     "execution_count": 242,
     "metadata": {},
     "output_type": "execute_result"
    }
   ],
   "source": [
    "df_list[3].columns"
   ]
  },
  {
   "cell_type": "markdown",
   "metadata": {},
   "source": [
    "### - gtgg_2002_to_2009"
   ]
  },
  {
   "cell_type": "code",
   "execution_count": 275,
   "metadata": {},
   "outputs": [],
   "source": [
    "df_list[6].drop(columns = ['DOR', 'IYEAR', 'OCS', 'HIGHCON',\n",
    "                           'PEMAIL', 'NFAT', 'GPFAT', 'NINJ', 'GPINJ', 'EVAC',\n",
    "                           'EVACNO', 'STHH', 'TELRN', 'TELDT',\n",
    "                          'MAOPSEC1', 'MAOPSEC2', 'MAOPSEC3', 'MAOPSEC4',\n",
    "                           'MAOPSECC', 'OVERPRS', 'PLAS_DUCT', 'PLAS_BRIT',\n",
    "                           'PLAS_JNT', 'TYSYS_TEXT'\n",
    "                          ],errors='ignore', inplace=True)"
   ]
  },
  {
   "cell_type": "code",
   "execution_count": 276,
   "metadata": {},
   "outputs": [
    {
     "data": {
      "text/plain": [
       "Index(['SIGNIFICANT', 'SERIOUS', 'SYSTEM_TYPE', 'REPORT_NUMBER', 'OPERATOR_ID',\n",
       "       'NAME', 'DTHH', 'LOCAL_DATETIME', 'LOCATION_STATE_ABBREVIATION',\n",
       "       'LOCATION_LATITUDE', 'LOCATION_LONGITUDE', 'ON_OFF_SHORE',\n",
       "       'PIPE_FACILITY_TYPE', 'RELEASE_TYPE', 'FATAL', 'INJURE', 'TOTAL_COST',\n",
       "       'TOTAL_COST_IN84', 'TOTAL_COST_CURRENT', 'IGNITE_IND', 'EXPLODE_IND',\n",
       "       'ACCIDENT_PSIG', 'MOP_PSIG', 'SYSTEM_PART_DETAILS', 'MATERIAL_INVOLVED',\n",
       "       'ITEM_INVOLVED', 'INSTALLATION_YEAR', 'PIPE_DIAMETER',\n",
       "       'INCIDENT_AREA_TYPE', 'CAUSE', 'CAUSE_DETAILS', 'MAP_CAUSE',\n",
       "       'MAP_SUBCAUSE', 'NARRATIVE'],\n",
       "      dtype='object')"
      ]
     },
     "execution_count": 276,
     "metadata": {},
     "output_type": "execute_result"
    }
   ],
   "source": [
    "df_list[6].columns"
   ]
  },
  {
   "cell_type": "markdown",
   "metadata": {},
   "source": [
    "### - gd_2004_to_2009"
   ]
  },
  {
   "cell_type": "code",
   "execution_count": 245,
   "metadata": {},
   "outputs": [],
   "source": [
    "df_list[8].drop(columns = ['FF', 'DOR', 'IYEAR', 'OCS', 'HIGHCON',\n",
    "                           'PEMAIL', 'NFAT', 'GPFAT', 'NINJ', 'GPINJ', 'EVAC',\n",
    "                           'EVACNO', 'STHH', 'STMN', 'TELRN', 'TELDT',\n",
    "                           'MAOPEST', 'OVERPRS', 'PLAS_DUCT', 'PLAS_BRIT',\n",
    "                           'PLAS_JNT', 'TYSYS_TEXT', 'NOTIF', 'MARKED', 'PERM_MARK',\n",
    "                           'MKD_IN_TIME', 'PIPE_DAMAGE', 'PRS_TEST' \n",
    "                          ],errors='ignore', inplace=True)"
   ]
  },
  {
   "cell_type": "code",
   "execution_count": 246,
   "metadata": {},
   "outputs": [
    {
     "data": {
      "text/plain": [
       "Index(['SIGNIFICANT', 'SERIOUS', 'REPORT_NUMBER', 'OPERATOR_ID', 'NAME',\n",
       "       'DTHH', 'LOCAL_DATETIME', 'LOCATION_CITY_NAME', 'LOCATION_COUNTY_NAME',\n",
       "       'LOCATION_STATE_ABBREVIATION', 'CLASS_LOCATION_TYPE', 'RELEASE_TYPE',\n",
       "       'FATAL', 'INJURE', 'TOTAL_COST', 'TOTAL_COST_IN84',\n",
       "       'TOTAL_COST_CURRENT', 'IGNITE_IND', 'EXPLODE_IND', 'ACCIDENT_PSIG',\n",
       "       'MOP_PSIG', 'SYSTEM_PART_DETAILS', 'MATERIAL_INVOLVED',\n",
       "       'INCIDENT_AREA_TYPE', 'CAUSE', 'CAUSE_DETAILS', 'MAP_CAUSE',\n",
       "       'MAP_SUBCAUSE', 'NARRATIVE'],\n",
       "      dtype='object')"
      ]
     },
     "execution_count": 246,
     "metadata": {},
     "output_type": "execute_result"
    }
   ],
   "source": [
    "df_list[8].columns"
   ]
  },
  {
   "cell_type": "markdown",
   "metadata": {},
   "source": [
    "### - hl_2010_to_Present"
   ]
  },
  {
   "cell_type": "code",
   "execution_count": 247,
   "metadata": {},
   "outputs": [
    {
     "data": {
      "text/plain": [
       "Index(['SIGNIFICANT', 'SERIOUS', 'REPORT_NUMBER', 'OPERATOR_ID', 'NAME',\n",
       "       'LOCAL_DATETIME', 'LOCATION_LATITUDE', 'LOCATION_LONGITUDE',\n",
       "       'COMMODITY_RELEASED_TYPE', 'UNINTENTIONAL_RELEASE_BBLS',\n",
       "       'RECOVERED_BBLS', 'NET_LOSS_BBLS', 'FATAL', 'INJURE', 'IGNITE_IND',\n",
       "       'EXPLODE_IND', 'ON_OFF_SHORE', 'INCIDENT_AREA_TYPE',\n",
       "       'PIPE_FACILITY_TYPE', 'ITEM_INVOLVED', 'MATERIAL_INVOLVED',\n",
       "       'RELEASE_TYPE', 'TOTAL_COST', 'TOTAL_COST_IN84', 'TOTAL_COST_CURRENT',\n",
       "       'ACCIDENT_PSIG', 'MOP_PSIG', 'CAUSE', 'CAUSE_DETAILS', 'MAP_CAUSE',\n",
       "       'MAP_SUBCAUSE', 'NARRATIVE'],\n",
       "      dtype='object')"
      ]
     },
     "execution_count": 247,
     "metadata": {},
     "output_type": "execute_result"
    }
   ],
   "source": [
    "df_list[2].columns"
   ]
  },
  {
   "cell_type": "markdown",
   "metadata": {},
   "source": [
    "### - gtgg_2010_to_Present"
   ]
  },
  {
   "cell_type": "code",
   "execution_count": 248,
   "metadata": {},
   "outputs": [],
   "source": [
    "df_list[7].drop(columns = ['INCIDENT_AREA_SUBTYPE', 'CLASS_LOCATION_TYPE', 'PIR_RADIUS', \n",
    "                          'HEAT_DAMAGE_IND', 'NON_HEAT_DAMAGE_IND',\n",
    "                           'HCA_FATALITIES_IND', 'EST_COST_INTENT_REL',\n",
    "                           'EST_COST_INTENT_REL_CURRENT',],errors='ignore', inplace=True)"
   ]
  },
  {
   "cell_type": "code",
   "execution_count": 249,
   "metadata": {},
   "outputs": [
    {
     "data": {
      "text/plain": [
       "Index(['SIGNIFICANT', 'SERIOUS', 'SYSTEM_TYPE', 'REPORT_NUMBER', 'OPERATOR_ID',\n",
       "       'NAME', 'LOCAL_DATETIME', 'LOCATION_LATITUDE', 'LOCATION_LONGITUDE',\n",
       "       'COMMODITY_RELEASED_TYPE', 'UNINTENTIONAL_RELEASE_BBLS',\n",
       "       'ACCOMPANYING_LIQUID', 'FATAL', 'INJURE', 'IGNITE_IND', 'EXPLODE_IND',\n",
       "       'ON_OFF_SHORE', 'INCIDENT_AREA_TYPE', 'PIPE_FACILITY_TYPE',\n",
       "       'ITEM_INVOLVED', 'INSTALLATION_YEAR', 'MATERIAL_INVOLVED',\n",
       "       'RELEASE_TYPE', 'TOTAL_COST', 'TOTAL_COST_IN84', 'TOTAL_COST_CURRENT',\n",
       "       'ACCIDENT_PSIG', 'MOP_PSIG', 'CAUSE', 'CAUSE_DETAILS', 'MAP_CAUSE',\n",
       "       'MAP_SUBCAUSE', 'NARRATIVE'],\n",
       "      dtype='object')"
      ]
     },
     "execution_count": 249,
     "metadata": {},
     "output_type": "execute_result"
    }
   ],
   "source": [
    "df_list[7].columns"
   ]
  },
  {
   "cell_type": "markdown",
   "metadata": {},
   "source": [
    "### - gd_2010_to_Present"
   ]
  },
  {
   "cell_type": "code",
   "execution_count": 250,
   "metadata": {},
   "outputs": [],
   "source": [
    "df_list[5].drop(columns = ['FF','CLASS_LOCATION_TYPE', 'INCIDENT_AREA_SUBTYPE', 'EST_COST_UNINTENTIONAL_RELEASE',\n",
    "                           'EST_COST_UNINTENT_REL_CURRENT', 'EST_COST_INTENT_REL_CURRENT', 'COMMERCIAL_AFFECTED',\n",
    "                           'INDUSTRIAL_AFFECTED','RESIDENCES_AFFECTED'],errors='ignore', inplace=True)"
   ]
  },
  {
   "cell_type": "code",
   "execution_count": 251,
   "metadata": {},
   "outputs": [
    {
     "data": {
      "text/plain": [
       "Index(['SIGNIFICANT', 'SERIOUS', 'REPORT_NUMBER', 'OPERATOR_ID', 'NAME',\n",
       "       'LOCAL_DATETIME', 'LOCATION_STREET_ADDRESS', 'LOCATION_CITY_NAME',\n",
       "       'LOCATION_COUNTY_NAME', 'LOCATION_STATE_ABBREVIATION',\n",
       "       'LOCATION_LATITUDE', 'LOCATION_LONGITUDE', 'COMMODITY_RELEASED_TYPE',\n",
       "       'UNINTENTIONAL_RELEASE_BBLS', 'FATAL', 'INJURE', 'IGNITE_IND',\n",
       "       'EXPLODE_IND', 'INCIDENT_AREA_TYPE', 'PIPE_FACILITY_TYPE',\n",
       "       'INSTALLATION_YEAR', 'MATERIAL_INVOLVED', 'RELEASE_TYPE', 'TOTAL_COST',\n",
       "       'TOTAL_COST_IN84', 'TOTAL_COST_CURRENT', 'ACCIDENT_PSIG', 'NORMAL_PSIG',\n",
       "       'MOP_PSIG', 'CAUSE', 'CAUSE_DETAILS', 'MAP_CAUSE', 'MAP_SUBCAUSE',\n",
       "       'NARRATIVE'],\n",
       "      dtype='object')"
      ]
     },
     "execution_count": 251,
     "metadata": {},
     "output_type": "execute_result"
    }
   ],
   "source": [
    "df_list[5].columns"
   ]
  },
  {
   "cell_type": "markdown",
   "metadata": {},
   "source": [
    "### - LNG_2010_to_Present"
   ]
  },
  {
   "cell_type": "code",
   "execution_count": 252,
   "metadata": {},
   "outputs": [],
   "source": [
    "df_list[4].drop(columns = ['UNINTENTIONAL_RELEASE_IND','INTENTIONAL_RELEASE_IND', 'EMERGENCY_SHUTDOWN_IND',\n",
    "                           'RESULTED_FROM_OTHER_IND', 'NUM_OPER_AND_CONTRACTOR_EVAC',\n",
    "                          'FACILITY_STATUS', 'FACILITY_LIQUID_VAPOR_RATE', 'FACILITY_NUM_VAPORIZERS',\n",
    "                           'FACILITY_TOTAL_CAPACITY', 'FACILITY_SOURCE_LIQUEFY_IND',\n",
    "                           'FACILITY_NUMBER_TANKS', 'FACILITY_VOLUME_STORAGE',\n",
    "                           'EST_COST_INTENTIONAL_RELEASE', 'EST_COST_INTENT_REL_CURRENT',\n",
    "                           'CCS_IN_PLACE_IND', 'CCS_OPERATING_IND', 'CCS_FUNCTIONAL_IND',\n",
    "                          ],errors='ignore', inplace=True)"
   ]
  },
  {
   "cell_type": "code",
   "execution_count": 253,
   "metadata": {},
   "outputs": [
    {
     "data": {
      "text/plain": [
       "Index(['SIGNIFICANT', 'SERIOUS', 'REPORT_NUMBER', 'OPERATOR_ID', 'NAME',\n",
       "       'LOCAL_DATETIME', 'COMMODITY_RELEASED_TYPE', 'FATAL', 'INJURE',\n",
       "       'IGNITE_IND', 'EXPLODE_IND', 'LOCATION_CITY_NAME',\n",
       "       'LOCATION_STATE_ABBREVIATION', 'PIPE_FACILITY_TYPE', 'ITEM_INVOLVED',\n",
       "       'TOTAL_COST', 'TOTAL_COST_IN84', 'TOTAL_COST_CURRENT', 'CAUSE',\n",
       "       'CAUSE_DETAILS', 'MAP_CAUSE', 'MAP_SUBCAUSE', 'NARRATIVE'],\n",
       "      dtype='object')"
      ]
     },
     "execution_count": 253,
     "metadata": {},
     "output_type": "execute_result"
    }
   ],
   "source": [
    "df_list[4].columns"
   ]
  },
  {
   "cell_type": "markdown",
   "metadata": {},
   "source": [
    "### 6. Concatenate Datasets"
   ]
  },
  {
   "cell_type": "code",
   "execution_count": 264,
   "metadata": {},
   "outputs": [
    {
     "data": {
      "text/plain": [
       "(18693, 52)"
      ]
     },
     "execution_count": 264,
     "metadata": {},
     "output_type": "execute_result"
    }
   ],
   "source": [
    "mergedStuff = pd.concat(df_list , ignore_index=True)\n",
    "mergedStuff.shape"
   ]
  },
  {
   "cell_type": "code",
   "execution_count": 265,
   "metadata": {},
   "outputs": [
    {
     "data": {
      "text/plain": [
       "SIGNIFICANT                          0\n",
       "SERIOUS                              0\n",
       "REPORT_NUMBER                        0\n",
       "OPERATOR_ID                          0\n",
       "NAME                                 0\n",
       "PIPE_FACILITY_TYPE                7648\n",
       "LOCAL_DATETIME                       0\n",
       "DTHH                              6972\n",
       "LOCATION_STATE_ABBREVIATION       5726\n",
       "LOCATION_COUNTY_NAME              6779\n",
       "LOCATION_CITY_NAME                6755\n",
       "ON_OFF_SHORE                      4576\n",
       "ITEM_INVOLVED                     7582\n",
       "INSTALLATION_YEAR                 8306\n",
       "CAUSE                                0\n",
       "MAP_CAUSE                            0\n",
       "MAP_SUBCAUSE                         0\n",
       "FATAL                                0\n",
       "INJURE                               0\n",
       "TOTAL_COST                           0\n",
       "TOTAL_COST_IN84                      0\n",
       "TOTAL_COST_CURRENT                   0\n",
       "COMMODITY_RELEASED_TYPE           5647\n",
       "CLASS_LOCATION_TYPE              11031\n",
       "UNINTENTIONAL_RELEASE_BBLS        5671\n",
       "RECOVERED_BBLS                    8262\n",
       "IGNITE_IND                        6753\n",
       "EXPLODE_IND                       6753\n",
       "PIPE_DIAMETER                    10897\n",
       "WT_STEEL                         11926\n",
       "PIPE_SMYS                        14361\n",
       "ACCIDENT_PSIG                     3054\n",
       "UNDER_CATHODIC_PROTECTION_IND    11926\n",
       "CORROSION_TYPE                   15649\n",
       "CAUSE_DETAILS                     3030\n",
       "NARRATIVE                         3030\n",
       "SYSTEM_TYPE                      15007\n",
       "RELEASE_TYPE                      8533\n",
       "MOP_PSIG                          6098\n",
       "EX_HYDROTEST_PRESSURE            14970\n",
       "SYSTEM_PART_DETAILS              13046\n",
       "MATERIAL_INVOLVED                 6098\n",
       "PIPE_SPECIFICATION               14970\n",
       "PIPE_MANUFACTURER                14970\n",
       "MANUFACTURED_YEAR                14970\n",
       "INCIDENT_AREA_TYPE                6098\n",
       "LOCATION_LATITUDE                 7686\n",
       "LOCATION_LONGITUDE                7686\n",
       "NET_LOSS_BBLS                    14336\n",
       "LOCATION_STREET_ADDRESS          15036\n",
       "NORMAL_PSIG                      17471\n",
       "ACCOMPANYING_LIQUID              17324\n",
       "dtype: int64"
      ]
     },
     "execution_count": 265,
     "metadata": {},
     "output_type": "execute_result"
    }
   ],
   "source": [
    "mergedStuff.isna().sum()"
   ]
  },
  {
   "cell_type": "code",
   "execution_count": null,
   "metadata": {},
   "outputs": [],
   "source": []
  }
 ],
 "metadata": {
  "kernelspec": {
   "display_name": "Python [conda env:ironhack_env]",
   "language": "python",
   "name": "conda-env-ironhack_env-py"
  },
  "language_info": {
   "codemirror_mode": {
    "name": "ipython",
    "version": 3
   },
   "file_extension": ".py",
   "mimetype": "text/x-python",
   "name": "python",
   "nbconvert_exporter": "python",
   "pygments_lexer": "ipython3",
   "version": "3.8.8"
  }
 },
 "nbformat": 4,
 "nbformat_minor": 4
}
