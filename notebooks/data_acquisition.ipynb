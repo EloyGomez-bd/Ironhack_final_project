{
 "cells": [
  {
   "cell_type": "code",
   "execution_count": 1,
   "metadata": {},
   "outputs": [],
   "source": [
    "import os \n",
    "import pandas as pd\n",
    "import numpy as np\n",
    "from datetime import datetime"
   ]
  },
  {
   "cell_type": "markdown",
   "metadata": {},
   "source": [
    "## Obtaining Data"
   ]
  },
  {
   "cell_type": "code",
   "execution_count": 2,
   "metadata": {},
   "outputs": [],
   "source": [
    "path = '../data/raw/'"
   ]
  },
  {
   "cell_type": "code",
   "execution_count": 3,
   "metadata": {},
   "outputs": [],
   "source": [
    "def df_classifier(path,service,sheet):\n",
    "    \n",
    "    df_list =[]\n",
    "    \n",
    "    for root, dirs, files in os.walk(path):\n",
    "        \n",
    "        for filename in files:\n",
    "            \n",
    "            if filename.startswith(service):\n",
    "                \n",
    "                df_list.append(pd.read_excel(f'{path}{filename}', sheet_name=sheet))\n",
    "            \n",
    "                print(filename)\n",
    "                \n",
    "            elif service == 'all':\n",
    "                \n",
    "                df_list.append(pd.read_excel(f'{path}{filename}', sheet_name=sheet))\n",
    "                \n",
    "                print(filename)\n",
    "                \n",
    "    return df_list"
   ]
  },
  {
   "cell_type": "code",
   "execution_count": 4,
   "metadata": {},
   "outputs": [
    {
     "name": "stdout",
     "output_type": "stream",
     "text": [
      "hl1986to2001.xlsx\n",
      "gtgg1986to2001.xlsx\n",
      "hl2010toPresent.xlsx\n",
      "hl2002to2009.xlsx\n",
      "lng2011toPresent.xlsx\n",
      "gd2010toPresent.xlsx\n",
      "gtgg2002to2009.xlsx\n",
      "gtggungs2010toPresent.xlsx\n",
      "gdmar2004to2009.xlsx\n",
      "gd1986tofeb2004.xlsx\n"
     ]
    }
   ],
   "source": [
    "df_list = df_classifier(path, 'all', 1)"
   ]
  },
  {
   "cell_type": "markdown",
   "metadata": {},
   "source": [
    "## Cleaning Data"
   ]
  },
  {
   "cell_type": "markdown",
   "metadata": {},
   "source": [
    "### 0. Previous modifications before removing nan columns"
   ]
  },
  {
   "cell_type": "code",
   "execution_count": 5,
   "metadata": {},
   "outputs": [],
   "source": [
    "# Fix locations of datesets hl2010toPresent and gtggungs2010toPresent\n",
    "\n",
    "list_index = [2, 7]\n",
    "\n",
    "for i in list_index:\n",
    "    \n",
    "    df_list[i].ONSHORE_CITY_NAME.fillna('', inplace=True)\n",
    "    df_list[i].OFF_ACCIDENT_ORIGIN.fillna('', inplace=True)\n",
    "    df_list[i].ONSHORE_COUNTY_NAME.fillna('', inplace=True)\n",
    "    df_list[i].OFFSHORE_COUNTY_NAME.fillna('', inplace=True)\n",
    "    df_list[i].ONSHORE_STATE_ABBREVIATION.fillna('', inplace=True)\n",
    "    df_list[i].OFFSHORE_STATE_ABBREVIATION.fillna('', inplace=True)\n",
    "    \n",
    "    df_list[i]['LOCATION_CITY_NAME'] = df_list[i].apply(lambda x: \n",
    "                                                 x.ONSHORE_CITY_NAME + x.OFF_ACCIDENT_ORIGIN, axis=1)\n",
    "    df_list[i]['LOCATION_COUNTY_NAME'] = df_list[i].apply(lambda x: \n",
    "                                                 x.ONSHORE_COUNTY_NAME + x.OFFSHORE_COUNTY_NAME, axis=1)\n",
    "    df_list[i]['LOCATION_STATE_ABBREVIATION'] = df_list[i].apply(lambda x: \n",
    "                                                 x.ONSHORE_STATE_ABBREVIATION + x.OFFSHORE_STATE_ABBREVIATION, axis=1)"
   ]
  },
  {
   "cell_type": "code",
   "execution_count": 6,
   "metadata": {},
   "outputs": [],
   "source": [
    "# Fix FATAL and INJURIES columns\n",
    "\n",
    "for df in df_list:\n",
    "    \n",
    "    if 'FATAL' in df:\n",
    "    \n",
    "        df['FATAL'].fillna(0, inplace = True)\n",
    "        \n",
    "    if 'INJURE' in df:\n",
    "        \n",
    "        df['INJURE'].fillna(0, inplace = True)"
   ]
  },
  {
   "cell_type": "code",
   "execution_count": 7,
   "metadata": {},
   "outputs": [],
   "source": [
    "df_list[3]['INC_PRS'].fillna(0, inplace=True)"
   ]
  },
  {
   "cell_type": "markdown",
   "metadata": {},
   "source": [
    "### 1. Fixing Datetime Column"
   ]
  },
  {
   "cell_type": "code",
   "execution_count": 8,
   "metadata": {},
   "outputs": [],
   "source": [
    "def time(df_column):\n",
    "    \n",
    "    return pd.to_datetime(df_column, format=\"%Y-%m-%d %H:%M:%S\")"
   ]
  },
  {
   "cell_type": "code",
   "execution_count": 9,
   "metadata": {},
   "outputs": [],
   "source": [
    "for df in df_list:\n",
    "    \n",
    "    df.rename(columns={'IHOUR' : 'DTHH'}, inplace=True)\n",
    "    \n",
    "    if 'DTHH' in df:\n",
    "        \n",
    "        if df['DTHH'].dtype == 'object':\n",
    "            \n",
    "            # It seems there are some rows with 'spaces' we need to feel to convert the column to integer\n",
    "\n",
    "            df.loc[df['DTHH'].str.contains(r'\\s+') == True, ['DTHH']] = '0000'\n",
    "        \n",
    "        df['DTHH'].fillna(0, inplace = True)\n",
    "    \n",
    "        df['DTHH'] = df['DTHH'].astype('int64')\n",
    "        \n",
    "        # Check that there are no times above 2400\n",
    "\n",
    "        df.loc[df['DTHH'] >= 2400, ['DTHH']] = 0\n",
    "        \n",
    "        # Convert column to string\n",
    "\n",
    "        df['DTHH'] = df['DTHH'].astype('str')\n",
    "\n",
    "        # Add leading zeros\n",
    "\n",
    "        df['DTHH'] = df.apply(lambda x: x.DTHH.zfill(4), axis=1)\n",
    "\n",
    "        # Add trailing zeros\n",
    "\n",
    "        df['DTHH'] = df.apply(lambda x: x.DTHH.ljust(6, '0'), axis=1)\n",
    "\n",
    "        # And insert colon in the date to fit the format\n",
    "\n",
    "        df['DTHH'] = df.apply(lambda x: ':'.join(x['DTHH'][i:i+2] for i in range(0, len(x['DTHH']), 2)), axis=1)\n",
    "\n",
    "        df['LOCAL_DATETIME'] = df['IDATE'].astype('str').str.cat(df['DTHH'],sep=\" \")\n",
    "        \n",
    "        df.drop(df[df['LOCAL_DATETIME'] == '1998-09-17 01:63:00'].index, inplace = True)"
   ]
  },
  {
   "cell_type": "code",
   "execution_count": 10,
   "metadata": {},
   "outputs": [],
   "source": [
    "# Apply Time Function\n",
    "\n",
    "for df in df_list:\n",
    "    \n",
    "    if df['LOCAL_DATETIME'].dtype == 'object':\n",
    "    \n",
    "        df['LOCAL_DATETIME'] = df.apply(lambda x: time(x.LOCAL_DATETIME), axis=1)"
   ]
  },
  {
   "cell_type": "markdown",
   "metadata": {},
   "source": [
    "### 2. Drop columns with high nan percentage"
   ]
  },
  {
   "cell_type": "code",
   "execution_count": 11,
   "metadata": {},
   "outputs": [],
   "source": [
    "def nan_removal(df, percentage):\n",
    "\n",
    "    nan_values = df.isna().sum()\n",
    "        \n",
    "    nan_percentage = nan_values / len(df) * 100\n",
    "        \n",
    "    filter_nan_percentage = nan_percentage > percentage\n",
    "    \n",
    "    high_nan_columns = df.columns[filter_nan_percentage].to_list()\n",
    "    \n",
    "    return df.drop(columns=high_nan_columns, inplace=True)"
   ]
  },
  {
   "cell_type": "markdown",
   "metadata": {},
   "source": [
    "### 3. Renaming of variables to be used."
   ]
  },
  {
   "cell_type": "code",
   "execution_count": 12,
   "metadata": {},
   "outputs": [],
   "source": [
    "for df in df_list:\n",
    "    \n",
    "    df.rename(columns={'ACCTY' : 'LOCATION_CITY_NAME',\n",
    "                       'FACILITY_NAME' : 'LOCATION_CITY_NAME',\n",
    "                       'ACCITY' : 'LOCATION_CITY_NAME',\n",
    "                      'ACCNT' : 'LOCATION_COUNTY_NAME',\n",
    "                       'ACCOUNTY' : 'LOCATION_COUNTY_NAME',\n",
    "                       'ACCST' : 'LOCATION_STATE_ABBREVIATION',\n",
    "                       'ACSTATE' : 'LOCATION_STATE_ABBREVIATION',\n",
    "                       'FACILITY_STATE' : 'LOCATION_STATE_ABBREVIATION',\n",
    "                       'ACZIP' : 'LOCATION_POSTAL_CODE',\n",
    "                       'LATITUDE' : 'LOCATION_LATITUDE',\n",
    "                       'LONGITUDE' : 'LOCATION_LONGITUDE',\n",
    "                       'FACILITY_LATITUDE' : 'LOCATION_LATITUDE',\n",
    "                       'FACILITY_LONGITUDE' : 'LOCATION_LONGITUDE',\n",
    "                       'RPTID' : 'REPORT_NUMBER',\n",
    "                       'INADR' : 'LOCATION_STREET_ADDRESS',\n",
    "                       'CLASS' : 'CLASS_LOCATION_TYPE',\n",
    "                       'COMM' : 'COMMODITY_RELEASED_TYPE',\n",
    "                       'CSYS' : 'SYSTEM_PART_INVOLVED',\n",
    "                       'OFFSHORE' : 'ON_OFF_SHORE',\n",
    "                       'SHORE' : 'ON_OFF_SHORE',\n",
    "                       'OFFSHORE_TEXT' : 'ON_OFF_SHORE',\n",
    "                      'OPID' : 'OPERATOR_ID',\n",
    "                      'IFED' : 'FEDERAL',\n",
    "                       'INTER_INTRA':'PIPE_FACILITY_TYPE',\n",
    "                       'INTER_TEXT' : 'PIPE_FACILITY_TYPE',\n",
    "                       'INTER' : 'PIPE_FACILITY_TYPE',\n",
    "                       'TFAT' : 'FATAL',\n",
    "                       'EFAT' : 'NUM_EMP_FATALITIES',\n",
    "                       'FAT' : 'FATAL',\n",
    "                       'TINJ' : 'INJURE',\n",
    "                       'EINJ' : 'NUM_EMP_INJURIES',\n",
    "                       'INJ' : 'INJURE',\n",
    "                       'ACPRS' : 'ACCIDENT_PSIG',\n",
    "                       'INPRS' : 'ACCIDENT_PSIG',\n",
    "                       'INC_PRS' : 'ACCIDENT_PSIG',\n",
    "                       'MAOP' : 'MOP_PSIG',\n",
    "                       'MXPRS' : 'MOP_PSIG',\n",
    "                       'DSPRS' : 'MOP_PSIG',\n",
    "                       'PRTST' : 'MOP_CFR_SECTION',\n",
    "                       'TEST' : 'EX_HYDROTEST_PRESSURE',\n",
    "                       'PRTLK' : 'CUSTOMER_TYPE',\n",
    "                       'MLKD' : 'MATERIAL_INVOLVED',\n",
    "                       'MLKD_TEXT' : 'MATERIAL_INVOLVED',\n",
    "                       'NMDIA' : 'PIPE_DIAMETER',\n",
    "                       'NPS' : 'PIPE_DIAMETER',\n",
    "                       'THK' : 'WT_STEEL',\n",
    "                       'SPEC' : 'PIPE_SPECIFICATION',\n",
    "                       'PRTYR' : 'INSTALLATION_YEAR',\n",
    "                       'ITMYR' : 'INSTALLATION_YEAR',\n",
    "                       'MANYR' : 'MANUFACTURED_YEAR',\n",
    "                       'MANU' : 'PIPE_MANUFACTURER',\n",
    "                       'LOCLK' : 'INCIDENT_AREA_TYPE',\n",
    "                       'LOCLK_TEXT' : 'INCIDENT_AREA_TYPE',\n",
    "                       'PNAME' : 'PREPARER_NAME',\n",
    "                       'PHONE' : 'PREPARER_PHONE',\n",
    "                       'PPHONE' : 'PREPARER_PHONE',\n",
    "                       'PROT' : 'UNDER_CATHODIC_PROTECTION_IND',\n",
    "                       'FACAT' : 'UNDER_CATHODIC_PROTECTION_IND',\n",
    "                       'CAULK' : 'CAUSE_DETAILS',\n",
    "                       'ITYPE' : 'RELEASE_TYPE',\n",
    "                       'LRTYPE_TEXT' : 'RELEASE_TYPE',\n",
    "                       'ORGLK' : 'ITEM_INVOLVED',\n",
    "                       'PRTSY_TEXT' : 'ITEM_INVOLVED',\n",
    "                       'PRTSY' : 'ITEM_INVOLVED',\n",
    "                       'PRTFL' : 'SYSTEM_PART_DETAILS',\n",
    "                       'PRTFL_TEXT' : 'SYSTEM_PART_DETAILS',\n",
    "                       'LOSS' : 'UNINTENTIONAL_RELEASE_BBLS',\n",
    "                       'RECOV' : 'RECOVERED_BBLS',\n",
    "                       'FIRE' : 'IGNITE_IND',\n",
    "                       'IGNITE' : 'IGNITE_IND',\n",
    "                       'EXP' : 'EXPLODE_IND',\n",
    "                       'EXPLO' : 'EXPLODE_IND',\n",
    "                       'SMYS' : 'PIPE_SMYS',\n",
    "                       'CORRO' : 'CORROSION_TYPE',\n",
    "                       'UNINTENTIONAL_RELEASE' : 'UNINTENTIONAL_RELEASE_BBLS'\n",
    "                      }, inplace=True)"
   ]
  },
  {
   "cell_type": "markdown",
   "metadata": {},
   "source": [
    "### 4. Fill nan values and remove useless columns"
   ]
  },
  {
   "cell_type": "code",
   "execution_count": 13,
   "metadata": {},
   "outputs": [],
   "source": [
    "def nan_col_selection(df):\n",
    "    \n",
    "    return df.columns[df.isna().any()].tolist()"
   ]
  },
  {
   "cell_type": "code",
   "execution_count": 14,
   "metadata": {},
   "outputs": [],
   "source": [
    "def fillna_num_col(df, column_list):\n",
    "    \n",
    "    return df[column_list].select_dtypes(include=['float64', 'int64']).fillna(0)"
   ]
  },
  {
   "cell_type": "code",
   "execution_count": 15,
   "metadata": {},
   "outputs": [],
   "source": [
    "def fillna_cat_col(df, column_list):\n",
    "    \n",
    "    return df[column_list].select_dtypes(exclude=['float64', 'int64']).fillna('NO DATA')"
   ]
  },
  {
   "cell_type": "code",
   "execution_count": 16,
   "metadata": {},
   "outputs": [],
   "source": [
    "def df_clean(df, df_cat, df_num):\n",
    "    \n",
    "    for column in df_cat.columns:\n",
    "    \n",
    "        df[column] = df_cat[column]\n",
    "    \n",
    "    for column in df_num.columns:\n",
    "    \n",
    "        df[column] = df_num[column]\n",
    "        \n",
    "    return df"
   ]
  },
  {
   "cell_type": "code",
   "execution_count": 17,
   "metadata": {},
   "outputs": [],
   "source": [
    "for df in df_list:\n",
    "    \n",
    "    df.drop(columns=[\n",
    "                        'DATAFILE_AS_OF','OPSTREET', 'OPCITY', 'OPCOUNTY', 'OPSTATE',\n",
    "                       'OPZIP', 'PPPRP', 'PPPRPCURRENT', 'EMRPRP', 'ACSTREET',\n",
    "                       'EMRPRPCURRENT', 'ENVPRP', 'ENVPRPCURRENT', 'OPCPRP', 'OPCPRPCURRENT',\n",
    "                       'PRODPRP', 'PRODPRPCURRENT', 'OOPRP', 'OOPRPCURRENT', 'OOPPRP', 'GASPRP',\n",
    "                       'GASPRPCURRENT', 'OPPRP', 'OPPRPCURRENT', 'NUM_EMP_FATALITIES',\n",
    "                       'OOPPRPCURRENT', 'IPE', 'IA_IPE', 'OM_IPE', 'NUM_EMP_INJURIES',\n",
    "                        'SUPPLEMENTAL_NUMBER', 'REPORT_RECEIVED_DATE', 'REPORT_TYPE',\n",
    "                        'OPERATOR_STREET_ADDRESS', 'OPERATOR_CITY_NAME', 'CUSTOMER_TYPE',\n",
    "                        'OPERATOR_STATE_ABBREVIATION', 'OPERATOR_POSTAL_CODE', 'IYEAR',\n",
    "                        'LOCATION_POSTAL_CODE', 'ONSHORE_POSTAL_CODE', \n",
    "                        'ONSHORE_CITY_NAME', 'OFF_ACCIDENT_ORIGIN', 'ONSHORE_COUNTY_NAME', \n",
    "                        'OFFSHORE_COUNTY_NAME', 'ONSHORE_STATE_ABBREVIATION', 'OFFSHORE_STATE_ABBREVIATION',\n",
    "                        'EST_COST_OPER_PAID','EST_COST_OPER_PAID_CURRENT', 'EST_COST_GAS_RELEASED',\n",
    "                       'EST_COST_GAS_RELEASED_CURRENT', 'EST_COST_PROP_DAMAGE',\n",
    "                       'EST_COST_PROP_DAMAGE_CURRENT', 'EST_COST_EMERGENCY',\n",
    "                       'EST_COST_EMERGENCY_CURRENT', 'EST_COST_ENVIRONMENTAL', 'IDATE', 'DTHH',\n",
    "                       'EST_COST_ENVIRONMENTAL_CURRENT', 'EST_COST_OTHER',\n",
    "                       'EST_COST_OTHER_CURRENT', 'CORLC', 'EXT_INT_CORROSION',\n",
    "                        'PREPARER_NAME', 'PREPARER_TITLE', 'PREPARER_EMAIL','PREPARER_PHONE',\n",
    "                       'PREPARER_TELEPHONE', 'PREPARED_DATE', 'AUTHORIZER_NAME',\n",
    "                       'AUTHORIZER_TITLE', 'AUTHORIZER_TELEPHONE', 'AUTHORIZER_EMAIL', 'FATALITY_IND',\n",
    "                        'INJURY_IND','SHUTDOWN_DUE_ACCIDENT_IND', 'INCIDENT_IDENTIFIED_DATETIME',\n",
    "                           'ON_SITE_DATETIME', 'DESIGNATED_NAME', 'NUM_PUB_EVACUATED',\n",
    "                           'PIPE_FAC_NAME', 'SEGMENT_NAME', 'FEDERAL', 'LOCATION_TYPE', \n",
    "                           'CROSSING','SYSTEM_PART_INVOLVED', 'DESIGNATED_LOCATION', 'WILDLIFE_IMPACT_IND',\n",
    "                           'SOIL_CONTAMINATION','LONG_TERM_ASSESSMENT', 'REMEDIATION_IND', \n",
    "                           'WATER_CONTAM_IND', 'COULD_BE_HCA', 'COMMODITY_REACHED_HCA', 'ACCIDENT_PRESSURE',\n",
    "                           'PRESSURE_RESTRICTION_IND', 'PART_C_QUESTION_2_IND', 'PIPELINE_FUNCTION', 'SCADA_IN_PLACE_IND', 'CPM_IN_PLACE_IND',\n",
    "                           'ACCIDENT_IDENTIFIER', 'INVESTIGATION_STATUS', 'EMPLOYEE_DRUG_TEST_IND',\n",
    "                            'CONTRACTOR_DRUG_TEST_IND','SPILL_TYPE_CATEGORY', 'MOP_CFR_SECTION',\n",
    "                           'SCADA_OPERATING_IND', 'SCADA_FUNCTIONAL_IND', 'SCADA_DETECTION_IND',\n",
    "                           'SCADA_CONF_IND','NRC_RPT_NUM', 'NRC_RPT_DATETIME', 'INTENTIONAL_RELEASE'\n",
    "                          ],errors='ignore', inplace=True)\n",
    "    \n",
    "    nan_removal(df, 20)\n",
    "    \n",
    "    df_clean(df, fillna_cat_col(df, nan_col_selection(df)), fillna_num_col(df, nan_col_selection(df)))"
   ]
  },
  {
   "cell_type": "markdown",
   "metadata": {},
   "source": [
    "### 5. Selecting variables"
   ]
  },
  {
   "cell_type": "markdown",
   "metadata": {},
   "source": [
    "### - hl_1986_to_2001"
   ]
  },
  {
   "cell_type": "code",
   "execution_count": 18,
   "metadata": {},
   "outputs": [],
   "source": [
    "df_list[0].drop(columns = ['COOR', 'SPLOC', 'TELRN', 'ORGLO',\n",
    "                          'CAUSO', 'NFAT', 'NINJ', 'CORR', 'PREVT',\n",
    "                          'JNT', 'MOP_PSIG', 'DUR', 'CAULO', 'TMPMK',\n",
    "                          'FACTD', 'ONECL', 'ONEOT', 'EXCAL'],errors='ignore', inplace=True)"
   ]
  },
  {
   "cell_type": "code",
   "execution_count": 19,
   "metadata": {},
   "outputs": [],
   "source": [
    "df_list[0].PIPE_FACILITY_TYPE.replace(['YES', 'NO'],['INTERSTATE', 'INTRASTATE'], inplace=True)"
   ]
  },
  {
   "cell_type": "code",
   "execution_count": 20,
   "metadata": {},
   "outputs": [],
   "source": [
    "df_list[0].ON_OFF_SHORE.replace(['YES', 'NO'],['OFFSHORE', 'ONSHORE'], inplace=True)"
   ]
  },
  {
   "cell_type": "code",
   "execution_count": 21,
   "metadata": {},
   "outputs": [
    {
     "data": {
      "text/plain": [
       "Index(['SIGNIFICANT', 'SERIOUS', 'REPORT_NUMBER', 'OPERATOR_ID', 'NAME',\n",
       "       'PIPE_FACILITY_TYPE', 'LOCATION_STATE_ABBREVIATION',\n",
       "       'LOCATION_COUNTY_NAME', 'LOCATION_CITY_NAME', 'ON_OFF_SHORE',\n",
       "       'ITEM_INVOLVED', 'INSTALLATION_YEAR', 'CAUSE', 'MAP_CAUSE',\n",
       "       'MAP_SUBCAUSE', 'FATAL', 'INJURE', 'TOTAL_COST', 'TOTAL_COST_IN84',\n",
       "       'TOTAL_COST_CURRENT', 'COMMODITY_RELEASED_TYPE', 'CLASS_LOCATION_TYPE',\n",
       "       'UNINTENTIONAL_RELEASE_BBLS', 'RECOVERED_BBLS', 'IGNITE_IND',\n",
       "       'EXPLODE_IND', 'PIPE_DIAMETER', 'WT_STEEL', 'PIPE_SMYS',\n",
       "       'ACCIDENT_PSIG', 'UNDER_CATHODIC_PROTECTION_IND', 'CORROSION_TYPE',\n",
       "       'CAUSE_DETAILS', 'NARRATIVE', 'LOCAL_DATETIME'],\n",
       "      dtype='object')"
      ]
     },
     "execution_count": 21,
     "metadata": {},
     "output_type": "execute_result"
    }
   ],
   "source": [
    "df_list[0].columns"
   ]
  },
  {
   "cell_type": "markdown",
   "metadata": {},
   "source": [
    "### - gtgg_1986_to_2001"
   ]
  },
  {
   "cell_type": "code",
   "execution_count": 22,
   "metadata": {},
   "outputs": [],
   "source": [
    "df_list[1].drop(columns = ['MPOST', 'SURVY', 'OFFAREA', 'BNUMB',\n",
    "                          'OFFST', 'OCS', 'OPJUD', 'STHH',\n",
    "                          'STMN', 'TELRN', 'TELRT', 'MPEST', 'PRTFO',\n",
    "                          'PRTSY', 'PRTSO', 'SEAM', 'LOCLO', 'DESCO',\n",
    "                            'CAUCO', 'DMGO', 'NOTIF', 'MARK', 'MRKTP',\n",
    "                          'CAULO', 'STAT', 'CTEST', 'MEDO', 'MLKDO'], errors='ignore', inplace=True)"
   ]
  },
  {
   "cell_type": "code",
   "execution_count": 23,
   "metadata": {},
   "outputs": [],
   "source": [
    "df_list[1].ON_OFF_SHORE.replace(['YES', 'NO'],['OFFSHORE', 'ONSHORE'], inplace=True)"
   ]
  },
  {
   "cell_type": "code",
   "execution_count": 24,
   "metadata": {},
   "outputs": [],
   "source": [
    "df_list[1].COMMODITY_RELEASED_TYPE = 'NATURAL GAS'"
   ]
  },
  {
   "cell_type": "code",
   "execution_count": 25,
   "metadata": {},
   "outputs": [
    {
     "data": {
      "text/plain": [
       "Index(['SIGNIFICANT', 'SERIOUS', 'SYSTEM_TYPE', 'REPORT_NUMBER', 'OPERATOR_ID',\n",
       "       'NAME', 'LOCATION_CITY_NAME', 'LOCATION_COUNTY_NAME',\n",
       "       'LOCATION_STATE_ABBREVIATION', 'CLASS_LOCATION_TYPE', 'ON_OFF_SHORE',\n",
       "       'RELEASE_TYPE', 'FATAL', 'INJURE', 'TOTAL_COST', 'TOTAL_COST_IN84',\n",
       "       'TOTAL_COST_CURRENT', 'ACCIDENT_PSIG', 'MOP_PSIG',\n",
       "       'EX_HYDROTEST_PRESSURE', 'CAUSE', 'MAP_CAUSE', 'MAP_SUBCAUSE',\n",
       "       'SYSTEM_PART_DETAILS', 'MATERIAL_INVOLVED', 'ITEM_INVOLVED',\n",
       "       'INSTALLATION_YEAR', 'PIPE_DIAMETER', 'WT_STEEL', 'PIPE_SPECIFICATION',\n",
       "       'PIPE_SMYS', 'PIPE_MANUFACTURER', 'MANUFACTURED_YEAR',\n",
       "       'INCIDENT_AREA_TYPE', 'UNDER_CATHODIC_PROTECTION_IND', 'CAUSE_DETAILS',\n",
       "       'NARRATIVE', 'LOCAL_DATETIME'],\n",
       "      dtype='object')"
      ]
     },
     "execution_count": 25,
     "metadata": {},
     "output_type": "execute_result"
    }
   ],
   "source": [
    "df_list[1].columns"
   ]
  },
  {
   "cell_type": "markdown",
   "metadata": {},
   "source": [
    "### - gd_1986_to_2004"
   ]
  },
  {
   "cell_type": "code",
   "execution_count": 26,
   "metadata": {},
   "outputs": [],
   "source": [
    "df_list[9].drop(columns = ['OPJUD', 'STHH', 'STMN', 'TELRN', 'TELRT' ,\n",
    "                           'MPEST', 'NOTIF', 'MARK', 'STAT'],errors='ignore', inplace=True)"
   ]
  },
  {
   "cell_type": "code",
   "execution_count": 27,
   "metadata": {},
   "outputs": [
    {
     "data": {
      "text/plain": [
       "Index(['SIGNIFICANT', 'SERIOUS', 'REPORT_NUMBER', 'OPERATOR_ID', 'NAME',\n",
       "       'LOCATION_STREET_ADDRESS', 'LOCATION_CITY_NAME', 'LOCATION_COUNTY_NAME',\n",
       "       'LOCATION_STATE_ABBREVIATION', 'CLASS_LOCATION_TYPE', 'FATAL', 'INJURE',\n",
       "       'TOTAL_COST', 'TOTAL_COST_IN84', 'TOTAL_COST_CURRENT', 'ACCIDENT_PSIG',\n",
       "       'MOP_PSIG', 'EX_HYDROTEST_PRESSURE', 'CAUSE', 'MAP_CAUSE',\n",
       "       'MAP_SUBCAUSE', 'SYSTEM_PART_DETAILS', 'MATERIAL_INVOLVED',\n",
       "       'PIPE_DIAMETER', 'WT_STEEL', 'PIPE_SPECIFICATION', 'PIPE_MANUFACTURER',\n",
       "       'MANUFACTURED_YEAR', 'INSTALLATION_YEAR', 'INCIDENT_AREA_TYPE',\n",
       "       'UNDER_CATHODIC_PROTECTION_IND', 'CAUSE_DETAILS', 'NARRATIVE',\n",
       "       'LOCAL_DATETIME'],\n",
       "      dtype='object')"
      ]
     },
     "execution_count": 27,
     "metadata": {},
     "output_type": "execute_result"
    }
   ],
   "source": [
    "df_list[9].columns"
   ]
  },
  {
   "cell_type": "markdown",
   "metadata": {},
   "source": [
    "### - hl_2002_to_2009"
   ]
  },
  {
   "cell_type": "code",
   "execution_count": 28,
   "metadata": {},
   "outputs": [],
   "source": [
    "df_list[3].drop(columns = ['DOR', 'IYEAR', 'SPILLED', 'CLASS_TEXT', 'SPUNIT_TEXT',\n",
    "                           'PEMAIL', 'NFAT', 'GPFAT', 'NINJ', 'GPINJ',\n",
    "                          'IO_DRUG', 'IO_ALCO'],errors='ignore', inplace=True)"
   ]
  },
  {
   "cell_type": "code",
   "execution_count": 29,
   "metadata": {},
   "outputs": [
    {
     "data": {
      "text/plain": [
       "Index(['SIGNIFICANT', 'SERIOUS', 'REPORT_NUMBER', 'OPERATOR_ID', 'NAME',\n",
       "       'LOCATION_LATITUDE', 'LOCATION_LONGITUDE', 'LOCATION_CITY_NAME',\n",
       "       'LOCATION_COUNTY_NAME', 'LOCATION_STATE_ABBREVIATION', 'TOTAL_COST',\n",
       "       'TOTAL_COST_IN84', 'TOTAL_COST_CURRENT', 'COMMODITY_RELEASED_TYPE',\n",
       "       'UNINTENTIONAL_RELEASE_BBLS', 'RECOVERED_BBLS', 'ON_OFF_SHORE',\n",
       "       'ACCIDENT_PSIG', 'FATAL', 'INJURE', 'CAUSE', 'MAP_CAUSE',\n",
       "       'MAP_SUBCAUSE', 'LOCAL_DATETIME'],\n",
       "      dtype='object')"
      ]
     },
     "execution_count": 29,
     "metadata": {},
     "output_type": "execute_result"
    }
   ],
   "source": [
    "df_list[3].columns"
   ]
  },
  {
   "cell_type": "markdown",
   "metadata": {},
   "source": [
    "### - gtgg_2002_to_2009"
   ]
  },
  {
   "cell_type": "code",
   "execution_count": 30,
   "metadata": {},
   "outputs": [],
   "source": [
    "df_list[6].drop(columns = ['DOR', 'IYEAR', 'OCS', 'HIGHCON',\n",
    "                           'PEMAIL', 'NFAT', 'GPFAT', 'NINJ', 'GPINJ', 'EVAC',\n",
    "                           'EVACNO', 'STHH', 'TELRN', 'TELDT',\n",
    "                          'MAOPSEC1', 'MAOPSEC2', 'MAOPSEC3', 'MAOPSEC4',\n",
    "                           'MAOPSECC', 'OVERPRS', 'PLAS_DUCT', 'PLAS_BRIT',\n",
    "                           'PLAS_JNT', 'TYSYS_TEXT'\n",
    "                          ],errors='ignore', inplace=True)"
   ]
  },
  {
   "cell_type": "code",
   "execution_count": 31,
   "metadata": {},
   "outputs": [
    {
     "data": {
      "text/plain": [
       "Index(['SIGNIFICANT', 'SERIOUS', 'SYSTEM_TYPE', 'REPORT_NUMBER', 'OPERATOR_ID',\n",
       "       'NAME', 'LOCATION_STATE_ABBREVIATION', 'LOCATION_LATITUDE',\n",
       "       'LOCATION_LONGITUDE', 'ON_OFF_SHORE', 'PIPE_FACILITY_TYPE',\n",
       "       'RELEASE_TYPE', 'FATAL', 'INJURE', 'TOTAL_COST', 'TOTAL_COST_IN84',\n",
       "       'TOTAL_COST_CURRENT', 'IGNITE_IND', 'EXPLODE_IND', 'ACCIDENT_PSIG',\n",
       "       'MOP_PSIG', 'SYSTEM_PART_DETAILS', 'MATERIAL_INVOLVED', 'ITEM_INVOLVED',\n",
       "       'INSTALLATION_YEAR', 'PIPE_DIAMETER', 'INCIDENT_AREA_TYPE', 'CAUSE',\n",
       "       'CAUSE_DETAILS', 'MAP_CAUSE', 'MAP_SUBCAUSE', 'NARRATIVE',\n",
       "       'LOCAL_DATETIME'],\n",
       "      dtype='object')"
      ]
     },
     "execution_count": 31,
     "metadata": {},
     "output_type": "execute_result"
    }
   ],
   "source": [
    "df_list[6].columns"
   ]
  },
  {
   "cell_type": "markdown",
   "metadata": {},
   "source": [
    "### - gd_2004_to_2009"
   ]
  },
  {
   "cell_type": "code",
   "execution_count": 32,
   "metadata": {},
   "outputs": [],
   "source": [
    "df_list[8].drop(columns = ['FF', 'DOR', 'IYEAR', 'OCS', 'HIGHCON',\n",
    "                           'PEMAIL', 'NFAT', 'GPFAT', 'NINJ', 'GPINJ', 'EVAC',\n",
    "                           'EVACNO', 'STHH', 'STMN', 'TELRN', 'TELDT',\n",
    "                           'MAOPEST', 'OVERPRS', 'PLAS_DUCT', 'PLAS_BRIT',\n",
    "                           'PLAS_JNT', 'TYSYS_TEXT', 'NOTIF', 'MARKED', 'PERM_MARK',\n",
    "                           'MKD_IN_TIME', 'PIPE_DAMAGE', 'PRS_TEST' \n",
    "                          ],errors='ignore', inplace=True)"
   ]
  },
  {
   "cell_type": "code",
   "execution_count": 33,
   "metadata": {},
   "outputs": [
    {
     "data": {
      "text/plain": [
       "Index(['SIGNIFICANT', 'SERIOUS', 'REPORT_NUMBER', 'OPERATOR_ID', 'NAME',\n",
       "       'LOCATION_CITY_NAME', 'LOCATION_COUNTY_NAME',\n",
       "       'LOCATION_STATE_ABBREVIATION', 'CLASS_LOCATION_TYPE', 'RELEASE_TYPE',\n",
       "       'FATAL', 'INJURE', 'TOTAL_COST', 'TOTAL_COST_IN84',\n",
       "       'TOTAL_COST_CURRENT', 'IGNITE_IND', 'EXPLODE_IND', 'ACCIDENT_PSIG',\n",
       "       'MOP_PSIG', 'SYSTEM_PART_DETAILS', 'MATERIAL_INVOLVED',\n",
       "       'INCIDENT_AREA_TYPE', 'CAUSE', 'CAUSE_DETAILS', 'MAP_CAUSE',\n",
       "       'MAP_SUBCAUSE', 'NARRATIVE', 'LOCAL_DATETIME'],\n",
       "      dtype='object')"
      ]
     },
     "execution_count": 33,
     "metadata": {},
     "output_type": "execute_result"
    }
   ],
   "source": [
    "df_list[8].columns"
   ]
  },
  {
   "cell_type": "markdown",
   "metadata": {},
   "source": [
    "### - hl_2010_to_Present"
   ]
  },
  {
   "cell_type": "code",
   "execution_count": 34,
   "metadata": {},
   "outputs": [
    {
     "data": {
      "text/plain": [
       "Index(['SIGNIFICANT', 'SERIOUS', 'REPORT_NUMBER', 'OPERATOR_ID', 'NAME',\n",
       "       'LOCAL_DATETIME', 'LOCATION_LATITUDE', 'LOCATION_LONGITUDE',\n",
       "       'COMMODITY_RELEASED_TYPE', 'UNINTENTIONAL_RELEASE_BBLS',\n",
       "       'RECOVERED_BBLS', 'NET_LOSS_BBLS', 'FATAL', 'INJURE', 'IGNITE_IND',\n",
       "       'EXPLODE_IND', 'ON_OFF_SHORE', 'INCIDENT_AREA_TYPE',\n",
       "       'PIPE_FACILITY_TYPE', 'ITEM_INVOLVED', 'MATERIAL_INVOLVED',\n",
       "       'RELEASE_TYPE', 'TOTAL_COST', 'TOTAL_COST_IN84', 'TOTAL_COST_CURRENT',\n",
       "       'ACCIDENT_PSIG', 'MOP_PSIG', 'CAUSE', 'CAUSE_DETAILS', 'MAP_CAUSE',\n",
       "       'MAP_SUBCAUSE', 'NARRATIVE', 'LOCATION_CITY_NAME',\n",
       "       'LOCATION_COUNTY_NAME', 'LOCATION_STATE_ABBREVIATION'],\n",
       "      dtype='object')"
      ]
     },
     "execution_count": 34,
     "metadata": {},
     "output_type": "execute_result"
    }
   ],
   "source": [
    "df_list[2].columns"
   ]
  },
  {
   "cell_type": "markdown",
   "metadata": {},
   "source": [
    "### - gtgg_2010_to_Present"
   ]
  },
  {
   "cell_type": "code",
   "execution_count": 35,
   "metadata": {},
   "outputs": [],
   "source": [
    "df_list[7].drop(columns = ['INCIDENT_AREA_SUBTYPE', 'CLASS_LOCATION_TYPE', 'PIR_RADIUS', \n",
    "                          'HEAT_DAMAGE_IND', 'NON_HEAT_DAMAGE_IND',\n",
    "                           'HCA_FATALITIES_IND', 'EST_COST_INTENT_REL',\n",
    "                           'EST_COST_INTENT_REL_CURRENT',],errors='ignore', inplace=True)"
   ]
  },
  {
   "cell_type": "code",
   "execution_count": 36,
   "metadata": {},
   "outputs": [
    {
     "data": {
      "text/plain": [
       "Index(['SIGNIFICANT', 'SERIOUS', 'SYSTEM_TYPE', 'REPORT_NUMBER', 'OPERATOR_ID',\n",
       "       'NAME', 'LOCAL_DATETIME', 'LOCATION_LATITUDE', 'LOCATION_LONGITUDE',\n",
       "       'COMMODITY_RELEASED_TYPE', 'UNINTENTIONAL_RELEASE_BBLS',\n",
       "       'ACCOMPANYING_LIQUID', 'FATAL', 'INJURE', 'IGNITE_IND', 'EXPLODE_IND',\n",
       "       'ON_OFF_SHORE', 'INCIDENT_AREA_TYPE', 'PIPE_FACILITY_TYPE',\n",
       "       'ITEM_INVOLVED', 'INSTALLATION_YEAR', 'MATERIAL_INVOLVED',\n",
       "       'RELEASE_TYPE', 'TOTAL_COST', 'TOTAL_COST_IN84', 'TOTAL_COST_CURRENT',\n",
       "       'ACCIDENT_PSIG', 'MOP_PSIG', 'CAUSE', 'CAUSE_DETAILS', 'MAP_CAUSE',\n",
       "       'MAP_SUBCAUSE', 'NARRATIVE', 'LOCATION_CITY_NAME',\n",
       "       'LOCATION_COUNTY_NAME', 'LOCATION_STATE_ABBREVIATION'],\n",
       "      dtype='object')"
      ]
     },
     "execution_count": 36,
     "metadata": {},
     "output_type": "execute_result"
    }
   ],
   "source": [
    "df_list[7].columns"
   ]
  },
  {
   "cell_type": "markdown",
   "metadata": {},
   "source": [
    "### - gd_2010_to_Present"
   ]
  },
  {
   "cell_type": "code",
   "execution_count": 37,
   "metadata": {},
   "outputs": [],
   "source": [
    "df_list[5].drop(columns = ['FF','CLASS_LOCATION_TYPE', 'INCIDENT_AREA_SUBTYPE', 'EST_COST_UNINTENTIONAL_RELEASE',\n",
    "                           'EST_COST_UNINTENT_REL_CURRENT', 'EST_COST_INTENT_REL_CURRENT', 'COMMERCIAL_AFFECTED',\n",
    "                           'INDUSTRIAL_AFFECTED','RESIDENCES_AFFECTED'],errors='ignore', inplace=True)"
   ]
  },
  {
   "cell_type": "code",
   "execution_count": 38,
   "metadata": {},
   "outputs": [
    {
     "data": {
      "text/plain": [
       "Index(['SIGNIFICANT', 'SERIOUS', 'REPORT_NUMBER', 'OPERATOR_ID', 'NAME',\n",
       "       'LOCAL_DATETIME', 'LOCATION_STREET_ADDRESS', 'LOCATION_CITY_NAME',\n",
       "       'LOCATION_COUNTY_NAME', 'LOCATION_STATE_ABBREVIATION',\n",
       "       'LOCATION_LATITUDE', 'LOCATION_LONGITUDE', 'COMMODITY_RELEASED_TYPE',\n",
       "       'UNINTENTIONAL_RELEASE_BBLS', 'FATAL', 'INJURE', 'IGNITE_IND',\n",
       "       'EXPLODE_IND', 'INCIDENT_AREA_TYPE', 'PIPE_FACILITY_TYPE',\n",
       "       'INSTALLATION_YEAR', 'MATERIAL_INVOLVED', 'RELEASE_TYPE', 'TOTAL_COST',\n",
       "       'TOTAL_COST_IN84', 'TOTAL_COST_CURRENT', 'ACCIDENT_PSIG', 'NORMAL_PSIG',\n",
       "       'MOP_PSIG', 'CAUSE', 'CAUSE_DETAILS', 'MAP_CAUSE', 'MAP_SUBCAUSE',\n",
       "       'NARRATIVE'],\n",
       "      dtype='object')"
      ]
     },
     "execution_count": 38,
     "metadata": {},
     "output_type": "execute_result"
    }
   ],
   "source": [
    "df_list[5].columns"
   ]
  },
  {
   "cell_type": "markdown",
   "metadata": {},
   "source": [
    "### - LNG_2010_to_Present"
   ]
  },
  {
   "cell_type": "code",
   "execution_count": 39,
   "metadata": {},
   "outputs": [],
   "source": [
    "df_list[4].drop(columns = ['UNINTENTIONAL_RELEASE_IND','INTENTIONAL_RELEASE_IND', 'EMERGENCY_SHUTDOWN_IND',\n",
    "                           'RESULTED_FROM_OTHER_IND', 'NUM_OPER_AND_CONTRACTOR_EVAC',\n",
    "                          'FACILITY_STATUS', 'FACILITY_LIQUID_VAPOR_RATE', 'FACILITY_NUM_VAPORIZERS',\n",
    "                           'FACILITY_TOTAL_CAPACITY', 'FACILITY_SOURCE_LIQUEFY_IND',\n",
    "                           'FACILITY_NUMBER_TANKS', 'FACILITY_VOLUME_STORAGE',\n",
    "                           'EST_COST_INTENTIONAL_RELEASE', 'EST_COST_INTENT_REL_CURRENT',\n",
    "                           'CCS_IN_PLACE_IND', 'CCS_OPERATING_IND', 'CCS_FUNCTIONAL_IND',\n",
    "                          ],errors='ignore', inplace=True)"
   ]
  },
  {
   "cell_type": "code",
   "execution_count": 40,
   "metadata": {},
   "outputs": [
    {
     "data": {
      "text/plain": [
       "Index(['SIGNIFICANT', 'SERIOUS', 'REPORT_NUMBER', 'OPERATOR_ID', 'NAME',\n",
       "       'LOCAL_DATETIME', 'COMMODITY_RELEASED_TYPE', 'FATAL', 'INJURE',\n",
       "       'IGNITE_IND', 'EXPLODE_IND', 'LOCATION_CITY_NAME',\n",
       "       'LOCATION_STATE_ABBREVIATION', 'PIPE_FACILITY_TYPE', 'ITEM_INVOLVED',\n",
       "       'TOTAL_COST', 'TOTAL_COST_IN84', 'TOTAL_COST_CURRENT', 'CAUSE',\n",
       "       'CAUSE_DETAILS', 'MAP_CAUSE', 'MAP_SUBCAUSE', 'NARRATIVE'],\n",
       "      dtype='object')"
      ]
     },
     "execution_count": 40,
     "metadata": {},
     "output_type": "execute_result"
    }
   ],
   "source": [
    "df_list[4].columns"
   ]
  },
  {
   "cell_type": "markdown",
   "metadata": {},
   "source": [
    "### 6. Concatenate Datasets and create final Dataframe for Data Visualization"
   ]
  },
  {
   "cell_type": "code",
   "execution_count": 41,
   "metadata": {},
   "outputs": [
    {
     "data": {
      "text/plain": [
       "(18692, 51)"
      ]
     },
     "execution_count": 41,
     "metadata": {},
     "output_type": "execute_result"
    }
   ],
   "source": [
    "mergedStuff = pd.concat(df_list , ignore_index=True)\n",
    "mergedStuff.shape"
   ]
  },
  {
   "cell_type": "code",
   "execution_count": 42,
   "metadata": {},
   "outputs": [
    {
     "data": {
      "text/plain": [
       "array([nan, 'NO DATA', 'STEEL', 'OTHER',\n",
       "       'MATERIAL OTHER THAN CARBON STEEL', 'CARBON STEEL', 'PLASTIC',\n",
       "       'COPPER', 'CAST/WROUGHT IRON', 'UNKNOWN', 'DUCTILE IRON',\n",
       "       'MATERIAL OTHER THAN CARBON STEEL OR PLASTIC',\n",
       "       'POLYETHELENE PLASTIC', 'OTHER MATERIAL', 'OTHER PLASTIC',\n",
       "       'CAST IRON', 'POLYETHYLENE PLASTIC'], dtype=object)"
      ]
     },
     "execution_count": 42,
     "metadata": {},
     "output_type": "execute_result"
    }
   ],
   "source": [
    "df = mergedStuff.isna().sum()\n",
    "mergedStuff['MATERIAL_INVOLVED'].unique()"
   ]
  },
  {
   "cell_type": "code",
   "execution_count": 43,
   "metadata": {},
   "outputs": [],
   "source": [
    "def final_df(df, nan_values):\n",
    "\n",
    "    total_nan = df.isna().sum()\n",
    "        \n",
    "    filter_nan = total_nan > nan_values\n",
    "    \n",
    "    useless_columns = df.columns[filter_nan].to_list()\n",
    "    \n",
    "    return df.drop(columns=useless_columns)"
   ]
  },
  {
   "cell_type": "code",
   "execution_count": 44,
   "metadata": {},
   "outputs": [],
   "source": [
    "merged_df_datavis = final_df(mergedStuff, 6500)"
   ]
  },
  {
   "cell_type": "markdown",
   "metadata": {},
   "source": [
    "## 7. Processing Dataset to Visualization"
   ]
  },
  {
   "cell_type": "code",
   "execution_count": 120,
   "metadata": {},
   "outputs": [],
   "source": [
    "processed_df = df_clean(merged_df_datavis, fillna_cat_col(merged_df_datavis, nan_col_selection(merged_df_datavis)), fillna_num_col(merged_df_datavis, nan_col_selection(merged_df_datavis)))"
   ]
  },
  {
   "cell_type": "code",
   "execution_count": 121,
   "metadata": {},
   "outputs": [],
   "source": [
    "processed_df = processed_df[['LOCAL_DATETIME', 'REPORT_NUMBER',\n",
    "                             'SIGNIFICANT', 'SERIOUS',\n",
    "                             'ON_OFF_SHORE', 'LOCATION_CITY_NAME', 'LOCATION_COUNTY_NAME','LOCATION_STATE_ABBREVIATION','INCIDENT_AREA_TYPE', \n",
    "                             'CAUSE', 'MAP_CAUSE', 'MAP_SUBCAUSE',\n",
    "                             'FATAL', 'INJURE', 'UNINTENTIONAL_RELEASE_BBLS', 'TOTAL_COST_IN84', 'TOTAL_COST_CURRENT',\n",
    "                             'ACCIDENT_PSIG', 'MOP_PSIG', 'NAME', 'OPERATOR_ID', 'MATERIAL_INVOLVED', 'COMMODITY_RELEASED_TYPE'\n",
    "                            ]]"
   ]
  },
  {
   "cell_type": "code",
   "execution_count": 122,
   "metadata": {},
   "outputs": [],
   "source": [
    "processed_df = processed_df.sort_values('LOCAL_DATETIME', ignore_index=True)"
   ]
  },
  {
   "cell_type": "code",
   "execution_count": 123,
   "metadata": {},
   "outputs": [],
   "source": [
    "processed_df[[ 'TOTAL_COST_IN84', 'TOTAL_COST_CURRENT']] = processed_df[[ 'TOTAL_COST_IN84', 'TOTAL_COST_CURRENT']].astype('int')"
   ]
  },
  {
   "cell_type": "code",
   "execution_count": 124,
   "metadata": {},
   "outputs": [],
   "source": [
    "processed_df.loc[processed_df['ON_OFF_SHORE'].str.contains('YES') == True, ['ON_OFF_SHORE']] = 'ONSHORE'"
   ]
  },
  {
   "cell_type": "code",
   "execution_count": 125,
   "metadata": {},
   "outputs": [],
   "source": [
    "processed_df.loc[processed_df['ON_OFF_SHORE'].str.contains('NO') == True, ['ON_OFF_SHORE']] = 'OFFSHORE'"
   ]
  },
  {
   "cell_type": "markdown",
   "metadata": {},
   "source": [
    "### 7.1 Scrap EEUU State abbreviations"
   ]
  },
  {
   "cell_type": "code",
   "execution_count": 126,
   "metadata": {},
   "outputs": [],
   "source": [
    "url = 'https://www.infoplease.com/us/postal-information/state-abbreviations-and-state-postal-codes'"
   ]
  },
  {
   "cell_type": "code",
   "execution_count": 127,
   "metadata": {},
   "outputs": [],
   "source": [
    "tables_df = pd.read_html(url)"
   ]
  },
  {
   "cell_type": "code",
   "execution_count": 141,
   "metadata": {},
   "outputs": [],
   "source": [
    "def replace_state(code, state_list, code_list):\n",
    "    \n",
    "    for i in range(len(code_list)):\n",
    "        \n",
    "        if code == code_list[i]:\n",
    "            \n",
    "            return state_list[i]\n",
    "        \n",
    "        elif code == 'NO DATA':\n",
    "            \n",
    "            return 'NO DATA'"
   ]
  },
  {
   "cell_type": "code",
   "execution_count": 140,
   "metadata": {},
   "outputs": [],
   "source": [
    "def upper(column):\n",
    "    \n",
    "    return column.upper()"
   ]
  },
  {
   "cell_type": "code",
   "execution_count": 129,
   "metadata": {},
   "outputs": [],
   "source": [
    "tables_df[1].rename(columns={'Territory/Associate' : 'State/District'}, inplace = True)\n",
    "\n",
    "states = pd.concat([tables_df[0],tables_df[1]])"
   ]
  },
  {
   "cell_type": "code",
   "execution_count": 131,
   "metadata": {},
   "outputs": [],
   "source": [
    "processed_df['LOCATION_STATE_ABBREVIATION'] = processed_df['LOCATION_STATE_ABBREVIATION'].replace(['  ', '', 'GM'], ['NO DATA', 'NO DATA', 'GU'])"
   ]
  },
  {
   "cell_type": "code",
   "execution_count": 132,
   "metadata": {},
   "outputs": [],
   "source": [
    "processed_df['LOCATION_STATE_ABBREVIATION'] = processed_df.apply(lambda x: replace_state(x['LOCATION_STATE_ABBREVIATION'], list(states['State/District']), list(states['Postal Code'])), axis=1)"
   ]
  },
  {
   "cell_type": "code",
   "execution_count": 137,
   "metadata": {},
   "outputs": [],
   "source": [
    "processed_df['LOCATION_STATE_ABBREVIATION'] = processed_df.apply(lambda x: x['LOCATION_STATE_ABBREVIATION'].upper(), axis = 1)"
   ]
  },
  {
   "cell_type": "markdown",
   "metadata": {},
   "source": [
    "### 7.2 Correct column values"
   ]
  },
  {
   "cell_type": "code",
   "execution_count": 163,
   "metadata": {},
   "outputs": [
    {
     "data": {
      "text/plain": [
       "array(['INSIDE/UNDER BUILDING', 'NO DATA', 'OTHER',\n",
       "       'UNDER GROUND OR UNDER WATER', 'UNDERGROUND', 'UNDER WATER',\n",
       "       'ABOVEGROUND', 'OPEN DITCH',\n",
       "       'TANK, INCLUDING ATTACHED APPURTENANCES', 'TRANSITION AREA',\n",
       "       'BELOWGROUND STORAGE OR ABOVEGROUND STORAGE VESSEL, INCLUDING ATTACHED APPURTENANCE'],\n",
       "      dtype=object)"
      ]
     },
     "execution_count": 163,
     "metadata": {},
     "output_type": "execute_result"
    }
   ],
   "source": [
    "# INCIDENT_AREA_TYPE\n",
    "\n",
    "processed_df['INCIDENT_AREA_TYPE'].unique()"
   ]
  },
  {
   "cell_type": "code",
   "execution_count": 155,
   "metadata": {},
   "outputs": [],
   "source": [
    "processed_df['INCIDENT_AREA_TYPE'].replace(['UNDER GROUND', 'UNDER PAVEMENT', 'ABOVE GROUND', 'WITHIN/UNDER BUILDING'], \n",
    "                                           ['UNDERGROUND', 'UNDERGROUND', 'ABOVEGROUND', 'INSIDE/UNDER BUILDING'], inplace=True)"
   ]
  },
  {
   "cell_type": "code",
   "execution_count": 165,
   "metadata": {},
   "outputs": [
    {
     "data": {
      "text/plain": [
       "array(['CARBON STEEL', 'NO DATA', 'CAST IRON', 'OTHER',\n",
       "       'POLYETHYLENE PLASTIC', 'OTHER PLASTIC', 'PLASTIC', 'DUCTILE IRON',\n",
       "       'COPPER'], dtype=object)"
      ]
     },
     "execution_count": 165,
     "metadata": {},
     "output_type": "execute_result"
    }
   ],
   "source": [
    "# MATERIAL INVOLVED\n",
    "\n",
    "processed_df['MATERIAL_INVOLVED'].unique()"
   ]
  },
  {
   "cell_type": "code",
   "execution_count": 164,
   "metadata": {},
   "outputs": [],
   "source": [
    "processed_df['MATERIAL_INVOLVED'].replace(['POLYETHELENE PLASTIC', 'CAST/WROUGHT IRON', 'OTHER MATERIAL', 'MATERIAL OTHER THAN CARBON STEEL', 'UNKNOWN', 'MATERIAL OTHER THAN CARBON STEEL OR PLASTIC', 'STEEL'], \n",
    "                                           ['POLYETHYLENE PLASTIC', 'CAST IRON', 'OTHER', 'OTHER', 'OTHER', 'OTHER', 'CARBON STEEL'], inplace=True)"
   ]
  },
  {
   "cell_type": "code",
   "execution_count": 142,
   "metadata": {},
   "outputs": [
    {
     "data": {
      "text/html": [
       "<div>\n",
       "<style scoped>\n",
       "    .dataframe tbody tr th:only-of-type {\n",
       "        vertical-align: middle;\n",
       "    }\n",
       "\n",
       "    .dataframe tbody tr th {\n",
       "        vertical-align: top;\n",
       "    }\n",
       "\n",
       "    .dataframe thead th {\n",
       "        text-align: right;\n",
       "    }\n",
       "</style>\n",
       "<table border=\"1\" class=\"dataframe\">\n",
       "  <thead>\n",
       "    <tr style=\"text-align: right;\">\n",
       "      <th></th>\n",
       "      <th>7860</th>\n",
       "      <th>2274</th>\n",
       "      <th>3408</th>\n",
       "      <th>5037</th>\n",
       "      <th>11806</th>\n",
       "      <th>10005</th>\n",
       "      <th>5814</th>\n",
       "      <th>15833</th>\n",
       "      <th>794</th>\n",
       "      <th>242</th>\n",
       "    </tr>\n",
       "  </thead>\n",
       "  <tbody>\n",
       "    <tr>\n",
       "      <th>LOCAL_DATETIME</th>\n",
       "      <td>2004-02-04 02:40:00</td>\n",
       "      <td>1991-02-19 10:10:00</td>\n",
       "      <td>1993-10-22 15:30:00</td>\n",
       "      <td>1998-01-02 12:00:00</td>\n",
       "      <td>2010-03-01 08:10:00</td>\n",
       "      <td>2007-04-08 23:22:00</td>\n",
       "      <td>2000-02-17 07:30:00</td>\n",
       "      <td>2016-07-16 16:45:00</td>\n",
       "      <td>1987-10-20 13:00:00</td>\n",
       "      <td>1986-07-30 18:00:00</td>\n",
       "    </tr>\n",
       "    <tr>\n",
       "      <th>REPORT_NUMBER</th>\n",
       "      <td>20040028</td>\n",
       "      <td>19910067</td>\n",
       "      <td>19930185</td>\n",
       "      <td>19980041</td>\n",
       "      <td>20100014</td>\n",
       "      <td>20070132</td>\n",
       "      <td>20000061</td>\n",
       "      <td>20160071</td>\n",
       "      <td>19870191</td>\n",
       "      <td>19870008</td>\n",
       "    </tr>\n",
       "    <tr>\n",
       "      <th>SIGNIFICANT</th>\n",
       "      <td>YES</td>\n",
       "      <td>YES</td>\n",
       "      <td>NO</td>\n",
       "      <td>YES</td>\n",
       "      <td>YES</td>\n",
       "      <td>NO</td>\n",
       "      <td>YES</td>\n",
       "      <td>YES</td>\n",
       "      <td>YES</td>\n",
       "      <td>YES</td>\n",
       "    </tr>\n",
       "    <tr>\n",
       "      <th>SERIOUS</th>\n",
       "      <td>YES</td>\n",
       "      <td>NO</td>\n",
       "      <td>NO</td>\n",
       "      <td>NO</td>\n",
       "      <td>NO</td>\n",
       "      <td>NO</td>\n",
       "      <td>YES</td>\n",
       "      <td>NO</td>\n",
       "      <td>NO</td>\n",
       "      <td>NO</td>\n",
       "    </tr>\n",
       "    <tr>\n",
       "      <th>ON_OFF_SHORE</th>\n",
       "      <td>OFFSHORE</td>\n",
       "      <td>OFFSHORE</td>\n",
       "      <td>ONSHORE</td>\n",
       "      <td>ONSHORE</td>\n",
       "      <td>ONSHORE</td>\n",
       "      <td>OFFSHORE</td>\n",
       "      <td>OFFSHORE</td>\n",
       "      <td>OFFSHORE</td>\n",
       "      <td>OFFSHORE</td>\n",
       "      <td>ONSHORE</td>\n",
       "    </tr>\n",
       "    <tr>\n",
       "      <th>LOCATION_CITY_NAME</th>\n",
       "      <td>INDIANAPOLIS</td>\n",
       "      <td>LITITZ</td>\n",
       "      <td>COOKEVILLE</td>\n",
       "      <td></td>\n",
       "      <td>LONGVIEW</td>\n",
       "      <td>LONG BEACH</td>\n",
       "      <td>ELK CITY</td>\n",
       "      <td>LOS BANOS</td>\n",
       "      <td>WILMINGTON</td>\n",
       "      <td>HANFORD</td>\n",
       "    </tr>\n",
       "    <tr>\n",
       "      <th>LOCATION_COUNTY_NAME</th>\n",
       "      <td>MARION</td>\n",
       "      <td>LANCASTER</td>\n",
       "      <td>PUTNAM</td>\n",
       "      <td>ORANGE COUNTY</td>\n",
       "      <td>GREGG</td>\n",
       "      <td>LOS ANGELES</td>\n",
       "      <td>BECKHAM</td>\n",
       "      <td>MERCED</td>\n",
       "      <td>NEW CASTLE</td>\n",
       "      <td>KINGS</td>\n",
       "    </tr>\n",
       "    <tr>\n",
       "      <th>LOCATION_STATE_ABBREVIATION</th>\n",
       "      <td>INDIANA</td>\n",
       "      <td>PENNSYLVANIA</td>\n",
       "      <td>TENNESSEE</td>\n",
       "      <td>TEXAS</td>\n",
       "      <td>TEXAS</td>\n",
       "      <td>CALIFORNIA</td>\n",
       "      <td>OKLAHOMA</td>\n",
       "      <td>CALIFORNIA</td>\n",
       "      <td>DELAWARE</td>\n",
       "      <td>CALIFORNIA</td>\n",
       "    </tr>\n",
       "    <tr>\n",
       "      <th>INCIDENT_AREA_TYPE</th>\n",
       "      <td>WITHIN/UNDER BUILDING</td>\n",
       "      <td>UNDER PAVEMENT</td>\n",
       "      <td>UNDER GROUND</td>\n",
       "      <td>NO DATA</td>\n",
       "      <td>UNDERGROUND</td>\n",
       "      <td>NO DATA</td>\n",
       "      <td>UNDER PAVEMENT</td>\n",
       "      <td>UNDERGROUND</td>\n",
       "      <td>WITHIN/UNDER BUILDING</td>\n",
       "      <td>NO DATA</td>\n",
       "    </tr>\n",
       "    <tr>\n",
       "      <th>CAUSE</th>\n",
       "      <td>OTHER</td>\n",
       "      <td>DAMAGE BY OUTSIDE FORCES</td>\n",
       "      <td>DAMAGE BY OUTSIDE FORCE</td>\n",
       "      <td>OTHER</td>\n",
       "      <td>CORROSION FAILURE</td>\n",
       "      <td>EQUIPMENT</td>\n",
       "      <td>CONSTRUCTION/OPERATING ERROR</td>\n",
       "      <td>EQUIPMENT FAILURE</td>\n",
       "      <td>DAMAGE BY OUTSIDE FORCES</td>\n",
       "      <td>OTHER</td>\n",
       "    </tr>\n",
       "    <tr>\n",
       "      <th>MAP_CAUSE</th>\n",
       "      <td>ALL OTHER CAUSES</td>\n",
       "      <td>EXCAVATION DAMAGE</td>\n",
       "      <td>EXCAVATION DAMAGE</td>\n",
       "      <td>ALL OTHER CAUSES</td>\n",
       "      <td>CORROSION</td>\n",
       "      <td>MATERIAL/WELD/EQUIP FAILURE</td>\n",
       "      <td>INCORRECT OPERATION</td>\n",
       "      <td>MATERIAL/WELD/EQUIP FAILURE</td>\n",
       "      <td>EXCAVATION DAMAGE</td>\n",
       "      <td>ALL OTHER CAUSES</td>\n",
       "    </tr>\n",
       "    <tr>\n",
       "      <th>MAP_SUBCAUSE</th>\n",
       "      <td>MISCELLANEOUS</td>\n",
       "      <td>THIRD PARTY EXCAVATION DAMAGE</td>\n",
       "      <td>OPERATOR/CONTRACTOR EXCAVATION DAMAGE</td>\n",
       "      <td>MISCELLANEOUS</td>\n",
       "      <td>INTERNAL</td>\n",
       "      <td>UNSPECIFIED EQUIPMENT FAILURE</td>\n",
       "      <td>INCORRECT OPERATION</td>\n",
       "      <td>MALFUNCTION OF CONTROL/RELIEF EQUIPMENT</td>\n",
       "      <td>THIRD PARTY EXCAVATION DAMAGE</td>\n",
       "      <td>MISCELLANEOUS</td>\n",
       "    </tr>\n",
       "    <tr>\n",
       "      <th>FATAL</th>\n",
       "      <td>0</td>\n",
       "      <td>0</td>\n",
       "      <td>0</td>\n",
       "      <td>0</td>\n",
       "      <td>0</td>\n",
       "      <td>0</td>\n",
       "      <td>0</td>\n",
       "      <td>0</td>\n",
       "      <td>0</td>\n",
       "      <td>0</td>\n",
       "    </tr>\n",
       "    <tr>\n",
       "      <th>INJURE</th>\n",
       "      <td>2</td>\n",
       "      <td>0</td>\n",
       "      <td>0</td>\n",
       "      <td>0</td>\n",
       "      <td>0</td>\n",
       "      <td>0</td>\n",
       "      <td>1</td>\n",
       "      <td>0</td>\n",
       "      <td>0</td>\n",
       "      <td>0</td>\n",
       "    </tr>\n",
       "    <tr>\n",
       "      <th>UNINTENTIONAL_RELEASE_BBLS</th>\n",
       "      <td>0</td>\n",
       "      <td>0</td>\n",
       "      <td>0</td>\n",
       "      <td>5</td>\n",
       "      <td>198</td>\n",
       "      <td>2</td>\n",
       "      <td>0</td>\n",
       "      <td>1500</td>\n",
       "      <td>0</td>\n",
       "      <td>1250</td>\n",
       "    </tr>\n",
       "    <tr>\n",
       "      <th>TOTAL_COST_IN84</th>\n",
       "      <td>560877</td>\n",
       "      <td>401385</td>\n",
       "      <td>0</td>\n",
       "      <td>454035</td>\n",
       "      <td>8774</td>\n",
       "      <td>4682</td>\n",
       "      <td>8109</td>\n",
       "      <td>107667</td>\n",
       "      <td>92571</td>\n",
       "      <td>283946</td>\n",
       "    </tr>\n",
       "    <tr>\n",
       "      <th>TOTAL_COST_CURRENT</th>\n",
       "      <td>1221884</td>\n",
       "      <td>874428</td>\n",
       "      <td>0</td>\n",
       "      <td>989126</td>\n",
       "      <td>19116</td>\n",
       "      <td>10201</td>\n",
       "      <td>17666</td>\n",
       "      <td>234556</td>\n",
       "      <td>201668</td>\n",
       "      <td>618585</td>\n",
       "    </tr>\n",
       "    <tr>\n",
       "      <th>ACCIDENT_PSIG</th>\n",
       "      <td>24</td>\n",
       "      <td>50</td>\n",
       "      <td>503</td>\n",
       "      <td>594</td>\n",
       "      <td>140</td>\n",
       "      <td>0</td>\n",
       "      <td>32</td>\n",
       "      <td>370</td>\n",
       "      <td>30</td>\n",
       "      <td>200</td>\n",
       "    </tr>\n",
       "    <tr>\n",
       "      <th>MOP_PSIG</th>\n",
       "      <td>30</td>\n",
       "      <td>60</td>\n",
       "      <td>720</td>\n",
       "      <td>0</td>\n",
       "      <td>150</td>\n",
       "      <td>0</td>\n",
       "      <td>60</td>\n",
       "      <td>60</td>\n",
       "      <td>45</td>\n",
       "      <td>0</td>\n",
       "    </tr>\n",
       "    <tr>\n",
       "      <th>NAME</th>\n",
       "      <td>CITIZENS GAS &amp; COKE UTILITY</td>\n",
       "      <td>U G I CORP</td>\n",
       "      <td>TENNESSEE GAS PIPELINE CO</td>\n",
       "      <td>TEXACO PIPELINE INC</td>\n",
       "      <td>MID - VALLEY PIPELINE CO</td>\n",
       "      <td>SFPP L.P.</td>\n",
       "      <td>OKLAHOMA NATURAL GAS CO</td>\n",
       "      <td>PACIFIC GAS &amp; ELECTRIC CO</td>\n",
       "      <td>DELMARVA POWER &amp; LIGHT CO</td>\n",
       "      <td>BEACON OIL CO</td>\n",
       "    </tr>\n",
       "    <tr>\n",
       "      <th>OPERATOR_ID</th>\n",
       "      <td>2392</td>\n",
       "      <td>20010</td>\n",
       "      <td>19160</td>\n",
       "      <td>19226</td>\n",
       "      <td>12470</td>\n",
       "      <td>18092</td>\n",
       "      <td>14210</td>\n",
       "      <td>15007</td>\n",
       "      <td>3240</td>\n",
       "      <td>26124</td>\n",
       "    </tr>\n",
       "    <tr>\n",
       "      <th>MATERIAL_INVOLVED</th>\n",
       "      <td>OTHER</td>\n",
       "      <td>OTHER</td>\n",
       "      <td>STEEL</td>\n",
       "      <td>NO DATA</td>\n",
       "      <td>CARBON STEEL</td>\n",
       "      <td>NO DATA</td>\n",
       "      <td>POLYETHYLENE PLASTIC</td>\n",
       "      <td>PLASTIC</td>\n",
       "      <td>STEEL</td>\n",
       "      <td>NO DATA</td>\n",
       "    </tr>\n",
       "    <tr>\n",
       "      <th>COMMODITY_RELEASED_TYPE</th>\n",
       "      <td>NO DATA</td>\n",
       "      <td>NO DATA</td>\n",
       "      <td>NO DATA</td>\n",
       "      <td>CRUDE OIL</td>\n",
       "      <td>CRUDE OIL</td>\n",
       "      <td>GASOLINE</td>\n",
       "      <td>NO DATA</td>\n",
       "      <td>NATURAL GAS</td>\n",
       "      <td>NO DATA</td>\n",
       "      <td>CRUDE OIL</td>\n",
       "    </tr>\n",
       "  </tbody>\n",
       "</table>\n",
       "</div>"
      ],
      "text/plain": [
       "                                                   7860   \\\n",
       "LOCAL_DATETIME                       2004-02-04 02:40:00   \n",
       "REPORT_NUMBER                                   20040028   \n",
       "SIGNIFICANT                                          YES   \n",
       "SERIOUS                                              YES   \n",
       "ON_OFF_SHORE                                    OFFSHORE   \n",
       "LOCATION_CITY_NAME                          INDIANAPOLIS   \n",
       "LOCATION_COUNTY_NAME                              MARION   \n",
       "LOCATION_STATE_ABBREVIATION                      INDIANA   \n",
       "INCIDENT_AREA_TYPE                 WITHIN/UNDER BUILDING   \n",
       "CAUSE                                              OTHER   \n",
       "MAP_CAUSE                               ALL OTHER CAUSES   \n",
       "MAP_SUBCAUSE                               MISCELLANEOUS   \n",
       "FATAL                                                  0   \n",
       "INJURE                                                 2   \n",
       "UNINTENTIONAL_RELEASE_BBLS                             0   \n",
       "TOTAL_COST_IN84                                   560877   \n",
       "TOTAL_COST_CURRENT                               1221884   \n",
       "ACCIDENT_PSIG                                         24   \n",
       "MOP_PSIG                                              30   \n",
       "NAME                         CITIZENS GAS & COKE UTILITY   \n",
       "OPERATOR_ID                                         2392   \n",
       "MATERIAL_INVOLVED                                  OTHER   \n",
       "COMMODITY_RELEASED_TYPE                          NO DATA   \n",
       "\n",
       "                                                     2274   \\\n",
       "LOCAL_DATETIME                         1991-02-19 10:10:00   \n",
       "REPORT_NUMBER                                     19910067   \n",
       "SIGNIFICANT                                            YES   \n",
       "SERIOUS                                                 NO   \n",
       "ON_OFF_SHORE                                      OFFSHORE   \n",
       "LOCATION_CITY_NAME                                  LITITZ   \n",
       "LOCATION_COUNTY_NAME                             LANCASTER   \n",
       "LOCATION_STATE_ABBREVIATION                   PENNSYLVANIA   \n",
       "INCIDENT_AREA_TYPE                          UNDER PAVEMENT   \n",
       "CAUSE                             DAMAGE BY OUTSIDE FORCES   \n",
       "MAP_CAUSE                                EXCAVATION DAMAGE   \n",
       "MAP_SUBCAUSE                 THIRD PARTY EXCAVATION DAMAGE   \n",
       "FATAL                                                    0   \n",
       "INJURE                                                   0   \n",
       "UNINTENTIONAL_RELEASE_BBLS                               0   \n",
       "TOTAL_COST_IN84                                     401385   \n",
       "TOTAL_COST_CURRENT                                  874428   \n",
       "ACCIDENT_PSIG                                           50   \n",
       "MOP_PSIG                                                60   \n",
       "NAME                                            U G I CORP   \n",
       "OPERATOR_ID                                          20010   \n",
       "MATERIAL_INVOLVED                                    OTHER   \n",
       "COMMODITY_RELEASED_TYPE                            NO DATA   \n",
       "\n",
       "                                                             3408   \\\n",
       "LOCAL_DATETIME                                 1993-10-22 15:30:00   \n",
       "REPORT_NUMBER                                             19930185   \n",
       "SIGNIFICANT                                                     NO   \n",
       "SERIOUS                                                         NO   \n",
       "ON_OFF_SHORE                                               ONSHORE   \n",
       "LOCATION_CITY_NAME                                      COOKEVILLE   \n",
       "LOCATION_COUNTY_NAME                                        PUTNAM   \n",
       "LOCATION_STATE_ABBREVIATION                              TENNESSEE   \n",
       "INCIDENT_AREA_TYPE                                    UNDER GROUND   \n",
       "CAUSE                                      DAMAGE BY OUTSIDE FORCE   \n",
       "MAP_CAUSE                                        EXCAVATION DAMAGE   \n",
       "MAP_SUBCAUSE                 OPERATOR/CONTRACTOR EXCAVATION DAMAGE   \n",
       "FATAL                                                            0   \n",
       "INJURE                                                           0   \n",
       "UNINTENTIONAL_RELEASE_BBLS                                       0   \n",
       "TOTAL_COST_IN84                                                  0   \n",
       "TOTAL_COST_CURRENT                                               0   \n",
       "ACCIDENT_PSIG                                                  503   \n",
       "MOP_PSIG                                                       720   \n",
       "NAME                                     TENNESSEE GAS PIPELINE CO   \n",
       "OPERATOR_ID                                                  19160   \n",
       "MATERIAL_INVOLVED                                            STEEL   \n",
       "COMMODITY_RELEASED_TYPE                                    NO DATA   \n",
       "\n",
       "                                           5037                      11806  \\\n",
       "LOCAL_DATETIME               1998-01-02 12:00:00       2010-03-01 08:10:00   \n",
       "REPORT_NUMBER                           19980041                  20100014   \n",
       "SIGNIFICANT                                  YES                       YES   \n",
       "SERIOUS                                       NO                        NO   \n",
       "ON_OFF_SHORE                             ONSHORE                   ONSHORE   \n",
       "LOCATION_CITY_NAME                                                LONGVIEW   \n",
       "LOCATION_COUNTY_NAME               ORANGE COUNTY                     GREGG   \n",
       "LOCATION_STATE_ABBREVIATION                TEXAS                     TEXAS   \n",
       "INCIDENT_AREA_TYPE                       NO DATA               UNDERGROUND   \n",
       "CAUSE                                      OTHER         CORROSION FAILURE   \n",
       "MAP_CAUSE                       ALL OTHER CAUSES                 CORROSION   \n",
       "MAP_SUBCAUSE                       MISCELLANEOUS                  INTERNAL   \n",
       "FATAL                                          0                         0   \n",
       "INJURE                                         0                         0   \n",
       "UNINTENTIONAL_RELEASE_BBLS                     5                       198   \n",
       "TOTAL_COST_IN84                           454035                      8774   \n",
       "TOTAL_COST_CURRENT                        989126                     19116   \n",
       "ACCIDENT_PSIG                                594                       140   \n",
       "MOP_PSIG                                       0                       150   \n",
       "NAME                         TEXACO PIPELINE INC  MID - VALLEY PIPELINE CO   \n",
       "OPERATOR_ID                                19226                     12470   \n",
       "MATERIAL_INVOLVED                        NO DATA              CARBON STEEL   \n",
       "COMMODITY_RELEASED_TYPE                CRUDE OIL                 CRUDE OIL   \n",
       "\n",
       "                                                     10005  \\\n",
       "LOCAL_DATETIME                         2007-04-08 23:22:00   \n",
       "REPORT_NUMBER                                     20070132   \n",
       "SIGNIFICANT                                             NO   \n",
       "SERIOUS                                                 NO   \n",
       "ON_OFF_SHORE                                      OFFSHORE   \n",
       "LOCATION_CITY_NAME                              LONG BEACH   \n",
       "LOCATION_COUNTY_NAME                           LOS ANGELES   \n",
       "LOCATION_STATE_ABBREVIATION                     CALIFORNIA   \n",
       "INCIDENT_AREA_TYPE                                 NO DATA   \n",
       "CAUSE                                            EQUIPMENT   \n",
       "MAP_CAUSE                      MATERIAL/WELD/EQUIP FAILURE   \n",
       "MAP_SUBCAUSE                 UNSPECIFIED EQUIPMENT FAILURE   \n",
       "FATAL                                                    0   \n",
       "INJURE                                                   0   \n",
       "UNINTENTIONAL_RELEASE_BBLS                               2   \n",
       "TOTAL_COST_IN84                                       4682   \n",
       "TOTAL_COST_CURRENT                                   10201   \n",
       "ACCIDENT_PSIG                                            0   \n",
       "MOP_PSIG                                                 0   \n",
       "NAME                                             SFPP L.P.   \n",
       "OPERATOR_ID                                          18092   \n",
       "MATERIAL_INVOLVED                                  NO DATA   \n",
       "COMMODITY_RELEASED_TYPE                           GASOLINE   \n",
       "\n",
       "                                                    5814   \\\n",
       "LOCAL_DATETIME                        2000-02-17 07:30:00   \n",
       "REPORT_NUMBER                                    20000061   \n",
       "SIGNIFICANT                                           YES   \n",
       "SERIOUS                                               YES   \n",
       "ON_OFF_SHORE                                     OFFSHORE   \n",
       "LOCATION_CITY_NAME                               ELK CITY   \n",
       "LOCATION_COUNTY_NAME                              BECKHAM   \n",
       "LOCATION_STATE_ABBREVIATION                      OKLAHOMA   \n",
       "INCIDENT_AREA_TYPE                         UNDER PAVEMENT   \n",
       "CAUSE                        CONSTRUCTION/OPERATING ERROR   \n",
       "MAP_CAUSE                             INCORRECT OPERATION   \n",
       "MAP_SUBCAUSE                          INCORRECT OPERATION   \n",
       "FATAL                                                   0   \n",
       "INJURE                                                  1   \n",
       "UNINTENTIONAL_RELEASE_BBLS                              0   \n",
       "TOTAL_COST_IN84                                      8109   \n",
       "TOTAL_COST_CURRENT                                  17666   \n",
       "ACCIDENT_PSIG                                          32   \n",
       "MOP_PSIG                                               60   \n",
       "NAME                              OKLAHOMA NATURAL GAS CO   \n",
       "OPERATOR_ID                                         14210   \n",
       "MATERIAL_INVOLVED                    POLYETHYLENE PLASTIC   \n",
       "COMMODITY_RELEASED_TYPE                           NO DATA   \n",
       "\n",
       "                                                               15833  \\\n",
       "LOCAL_DATETIME                                   2016-07-16 16:45:00   \n",
       "REPORT_NUMBER                                               20160071   \n",
       "SIGNIFICANT                                                      YES   \n",
       "SERIOUS                                                           NO   \n",
       "ON_OFF_SHORE                                                OFFSHORE   \n",
       "LOCATION_CITY_NAME                                         LOS BANOS   \n",
       "LOCATION_COUNTY_NAME                                          MERCED   \n",
       "LOCATION_STATE_ABBREVIATION                               CALIFORNIA   \n",
       "INCIDENT_AREA_TYPE                                       UNDERGROUND   \n",
       "CAUSE                                              EQUIPMENT FAILURE   \n",
       "MAP_CAUSE                                MATERIAL/WELD/EQUIP FAILURE   \n",
       "MAP_SUBCAUSE                 MALFUNCTION OF CONTROL/RELIEF EQUIPMENT   \n",
       "FATAL                                                              0   \n",
       "INJURE                                                             0   \n",
       "UNINTENTIONAL_RELEASE_BBLS                                      1500   \n",
       "TOTAL_COST_IN84                                               107667   \n",
       "TOTAL_COST_CURRENT                                            234556   \n",
       "ACCIDENT_PSIG                                                    370   \n",
       "MOP_PSIG                                                          60   \n",
       "NAME                                       PACIFIC GAS & ELECTRIC CO   \n",
       "OPERATOR_ID                                                    15007   \n",
       "MATERIAL_INVOLVED                                            PLASTIC   \n",
       "COMMODITY_RELEASED_TYPE                                  NATURAL GAS   \n",
       "\n",
       "                                                     794    \\\n",
       "LOCAL_DATETIME                         1987-10-20 13:00:00   \n",
       "REPORT_NUMBER                                     19870191   \n",
       "SIGNIFICANT                                            YES   \n",
       "SERIOUS                                                 NO   \n",
       "ON_OFF_SHORE                                      OFFSHORE   \n",
       "LOCATION_CITY_NAME                              WILMINGTON   \n",
       "LOCATION_COUNTY_NAME                            NEW CASTLE   \n",
       "LOCATION_STATE_ABBREVIATION                       DELAWARE   \n",
       "INCIDENT_AREA_TYPE                   WITHIN/UNDER BUILDING   \n",
       "CAUSE                             DAMAGE BY OUTSIDE FORCES   \n",
       "MAP_CAUSE                                EXCAVATION DAMAGE   \n",
       "MAP_SUBCAUSE                 THIRD PARTY EXCAVATION DAMAGE   \n",
       "FATAL                                                    0   \n",
       "INJURE                                                   0   \n",
       "UNINTENTIONAL_RELEASE_BBLS                               0   \n",
       "TOTAL_COST_IN84                                      92571   \n",
       "TOTAL_COST_CURRENT                                  201668   \n",
       "ACCIDENT_PSIG                                           30   \n",
       "MOP_PSIG                                                45   \n",
       "NAME                             DELMARVA POWER & LIGHT CO   \n",
       "OPERATOR_ID                                           3240   \n",
       "MATERIAL_INVOLVED                                    STEEL   \n",
       "COMMODITY_RELEASED_TYPE                            NO DATA   \n",
       "\n",
       "                                           242    \n",
       "LOCAL_DATETIME               1986-07-30 18:00:00  \n",
       "REPORT_NUMBER                           19870008  \n",
       "SIGNIFICANT                                  YES  \n",
       "SERIOUS                                       NO  \n",
       "ON_OFF_SHORE                             ONSHORE  \n",
       "LOCATION_CITY_NAME                       HANFORD  \n",
       "LOCATION_COUNTY_NAME                       KINGS  \n",
       "LOCATION_STATE_ABBREVIATION           CALIFORNIA  \n",
       "INCIDENT_AREA_TYPE                       NO DATA  \n",
       "CAUSE                                      OTHER  \n",
       "MAP_CAUSE                       ALL OTHER CAUSES  \n",
       "MAP_SUBCAUSE                       MISCELLANEOUS  \n",
       "FATAL                                          0  \n",
       "INJURE                                         0  \n",
       "UNINTENTIONAL_RELEASE_BBLS                  1250  \n",
       "TOTAL_COST_IN84                           283946  \n",
       "TOTAL_COST_CURRENT                        618585  \n",
       "ACCIDENT_PSIG                                200  \n",
       "MOP_PSIG                                       0  \n",
       "NAME                               BEACON OIL CO  \n",
       "OPERATOR_ID                                26124  \n",
       "MATERIAL_INVOLVED                        NO DATA  \n",
       "COMMODITY_RELEASED_TYPE                CRUDE OIL  "
      ]
     },
     "execution_count": 142,
     "metadata": {},
     "output_type": "execute_result"
    }
   ],
   "source": [
    "processed_df.sample(10).T"
   ]
  },
  {
   "cell_type": "code",
   "execution_count": null,
   "metadata": {},
   "outputs": [],
   "source": []
  }
 ],
 "metadata": {
  "kernelspec": {
   "display_name": "Python [conda env:ironhack_env]",
   "language": "python",
   "name": "conda-env-ironhack_env-py"
  },
  "language_info": {
   "codemirror_mode": {
    "name": "ipython",
    "version": 3
   },
   "file_extension": ".py",
   "mimetype": "text/x-python",
   "name": "python",
   "nbconvert_exporter": "python",
   "pygments_lexer": "ipython3",
   "version": "3.8.8"
  }
 },
 "nbformat": 4,
 "nbformat_minor": 4
}
