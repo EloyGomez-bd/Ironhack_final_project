{
 "cells": [
  {
   "cell_type": "code",
   "execution_count": 233,
   "metadata": {},
   "outputs": [],
   "source": [
    "import os \n",
    "import pandas as pd\n",
    "import numpy as np\n",
    "from datetime import datetime\n",
    "import seaborn as sn"
   ]
  },
  {
   "cell_type": "markdown",
   "metadata": {},
   "source": [
    "## Obtaining Data"
   ]
  },
  {
   "cell_type": "code",
   "execution_count": 234,
   "metadata": {},
   "outputs": [],
   "source": [
    "path = '../data/raw/'"
   ]
  },
  {
   "cell_type": "code",
   "execution_count": 235,
   "metadata": {},
   "outputs": [],
   "source": [
    "def df_classifier(path,service,sheet):\n",
    "    \n",
    "    df_list =[]\n",
    "    \n",
    "    for root, dirs, files in os.walk(path):\n",
    "        \n",
    "        for filename in files:\n",
    "            \n",
    "            if filename.startswith(service):\n",
    "                \n",
    "                df_list.append(pd.read_excel(f'{path}{filename}', sheet_name=sheet))\n",
    "            \n",
    "                print(filename)\n",
    "                \n",
    "            elif service == 'all':\n",
    "                \n",
    "                df_list.append(pd.read_excel(f'{path}{filename}', sheet_name=sheet))\n",
    "                \n",
    "                print(filename)\n",
    "                \n",
    "    return df_list"
   ]
  },
  {
   "cell_type": "code",
   "execution_count": 236,
   "metadata": {},
   "outputs": [
    {
     "name": "stdout",
     "output_type": "stream",
     "text": [
      "hl1986to2001.xlsx\n",
      "gtgg1986to2001.xlsx\n",
      "hl2010toPresent.xlsx\n",
      "hl2002to2009.xlsx\n",
      "lng2011toPresent.xlsx\n",
      "gd2010toPresent.xlsx\n",
      "gtgg2002to2009.xlsx\n",
      "gtggungs2010toPresent.xlsx\n",
      "gdmar2004to2009.xlsx\n",
      "gd1986tofeb2004.xlsx\n"
     ]
    }
   ],
   "source": [
    "df_list = df_classifier(path, 'all', 1)"
   ]
  },
  {
   "cell_type": "markdown",
   "metadata": {},
   "source": [
    "## Cleaning Data"
   ]
  },
  {
   "cell_type": "markdown",
   "metadata": {},
   "source": [
    "### 0. Previous modifications before removing nan columns"
   ]
  },
  {
   "cell_type": "code",
   "execution_count": 237,
   "metadata": {},
   "outputs": [],
   "source": [
    "columns_to_fill_empty = ['ONSHORE_CITY_NAME', 'OFF_ACCIDENT_ORIGIN', 'ONSHORE_COUNTY_NAME', 'OFFSHORE_COUNTY_NAME',\n",
    "                         'ONSHORE_STATE_ABBREVIATION', 'OFFSHORE_STATE_ABBREVIATION']"
   ]
  },
  {
   "cell_type": "code",
   "execution_count": 238,
   "metadata": {},
   "outputs": [],
   "source": [
    "columns_to_fill_zeros = ['INJURE','FATAL', 'INC_PRS']"
   ]
  },
  {
   "cell_type": "code",
   "execution_count": 239,
   "metadata": {},
   "outputs": [],
   "source": [
    "def fillna_empty(df, column):\n",
    "\n",
    "    \"\"\"Fill column nan values with empty values\"\"\"\n",
    "\n",
    "    if column in df:\n",
    "            \n",
    "            return df[column].fillna('', inplace=True)"
   ]
  },
  {
   "cell_type": "code",
   "execution_count": 240,
   "metadata": {},
   "outputs": [],
   "source": [
    "def fillna_zeros(df, column):\n",
    "\n",
    "    \"\"\"Fill column nan values with zeros\"\"\"\n",
    "\n",
    "    if column in df:\n",
    "            \n",
    "        return df[column].fillna(0, inplace=True)"
   ]
  },
  {
   "cell_type": "code",
   "execution_count": 241,
   "metadata": {},
   "outputs": [],
   "source": [
    "# Fix nan Values\n",
    "\n",
    "def preliminary_fill_nan(df_list):\n",
    "\n",
    "    for df in df_list:\n",
    "    \n",
    "        for column in columns_to_fill_empty:\n",
    "        \n",
    "            fillna_empty(df, column)\n",
    "        \n",
    "        for column in columns_to_fill_zeros: \n",
    "    \n",
    "            fillna_zeros(df, column)"
   ]
  },
  {
   "cell_type": "code",
   "execution_count": 242,
   "metadata": {},
   "outputs": [],
   "source": [
    "# Fix locations of datesets hl2010toPresent and gtggungs2010toPresent\n",
    "\n",
    "def on_offshore(df_list, list_index):\n",
    "    \n",
    "    preliminary_fill_nan(df_list)\n",
    "    \n",
    "    for i in list_index:\n",
    "\n",
    "        df_list[i]['LOCATION_CITY_NAME'] = df_list[i].apply(lambda x:\n",
    "                                                     x.ONSHORE_CITY_NAME +\n",
    "                                                     x.OFF_ACCIDENT_ORIGIN, axis=1)\n",
    "        df_list[i]['LOCATION_COUNTY_NAME'] = df_list[i].apply(lambda x:\n",
    "                                                     x.ONSHORE_COUNTY_NAME +\n",
    "                                                     x.OFFSHORE_COUNTY_NAME, axis=1)\n",
    "        df_list[i]['LOCATION_STATE_ABBREVIATION'] = df_list[i].apply(lambda x:\n",
    "                                                     x.ONSHORE_STATE_ABBREVIATION +\n",
    "                                                     x.OFFSHORE_STATE_ABBREVIATION, axis=1)"
   ]
  },
  {
   "cell_type": "code",
   "execution_count": 243,
   "metadata": {},
   "outputs": [],
   "source": [
    "on_offshore(df_list,[2,7])"
   ]
  },
  {
   "cell_type": "code",
   "execution_count": 244,
   "metadata": {},
   "outputs": [
    {
     "data": {
      "text/plain": [
       "0                  WAYNE\n",
       "1                  HAYNE\n",
       "2             BIG SPRING\n",
       "3                 LINDEN\n",
       "4                MCCAMEY\n",
       "              ...       \n",
       "4352            PASADENA\n",
       "4353         GARDEN CITY\n",
       "4354             BAYONNE\n",
       "4355                ORLA\n",
       "4356    LEBANON JUNCTION\n",
       "Name: LOCATION_CITY_NAME, Length: 4357, dtype: object"
      ]
     },
     "execution_count": 244,
     "metadata": {},
     "output_type": "execute_result"
    }
   ],
   "source": [
    "df_list[2]['LOCATION_CITY_NAME']"
   ]
  },
  {
   "cell_type": "markdown",
   "metadata": {},
   "source": [
    "### 1. Fixing Datetime Column"
   ]
  },
  {
   "cell_type": "code",
   "execution_count": 7,
   "metadata": {},
   "outputs": [],
   "source": [
    "def time(df_column):\n",
    "    \n",
    "    return pd.to_datetime(df_column, format=\"%Y-%m-%d %H:%M:%S\")"
   ]
  },
  {
   "cell_type": "code",
   "execution_count": 8,
   "metadata": {},
   "outputs": [],
   "source": [
    "for df in df_list:\n",
    "    \n",
    "    df.rename(columns={'IHOUR' : 'DTHH'}, inplace=True)\n",
    "    \n",
    "    if 'DTHH' in df:\n",
    "        \n",
    "        if df['DTHH'].dtype == 'object':\n",
    "            \n",
    "            # It seems there are some rows with 'spaces' we need to feel to convert the column to integer\n",
    "\n",
    "            df.loc[df['DTHH'].str.contains(r'\\s+') == True, ['DTHH']] = '0000'\n",
    "        \n",
    "        df['DTHH'].fillna(0, inplace = True)\n",
    "    \n",
    "        df['DTHH'] = df['DTHH'].astype('int64')\n",
    "        \n",
    "        # Check that there are no times above 2400\n",
    "\n",
    "        df.loc[df['DTHH'] >= 2400, ['DTHH']] = 0\n",
    "        \n",
    "        # Convert column to string\n",
    "\n",
    "        df['DTHH'] = df['DTHH'].astype('str')\n",
    "\n",
    "        # Add leading zeros\n",
    "\n",
    "        df['DTHH'] = df.apply(lambda x: x.DTHH.zfill(4), axis=1)\n",
    "\n",
    "        # Add trailing zeros\n",
    "\n",
    "        df['DTHH'] = df.apply(lambda x: x.DTHH.ljust(6, '0'), axis=1)\n",
    "\n",
    "        # And insert colon in the date to fit the format\n",
    "\n",
    "        df['DTHH'] = df.apply(lambda x: ':'.join(x['DTHH'][i:i+2] for i in range(0, len(x['DTHH']), 2)), axis=1)\n",
    "\n",
    "        df['LOCAL_DATETIME'] = df['IDATE'].astype('str').str.cat(df['DTHH'],sep=\" \")\n",
    "        \n",
    "        df.drop(df[df['LOCAL_DATETIME'] == '1998-09-17 01:63:00'].index, inplace = True)"
   ]
  },
  {
   "cell_type": "code",
   "execution_count": 9,
   "metadata": {},
   "outputs": [],
   "source": [
    "# Apply Time Function\n",
    "\n",
    "for df in df_list:\n",
    "    \n",
    "    if df['LOCAL_DATETIME'].dtype == 'object':\n",
    "    \n",
    "        df['LOCAL_DATETIME'] = df.apply(lambda x: time(x.LOCAL_DATETIME), axis=1)"
   ]
  },
  {
   "cell_type": "markdown",
   "metadata": {},
   "source": [
    "### 2. Drop columns with high nan percentage"
   ]
  },
  {
   "cell_type": "code",
   "execution_count": 10,
   "metadata": {},
   "outputs": [],
   "source": [
    "def nan_removal(df, percentage):\n",
    "\n",
    "    nan_values = df.isna().sum()\n",
    "        \n",
    "    nan_percentage = nan_values / len(df) * 100\n",
    "        \n",
    "    filter_nan_percentage = nan_percentage > percentage\n",
    "    \n",
    "    high_nan_columns = df.columns[filter_nan_percentage].to_list()\n",
    "    \n",
    "    return df.drop(columns=high_nan_columns, inplace=True)"
   ]
  },
  {
   "cell_type": "markdown",
   "metadata": {},
   "source": [
    "### 3. Renaming of variables to be used."
   ]
  },
  {
   "cell_type": "code",
   "execution_count": 25,
   "metadata": {},
   "outputs": [],
   "source": [
    "for df in df_list:\n",
    "    \n",
    "    df.rename(columns={'ACCTY' : 'LOCATION_CITY_NAME',\n",
    "                       'FACILITY_NAME' : 'LOCATION_CITY_NAME',\n",
    "                       'ACCITY' : 'LOCATION_CITY_NAME',\n",
    "                      'ACCNT' : 'LOCATION_COUNTY_NAME',\n",
    "                       'ACCOUNTY' : 'LOCATION_COUNTY_NAME',\n",
    "                       'ACCST' : 'LOCATION_STATE_ABBREVIATION',\n",
    "                       'ACSTATE' : 'LOCATION_STATE_ABBREVIATION',\n",
    "                       'FACILITY_STATE' : 'LOCATION_STATE_ABBREVIATION',\n",
    "                       'ACZIP' : 'LOCATION_POSTAL_CODE',\n",
    "                       'LATITUDE' : 'LOCATION_LATITUDE',\n",
    "                       'LONGITUDE' : 'LOCATION_LONGITUDE',\n",
    "                       'FACILITY_LATITUDE' : 'LOCATION_LATITUDE',\n",
    "                       'FACILITY_LONGITUDE' : 'LOCATION_LONGITUDE',\n",
    "                       'RPTID' : 'REPORT_NUMBER',\n",
    "                       'INADR' : 'LOCATION_STREET_ADDRESS',\n",
    "                       'CLASS' : 'CLASS_LOCATION_TYPE',\n",
    "                       'COMM' : 'COMMODITY_RELEASED_TYPE',\n",
    "                       'CSYS' : 'SYSTEM_PART_INVOLVED',\n",
    "                       'OFFSHORE' : 'ON_OFF_SHORE',\n",
    "                       'SHORE' : 'ON_OFF_SHORE',\n",
    "                       'OFFSHORE_TEXT' : 'ON_OFF_SHORE',\n",
    "                      'OPID' : 'OPERATOR_ID',\n",
    "                      'IFED' : 'FEDERAL',\n",
    "                       'INTER_INTRA':'PIPE_FACILITY_TYPE',\n",
    "                       'INTER_TEXT' : 'PIPE_FACILITY_TYPE',\n",
    "                       'INTER' : 'PIPE_FACILITY_TYPE',\n",
    "                       'TFAT' : 'FATAL',\n",
    "                       'EFAT' : 'NUM_EMP_FATALITIES',\n",
    "                       'FAT' : 'FATAL',\n",
    "                       'TINJ' : 'INJURE',\n",
    "                       'EINJ' : 'NUM_EMP_INJURIES',\n",
    "                       'INJ' : 'INJURE',\n",
    "                       'ACPRS' : 'ACCIDENT_PSIG',\n",
    "                       'INPRS' : 'ACCIDENT_PSIG',\n",
    "                       'INC_PRS' : 'ACCIDENT_PSIG',\n",
    "                       'MAOP' : 'MOP_PSIG',\n",
    "                       'MXPRS' : 'MOP_PSIG',\n",
    "                       'DSPRS' : 'MOP_PSIG',\n",
    "                       'PRTST' : 'MOP_CFR_SECTION',\n",
    "                       'TEST' : 'EX_HYDROTEST_PRESSURE',\n",
    "                       'PRTLK' : 'CUSTOMER_TYPE',\n",
    "                       'MLKD' : 'MATERIAL_INVOLVED',\n",
    "                       'MLKD_TEXT' : 'MATERIAL_INVOLVED',\n",
    "                       'NMDIA' : 'PIPE_DIAMETER',\n",
    "                       'NPS' : 'PIPE_DIAMETER',\n",
    "                       'THK' : 'WT_STEEL',\n",
    "                       'SPEC' : 'PIPE_SPECIFICATION',\n",
    "                       'PRTYR' : 'INSTALLATION_YEAR',\n",
    "                       'ITMYR' : 'INSTALLATION_YEAR',\n",
    "                       'MANYR' : 'MANUFACTURED_YEAR',\n",
    "                       'MANU' : 'PIPE_MANUFACTURER',\n",
    "                       'LOCLK' : 'INCIDENT_AREA_TYPE',\n",
    "                       'LOCLK_TEXT' : 'INCIDENT_AREA_TYPE',\n",
    "                       'PNAME' : 'PREPARER_NAME',\n",
    "                       'PHONE' : 'PREPARER_PHONE',\n",
    "                       'PPHONE' : 'PREPARER_PHONE',\n",
    "                       'PROT' : 'UNDER_CATHODIC_PROTECTION_IND',\n",
    "                       'FACAT' : 'UNDER_CATHODIC_PROTECTION_IND',\n",
    "                       'CAULK' : 'CAUSE_DETAILS',\n",
    "                       'ITYPE' : 'RELEASE_TYPE',\n",
    "                       'LRTYPE_TEXT' : 'RELEASE_TYPE',\n",
    "                       'ORGLK' : 'ITEM_INVOLVED',\n",
    "                       'PRTSY_TEXT' : 'ITEM_INVOLVED',\n",
    "                       'PRTSY' : 'ITEM_INVOLVED',\n",
    "                       'PRTFL' : 'SYSTEM_PART_DETAILS',\n",
    "                       'PRTFL_TEXT' : 'SYSTEM_PART_DETAILS',\n",
    "                       'LOSS' : 'UNINTENTIONAL_RELEASE_BBLS',\n",
    "                       'RECOV' : 'RECOVERED_BBLS',\n",
    "                       'FIRE' : 'IGNITE_IND',\n",
    "                       'IGNITE' : 'IGNITE_IND',\n",
    "                       'EXP' : 'EXPLODE_IND',\n",
    "                       'EXPLO' : 'EXPLODE_IND',\n",
    "                       'SMYS' : 'PIPE_SMYS',\n",
    "                       'CORRO' : 'CORROSION_TYPE',\n",
    "                       'UNINTENTIONAL_RELEASE' : 'UNINTENTIONAL_RELEASE_BBLS'\n",
    "                      }, inplace=True)"
   ]
  },
  {
   "cell_type": "markdown",
   "metadata": {},
   "source": [
    "### 4. Fill nan values and remove useless columns"
   ]
  },
  {
   "cell_type": "code",
   "execution_count": 12,
   "metadata": {},
   "outputs": [],
   "source": [
    "def nan_col_selection(df):\n",
    "    \n",
    "    return df.columns[df.isna().any()].tolist()"
   ]
  },
  {
   "cell_type": "code",
   "execution_count": 13,
   "metadata": {},
   "outputs": [],
   "source": [
    "def fillna_num_col(df, column_list):\n",
    "    \n",
    "    return df[column_list].select_dtypes(include=['float64', 'int64']).fillna(0)"
   ]
  },
  {
   "cell_type": "code",
   "execution_count": 14,
   "metadata": {},
   "outputs": [],
   "source": [
    "def fillna_cat_col(df, column_list):\n",
    "    \n",
    "    return df[column_list].select_dtypes(exclude=['float64', 'int64']).fillna('NO DATA')"
   ]
  },
  {
   "cell_type": "code",
   "execution_count": 15,
   "metadata": {},
   "outputs": [],
   "source": [
    "def df_clean(df, df_cat, df_num):\n",
    "    \n",
    "    for column in df_cat.columns:\n",
    "    \n",
    "        df[column] = df_cat[column]\n",
    "    \n",
    "    for column in df_num.columns:\n",
    "    \n",
    "        df[column] = df_num[column]\n",
    "        \n",
    "    return df"
   ]
  },
  {
   "cell_type": "code",
   "execution_count": 16,
   "metadata": {},
   "outputs": [],
   "source": [
    "for df in df_list:\n",
    "    \n",
    "    df.drop(columns=[\n",
    "                        'DATAFILE_AS_OF','OPSTREET', 'OPCITY', 'OPCOUNTY', 'OPSTATE',\n",
    "                       'OPZIP', 'PPPRP', 'PPPRPCURRENT', 'EMRPRP', 'ACSTREET',\n",
    "                       'EMRPRPCURRENT', 'ENVPRP', 'ENVPRPCURRENT', 'OPCPRP', 'OPCPRPCURRENT',\n",
    "                       'PRODPRP', 'PRODPRPCURRENT', 'OOPRP', 'OOPRPCURRENT', 'OOPPRP', 'GASPRP',\n",
    "                       'GASPRPCURRENT', 'OPPRP', 'OPPRPCURRENT', 'NUM_EMP_FATALITIES',\n",
    "                       'OOPPRPCURRENT', 'IPE', 'IA_IPE', 'OM_IPE', 'NUM_EMP_INJURIES',\n",
    "                        'SUPPLEMENTAL_NUMBER', 'REPORT_RECEIVED_DATE', 'REPORT_TYPE',\n",
    "                        'OPERATOR_STREET_ADDRESS', 'OPERATOR_CITY_NAME', 'CUSTOMER_TYPE',\n",
    "                        'OPERATOR_STATE_ABBREVIATION', 'OPERATOR_POSTAL_CODE', 'IYEAR',\n",
    "                        'LOCATION_POSTAL_CODE', 'ONSHORE_POSTAL_CODE', \n",
    "                        'ONSHORE_CITY_NAME', 'OFF_ACCIDENT_ORIGIN', 'ONSHORE_COUNTY_NAME', \n",
    "                        'OFFSHORE_COUNTY_NAME', 'ONSHORE_STATE_ABBREVIATION', 'OFFSHORE_STATE_ABBREVIATION',\n",
    "                        'EST_COST_OPER_PAID','EST_COST_OPER_PAID_CURRENT', 'EST_COST_GAS_RELEASED',\n",
    "                       'EST_COST_GAS_RELEASED_CURRENT', 'EST_COST_PROP_DAMAGE',\n",
    "                       'EST_COST_PROP_DAMAGE_CURRENT', 'EST_COST_EMERGENCY',\n",
    "                       'EST_COST_EMERGENCY_CURRENT', 'EST_COST_ENVIRONMENTAL', 'IDATE', 'DTHH',\n",
    "                       'EST_COST_ENVIRONMENTAL_CURRENT', 'EST_COST_OTHER',\n",
    "                       'EST_COST_OTHER_CURRENT', 'CORLC', 'EXT_INT_CORROSION',\n",
    "                        'PREPARER_NAME', 'PREPARER_TITLE', 'PREPARER_EMAIL','PREPARER_PHONE',\n",
    "                       'PREPARER_TELEPHONE', 'PREPARED_DATE', 'AUTHORIZER_NAME',\n",
    "                       'AUTHORIZER_TITLE', 'AUTHORIZER_TELEPHONE', 'AUTHORIZER_EMAIL', 'FATALITY_IND',\n",
    "                        'INJURY_IND','SHUTDOWN_DUE_ACCIDENT_IND', 'INCIDENT_IDENTIFIED_DATETIME',\n",
    "                           'ON_SITE_DATETIME', 'DESIGNATED_NAME', 'NUM_PUB_EVACUATED',\n",
    "                           'PIPE_FAC_NAME', 'SEGMENT_NAME', 'FEDERAL', 'LOCATION_TYPE', \n",
    "                           'CROSSING','SYSTEM_PART_INVOLVED', 'DESIGNATED_LOCATION', 'WILDLIFE_IMPACT_IND',\n",
    "                           'SOIL_CONTAMINATION','LONG_TERM_ASSESSMENT', 'REMEDIATION_IND', \n",
    "                           'WATER_CONTAM_IND', 'COULD_BE_HCA', 'COMMODITY_REACHED_HCA', 'ACCIDENT_PRESSURE',\n",
    "                           'PRESSURE_RESTRICTION_IND', 'PART_C_QUESTION_2_IND', 'PIPELINE_FUNCTION', 'SCADA_IN_PLACE_IND', 'CPM_IN_PLACE_IND',\n",
    "                           'ACCIDENT_IDENTIFIER', 'INVESTIGATION_STATUS', 'EMPLOYEE_DRUG_TEST_IND',\n",
    "                            'CONTRACTOR_DRUG_TEST_IND','SPILL_TYPE_CATEGORY', 'MOP_CFR_SECTION',\n",
    "                           'SCADA_OPERATING_IND', 'SCADA_FUNCTIONAL_IND', 'SCADA_DETECTION_IND',\n",
    "                           'SCADA_CONF_IND','NRC_RPT_NUM', 'NRC_RPT_DATETIME', 'INTENTIONAL_RELEASE'\n",
    "                          ],errors='ignore', inplace=True)\n",
    "    \n",
    "    nan_removal(df, 20)\n",
    "    \n",
    "    df_clean(df, fillna_cat_col(df, nan_col_selection(df)), fillna_num_col(df, nan_col_selection(df)))"
   ]
  },
  {
   "cell_type": "markdown",
   "metadata": {},
   "source": [
    "### 5. Selecting variables"
   ]
  },
  {
   "cell_type": "markdown",
   "metadata": {},
   "source": [
    "### - hl_1986_to_2001"
   ]
  },
  {
   "cell_type": "code",
   "execution_count": 17,
   "metadata": {},
   "outputs": [],
   "source": [
    "df_list[0].drop(columns = ['COOR', 'SPLOC', 'TELRN', 'ORGLO',\n",
    "                          'CAUSO', 'NFAT', 'NINJ', 'CORR', 'PREVT',\n",
    "                          'JNT', 'MOP_PSIG', 'DUR', 'CAULO', 'TMPMK',\n",
    "                          'FACTD', 'ONECL', 'ONEOT', 'EXCAL'],errors='ignore', inplace=True)"
   ]
  },
  {
   "cell_type": "code",
   "execution_count": 18,
   "metadata": {},
   "outputs": [],
   "source": [
    "df_list[0].PIPE_FACILITY_TYPE.replace(['YES', 'NO'],['INTERSTATE', 'INTRASTATE'], inplace=True)"
   ]
  },
  {
   "cell_type": "code",
   "execution_count": 19,
   "metadata": {},
   "outputs": [],
   "source": [
    "df_list[0].ON_OFF_SHORE.replace(['YES', 'NO'],['OFFSHORE', 'ONSHORE'], inplace=True)"
   ]
  },
  {
   "cell_type": "code",
   "execution_count": 20,
   "metadata": {},
   "outputs": [
    {
     "data": {
      "text/plain": [
       "Index(['SIGNIFICANT', 'SERIOUS', 'REPORT_NUMBER', 'OPERATOR_ID', 'NAME',\n",
       "       'PIPE_FACILITY_TYPE', 'LOCATION_STATE_ABBREVIATION',\n",
       "       'LOCATION_COUNTY_NAME', 'LOCATION_CITY_NAME', 'ON_OFF_SHORE',\n",
       "       'ITEM_INVOLVED', 'INSTALLATION_YEAR', 'CAUSE', 'MAP_CAUSE',\n",
       "       'MAP_SUBCAUSE', 'FATAL', 'INJURE', 'TOTAL_COST', 'TOTAL_COST_IN84',\n",
       "       'TOTAL_COST_CURRENT', 'COMMODITY_RELEASED_TYPE', 'CLASS_LOCATION_TYPE',\n",
       "       'UNINTENTIONAL_RELEASE_BBLS', 'RECOVERED_BBLS', 'IGNITE_IND',\n",
       "       'EXPLODE_IND', 'PIPE_DIAMETER', 'WT_STEEL', 'PIPE_SMYS',\n",
       "       'ACCIDENT_PSIG', 'UNDER_CATHODIC_PROTECTION_IND', 'CORROSION_TYPE',\n",
       "       'CAUSE_DETAILS', 'NARRATIVE', 'LOCAL_DATETIME'],\n",
       "      dtype='object')"
      ]
     },
     "execution_count": 20,
     "metadata": {},
     "output_type": "execute_result"
    }
   ],
   "source": [
    "df_list[0].columns"
   ]
  },
  {
   "cell_type": "markdown",
   "metadata": {},
   "source": [
    "### - gtgg_1986_to_2001"
   ]
  },
  {
   "cell_type": "code",
   "execution_count": 21,
   "metadata": {},
   "outputs": [],
   "source": [
    "df_list[1].drop(columns = ['MPOST', 'SURVY', 'OFFAREA', 'BNUMB',\n",
    "                          'OFFST', 'OCS', 'OPJUD', 'STHH',\n",
    "                          'STMN', 'TELRN', 'TELRT', 'MPEST', 'PRTFO',\n",
    "                          'PRTSY', 'PRTSO', 'SEAM', 'LOCLO', 'DESCO',\n",
    "                            'CAUCO', 'DMGO', 'NOTIF', 'MARK', 'MRKTP',\n",
    "                          'CAULO', 'STAT', 'CTEST', 'MEDO', 'MLKDO'], errors='ignore', inplace=True)"
   ]
  },
  {
   "cell_type": "code",
   "execution_count": 22,
   "metadata": {},
   "outputs": [],
   "source": [
    "df_list[1].ON_OFF_SHORE.replace(['YES', 'NO'],['OFFSHORE', 'ONSHORE'], inplace=True)"
   ]
  },
  {
   "cell_type": "code",
   "execution_count": 23,
   "metadata": {},
   "outputs": [],
   "source": [
    "df_list[1].COMMODITY_RELEASED_TYPE = 'NATURAL GAS'"
   ]
  },
  {
   "cell_type": "code",
   "execution_count": 24,
   "metadata": {},
   "outputs": [
    {
     "data": {
      "text/plain": [
       "Index(['SIGNIFICANT', 'SERIOUS', 'SYSTEM_TYPE', 'REPORT_NUMBER', 'OPERATOR_ID',\n",
       "       'NAME', 'LOCATION_CITY_NAME', 'LOCATION_COUNTY_NAME',\n",
       "       'LOCATION_STATE_ABBREVIATION', 'CLASS_LOCATION_TYPE', 'ON_OFF_SHORE',\n",
       "       'RELEASE_TYPE', 'FATAL', 'INJURE', 'TOTAL_COST', 'TOTAL_COST_IN84',\n",
       "       'TOTAL_COST_CURRENT', 'ACCIDENT_PSIG', 'MOP_PSIG',\n",
       "       'EX_HYDROTEST_PRESSURE', 'CAUSE', 'MAP_CAUSE', 'MAP_SUBCAUSE',\n",
       "       'SYSTEM_PART_DETAILS', 'MATERIAL_INVOLVED', 'ITEM_INVOLVED',\n",
       "       'INSTALLATION_YEAR', 'PIPE_DIAMETER', 'WT_STEEL', 'PIPE_SPECIFICATION',\n",
       "       'PIPE_SMYS', 'PIPE_MANUFACTURER', 'MANUFACTURED_YEAR',\n",
       "       'INCIDENT_AREA_TYPE', 'UNDER_CATHODIC_PROTECTION_IND', 'CAUSE_DETAILS',\n",
       "       'NARRATIVE', 'LOCAL_DATETIME'],\n",
       "      dtype='object')"
      ]
     },
     "execution_count": 24,
     "metadata": {},
     "output_type": "execute_result"
    }
   ],
   "source": [
    "df_list[1].columns"
   ]
  },
  {
   "cell_type": "markdown",
   "metadata": {},
   "source": [
    "### - gd_1986_to_2004"
   ]
  },
  {
   "cell_type": "code",
   "execution_count": 25,
   "metadata": {},
   "outputs": [],
   "source": [
    "df_list[9].drop(columns = ['OPJUD', 'STHH', 'STMN', 'TELRN', 'TELRT' ,\n",
    "                           'MPEST', 'NOTIF', 'MARK', 'STAT'],errors='ignore', inplace=True)"
   ]
  },
  {
   "cell_type": "code",
   "execution_count": 26,
   "metadata": {},
   "outputs": [
    {
     "data": {
      "text/plain": [
       "Index(['SIGNIFICANT', 'SERIOUS', 'REPORT_NUMBER', 'OPERATOR_ID', 'NAME',\n",
       "       'LOCATION_STREET_ADDRESS', 'LOCATION_CITY_NAME', 'LOCATION_COUNTY_NAME',\n",
       "       'LOCATION_STATE_ABBREVIATION', 'CLASS_LOCATION_TYPE', 'FATAL', 'INJURE',\n",
       "       'TOTAL_COST', 'TOTAL_COST_IN84', 'TOTAL_COST_CURRENT', 'ACCIDENT_PSIG',\n",
       "       'MOP_PSIG', 'EX_HYDROTEST_PRESSURE', 'CAUSE', 'MAP_CAUSE',\n",
       "       'MAP_SUBCAUSE', 'SYSTEM_PART_DETAILS', 'MATERIAL_INVOLVED',\n",
       "       'PIPE_DIAMETER', 'WT_STEEL', 'PIPE_SPECIFICATION', 'PIPE_MANUFACTURER',\n",
       "       'MANUFACTURED_YEAR', 'INSTALLATION_YEAR', 'INCIDENT_AREA_TYPE',\n",
       "       'UNDER_CATHODIC_PROTECTION_IND', 'CAUSE_DETAILS', 'NARRATIVE',\n",
       "       'LOCAL_DATETIME'],\n",
       "      dtype='object')"
      ]
     },
     "execution_count": 26,
     "metadata": {},
     "output_type": "execute_result"
    }
   ],
   "source": [
    "df_list[9].columns"
   ]
  },
  {
   "cell_type": "markdown",
   "metadata": {},
   "source": [
    "### - hl_2002_to_2009"
   ]
  },
  {
   "cell_type": "code",
   "execution_count": 27,
   "metadata": {},
   "outputs": [],
   "source": [
    "df_list[3].drop(columns = ['DOR', 'IYEAR', 'SPILLED', 'CLASS_TEXT', 'SPUNIT_TEXT',\n",
    "                           'PEMAIL', 'NFAT', 'GPFAT', 'NINJ', 'GPINJ',\n",
    "                          'IO_DRUG', 'IO_ALCO'],errors='ignore', inplace=True)"
   ]
  },
  {
   "cell_type": "code",
   "execution_count": 28,
   "metadata": {},
   "outputs": [
    {
     "data": {
      "text/plain": [
       "Index(['SIGNIFICANT', 'SERIOUS', 'REPORT_NUMBER', 'OPERATOR_ID', 'NAME',\n",
       "       'LOCATION_LATITUDE', 'LOCATION_LONGITUDE', 'LOCATION_CITY_NAME',\n",
       "       'LOCATION_COUNTY_NAME', 'LOCATION_STATE_ABBREVIATION', 'TOTAL_COST',\n",
       "       'TOTAL_COST_IN84', 'TOTAL_COST_CURRENT', 'COMMODITY_RELEASED_TYPE',\n",
       "       'UNINTENTIONAL_RELEASE_BBLS', 'RECOVERED_BBLS', 'ON_OFF_SHORE', 'FATAL',\n",
       "       'INJURE', 'CAUSE', 'MAP_CAUSE', 'MAP_SUBCAUSE', 'LOCAL_DATETIME'],\n",
       "      dtype='object')"
      ]
     },
     "execution_count": 28,
     "metadata": {},
     "output_type": "execute_result"
    }
   ],
   "source": [
    "df_list[3].columns"
   ]
  },
  {
   "cell_type": "markdown",
   "metadata": {},
   "source": [
    "### - gtgg_2002_to_2009"
   ]
  },
  {
   "cell_type": "code",
   "execution_count": 29,
   "metadata": {},
   "outputs": [],
   "source": [
    "df_list[6].drop(columns = ['DOR', 'IYEAR', 'OCS', 'HIGHCON',\n",
    "                           'PEMAIL', 'NFAT', 'GPFAT', 'NINJ', 'GPINJ', 'EVAC',\n",
    "                           'EVACNO', 'STHH', 'TELRN', 'TELDT',\n",
    "                          'MAOPSEC1', 'MAOPSEC2', 'MAOPSEC3', 'MAOPSEC4',\n",
    "                           'MAOPSECC', 'OVERPRS', 'PLAS_DUCT', 'PLAS_BRIT',\n",
    "                           'PLAS_JNT', 'TYSYS_TEXT'\n",
    "                          ],errors='ignore', inplace=True)"
   ]
  },
  {
   "cell_type": "code",
   "execution_count": 30,
   "metadata": {},
   "outputs": [
    {
     "data": {
      "text/plain": [
       "Index(['SIGNIFICANT', 'SERIOUS', 'SYSTEM_TYPE', 'REPORT_NUMBER', 'OPERATOR_ID',\n",
       "       'NAME', 'LOCATION_STATE_ABBREVIATION', 'LOCATION_LATITUDE',\n",
       "       'LOCATION_LONGITUDE', 'ON_OFF_SHORE', 'PIPE_FACILITY_TYPE',\n",
       "       'RELEASE_TYPE', 'FATAL', 'INJURE', 'TOTAL_COST', 'TOTAL_COST_IN84',\n",
       "       'TOTAL_COST_CURRENT', 'IGNITE_IND', 'EXPLODE_IND', 'ACCIDENT_PSIG',\n",
       "       'MOP_PSIG', 'SYSTEM_PART_DETAILS', 'MATERIAL_INVOLVED', 'ITEM_INVOLVED',\n",
       "       'INSTALLATION_YEAR', 'PIPE_DIAMETER', 'INCIDENT_AREA_TYPE', 'CAUSE',\n",
       "       'CAUSE_DETAILS', 'MAP_CAUSE', 'MAP_SUBCAUSE', 'NARRATIVE',\n",
       "       'LOCAL_DATETIME'],\n",
       "      dtype='object')"
      ]
     },
     "execution_count": 30,
     "metadata": {},
     "output_type": "execute_result"
    }
   ],
   "source": [
    "df_list[6].columns"
   ]
  },
  {
   "cell_type": "markdown",
   "metadata": {},
   "source": [
    "### - gd_2004_to_2009"
   ]
  },
  {
   "cell_type": "code",
   "execution_count": 31,
   "metadata": {},
   "outputs": [],
   "source": [
    "df_list[8].drop(columns = ['FF', 'DOR', 'IYEAR', 'OCS', 'HIGHCON',\n",
    "                           'PEMAIL', 'NFAT', 'GPFAT', 'NINJ', 'GPINJ', 'EVAC',\n",
    "                           'EVACNO', 'STHH', 'STMN', 'TELRN', 'TELDT',\n",
    "                           'MAOPEST', 'OVERPRS', 'PLAS_DUCT', 'PLAS_BRIT',\n",
    "                           'PLAS_JNT', 'TYSYS_TEXT', 'NOTIF', 'MARKED', 'PERM_MARK',\n",
    "                           'MKD_IN_TIME', 'PIPE_DAMAGE', 'PRS_TEST' \n",
    "                          ],errors='ignore', inplace=True)"
   ]
  },
  {
   "cell_type": "code",
   "execution_count": 32,
   "metadata": {},
   "outputs": [
    {
     "data": {
      "text/plain": [
       "Index(['SIGNIFICANT', 'SERIOUS', 'REPORT_NUMBER', 'OPERATOR_ID', 'NAME',\n",
       "       'LOCATION_CITY_NAME', 'LOCATION_COUNTY_NAME',\n",
       "       'LOCATION_STATE_ABBREVIATION', 'CLASS_LOCATION_TYPE', 'RELEASE_TYPE',\n",
       "       'FATAL', 'INJURE', 'TOTAL_COST', 'TOTAL_COST_IN84',\n",
       "       'TOTAL_COST_CURRENT', 'IGNITE_IND', 'EXPLODE_IND', 'ACCIDENT_PSIG',\n",
       "       'MOP_PSIG', 'SYSTEM_PART_DETAILS', 'MATERIAL_INVOLVED',\n",
       "       'INCIDENT_AREA_TYPE', 'CAUSE', 'CAUSE_DETAILS', 'MAP_CAUSE',\n",
       "       'MAP_SUBCAUSE', 'NARRATIVE', 'LOCAL_DATETIME'],\n",
       "      dtype='object')"
      ]
     },
     "execution_count": 32,
     "metadata": {},
     "output_type": "execute_result"
    }
   ],
   "source": [
    "df_list[8].columns"
   ]
  },
  {
   "cell_type": "markdown",
   "metadata": {},
   "source": [
    "### - hl_2010_to_Present"
   ]
  },
  {
   "cell_type": "code",
   "execution_count": 33,
   "metadata": {},
   "outputs": [
    {
     "data": {
      "text/plain": [
       "Index(['SIGNIFICANT', 'SERIOUS', 'REPORT_NUMBER', 'OPERATOR_ID', 'NAME',\n",
       "       'LOCAL_DATETIME', 'LOCATION_LATITUDE', 'LOCATION_LONGITUDE',\n",
       "       'COMMODITY_RELEASED_TYPE', 'UNINTENTIONAL_RELEASE_BBLS',\n",
       "       'RECOVERED_BBLS', 'NET_LOSS_BBLS', 'FATAL', 'INJURE', 'IGNITE_IND',\n",
       "       'EXPLODE_IND', 'ON_OFF_SHORE', 'INCIDENT_AREA_TYPE',\n",
       "       'PIPE_FACILITY_TYPE', 'ITEM_INVOLVED', 'MATERIAL_INVOLVED',\n",
       "       'RELEASE_TYPE', 'TOTAL_COST', 'TOTAL_COST_IN84', 'TOTAL_COST_CURRENT',\n",
       "       'ACCIDENT_PSIG', 'MOP_PSIG', 'CAUSE', 'CAUSE_DETAILS', 'MAP_CAUSE',\n",
       "       'MAP_SUBCAUSE', 'NARRATIVE', 'LOCATION_CITY_NAME',\n",
       "       'LOCATION_COUNTY_NAME', 'LOCATION_STATE_ABBREVIATION'],\n",
       "      dtype='object')"
      ]
     },
     "execution_count": 33,
     "metadata": {},
     "output_type": "execute_result"
    }
   ],
   "source": [
    "df_list[2].columns"
   ]
  },
  {
   "cell_type": "markdown",
   "metadata": {},
   "source": [
    "### - gtgg_2010_to_Present"
   ]
  },
  {
   "cell_type": "code",
   "execution_count": 34,
   "metadata": {},
   "outputs": [],
   "source": [
    "df_list[7].drop(columns = ['INCIDENT_AREA_SUBTYPE', 'CLASS_LOCATION_TYPE', 'PIR_RADIUS', \n",
    "                          'HEAT_DAMAGE_IND', 'NON_HEAT_DAMAGE_IND',\n",
    "                           'HCA_FATALITIES_IND', 'EST_COST_INTENT_REL',\n",
    "                           'EST_COST_INTENT_REL_CURRENT',],errors='ignore', inplace=True)"
   ]
  },
  {
   "cell_type": "code",
   "execution_count": 35,
   "metadata": {},
   "outputs": [
    {
     "data": {
      "text/plain": [
       "Index(['SIGNIFICANT', 'SERIOUS', 'SYSTEM_TYPE', 'REPORT_NUMBER', 'OPERATOR_ID',\n",
       "       'NAME', 'LOCAL_DATETIME', 'LOCATION_LATITUDE', 'LOCATION_LONGITUDE',\n",
       "       'COMMODITY_RELEASED_TYPE', 'UNINTENTIONAL_RELEASE_BBLS',\n",
       "       'ACCOMPANYING_LIQUID', 'FATAL', 'INJURE', 'IGNITE_IND', 'EXPLODE_IND',\n",
       "       'ON_OFF_SHORE', 'INCIDENT_AREA_TYPE', 'PIPE_FACILITY_TYPE',\n",
       "       'ITEM_INVOLVED', 'INSTALLATION_YEAR', 'MATERIAL_INVOLVED',\n",
       "       'RELEASE_TYPE', 'TOTAL_COST', 'TOTAL_COST_IN84', 'TOTAL_COST_CURRENT',\n",
       "       'ACCIDENT_PSIG', 'MOP_PSIG', 'CAUSE', 'CAUSE_DETAILS', 'MAP_CAUSE',\n",
       "       'MAP_SUBCAUSE', 'NARRATIVE', 'LOCATION_CITY_NAME',\n",
       "       'LOCATION_COUNTY_NAME', 'LOCATION_STATE_ABBREVIATION'],\n",
       "      dtype='object')"
      ]
     },
     "execution_count": 35,
     "metadata": {},
     "output_type": "execute_result"
    }
   ],
   "source": [
    "df_list[7].columns"
   ]
  },
  {
   "cell_type": "markdown",
   "metadata": {},
   "source": [
    "### - gd_2010_to_Present"
   ]
  },
  {
   "cell_type": "code",
   "execution_count": 36,
   "metadata": {},
   "outputs": [],
   "source": [
    "df_list[5].drop(columns = ['FF','CLASS_LOCATION_TYPE', 'INCIDENT_AREA_SUBTYPE', 'EST_COST_UNINTENTIONAL_RELEASE',\n",
    "                           'EST_COST_UNINTENT_REL_CURRENT', 'EST_COST_INTENT_REL_CURRENT', 'COMMERCIAL_AFFECTED',\n",
    "                           'INDUSTRIAL_AFFECTED','RESIDENCES_AFFECTED'],errors='ignore', inplace=True)"
   ]
  },
  {
   "cell_type": "code",
   "execution_count": 37,
   "metadata": {},
   "outputs": [
    {
     "data": {
      "text/plain": [
       "Index(['SIGNIFICANT', 'SERIOUS', 'REPORT_NUMBER', 'OPERATOR_ID', 'NAME',\n",
       "       'LOCAL_DATETIME', 'LOCATION_STREET_ADDRESS', 'LOCATION_CITY_NAME',\n",
       "       'LOCATION_COUNTY_NAME', 'LOCATION_STATE_ABBREVIATION',\n",
       "       'LOCATION_LATITUDE', 'LOCATION_LONGITUDE', 'COMMODITY_RELEASED_TYPE',\n",
       "       'UNINTENTIONAL_RELEASE_BBLS', 'FATAL', 'INJURE', 'IGNITE_IND',\n",
       "       'EXPLODE_IND', 'INCIDENT_AREA_TYPE', 'PIPE_FACILITY_TYPE',\n",
       "       'INSTALLATION_YEAR', 'MATERIAL_INVOLVED', 'RELEASE_TYPE', 'TOTAL_COST',\n",
       "       'TOTAL_COST_IN84', 'TOTAL_COST_CURRENT', 'ACCIDENT_PSIG', 'NORMAL_PSIG',\n",
       "       'MOP_PSIG', 'CAUSE', 'CAUSE_DETAILS', 'MAP_CAUSE', 'MAP_SUBCAUSE',\n",
       "       'NARRATIVE'],\n",
       "      dtype='object')"
      ]
     },
     "execution_count": 37,
     "metadata": {},
     "output_type": "execute_result"
    }
   ],
   "source": [
    "df_list[5].columns"
   ]
  },
  {
   "cell_type": "markdown",
   "metadata": {},
   "source": [
    "### - LNG_2010_to_Present"
   ]
  },
  {
   "cell_type": "code",
   "execution_count": 38,
   "metadata": {},
   "outputs": [],
   "source": [
    "df_list[4].drop(columns = ['UNINTENTIONAL_RELEASE_IND','INTENTIONAL_RELEASE_IND', 'EMERGENCY_SHUTDOWN_IND',\n",
    "                           'RESULTED_FROM_OTHER_IND', 'NUM_OPER_AND_CONTRACTOR_EVAC',\n",
    "                          'FACILITY_STATUS', 'FACILITY_LIQUID_VAPOR_RATE', 'FACILITY_NUM_VAPORIZERS',\n",
    "                           'FACILITY_TOTAL_CAPACITY', 'FACILITY_SOURCE_LIQUEFY_IND',\n",
    "                           'FACILITY_NUMBER_TANKS', 'FACILITY_VOLUME_STORAGE',\n",
    "                           'EST_COST_INTENTIONAL_RELEASE', 'EST_COST_INTENT_REL_CURRENT',\n",
    "                           'CCS_IN_PLACE_IND', 'CCS_OPERATING_IND', 'CCS_FUNCTIONAL_IND',\n",
    "                          ],errors='ignore', inplace=True)"
   ]
  },
  {
   "cell_type": "code",
   "execution_count": 39,
   "metadata": {},
   "outputs": [
    {
     "data": {
      "text/plain": [
       "Index(['SIGNIFICANT', 'SERIOUS', 'REPORT_NUMBER', 'OPERATOR_ID', 'NAME',\n",
       "       'LOCAL_DATETIME', 'COMMODITY_RELEASED_TYPE', 'FATAL', 'INJURE',\n",
       "       'IGNITE_IND', 'EXPLODE_IND', 'LOCATION_CITY_NAME',\n",
       "       'LOCATION_STATE_ABBREVIATION', 'PIPE_FACILITY_TYPE', 'ITEM_INVOLVED',\n",
       "       'TOTAL_COST', 'TOTAL_COST_IN84', 'TOTAL_COST_CURRENT', 'CAUSE',\n",
       "       'CAUSE_DETAILS', 'MAP_CAUSE', 'MAP_SUBCAUSE', 'NARRATIVE'],\n",
       "      dtype='object')"
      ]
     },
     "execution_count": 39,
     "metadata": {},
     "output_type": "execute_result"
    }
   ],
   "source": [
    "df_list[4].columns"
   ]
  },
  {
   "cell_type": "markdown",
   "metadata": {},
   "source": [
    "### 6. Concatenate Datasets and create final Dataframe for Data Visualization"
   ]
  },
  {
   "cell_type": "code",
   "execution_count": 40,
   "metadata": {},
   "outputs": [
    {
     "data": {
      "text/plain": [
       "(18692, 51)"
      ]
     },
     "execution_count": 40,
     "metadata": {},
     "output_type": "execute_result"
    }
   ],
   "source": [
    "mergedStuff = pd.concat(df_list , ignore_index=True)\n",
    "mergedStuff.shape"
   ]
  },
  {
   "cell_type": "code",
   "execution_count": 41,
   "metadata": {},
   "outputs": [
    {
     "data": {
      "text/plain": [
       "array([nan, 'NO DATA', 'STEEL', 'OTHER',\n",
       "       'MATERIAL OTHER THAN CARBON STEEL', 'CARBON STEEL', 'PLASTIC',\n",
       "       'COPPER', 'CAST/WROUGHT IRON', 'UNKNOWN', 'DUCTILE IRON',\n",
       "       'MATERIAL OTHER THAN CARBON STEEL OR PLASTIC',\n",
       "       'POLYETHELENE PLASTIC', 'OTHER MATERIAL', 'OTHER PLASTIC',\n",
       "       'CAST IRON', 'POLYETHYLENE PLASTIC'], dtype=object)"
      ]
     },
     "execution_count": 41,
     "metadata": {},
     "output_type": "execute_result"
    }
   ],
   "source": [
    "df = mergedStuff.isna().sum()\n",
    "mergedStuff['MATERIAL_INVOLVED'].unique()"
   ]
  },
  {
   "cell_type": "code",
   "execution_count": 42,
   "metadata": {},
   "outputs": [],
   "source": [
    "def final_df(df, nan_values):\n",
    "\n",
    "    total_nan = df.isna().sum()\n",
    "        \n",
    "    filter_nan = total_nan > nan_values\n",
    "    \n",
    "    useless_columns = df.columns[filter_nan].to_list()\n",
    "    \n",
    "    return df.drop(columns=useless_columns)"
   ]
  },
  {
   "cell_type": "code",
   "execution_count": 43,
   "metadata": {},
   "outputs": [],
   "source": [
    "merged_df_datavis = final_df(mergedStuff, 6500)"
   ]
  },
  {
   "cell_type": "markdown",
   "metadata": {},
   "source": [
    "## 7. Processing Dataset to Visualization"
   ]
  },
  {
   "cell_type": "code",
   "execution_count": 44,
   "metadata": {},
   "outputs": [],
   "source": [
    "processed_df = df_clean(merged_df_datavis, fillna_cat_col(merged_df_datavis, nan_col_selection(merged_df_datavis)), fillna_num_col(merged_df_datavis, nan_col_selection(merged_df_datavis)))"
   ]
  },
  {
   "cell_type": "code",
   "execution_count": 45,
   "metadata": {},
   "outputs": [],
   "source": [
    "processed_df = processed_df[['LOCAL_DATETIME', 'REPORT_NUMBER',\n",
    "                             'SIGNIFICANT', 'SERIOUS',\n",
    "                             'ON_OFF_SHORE', 'LOCATION_CITY_NAME', 'LOCATION_COUNTY_NAME','LOCATION_STATE_ABBREVIATION','INCIDENT_AREA_TYPE', \n",
    "                             'CAUSE', 'MAP_CAUSE', 'MAP_SUBCAUSE',\n",
    "                             'FATAL', 'INJURE', 'UNINTENTIONAL_RELEASE_BBLS', 'TOTAL_COST_IN84', 'TOTAL_COST_CURRENT',\n",
    "                             'ACCIDENT_PSIG', 'MOP_PSIG', 'NAME', 'OPERATOR_ID', 'MATERIAL_INVOLVED', 'COMMODITY_RELEASED_TYPE'\n",
    "                            ]]"
   ]
  },
  {
   "cell_type": "code",
   "execution_count": 46,
   "metadata": {},
   "outputs": [],
   "source": [
    "processed_df = processed_df.sort_values('LOCAL_DATETIME', ignore_index=True)"
   ]
  },
  {
   "cell_type": "code",
   "execution_count": 47,
   "metadata": {},
   "outputs": [],
   "source": [
    "processed_df[[ 'TOTAL_COST_IN84', 'TOTAL_COST_CURRENT']] = processed_df[[ 'TOTAL_COST_IN84', 'TOTAL_COST_CURRENT']].astype('int')"
   ]
  },
  {
   "cell_type": "code",
   "execution_count": 48,
   "metadata": {},
   "outputs": [],
   "source": [
    "processed_df.loc[processed_df['ON_OFF_SHORE'].str.contains('YES') == True, ['ON_OFF_SHORE']] = 'ONSHORE'"
   ]
  },
  {
   "cell_type": "code",
   "execution_count": 49,
   "metadata": {},
   "outputs": [],
   "source": [
    "processed_df.loc[processed_df['ON_OFF_SHORE'].str.contains('NO') == True, ['ON_OFF_SHORE']] = 'OFFSHORE'"
   ]
  },
  {
   "cell_type": "markdown",
   "metadata": {},
   "source": [
    "### 7.1 Scrap EEUU State abbreviations"
   ]
  },
  {
   "cell_type": "code",
   "execution_count": 50,
   "metadata": {},
   "outputs": [],
   "source": [
    "url = 'https://www.infoplease.com/us/postal-information/state-abbreviations-and-state-postal-codes'"
   ]
  },
  {
   "cell_type": "code",
   "execution_count": 51,
   "metadata": {},
   "outputs": [],
   "source": [
    "tables_df = pd.read_html(url)"
   ]
  },
  {
   "cell_type": "code",
   "execution_count": 52,
   "metadata": {},
   "outputs": [],
   "source": [
    "def replace_state(code, state_list, code_list):\n",
    "    \n",
    "    for i in range(len(code_list)):\n",
    "        \n",
    "        if code == code_list[i]:\n",
    "            \n",
    "            return state_list[i]\n",
    "        \n",
    "        elif code == 'NO DATA':\n",
    "            \n",
    "            return 'NO DATA'"
   ]
  },
  {
   "cell_type": "code",
   "execution_count": 53,
   "metadata": {},
   "outputs": [],
   "source": [
    "def upper(column):\n",
    "    \n",
    "    return column.upper()"
   ]
  },
  {
   "cell_type": "code",
   "execution_count": 54,
   "metadata": {},
   "outputs": [],
   "source": [
    "tables_df[1].rename(columns={'Territory/Associate' : 'State/District'}, inplace = True)\n",
    "\n",
    "states = pd.concat([tables_df[0],tables_df[1]])"
   ]
  },
  {
   "cell_type": "code",
   "execution_count": 55,
   "metadata": {},
   "outputs": [],
   "source": [
    "processed_df['LOCATION_STATE_ABBREVIATION'] = processed_df['LOCATION_STATE_ABBREVIATION'].replace(['  ', '', 'GM'], ['NO DATA', 'NO DATA', 'GU'])"
   ]
  },
  {
   "cell_type": "code",
   "execution_count": 56,
   "metadata": {},
   "outputs": [],
   "source": [
    "processed_df['LOCATION_STATE_ABBREVIATION'] = processed_df.apply(lambda x: replace_state(x['LOCATION_STATE_ABBREVIATION'], list(states['State/District']), list(states['Postal Code'])), axis=1)"
   ]
  },
  {
   "cell_type": "code",
   "execution_count": 57,
   "metadata": {},
   "outputs": [],
   "source": [
    "processed_df['LOCATION_STATE_ABBREVIATION'] = processed_df.apply(lambda x: x['LOCATION_STATE_ABBREVIATION'].upper(), axis = 1)"
   ]
  },
  {
   "cell_type": "markdown",
   "metadata": {},
   "source": [
    "### 7.2 Correct column values"
   ]
  },
  {
   "cell_type": "code",
   "execution_count": 58,
   "metadata": {},
   "outputs": [
    {
     "data": {
      "text/plain": [
       "array(['WITHIN/UNDER BUILDING', 'NO DATA', 'OTHER',\n",
       "       'UNDER GROUND OR UNDER WATER', 'UNDER PAVEMENT', 'UNDER WATER',\n",
       "       'UNDER GROUND', 'ABOVE GROUND', 'OPEN DITCH',\n",
       "       'INSIDE/UNDER BUILDING', 'ABOVEGROUND', 'UNDERGROUND',\n",
       "       'TANK, INCLUDING ATTACHED APPURTENANCES', 'TRANSITION AREA',\n",
       "       'BELOWGROUND STORAGE OR ABOVEGROUND STORAGE VESSEL, INCLUDING ATTACHED APPURTENANCE'],\n",
       "      dtype=object)"
      ]
     },
     "execution_count": 58,
     "metadata": {},
     "output_type": "execute_result"
    }
   ],
   "source": [
    "# INCIDENT_AREA_TYPE\n",
    "\n",
    "processed_df['INCIDENT_AREA_TYPE'].unique()"
   ]
  },
  {
   "cell_type": "code",
   "execution_count": 59,
   "metadata": {},
   "outputs": [],
   "source": [
    "processed_df['INCIDENT_AREA_TYPE'].replace(['UNDER GROUND', 'UNDER PAVEMENT', 'ABOVE GROUND', 'WITHIN/UNDER BUILDING'], \n",
    "                                           ['UNDERGROUND', 'UNDERGROUND', 'ABOVEGROUND', 'INSIDE/UNDER BUILDING'], inplace=True)"
   ]
  },
  {
   "cell_type": "code",
   "execution_count": 60,
   "metadata": {},
   "outputs": [
    {
     "data": {
      "text/plain": [
       "array(['STEEL', 'NO DATA', 'CAST IRON', 'OTHER', 'POLYETHYLENE PLASTIC',\n",
       "       'OTHER PLASTIC', 'POLYETHELENE PLASTIC', 'CAST/WROUGHT IRON',\n",
       "       'OTHER MATERIAL', 'PLASTIC', 'CARBON STEEL',\n",
       "       'MATERIAL OTHER THAN CARBON STEEL',\n",
       "       'MATERIAL OTHER THAN CARBON STEEL OR PLASTIC', 'UNKNOWN',\n",
       "       'DUCTILE IRON', 'COPPER'], dtype=object)"
      ]
     },
     "execution_count": 60,
     "metadata": {},
     "output_type": "execute_result"
    }
   ],
   "source": [
    "# MATERIAL INVOLVED\n",
    "\n",
    "processed_df['MATERIAL_INVOLVED'].unique()"
   ]
  },
  {
   "cell_type": "code",
   "execution_count": 61,
   "metadata": {},
   "outputs": [],
   "source": [
    "processed_df['MATERIAL_INVOLVED'].replace(['POLYETHELENE PLASTIC', 'CAST/WROUGHT IRON', 'OTHER MATERIAL', 'MATERIAL OTHER THAN CARBON STEEL', 'UNKNOWN', 'MATERIAL OTHER THAN CARBON STEEL OR PLASTIC', 'STEEL'], \n",
    "                                           ['POLYETHYLENE PLASTIC', 'CAST IRON', 'OTHER', 'OTHER', 'OTHER', 'OTHER', 'CARBON STEEL'], inplace=True)"
   ]
  },
  {
   "cell_type": "markdown",
   "metadata": {},
   "source": [
    "### 7.3 Export to directory"
   ]
  },
  {
   "cell_type": "code",
   "execution_count": 62,
   "metadata": {},
   "outputs": [],
   "source": [
    "processed_df.to_csv('../data/processed/pipelines_incident.csv')"
   ]
  },
  {
   "cell_type": "code",
   "execution_count": 63,
   "metadata": {},
   "outputs": [
    {
     "data": {
      "text/html": [
       "<div>\n",
       "<style scoped>\n",
       "    .dataframe tbody tr th:only-of-type {\n",
       "        vertical-align: middle;\n",
       "    }\n",
       "\n",
       "    .dataframe tbody tr th {\n",
       "        vertical-align: top;\n",
       "    }\n",
       "\n",
       "    .dataframe thead th {\n",
       "        text-align: right;\n",
       "    }\n",
       "</style>\n",
       "<table border=\"1\" class=\"dataframe\">\n",
       "  <thead>\n",
       "    <tr style=\"text-align: right;\">\n",
       "      <th></th>\n",
       "      <th>18006</th>\n",
       "      <th>12653</th>\n",
       "      <th>7724</th>\n",
       "      <th>6727</th>\n",
       "      <th>3120</th>\n",
       "      <th>9032</th>\n",
       "      <th>3808</th>\n",
       "      <th>5967</th>\n",
       "      <th>18585</th>\n",
       "      <th>13960</th>\n",
       "    </tr>\n",
       "  </thead>\n",
       "  <tbody>\n",
       "    <tr>\n",
       "      <th>LOCAL_DATETIME</th>\n",
       "      <td>2019-11-19 13:23:00</td>\n",
       "      <td>2011-07-24 20:30:00</td>\n",
       "      <td>2003-11-13 09:22:00</td>\n",
       "      <td>2002-05-18 06:47:00</td>\n",
       "      <td>1993-02-27 08:20:00</td>\n",
       "      <td>2005-10-17 03:00:00</td>\n",
       "      <td>1994-08-06 13:00:00</td>\n",
       "      <td>2000-07-21 17:00:00</td>\n",
       "      <td>2020-11-18 04:23:00</td>\n",
       "      <td>2013-10-08 06:00:00</td>\n",
       "    </tr>\n",
       "    <tr>\n",
       "      <th>REPORT_NUMBER</th>\n",
       "      <td>20190140</td>\n",
       "      <td>20110302</td>\n",
       "      <td>20030144</td>\n",
       "      <td>20020068</td>\n",
       "      <td>19930051</td>\n",
       "      <td>20050344</td>\n",
       "      <td>19940215</td>\n",
       "      <td>20000100</td>\n",
       "      <td>20210010</td>\n",
       "      <td>20130117</td>\n",
       "    </tr>\n",
       "    <tr>\n",
       "      <th>SIGNIFICANT</th>\n",
       "      <td>YES</td>\n",
       "      <td>NO</td>\n",
       "      <td>NO</td>\n",
       "      <td>NO</td>\n",
       "      <td>YES</td>\n",
       "      <td>YES</td>\n",
       "      <td>YES</td>\n",
       "      <td>YES</td>\n",
       "      <td>NO</td>\n",
       "      <td>YES</td>\n",
       "    </tr>\n",
       "    <tr>\n",
       "      <th>SERIOUS</th>\n",
       "      <td>NO</td>\n",
       "      <td>NO</td>\n",
       "      <td>NO</td>\n",
       "      <td>NO</td>\n",
       "      <td>NO</td>\n",
       "      <td>NO</td>\n",
       "      <td>NO</td>\n",
       "      <td>NO</td>\n",
       "      <td>NO</td>\n",
       "      <td>NO</td>\n",
       "    </tr>\n",
       "    <tr>\n",
       "      <th>ON_OFF_SHORE</th>\n",
       "      <td>OFFSHORE</td>\n",
       "      <td>ONSHORE</td>\n",
       "      <td>OFFSHORE</td>\n",
       "      <td>OFFSHORE</td>\n",
       "      <td>ONSHORE</td>\n",
       "      <td>OFFSHORE</td>\n",
       "      <td>ONSHORE</td>\n",
       "      <td>ONSHORE</td>\n",
       "      <td>OFFSHORE</td>\n",
       "      <td>OFFSHORE</td>\n",
       "    </tr>\n",
       "    <tr>\n",
       "      <th>LOCATION_CITY_NAME</th>\n",
       "      <td>PAYNESVILLE</td>\n",
       "      <td>HEBRON</td>\n",
       "      <td>ST MICHAEL</td>\n",
       "      <td>ANCHORAGE</td>\n",
       "      <td></td>\n",
       "      <td>EMMAUS</td>\n",
       "      <td>GAIL</td>\n",
       "      <td>PASCO</td>\n",
       "      <td>PORT GIBSON</td>\n",
       "      <td>BELINGTON</td>\n",
       "    </tr>\n",
       "    <tr>\n",
       "      <th>LOCATION_COUNTY_NAME</th>\n",
       "      <td>STERNS</td>\n",
       "      <td>BOONE</td>\n",
       "      <td>WRIGHT</td>\n",
       "      <td>NO DATA</td>\n",
       "      <td>SAN BERNARDINO</td>\n",
       "      <td>LEHIGH</td>\n",
       "      <td>BORDEN</td>\n",
       "      <td>FRANKLIN</td>\n",
       "      <td>ONTARIO</td>\n",
       "      <td>RANDOLPH COUNTY</td>\n",
       "    </tr>\n",
       "    <tr>\n",
       "      <th>LOCATION_STATE_ABBREVIATION</th>\n",
       "      <td>MINNESOTA</td>\n",
       "      <td>KENTUCKY</td>\n",
       "      <td>MINNESOTA</td>\n",
       "      <td>ALASKA</td>\n",
       "      <td>CALIFORNIA</td>\n",
       "      <td>PENNSYLVANIA</td>\n",
       "      <td>TEXAS</td>\n",
       "      <td>WASHINGTON</td>\n",
       "      <td>NEW YORK</td>\n",
       "      <td>WEST VIRGINIA</td>\n",
       "    </tr>\n",
       "    <tr>\n",
       "      <th>INCIDENT_AREA_TYPE</th>\n",
       "      <td>UNDERGROUND</td>\n",
       "      <td>ABOVEGROUND</td>\n",
       "      <td>UNDER GROUND OR UNDER WATER</td>\n",
       "      <td>ABOVEGROUND</td>\n",
       "      <td>UNDER WATER</td>\n",
       "      <td>NO DATA</td>\n",
       "      <td>NO DATA</td>\n",
       "      <td>NO DATA</td>\n",
       "      <td>UNDERGROUND</td>\n",
       "      <td>UNDERGROUND</td>\n",
       "    </tr>\n",
       "    <tr>\n",
       "      <th>CAUSE</th>\n",
       "      <td>EXCAVATION DAMAGE</td>\n",
       "      <td>EQUIPMENT FAILURE</td>\n",
       "      <td>DAMAGE BY OUTSIDE FORCES</td>\n",
       "      <td>DAMAGE BY OUTSIDE FORCES</td>\n",
       "      <td>DAMAGE BY OUTSIDE FORCE</td>\n",
       "      <td>MATERIAL AND/OR WELD FAILURES</td>\n",
       "      <td>CORROSION</td>\n",
       "      <td>CORROSION</td>\n",
       "      <td>EQUIPMENT FAILURE</td>\n",
       "      <td>EQUIPMENT FAILURE</td>\n",
       "    </tr>\n",
       "    <tr>\n",
       "      <th>MAP_CAUSE</th>\n",
       "      <td>EXCAVATION DAMAGE</td>\n",
       "      <td>MATERIAL/WELD/EQUIP FAILURE</td>\n",
       "      <td>EXCAVATION DAMAGE</td>\n",
       "      <td>OTHER OUTSIDE FORCE DAMAGE</td>\n",
       "      <td>NATURAL FORCE DAMAGE</td>\n",
       "      <td>MATERIAL/WELD/EQUIP FAILURE</td>\n",
       "      <td>CORROSION</td>\n",
       "      <td>CORROSION</td>\n",
       "      <td>MATERIAL/WELD/EQUIP FAILURE</td>\n",
       "      <td>MATERIAL/WELD/EQUIP FAILURE</td>\n",
       "    </tr>\n",
       "    <tr>\n",
       "      <th>MAP_SUBCAUSE</th>\n",
       "      <td>THIRD PARTY EXCAVATION DAMAGE</td>\n",
       "      <td>PUMP/COMPRESSOR OR PUMP/COMPRESSOR-RELATED EQU...</td>\n",
       "      <td>OPERATOR/CONTRACTOR EXCAVATION DAMAGE</td>\n",
       "      <td>UNSPECIFIED OUTSIDE FORCE DAMAGE</td>\n",
       "      <td>UNSPECIFIED NATURAL FORCE DAMAGE</td>\n",
       "      <td>FILLET WELD</td>\n",
       "      <td>EXTERNAL</td>\n",
       "      <td>EXTERNAL</td>\n",
       "      <td>MALFUNCTION OF CONTROL/RELIEF EQUIPMENT</td>\n",
       "      <td>MALFUNCTION OF CONTROL/RELIEF EQUIPMENT</td>\n",
       "    </tr>\n",
       "    <tr>\n",
       "      <th>FATAL</th>\n",
       "      <td>0</td>\n",
       "      <td>0</td>\n",
       "      <td>0</td>\n",
       "      <td>0</td>\n",
       "      <td>0</td>\n",
       "      <td>0</td>\n",
       "      <td>0</td>\n",
       "      <td>0</td>\n",
       "      <td>0</td>\n",
       "      <td>0</td>\n",
       "    </tr>\n",
       "    <tr>\n",
       "      <th>INJURE</th>\n",
       "      <td>0</td>\n",
       "      <td>0</td>\n",
       "      <td>0</td>\n",
       "      <td>0</td>\n",
       "      <td>0</td>\n",
       "      <td>0</td>\n",
       "      <td>0</td>\n",
       "      <td>0</td>\n",
       "      <td>0</td>\n",
       "      <td>0</td>\n",
       "    </tr>\n",
       "    <tr>\n",
       "      <th>UNINTENTIONAL_RELEASE_BBLS</th>\n",
       "      <td>1455</td>\n",
       "      <td>0.52</td>\n",
       "      <td>0</td>\n",
       "      <td>0</td>\n",
       "      <td>0</td>\n",
       "      <td>1020</td>\n",
       "      <td>437</td>\n",
       "      <td>900</td>\n",
       "      <td>1</td>\n",
       "      <td>62.83</td>\n",
       "    </tr>\n",
       "    <tr>\n",
       "      <th>TOTAL_COST_IN84</th>\n",
       "      <td>99546</td>\n",
       "      <td>0</td>\n",
       "      <td>33183</td>\n",
       "      <td>32488</td>\n",
       "      <td>382621</td>\n",
       "      <td>9455143</td>\n",
       "      <td>15353</td>\n",
       "      <td>540615</td>\n",
       "      <td>2535</td>\n",
       "      <td>50664</td>\n",
       "    </tr>\n",
       "    <tr>\n",
       "      <th>TOTAL_COST_CURRENT</th>\n",
       "      <td>209535</td>\n",
       "      <td>0</td>\n",
       "      <td>72290</td>\n",
       "      <td>70777</td>\n",
       "      <td>833551</td>\n",
       "      <td>20598257</td>\n",
       "      <td>33447</td>\n",
       "      <td>1177743</td>\n",
       "      <td>5510</td>\n",
       "      <td>110166</td>\n",
       "    </tr>\n",
       "    <tr>\n",
       "      <th>ACCIDENT_PSIG</th>\n",
       "      <td>50</td>\n",
       "      <td>0</td>\n",
       "      <td>55</td>\n",
       "      <td>55</td>\n",
       "      <td>584</td>\n",
       "      <td>0</td>\n",
       "      <td>1145</td>\n",
       "      <td>195</td>\n",
       "      <td>15</td>\n",
       "      <td>513</td>\n",
       "    </tr>\n",
       "    <tr>\n",
       "      <th>MOP_PSIG</th>\n",
       "      <td>60</td>\n",
       "      <td>0</td>\n",
       "      <td>60</td>\n",
       "      <td>60</td>\n",
       "      <td>0</td>\n",
       "      <td>0</td>\n",
       "      <td>0</td>\n",
       "      <td>0</td>\n",
       "      <td>9</td>\n",
       "      <td>100</td>\n",
       "    </tr>\n",
       "    <tr>\n",
       "      <th>NAME</th>\n",
       "      <td>CENTERPOINT ENERGY RESOURCES CORP., DBA CENTER...</td>\n",
       "      <td>MID - VALLEY PIPELINE CO</td>\n",
       "      <td>MINNEGASCO INC</td>\n",
       "      <td>ENSTAR NATURAL GAS CO</td>\n",
       "      <td>SOUTHERN CALIFORNIA GAS CO</td>\n",
       "      <td>BUCKEYE PIPE LINE COMPANY</td>\n",
       "      <td>CHEVRON PIPELINE CO</td>\n",
       "      <td>TIDEWATER, INC</td>\n",
       "      <td>NEW YORK STATE ELECTRIC &amp; GAS CORP</td>\n",
       "      <td>DOMINION HOPE</td>\n",
       "    </tr>\n",
       "    <tr>\n",
       "      <th>OPERATOR_ID</th>\n",
       "      <td>12350</td>\n",
       "      <td>12470</td>\n",
       "      <td>12350</td>\n",
       "      <td>4483</td>\n",
       "      <td>18484</td>\n",
       "      <td>1845</td>\n",
       "      <td>2337</td>\n",
       "      <td>31051</td>\n",
       "      <td>13420</td>\n",
       "      <td>7348</td>\n",
       "    </tr>\n",
       "    <tr>\n",
       "      <th>MATERIAL_INVOLVED</th>\n",
       "      <td>CARBON STEEL</td>\n",
       "      <td>NO DATA</td>\n",
       "      <td>POLYETHYLENE PLASTIC</td>\n",
       "      <td>POLYETHYLENE PLASTIC</td>\n",
       "      <td>CARBON STEEL</td>\n",
       "      <td>NO DATA</td>\n",
       "      <td>NO DATA</td>\n",
       "      <td>NO DATA</td>\n",
       "      <td>OTHER</td>\n",
       "      <td>PLASTIC</td>\n",
       "    </tr>\n",
       "    <tr>\n",
       "      <th>COMMODITY_RELEASED_TYPE</th>\n",
       "      <td>NATURAL GAS</td>\n",
       "      <td>CRUDE OIL</td>\n",
       "      <td>NO DATA</td>\n",
       "      <td>NO DATA</td>\n",
       "      <td>NO DATA</td>\n",
       "      <td>GASOLINE</td>\n",
       "      <td>CRUDE OIL</td>\n",
       "      <td>GASOLINE</td>\n",
       "      <td>NATURAL GAS</td>\n",
       "      <td>NATURAL GAS</td>\n",
       "    </tr>\n",
       "  </tbody>\n",
       "</table>\n",
       "</div>"
      ],
      "text/plain": [
       "                                                                         18006  \\\n",
       "LOCAL_DATETIME                                             2019-11-19 13:23:00   \n",
       "REPORT_NUMBER                                                         20190140   \n",
       "SIGNIFICANT                                                                YES   \n",
       "SERIOUS                                                                     NO   \n",
       "ON_OFF_SHORE                                                          OFFSHORE   \n",
       "LOCATION_CITY_NAME                                                 PAYNESVILLE   \n",
       "LOCATION_COUNTY_NAME                                                    STERNS   \n",
       "LOCATION_STATE_ABBREVIATION                                          MINNESOTA   \n",
       "INCIDENT_AREA_TYPE                                                 UNDERGROUND   \n",
       "CAUSE                                                        EXCAVATION DAMAGE   \n",
       "MAP_CAUSE                                                    EXCAVATION DAMAGE   \n",
       "MAP_SUBCAUSE                                     THIRD PARTY EXCAVATION DAMAGE   \n",
       "FATAL                                                                        0   \n",
       "INJURE                                                                       0   \n",
       "UNINTENTIONAL_RELEASE_BBLS                                                1455   \n",
       "TOTAL_COST_IN84                                                          99546   \n",
       "TOTAL_COST_CURRENT                                                      209535   \n",
       "ACCIDENT_PSIG                                                               50   \n",
       "MOP_PSIG                                                                    60   \n",
       "NAME                         CENTERPOINT ENERGY RESOURCES CORP., DBA CENTER...   \n",
       "OPERATOR_ID                                                              12350   \n",
       "MATERIAL_INVOLVED                                                 CARBON STEEL   \n",
       "COMMODITY_RELEASED_TYPE                                            NATURAL GAS   \n",
       "\n",
       "                                                                         12653  \\\n",
       "LOCAL_DATETIME                                             2011-07-24 20:30:00   \n",
       "REPORT_NUMBER                                                         20110302   \n",
       "SIGNIFICANT                                                                 NO   \n",
       "SERIOUS                                                                     NO   \n",
       "ON_OFF_SHORE                                                           ONSHORE   \n",
       "LOCATION_CITY_NAME                                                      HEBRON   \n",
       "LOCATION_COUNTY_NAME                                                     BOONE   \n",
       "LOCATION_STATE_ABBREVIATION                                           KENTUCKY   \n",
       "INCIDENT_AREA_TYPE                                                 ABOVEGROUND   \n",
       "CAUSE                                                        EQUIPMENT FAILURE   \n",
       "MAP_CAUSE                                          MATERIAL/WELD/EQUIP FAILURE   \n",
       "MAP_SUBCAUSE                 PUMP/COMPRESSOR OR PUMP/COMPRESSOR-RELATED EQU...   \n",
       "FATAL                                                                        0   \n",
       "INJURE                                                                       0   \n",
       "UNINTENTIONAL_RELEASE_BBLS                                                0.52   \n",
       "TOTAL_COST_IN84                                                              0   \n",
       "TOTAL_COST_CURRENT                                                           0   \n",
       "ACCIDENT_PSIG                                                                0   \n",
       "MOP_PSIG                                                                     0   \n",
       "NAME                                                  MID - VALLEY PIPELINE CO   \n",
       "OPERATOR_ID                                                              12470   \n",
       "MATERIAL_INVOLVED                                                      NO DATA   \n",
       "COMMODITY_RELEASED_TYPE                                              CRUDE OIL   \n",
       "\n",
       "                                                             7724   \\\n",
       "LOCAL_DATETIME                                 2003-11-13 09:22:00   \n",
       "REPORT_NUMBER                                             20030144   \n",
       "SIGNIFICANT                                                     NO   \n",
       "SERIOUS                                                         NO   \n",
       "ON_OFF_SHORE                                              OFFSHORE   \n",
       "LOCATION_CITY_NAME                                      ST MICHAEL   \n",
       "LOCATION_COUNTY_NAME                                        WRIGHT   \n",
       "LOCATION_STATE_ABBREVIATION                              MINNESOTA   \n",
       "INCIDENT_AREA_TYPE                     UNDER GROUND OR UNDER WATER   \n",
       "CAUSE                                     DAMAGE BY OUTSIDE FORCES   \n",
       "MAP_CAUSE                                        EXCAVATION DAMAGE   \n",
       "MAP_SUBCAUSE                 OPERATOR/CONTRACTOR EXCAVATION DAMAGE   \n",
       "FATAL                                                            0   \n",
       "INJURE                                                           0   \n",
       "UNINTENTIONAL_RELEASE_BBLS                                       0   \n",
       "TOTAL_COST_IN84                                              33183   \n",
       "TOTAL_COST_CURRENT                                           72290   \n",
       "ACCIDENT_PSIG                                                   55   \n",
       "MOP_PSIG                                                        60   \n",
       "NAME                                                MINNEGASCO INC   \n",
       "OPERATOR_ID                                                  12350   \n",
       "MATERIAL_INVOLVED                             POLYETHYLENE PLASTIC   \n",
       "COMMODITY_RELEASED_TYPE                                    NO DATA   \n",
       "\n",
       "                                                        6727   \\\n",
       "LOCAL_DATETIME                            2002-05-18 06:47:00   \n",
       "REPORT_NUMBER                                        20020068   \n",
       "SIGNIFICANT                                                NO   \n",
       "SERIOUS                                                    NO   \n",
       "ON_OFF_SHORE                                         OFFSHORE   \n",
       "LOCATION_CITY_NAME                                  ANCHORAGE   \n",
       "LOCATION_COUNTY_NAME                                  NO DATA   \n",
       "LOCATION_STATE_ABBREVIATION                            ALASKA   \n",
       "INCIDENT_AREA_TYPE                                ABOVEGROUND   \n",
       "CAUSE                                DAMAGE BY OUTSIDE FORCES   \n",
       "MAP_CAUSE                          OTHER OUTSIDE FORCE DAMAGE   \n",
       "MAP_SUBCAUSE                 UNSPECIFIED OUTSIDE FORCE DAMAGE   \n",
       "FATAL                                                       0   \n",
       "INJURE                                                      0   \n",
       "UNINTENTIONAL_RELEASE_BBLS                                  0   \n",
       "TOTAL_COST_IN84                                         32488   \n",
       "TOTAL_COST_CURRENT                                      70777   \n",
       "ACCIDENT_PSIG                                              55   \n",
       "MOP_PSIG                                                   60   \n",
       "NAME                                    ENSTAR NATURAL GAS CO   \n",
       "OPERATOR_ID                                              4483   \n",
       "MATERIAL_INVOLVED                        POLYETHYLENE PLASTIC   \n",
       "COMMODITY_RELEASED_TYPE                               NO DATA   \n",
       "\n",
       "                                                        3120   \\\n",
       "LOCAL_DATETIME                            1993-02-27 08:20:00   \n",
       "REPORT_NUMBER                                        19930051   \n",
       "SIGNIFICANT                                               YES   \n",
       "SERIOUS                                                    NO   \n",
       "ON_OFF_SHORE                                          ONSHORE   \n",
       "LOCATION_CITY_NAME                                              \n",
       "LOCATION_COUNTY_NAME                           SAN BERNARDINO   \n",
       "LOCATION_STATE_ABBREVIATION                        CALIFORNIA   \n",
       "INCIDENT_AREA_TYPE                                UNDER WATER   \n",
       "CAUSE                                 DAMAGE BY OUTSIDE FORCE   \n",
       "MAP_CAUSE                                NATURAL FORCE DAMAGE   \n",
       "MAP_SUBCAUSE                 UNSPECIFIED NATURAL FORCE DAMAGE   \n",
       "FATAL                                                       0   \n",
       "INJURE                                                      0   \n",
       "UNINTENTIONAL_RELEASE_BBLS                                  0   \n",
       "TOTAL_COST_IN84                                        382621   \n",
       "TOTAL_COST_CURRENT                                     833551   \n",
       "ACCIDENT_PSIG                                             584   \n",
       "MOP_PSIG                                                    0   \n",
       "NAME                               SOUTHERN CALIFORNIA GAS CO   \n",
       "OPERATOR_ID                                             18484   \n",
       "MATERIAL_INVOLVED                                CARBON STEEL   \n",
       "COMMODITY_RELEASED_TYPE                               NO DATA   \n",
       "\n",
       "                                                     9032   \\\n",
       "LOCAL_DATETIME                         2005-10-17 03:00:00   \n",
       "REPORT_NUMBER                                     20050344   \n",
       "SIGNIFICANT                                            YES   \n",
       "SERIOUS                                                 NO   \n",
       "ON_OFF_SHORE                                      OFFSHORE   \n",
       "LOCATION_CITY_NAME                                  EMMAUS   \n",
       "LOCATION_COUNTY_NAME                                LEHIGH   \n",
       "LOCATION_STATE_ABBREVIATION                   PENNSYLVANIA   \n",
       "INCIDENT_AREA_TYPE                                 NO DATA   \n",
       "CAUSE                        MATERIAL AND/OR WELD FAILURES   \n",
       "MAP_CAUSE                      MATERIAL/WELD/EQUIP FAILURE   \n",
       "MAP_SUBCAUSE                                   FILLET WELD   \n",
       "FATAL                                                    0   \n",
       "INJURE                                                   0   \n",
       "UNINTENTIONAL_RELEASE_BBLS                            1020   \n",
       "TOTAL_COST_IN84                                    9455143   \n",
       "TOTAL_COST_CURRENT                                20598257   \n",
       "ACCIDENT_PSIG                                            0   \n",
       "MOP_PSIG                                                 0   \n",
       "NAME                             BUCKEYE PIPE LINE COMPANY   \n",
       "OPERATOR_ID                                           1845   \n",
       "MATERIAL_INVOLVED                                  NO DATA   \n",
       "COMMODITY_RELEASED_TYPE                           GASOLINE   \n",
       "\n",
       "                                           3808                 5967   \\\n",
       "LOCAL_DATETIME               1994-08-06 13:00:00  2000-07-21 17:00:00   \n",
       "REPORT_NUMBER                           19940215             20000100   \n",
       "SIGNIFICANT                                  YES                  YES   \n",
       "SERIOUS                                       NO                   NO   \n",
       "ON_OFF_SHORE                             ONSHORE              ONSHORE   \n",
       "LOCATION_CITY_NAME                          GAIL                PASCO   \n",
       "LOCATION_COUNTY_NAME                      BORDEN             FRANKLIN   \n",
       "LOCATION_STATE_ABBREVIATION                TEXAS           WASHINGTON   \n",
       "INCIDENT_AREA_TYPE                       NO DATA              NO DATA   \n",
       "CAUSE                                  CORROSION            CORROSION   \n",
       "MAP_CAUSE                              CORROSION            CORROSION   \n",
       "MAP_SUBCAUSE                            EXTERNAL             EXTERNAL   \n",
       "FATAL                                          0                    0   \n",
       "INJURE                                         0                    0   \n",
       "UNINTENTIONAL_RELEASE_BBLS                   437                  900   \n",
       "TOTAL_COST_IN84                            15353               540615   \n",
       "TOTAL_COST_CURRENT                         33447              1177743   \n",
       "ACCIDENT_PSIG                               1145                  195   \n",
       "MOP_PSIG                                       0                    0   \n",
       "NAME                         CHEVRON PIPELINE CO       TIDEWATER, INC   \n",
       "OPERATOR_ID                                 2337                31051   \n",
       "MATERIAL_INVOLVED                        NO DATA              NO DATA   \n",
       "COMMODITY_RELEASED_TYPE                CRUDE OIL             GASOLINE   \n",
       "\n",
       "                                                               18585  \\\n",
       "LOCAL_DATETIME                                   2020-11-18 04:23:00   \n",
       "REPORT_NUMBER                                               20210010   \n",
       "SIGNIFICANT                                                       NO   \n",
       "SERIOUS                                                           NO   \n",
       "ON_OFF_SHORE                                                OFFSHORE   \n",
       "LOCATION_CITY_NAME                                       PORT GIBSON   \n",
       "LOCATION_COUNTY_NAME                                         ONTARIO   \n",
       "LOCATION_STATE_ABBREVIATION                                 NEW YORK   \n",
       "INCIDENT_AREA_TYPE                                       UNDERGROUND   \n",
       "CAUSE                                              EQUIPMENT FAILURE   \n",
       "MAP_CAUSE                                MATERIAL/WELD/EQUIP FAILURE   \n",
       "MAP_SUBCAUSE                 MALFUNCTION OF CONTROL/RELIEF EQUIPMENT   \n",
       "FATAL                                                              0   \n",
       "INJURE                                                             0   \n",
       "UNINTENTIONAL_RELEASE_BBLS                                         1   \n",
       "TOTAL_COST_IN84                                                 2535   \n",
       "TOTAL_COST_CURRENT                                              5510   \n",
       "ACCIDENT_PSIG                                                     15   \n",
       "MOP_PSIG                                                           9   \n",
       "NAME                              NEW YORK STATE ELECTRIC & GAS CORP   \n",
       "OPERATOR_ID                                                    13420   \n",
       "MATERIAL_INVOLVED                                              OTHER   \n",
       "COMMODITY_RELEASED_TYPE                                  NATURAL GAS   \n",
       "\n",
       "                                                               13960  \n",
       "LOCAL_DATETIME                                   2013-10-08 06:00:00  \n",
       "REPORT_NUMBER                                               20130117  \n",
       "SIGNIFICANT                                                      YES  \n",
       "SERIOUS                                                           NO  \n",
       "ON_OFF_SHORE                                                OFFSHORE  \n",
       "LOCATION_CITY_NAME                                         BELINGTON  \n",
       "LOCATION_COUNTY_NAME                                 RANDOLPH COUNTY  \n",
       "LOCATION_STATE_ABBREVIATION                            WEST VIRGINIA  \n",
       "INCIDENT_AREA_TYPE                                       UNDERGROUND  \n",
       "CAUSE                                              EQUIPMENT FAILURE  \n",
       "MAP_CAUSE                                MATERIAL/WELD/EQUIP FAILURE  \n",
       "MAP_SUBCAUSE                 MALFUNCTION OF CONTROL/RELIEF EQUIPMENT  \n",
       "FATAL                                                              0  \n",
       "INJURE                                                             0  \n",
       "UNINTENTIONAL_RELEASE_BBLS                                     62.83  \n",
       "TOTAL_COST_IN84                                                50664  \n",
       "TOTAL_COST_CURRENT                                            110166  \n",
       "ACCIDENT_PSIG                                                    513  \n",
       "MOP_PSIG                                                         100  \n",
       "NAME                                                   DOMINION HOPE  \n",
       "OPERATOR_ID                                                     7348  \n",
       "MATERIAL_INVOLVED                                            PLASTIC  \n",
       "COMMODITY_RELEASED_TYPE                                  NATURAL GAS  "
      ]
     },
     "execution_count": 63,
     "metadata": {},
     "output_type": "execute_result"
    }
   ],
   "source": [
    "processed_df.sample(10).T"
   ]
  },
  {
   "cell_type": "markdown",
   "metadata": {},
   "source": [
    "## 8. Data Visualization"
   ]
  },
  {
   "cell_type": "markdown",
   "metadata": {},
   "source": [
    "### 8.1 Correlation between variables"
   ]
  },
  {
   "cell_type": "code",
   "execution_count": 64,
   "metadata": {},
   "outputs": [
    {
     "data": {
      "text/html": [
       "<div>\n",
       "<style scoped>\n",
       "    .dataframe tbody tr th:only-of-type {\n",
       "        vertical-align: middle;\n",
       "    }\n",
       "\n",
       "    .dataframe tbody tr th {\n",
       "        vertical-align: top;\n",
       "    }\n",
       "\n",
       "    .dataframe thead th {\n",
       "        text-align: right;\n",
       "    }\n",
       "</style>\n",
       "<table border=\"1\" class=\"dataframe\">\n",
       "  <thead>\n",
       "    <tr style=\"text-align: right;\">\n",
       "      <th></th>\n",
       "      <th>REPORT_NUMBER</th>\n",
       "      <th>FATAL</th>\n",
       "      <th>INJURE</th>\n",
       "      <th>UNINTENTIONAL_RELEASE_BBLS</th>\n",
       "      <th>TOTAL_COST_IN84</th>\n",
       "      <th>TOTAL_COST_CURRENT</th>\n",
       "      <th>ACCIDENT_PSIG</th>\n",
       "      <th>MOP_PSIG</th>\n",
       "      <th>OPERATOR_ID</th>\n",
       "    </tr>\n",
       "  </thead>\n",
       "  <tbody>\n",
       "    <tr>\n",
       "      <th>REPORT_NUMBER</th>\n",
       "      <td>1.000000</td>\n",
       "      <td>-0.036985</td>\n",
       "      <td>-0.019117</td>\n",
       "      <td>0.096316</td>\n",
       "      <td>0.019141</td>\n",
       "      <td>0.018888</td>\n",
       "      <td>0.052905</td>\n",
       "      <td>0.317816</td>\n",
       "      <td>0.294913</td>\n",
       "    </tr>\n",
       "    <tr>\n",
       "      <th>FATAL</th>\n",
       "      <td>-0.036985</td>\n",
       "      <td>1.000000</td>\n",
       "      <td>0.046663</td>\n",
       "      <td>0.001408</td>\n",
       "      <td>0.066232</td>\n",
       "      <td>0.066270</td>\n",
       "      <td>-0.029313</td>\n",
       "      <td>-0.029446</td>\n",
       "      <td>-0.027488</td>\n",
       "    </tr>\n",
       "    <tr>\n",
       "      <th>INJURE</th>\n",
       "      <td>-0.019117</td>\n",
       "      <td>0.046663</td>\n",
       "      <td>1.000000</td>\n",
       "      <td>0.014856</td>\n",
       "      <td>0.030908</td>\n",
       "      <td>0.030925</td>\n",
       "      <td>-0.005986</td>\n",
       "      <td>-0.012769</td>\n",
       "      <td>-0.018022</td>\n",
       "    </tr>\n",
       "    <tr>\n",
       "      <th>UNINTENTIONAL_RELEASE_BBLS</th>\n",
       "      <td>0.096316</td>\n",
       "      <td>0.001408</td>\n",
       "      <td>0.014856</td>\n",
       "      <td>1.000000</td>\n",
       "      <td>0.028623</td>\n",
       "      <td>0.026918</td>\n",
       "      <td>0.133008</td>\n",
       "      <td>0.100280</td>\n",
       "      <td>-0.012459</td>\n",
       "    </tr>\n",
       "    <tr>\n",
       "      <th>TOTAL_COST_IN84</th>\n",
       "      <td>0.019141</td>\n",
       "      <td>0.066232</td>\n",
       "      <td>0.030908</td>\n",
       "      <td>0.028623</td>\n",
       "      <td>1.000000</td>\n",
       "      <td>0.999991</td>\n",
       "      <td>0.011844</td>\n",
       "      <td>0.011659</td>\n",
       "      <td>-0.009528</td>\n",
       "    </tr>\n",
       "    <tr>\n",
       "      <th>TOTAL_COST_CURRENT</th>\n",
       "      <td>0.018888</td>\n",
       "      <td>0.066270</td>\n",
       "      <td>0.030925</td>\n",
       "      <td>0.026918</td>\n",
       "      <td>0.999991</td>\n",
       "      <td>1.000000</td>\n",
       "      <td>0.011248</td>\n",
       "      <td>0.011135</td>\n",
       "      <td>-0.009510</td>\n",
       "    </tr>\n",
       "    <tr>\n",
       "      <th>ACCIDENT_PSIG</th>\n",
       "      <td>0.052905</td>\n",
       "      <td>-0.029313</td>\n",
       "      <td>-0.005986</td>\n",
       "      <td>0.133008</td>\n",
       "      <td>0.011844</td>\n",
       "      <td>0.011248</td>\n",
       "      <td>1.000000</td>\n",
       "      <td>0.698533</td>\n",
       "      <td>0.034533</td>\n",
       "    </tr>\n",
       "    <tr>\n",
       "      <th>MOP_PSIG</th>\n",
       "      <td>0.317816</td>\n",
       "      <td>-0.029446</td>\n",
       "      <td>-0.012769</td>\n",
       "      <td>0.100280</td>\n",
       "      <td>0.011659</td>\n",
       "      <td>0.011135</td>\n",
       "      <td>0.698533</td>\n",
       "      <td>1.000000</td>\n",
       "      <td>0.139551</td>\n",
       "    </tr>\n",
       "    <tr>\n",
       "      <th>OPERATOR_ID</th>\n",
       "      <td>0.294913</td>\n",
       "      <td>-0.027488</td>\n",
       "      <td>-0.018022</td>\n",
       "      <td>-0.012459</td>\n",
       "      <td>-0.009528</td>\n",
       "      <td>-0.009510</td>\n",
       "      <td>0.034533</td>\n",
       "      <td>0.139551</td>\n",
       "      <td>1.000000</td>\n",
       "    </tr>\n",
       "  </tbody>\n",
       "</table>\n",
       "</div>"
      ],
      "text/plain": [
       "                            REPORT_NUMBER     FATAL    INJURE  \\\n",
       "REPORT_NUMBER                    1.000000 -0.036985 -0.019117   \n",
       "FATAL                           -0.036985  1.000000  0.046663   \n",
       "INJURE                          -0.019117  0.046663  1.000000   \n",
       "UNINTENTIONAL_RELEASE_BBLS       0.096316  0.001408  0.014856   \n",
       "TOTAL_COST_IN84                  0.019141  0.066232  0.030908   \n",
       "TOTAL_COST_CURRENT               0.018888  0.066270  0.030925   \n",
       "ACCIDENT_PSIG                    0.052905 -0.029313 -0.005986   \n",
       "MOP_PSIG                         0.317816 -0.029446 -0.012769   \n",
       "OPERATOR_ID                      0.294913 -0.027488 -0.018022   \n",
       "\n",
       "                            UNINTENTIONAL_RELEASE_BBLS  TOTAL_COST_IN84  \\\n",
       "REPORT_NUMBER                                 0.096316         0.019141   \n",
       "FATAL                                         0.001408         0.066232   \n",
       "INJURE                                        0.014856         0.030908   \n",
       "UNINTENTIONAL_RELEASE_BBLS                    1.000000         0.028623   \n",
       "TOTAL_COST_IN84                               0.028623         1.000000   \n",
       "TOTAL_COST_CURRENT                            0.026918         0.999991   \n",
       "ACCIDENT_PSIG                                 0.133008         0.011844   \n",
       "MOP_PSIG                                      0.100280         0.011659   \n",
       "OPERATOR_ID                                  -0.012459        -0.009528   \n",
       "\n",
       "                            TOTAL_COST_CURRENT  ACCIDENT_PSIG  MOP_PSIG  \\\n",
       "REPORT_NUMBER                         0.018888       0.052905  0.317816   \n",
       "FATAL                                 0.066270      -0.029313 -0.029446   \n",
       "INJURE                                0.030925      -0.005986 -0.012769   \n",
       "UNINTENTIONAL_RELEASE_BBLS            0.026918       0.133008  0.100280   \n",
       "TOTAL_COST_IN84                       0.999991       0.011844  0.011659   \n",
       "TOTAL_COST_CURRENT                    1.000000       0.011248  0.011135   \n",
       "ACCIDENT_PSIG                         0.011248       1.000000  0.698533   \n",
       "MOP_PSIG                              0.011135       0.698533  1.000000   \n",
       "OPERATOR_ID                          -0.009510       0.034533  0.139551   \n",
       "\n",
       "                            OPERATOR_ID  \n",
       "REPORT_NUMBER                  0.294913  \n",
       "FATAL                         -0.027488  \n",
       "INJURE                        -0.018022  \n",
       "UNINTENTIONAL_RELEASE_BBLS    -0.012459  \n",
       "TOTAL_COST_IN84               -0.009528  \n",
       "TOTAL_COST_CURRENT            -0.009510  \n",
       "ACCIDENT_PSIG                  0.034533  \n",
       "MOP_PSIG                       0.139551  \n",
       "OPERATOR_ID                    1.000000  "
      ]
     },
     "execution_count": 64,
     "metadata": {},
     "output_type": "execute_result"
    }
   ],
   "source": [
    "processed_df.corr(method='pearson')"
   ]
  }
 ],
 "metadata": {
  "kernelspec": {
   "display_name": "Python [conda env:ironhack_env]",
   "language": "python",
   "name": "conda-env-ironhack_env-py"
  },
  "language_info": {
   "codemirror_mode": {
    "name": "ipython",
    "version": 3
   },
   "file_extension": ".py",
   "mimetype": "text/x-python",
   "name": "python",
   "nbconvert_exporter": "python",
   "pygments_lexer": "ipython3",
   "version": "3.8.8"
  }
 },
 "nbformat": 4,
 "nbformat_minor": 4
}
