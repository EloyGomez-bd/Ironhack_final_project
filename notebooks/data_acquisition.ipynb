{
 "cells": [
  {
   "cell_type": "code",
   "execution_count": 64,
   "metadata": {},
   "outputs": [],
   "source": [
    "import os \n",
    "import pandas as pd\n",
    "import numpy as np\n",
    "from datetime import datetime\n",
    "import seaborn as sn"
   ]
  },
  {
   "cell_type": "markdown",
   "metadata": {},
   "source": [
    "## Obtaining Data"
   ]
  },
  {
   "cell_type": "code",
   "execution_count": 2,
   "metadata": {},
   "outputs": [],
   "source": [
    "path = '../data/raw/'"
   ]
  },
  {
   "cell_type": "code",
   "execution_count": 3,
   "metadata": {},
   "outputs": [],
   "source": [
    "def df_classifier(path,service,sheet):\n",
    "    \n",
    "    df_list =[]\n",
    "    \n",
    "    for root, dirs, files in os.walk(path):\n",
    "        \n",
    "        for filename in files:\n",
    "            \n",
    "            if filename.startswith(service):\n",
    "                \n",
    "                df_list.append(pd.read_excel(f'{path}{filename}', sheet_name=sheet))\n",
    "            \n",
    "                print(filename)\n",
    "                \n",
    "            elif service == 'all':\n",
    "                \n",
    "                df_list.append(pd.read_excel(f'{path}{filename}', sheet_name=sheet))\n",
    "                \n",
    "                print(filename)\n",
    "                \n",
    "    return df_list"
   ]
  },
  {
   "cell_type": "code",
   "execution_count": 4,
   "metadata": {},
   "outputs": [
    {
     "name": "stdout",
     "output_type": "stream",
     "text": [
      "hl1986to2001.xlsx\n",
      "gtgg1986to2001.xlsx\n",
      "hl2010toPresent.xlsx\n",
      "hl2002to2009.xlsx\n",
      "lng2011toPresent.xlsx\n",
      "gd2010toPresent.xlsx\n",
      "gtgg2002to2009.xlsx\n",
      "gtggungs2010toPresent.xlsx\n",
      "gdmar2004to2009.xlsx\n",
      "gd1986tofeb2004.xlsx\n"
     ]
    }
   ],
   "source": [
    "df_list = df_classifier(path, 'all', 1)"
   ]
  },
  {
   "cell_type": "markdown",
   "metadata": {},
   "source": [
    "## Cleaning Data"
   ]
  },
  {
   "cell_type": "markdown",
   "metadata": {},
   "source": [
    "### 0. Previous modifications before removing nan columns"
   ]
  },
  {
   "cell_type": "code",
   "execution_count": 5,
   "metadata": {},
   "outputs": [],
   "source": [
    "# Fix locations of datesets hl2010toPresent and gtggungs2010toPresent\n",
    "\n",
    "list_index = [2, 7]\n",
    "\n",
    "for i in list_index:\n",
    "    \n",
    "    df_list[i].ONSHORE_CITY_NAME.fillna('', inplace=True)\n",
    "    df_list[i].OFF_ACCIDENT_ORIGIN.fillna('', inplace=True)\n",
    "    df_list[i].ONSHORE_COUNTY_NAME.fillna('', inplace=True)\n",
    "    df_list[i].OFFSHORE_COUNTY_NAME.fillna('', inplace=True)\n",
    "    df_list[i].ONSHORE_STATE_ABBREVIATION.fillna('', inplace=True)\n",
    "    df_list[i].OFFSHORE_STATE_ABBREVIATION.fillna('', inplace=True)\n",
    "    \n",
    "    df_list[i]['LOCATION_CITY_NAME'] = df_list[i].apply(lambda x: \n",
    "                                                 x.ONSHORE_CITY_NAME + x.OFF_ACCIDENT_ORIGIN, axis=1)\n",
    "    df_list[i]['LOCATION_COUNTY_NAME'] = df_list[i].apply(lambda x: \n",
    "                                                 x.ONSHORE_COUNTY_NAME + x.OFFSHORE_COUNTY_NAME, axis=1)\n",
    "    df_list[i]['LOCATION_STATE_ABBREVIATION'] = df_list[i].apply(lambda x: \n",
    "                                                 x.ONSHORE_STATE_ABBREVIATION + x.OFFSHORE_STATE_ABBREVIATION, axis=1)"
   ]
  },
  {
   "cell_type": "code",
   "execution_count": 6,
   "metadata": {},
   "outputs": [],
   "source": [
    "# Fix FATAL and INJURIES columns\n",
    "\n",
    "for df in df_list:\n",
    "    \n",
    "    if 'FATAL' in df:\n",
    "    \n",
    "        df['FATAL'].fillna(0, inplace = True)\n",
    "        \n",
    "    if 'INJURE' in df:\n",
    "        \n",
    "        df['INJURE'].fillna(0, inplace = True)"
   ]
  },
  {
   "cell_type": "code",
   "execution_count": 7,
   "metadata": {},
   "outputs": [],
   "source": [
    "df_list[3]['INC_PRS'].fillna(0, inplace=True)"
   ]
  },
  {
   "cell_type": "markdown",
   "metadata": {},
   "source": [
    "### 1. Fixing Datetime Column"
   ]
  },
  {
   "cell_type": "code",
   "execution_count": 8,
   "metadata": {},
   "outputs": [],
   "source": [
    "def time(df_column):\n",
    "    \n",
    "    return pd.to_datetime(df_column, format=\"%Y-%m-%d %H:%M:%S\")"
   ]
  },
  {
   "cell_type": "code",
   "execution_count": 9,
   "metadata": {},
   "outputs": [],
   "source": [
    "for df in df_list:\n",
    "    \n",
    "    df.rename(columns={'IHOUR' : 'DTHH'}, inplace=True)\n",
    "    \n",
    "    if 'DTHH' in df:\n",
    "        \n",
    "        if df['DTHH'].dtype == 'object':\n",
    "            \n",
    "            # It seems there are some rows with 'spaces' we need to feel to convert the column to integer\n",
    "\n",
    "            df.loc[df['DTHH'].str.contains(r'\\s+') == True, ['DTHH']] = '0000'\n",
    "        \n",
    "        df['DTHH'].fillna(0, inplace = True)\n",
    "    \n",
    "        df['DTHH'] = df['DTHH'].astype('int64')\n",
    "        \n",
    "        # Check that there are no times above 2400\n",
    "\n",
    "        df.loc[df['DTHH'] >= 2400, ['DTHH']] = 0\n",
    "        \n",
    "        # Convert column to string\n",
    "\n",
    "        df['DTHH'] = df['DTHH'].astype('str')\n",
    "\n",
    "        # Add leading zeros\n",
    "\n",
    "        df['DTHH'] = df.apply(lambda x: x.DTHH.zfill(4), axis=1)\n",
    "\n",
    "        # Add trailing zeros\n",
    "\n",
    "        df['DTHH'] = df.apply(lambda x: x.DTHH.ljust(6, '0'), axis=1)\n",
    "\n",
    "        # And insert colon in the date to fit the format\n",
    "\n",
    "        df['DTHH'] = df.apply(lambda x: ':'.join(x['DTHH'][i:i+2] for i in range(0, len(x['DTHH']), 2)), axis=1)\n",
    "\n",
    "        df['LOCAL_DATETIME'] = df['IDATE'].astype('str').str.cat(df['DTHH'],sep=\" \")\n",
    "        \n",
    "        df.drop(df[df['LOCAL_DATETIME'] == '1998-09-17 01:63:00'].index, inplace = True)"
   ]
  },
  {
   "cell_type": "code",
   "execution_count": 10,
   "metadata": {},
   "outputs": [],
   "source": [
    "# Apply Time Function\n",
    "\n",
    "for df in df_list:\n",
    "    \n",
    "    if df['LOCAL_DATETIME'].dtype == 'object':\n",
    "    \n",
    "        df['LOCAL_DATETIME'] = df.apply(lambda x: time(x.LOCAL_DATETIME), axis=1)"
   ]
  },
  {
   "cell_type": "markdown",
   "metadata": {},
   "source": [
    "### 2. Drop columns with high nan percentage"
   ]
  },
  {
   "cell_type": "code",
   "execution_count": 11,
   "metadata": {},
   "outputs": [],
   "source": [
    "def nan_removal(df, percentage):\n",
    "\n",
    "    nan_values = df.isna().sum()\n",
    "        \n",
    "    nan_percentage = nan_values / len(df) * 100\n",
    "        \n",
    "    filter_nan_percentage = nan_percentage > percentage\n",
    "    \n",
    "    high_nan_columns = df.columns[filter_nan_percentage].to_list()\n",
    "    \n",
    "    return df.drop(columns=high_nan_columns, inplace=True)"
   ]
  },
  {
   "cell_type": "markdown",
   "metadata": {},
   "source": [
    "### 3. Renaming of variables to be used."
   ]
  },
  {
   "cell_type": "code",
   "execution_count": 12,
   "metadata": {},
   "outputs": [],
   "source": [
    "for df in df_list:\n",
    "    \n",
    "    df.rename(columns={'ACCTY' : 'LOCATION_CITY_NAME',\n",
    "                       'FACILITY_NAME' : 'LOCATION_CITY_NAME',\n",
    "                       'ACCITY' : 'LOCATION_CITY_NAME',\n",
    "                      'ACCNT' : 'LOCATION_COUNTY_NAME',\n",
    "                       'ACCOUNTY' : 'LOCATION_COUNTY_NAME',\n",
    "                       'ACCST' : 'LOCATION_STATE_ABBREVIATION',\n",
    "                       'ACSTATE' : 'LOCATION_STATE_ABBREVIATION',\n",
    "                       'FACILITY_STATE' : 'LOCATION_STATE_ABBREVIATION',\n",
    "                       'ACZIP' : 'LOCATION_POSTAL_CODE',\n",
    "                       'LATITUDE' : 'LOCATION_LATITUDE',\n",
    "                       'LONGITUDE' : 'LOCATION_LONGITUDE',\n",
    "                       'FACILITY_LATITUDE' : 'LOCATION_LATITUDE',\n",
    "                       'FACILITY_LONGITUDE' : 'LOCATION_LONGITUDE',\n",
    "                       'RPTID' : 'REPORT_NUMBER',\n",
    "                       'INADR' : 'LOCATION_STREET_ADDRESS',\n",
    "                       'CLASS' : 'CLASS_LOCATION_TYPE',\n",
    "                       'COMM' : 'COMMODITY_RELEASED_TYPE',\n",
    "                       'CSYS' : 'SYSTEM_PART_INVOLVED',\n",
    "                       'OFFSHORE' : 'ON_OFF_SHORE',\n",
    "                       'SHORE' : 'ON_OFF_SHORE',\n",
    "                       'OFFSHORE_TEXT' : 'ON_OFF_SHORE',\n",
    "                      'OPID' : 'OPERATOR_ID',\n",
    "                      'IFED' : 'FEDERAL',\n",
    "                       'INTER_INTRA':'PIPE_FACILITY_TYPE',\n",
    "                       'INTER_TEXT' : 'PIPE_FACILITY_TYPE',\n",
    "                       'INTER' : 'PIPE_FACILITY_TYPE',\n",
    "                       'TFAT' : 'FATAL',\n",
    "                       'EFAT' : 'NUM_EMP_FATALITIES',\n",
    "                       'FAT' : 'FATAL',\n",
    "                       'TINJ' : 'INJURE',\n",
    "                       'EINJ' : 'NUM_EMP_INJURIES',\n",
    "                       'INJ' : 'INJURE',\n",
    "                       'ACPRS' : 'ACCIDENT_PSIG',\n",
    "                       'INPRS' : 'ACCIDENT_PSIG',\n",
    "                       'INC_PRS' : 'ACCIDENT_PSIG',\n",
    "                       'MAOP' : 'MOP_PSIG',\n",
    "                       'MXPRS' : 'MOP_PSIG',\n",
    "                       'DSPRS' : 'MOP_PSIG',\n",
    "                       'PRTST' : 'MOP_CFR_SECTION',\n",
    "                       'TEST' : 'EX_HYDROTEST_PRESSURE',\n",
    "                       'PRTLK' : 'CUSTOMER_TYPE',\n",
    "                       'MLKD' : 'MATERIAL_INVOLVED',\n",
    "                       'MLKD_TEXT' : 'MATERIAL_INVOLVED',\n",
    "                       'NMDIA' : 'PIPE_DIAMETER',\n",
    "                       'NPS' : 'PIPE_DIAMETER',\n",
    "                       'THK' : 'WT_STEEL',\n",
    "                       'SPEC' : 'PIPE_SPECIFICATION',\n",
    "                       'PRTYR' : 'INSTALLATION_YEAR',\n",
    "                       'ITMYR' : 'INSTALLATION_YEAR',\n",
    "                       'MANYR' : 'MANUFACTURED_YEAR',\n",
    "                       'MANU' : 'PIPE_MANUFACTURER',\n",
    "                       'LOCLK' : 'INCIDENT_AREA_TYPE',\n",
    "                       'LOCLK_TEXT' : 'INCIDENT_AREA_TYPE',\n",
    "                       'PNAME' : 'PREPARER_NAME',\n",
    "                       'PHONE' : 'PREPARER_PHONE',\n",
    "                       'PPHONE' : 'PREPARER_PHONE',\n",
    "                       'PROT' : 'UNDER_CATHODIC_PROTECTION_IND',\n",
    "                       'FACAT' : 'UNDER_CATHODIC_PROTECTION_IND',\n",
    "                       'CAULK' : 'CAUSE_DETAILS',\n",
    "                       'ITYPE' : 'RELEASE_TYPE',\n",
    "                       'LRTYPE_TEXT' : 'RELEASE_TYPE',\n",
    "                       'ORGLK' : 'ITEM_INVOLVED',\n",
    "                       'PRTSY_TEXT' : 'ITEM_INVOLVED',\n",
    "                       'PRTSY' : 'ITEM_INVOLVED',\n",
    "                       'PRTFL' : 'SYSTEM_PART_DETAILS',\n",
    "                       'PRTFL_TEXT' : 'SYSTEM_PART_DETAILS',\n",
    "                       'LOSS' : 'UNINTENTIONAL_RELEASE_BBLS',\n",
    "                       'RECOV' : 'RECOVERED_BBLS',\n",
    "                       'FIRE' : 'IGNITE_IND',\n",
    "                       'IGNITE' : 'IGNITE_IND',\n",
    "                       'EXP' : 'EXPLODE_IND',\n",
    "                       'EXPLO' : 'EXPLODE_IND',\n",
    "                       'SMYS' : 'PIPE_SMYS',\n",
    "                       'CORRO' : 'CORROSION_TYPE',\n",
    "                       'UNINTENTIONAL_RELEASE' : 'UNINTENTIONAL_RELEASE_BBLS'\n",
    "                      }, inplace=True)"
   ]
  },
  {
   "cell_type": "markdown",
   "metadata": {},
   "source": [
    "### 4. Fill nan values and remove useless columns"
   ]
  },
  {
   "cell_type": "code",
   "execution_count": 13,
   "metadata": {},
   "outputs": [],
   "source": [
    "def nan_col_selection(df):\n",
    "    \n",
    "    return df.columns[df.isna().any()].tolist()"
   ]
  },
  {
   "cell_type": "code",
   "execution_count": 14,
   "metadata": {},
   "outputs": [],
   "source": [
    "def fillna_num_col(df, column_list):\n",
    "    \n",
    "    return df[column_list].select_dtypes(include=['float64', 'int64']).fillna(0)"
   ]
  },
  {
   "cell_type": "code",
   "execution_count": 15,
   "metadata": {},
   "outputs": [],
   "source": [
    "def fillna_cat_col(df, column_list):\n",
    "    \n",
    "    return df[column_list].select_dtypes(exclude=['float64', 'int64']).fillna('NO DATA')"
   ]
  },
  {
   "cell_type": "code",
   "execution_count": 16,
   "metadata": {},
   "outputs": [],
   "source": [
    "def df_clean(df, df_cat, df_num):\n",
    "    \n",
    "    for column in df_cat.columns:\n",
    "    \n",
    "        df[column] = df_cat[column]\n",
    "    \n",
    "    for column in df_num.columns:\n",
    "    \n",
    "        df[column] = df_num[column]\n",
    "        \n",
    "    return df"
   ]
  },
  {
   "cell_type": "code",
   "execution_count": 17,
   "metadata": {},
   "outputs": [],
   "source": [
    "for df in df_list:\n",
    "    \n",
    "    df.drop(columns=[\n",
    "                        'DATAFILE_AS_OF','OPSTREET', 'OPCITY', 'OPCOUNTY', 'OPSTATE',\n",
    "                       'OPZIP', 'PPPRP', 'PPPRPCURRENT', 'EMRPRP', 'ACSTREET',\n",
    "                       'EMRPRPCURRENT', 'ENVPRP', 'ENVPRPCURRENT', 'OPCPRP', 'OPCPRPCURRENT',\n",
    "                       'PRODPRP', 'PRODPRPCURRENT', 'OOPRP', 'OOPRPCURRENT', 'OOPPRP', 'GASPRP',\n",
    "                       'GASPRPCURRENT', 'OPPRP', 'OPPRPCURRENT', 'NUM_EMP_FATALITIES',\n",
    "                       'OOPPRPCURRENT', 'IPE', 'IA_IPE', 'OM_IPE', 'NUM_EMP_INJURIES',\n",
    "                        'SUPPLEMENTAL_NUMBER', 'REPORT_RECEIVED_DATE', 'REPORT_TYPE',\n",
    "                        'OPERATOR_STREET_ADDRESS', 'OPERATOR_CITY_NAME', 'CUSTOMER_TYPE',\n",
    "                        'OPERATOR_STATE_ABBREVIATION', 'OPERATOR_POSTAL_CODE', 'IYEAR',\n",
    "                        'LOCATION_POSTAL_CODE', 'ONSHORE_POSTAL_CODE', \n",
    "                        'ONSHORE_CITY_NAME', 'OFF_ACCIDENT_ORIGIN', 'ONSHORE_COUNTY_NAME', \n",
    "                        'OFFSHORE_COUNTY_NAME', 'ONSHORE_STATE_ABBREVIATION', 'OFFSHORE_STATE_ABBREVIATION',\n",
    "                        'EST_COST_OPER_PAID','EST_COST_OPER_PAID_CURRENT', 'EST_COST_GAS_RELEASED',\n",
    "                       'EST_COST_GAS_RELEASED_CURRENT', 'EST_COST_PROP_DAMAGE',\n",
    "                       'EST_COST_PROP_DAMAGE_CURRENT', 'EST_COST_EMERGENCY',\n",
    "                       'EST_COST_EMERGENCY_CURRENT', 'EST_COST_ENVIRONMENTAL', 'IDATE', 'DTHH',\n",
    "                       'EST_COST_ENVIRONMENTAL_CURRENT', 'EST_COST_OTHER',\n",
    "                       'EST_COST_OTHER_CURRENT', 'CORLC', 'EXT_INT_CORROSION',\n",
    "                        'PREPARER_NAME', 'PREPARER_TITLE', 'PREPARER_EMAIL','PREPARER_PHONE',\n",
    "                       'PREPARER_TELEPHONE', 'PREPARED_DATE', 'AUTHORIZER_NAME',\n",
    "                       'AUTHORIZER_TITLE', 'AUTHORIZER_TELEPHONE', 'AUTHORIZER_EMAIL', 'FATALITY_IND',\n",
    "                        'INJURY_IND','SHUTDOWN_DUE_ACCIDENT_IND', 'INCIDENT_IDENTIFIED_DATETIME',\n",
    "                           'ON_SITE_DATETIME', 'DESIGNATED_NAME', 'NUM_PUB_EVACUATED',\n",
    "                           'PIPE_FAC_NAME', 'SEGMENT_NAME', 'FEDERAL', 'LOCATION_TYPE', \n",
    "                           'CROSSING','SYSTEM_PART_INVOLVED', 'DESIGNATED_LOCATION', 'WILDLIFE_IMPACT_IND',\n",
    "                           'SOIL_CONTAMINATION','LONG_TERM_ASSESSMENT', 'REMEDIATION_IND', \n",
    "                           'WATER_CONTAM_IND', 'COULD_BE_HCA', 'COMMODITY_REACHED_HCA', 'ACCIDENT_PRESSURE',\n",
    "                           'PRESSURE_RESTRICTION_IND', 'PART_C_QUESTION_2_IND', 'PIPELINE_FUNCTION', 'SCADA_IN_PLACE_IND', 'CPM_IN_PLACE_IND',\n",
    "                           'ACCIDENT_IDENTIFIER', 'INVESTIGATION_STATUS', 'EMPLOYEE_DRUG_TEST_IND',\n",
    "                            'CONTRACTOR_DRUG_TEST_IND','SPILL_TYPE_CATEGORY', 'MOP_CFR_SECTION',\n",
    "                           'SCADA_OPERATING_IND', 'SCADA_FUNCTIONAL_IND', 'SCADA_DETECTION_IND',\n",
    "                           'SCADA_CONF_IND','NRC_RPT_NUM', 'NRC_RPT_DATETIME', 'INTENTIONAL_RELEASE'\n",
    "                          ],errors='ignore', inplace=True)\n",
    "    \n",
    "    nan_removal(df, 20)\n",
    "    \n",
    "    df_clean(df, fillna_cat_col(df, nan_col_selection(df)), fillna_num_col(df, nan_col_selection(df)))"
   ]
  },
  {
   "cell_type": "markdown",
   "metadata": {},
   "source": [
    "### 5. Selecting variables"
   ]
  },
  {
   "cell_type": "markdown",
   "metadata": {},
   "source": [
    "### - hl_1986_to_2001"
   ]
  },
  {
   "cell_type": "code",
   "execution_count": 18,
   "metadata": {},
   "outputs": [],
   "source": [
    "df_list[0].drop(columns = ['COOR', 'SPLOC', 'TELRN', 'ORGLO',\n",
    "                          'CAUSO', 'NFAT', 'NINJ', 'CORR', 'PREVT',\n",
    "                          'JNT', 'MOP_PSIG', 'DUR', 'CAULO', 'TMPMK',\n",
    "                          'FACTD', 'ONECL', 'ONEOT', 'EXCAL'],errors='ignore', inplace=True)"
   ]
  },
  {
   "cell_type": "code",
   "execution_count": 19,
   "metadata": {},
   "outputs": [],
   "source": [
    "df_list[0].PIPE_FACILITY_TYPE.replace(['YES', 'NO'],['INTERSTATE', 'INTRASTATE'], inplace=True)"
   ]
  },
  {
   "cell_type": "code",
   "execution_count": 20,
   "metadata": {},
   "outputs": [],
   "source": [
    "df_list[0].ON_OFF_SHORE.replace(['YES', 'NO'],['OFFSHORE', 'ONSHORE'], inplace=True)"
   ]
  },
  {
   "cell_type": "code",
   "execution_count": 21,
   "metadata": {},
   "outputs": [
    {
     "data": {
      "text/plain": [
       "Index(['SIGNIFICANT', 'SERIOUS', 'REPORT_NUMBER', 'OPERATOR_ID', 'NAME',\n",
       "       'PIPE_FACILITY_TYPE', 'LOCATION_STATE_ABBREVIATION',\n",
       "       'LOCATION_COUNTY_NAME', 'LOCATION_CITY_NAME', 'ON_OFF_SHORE',\n",
       "       'ITEM_INVOLVED', 'INSTALLATION_YEAR', 'CAUSE', 'MAP_CAUSE',\n",
       "       'MAP_SUBCAUSE', 'FATAL', 'INJURE', 'TOTAL_COST', 'TOTAL_COST_IN84',\n",
       "       'TOTAL_COST_CURRENT', 'COMMODITY_RELEASED_TYPE', 'CLASS_LOCATION_TYPE',\n",
       "       'UNINTENTIONAL_RELEASE_BBLS', 'RECOVERED_BBLS', 'IGNITE_IND',\n",
       "       'EXPLODE_IND', 'PIPE_DIAMETER', 'WT_STEEL', 'PIPE_SMYS',\n",
       "       'ACCIDENT_PSIG', 'UNDER_CATHODIC_PROTECTION_IND', 'CORROSION_TYPE',\n",
       "       'CAUSE_DETAILS', 'NARRATIVE', 'LOCAL_DATETIME'],\n",
       "      dtype='object')"
      ]
     },
     "execution_count": 21,
     "metadata": {},
     "output_type": "execute_result"
    }
   ],
   "source": [
    "df_list[0].columns"
   ]
  },
  {
   "cell_type": "markdown",
   "metadata": {},
   "source": [
    "### - gtgg_1986_to_2001"
   ]
  },
  {
   "cell_type": "code",
   "execution_count": 22,
   "metadata": {},
   "outputs": [],
   "source": [
    "df_list[1].drop(columns = ['MPOST', 'SURVY', 'OFFAREA', 'BNUMB',\n",
    "                          'OFFST', 'OCS', 'OPJUD', 'STHH',\n",
    "                          'STMN', 'TELRN', 'TELRT', 'MPEST', 'PRTFO',\n",
    "                          'PRTSY', 'PRTSO', 'SEAM', 'LOCLO', 'DESCO',\n",
    "                            'CAUCO', 'DMGO', 'NOTIF', 'MARK', 'MRKTP',\n",
    "                          'CAULO', 'STAT', 'CTEST', 'MEDO', 'MLKDO'], errors='ignore', inplace=True)"
   ]
  },
  {
   "cell_type": "code",
   "execution_count": 23,
   "metadata": {},
   "outputs": [],
   "source": [
    "df_list[1].ON_OFF_SHORE.replace(['YES', 'NO'],['OFFSHORE', 'ONSHORE'], inplace=True)"
   ]
  },
  {
   "cell_type": "code",
   "execution_count": 24,
   "metadata": {},
   "outputs": [],
   "source": [
    "df_list[1].COMMODITY_RELEASED_TYPE = 'NATURAL GAS'"
   ]
  },
  {
   "cell_type": "code",
   "execution_count": 25,
   "metadata": {},
   "outputs": [
    {
     "data": {
      "text/plain": [
       "Index(['SIGNIFICANT', 'SERIOUS', 'SYSTEM_TYPE', 'REPORT_NUMBER', 'OPERATOR_ID',\n",
       "       'NAME', 'LOCATION_CITY_NAME', 'LOCATION_COUNTY_NAME',\n",
       "       'LOCATION_STATE_ABBREVIATION', 'CLASS_LOCATION_TYPE', 'ON_OFF_SHORE',\n",
       "       'RELEASE_TYPE', 'FATAL', 'INJURE', 'TOTAL_COST', 'TOTAL_COST_IN84',\n",
       "       'TOTAL_COST_CURRENT', 'ACCIDENT_PSIG', 'MOP_PSIG',\n",
       "       'EX_HYDROTEST_PRESSURE', 'CAUSE', 'MAP_CAUSE', 'MAP_SUBCAUSE',\n",
       "       'SYSTEM_PART_DETAILS', 'MATERIAL_INVOLVED', 'ITEM_INVOLVED',\n",
       "       'INSTALLATION_YEAR', 'PIPE_DIAMETER', 'WT_STEEL', 'PIPE_SPECIFICATION',\n",
       "       'PIPE_SMYS', 'PIPE_MANUFACTURER', 'MANUFACTURED_YEAR',\n",
       "       'INCIDENT_AREA_TYPE', 'UNDER_CATHODIC_PROTECTION_IND', 'CAUSE_DETAILS',\n",
       "       'NARRATIVE', 'LOCAL_DATETIME'],\n",
       "      dtype='object')"
      ]
     },
     "execution_count": 25,
     "metadata": {},
     "output_type": "execute_result"
    }
   ],
   "source": [
    "df_list[1].columns"
   ]
  },
  {
   "cell_type": "markdown",
   "metadata": {},
   "source": [
    "### - gd_1986_to_2004"
   ]
  },
  {
   "cell_type": "code",
   "execution_count": 26,
   "metadata": {},
   "outputs": [],
   "source": [
    "df_list[9].drop(columns = ['OPJUD', 'STHH', 'STMN', 'TELRN', 'TELRT' ,\n",
    "                           'MPEST', 'NOTIF', 'MARK', 'STAT'],errors='ignore', inplace=True)"
   ]
  },
  {
   "cell_type": "code",
   "execution_count": 27,
   "metadata": {},
   "outputs": [
    {
     "data": {
      "text/plain": [
       "Index(['SIGNIFICANT', 'SERIOUS', 'REPORT_NUMBER', 'OPERATOR_ID', 'NAME',\n",
       "       'LOCATION_STREET_ADDRESS', 'LOCATION_CITY_NAME', 'LOCATION_COUNTY_NAME',\n",
       "       'LOCATION_STATE_ABBREVIATION', 'CLASS_LOCATION_TYPE', 'FATAL', 'INJURE',\n",
       "       'TOTAL_COST', 'TOTAL_COST_IN84', 'TOTAL_COST_CURRENT', 'ACCIDENT_PSIG',\n",
       "       'MOP_PSIG', 'EX_HYDROTEST_PRESSURE', 'CAUSE', 'MAP_CAUSE',\n",
       "       'MAP_SUBCAUSE', 'SYSTEM_PART_DETAILS', 'MATERIAL_INVOLVED',\n",
       "       'PIPE_DIAMETER', 'WT_STEEL', 'PIPE_SPECIFICATION', 'PIPE_MANUFACTURER',\n",
       "       'MANUFACTURED_YEAR', 'INSTALLATION_YEAR', 'INCIDENT_AREA_TYPE',\n",
       "       'UNDER_CATHODIC_PROTECTION_IND', 'CAUSE_DETAILS', 'NARRATIVE',\n",
       "       'LOCAL_DATETIME'],\n",
       "      dtype='object')"
      ]
     },
     "execution_count": 27,
     "metadata": {},
     "output_type": "execute_result"
    }
   ],
   "source": [
    "df_list[9].columns"
   ]
  },
  {
   "cell_type": "markdown",
   "metadata": {},
   "source": [
    "### - hl_2002_to_2009"
   ]
  },
  {
   "cell_type": "code",
   "execution_count": 28,
   "metadata": {},
   "outputs": [],
   "source": [
    "df_list[3].drop(columns = ['DOR', 'IYEAR', 'SPILLED', 'CLASS_TEXT', 'SPUNIT_TEXT',\n",
    "                           'PEMAIL', 'NFAT', 'GPFAT', 'NINJ', 'GPINJ',\n",
    "                          'IO_DRUG', 'IO_ALCO'],errors='ignore', inplace=True)"
   ]
  },
  {
   "cell_type": "code",
   "execution_count": 29,
   "metadata": {},
   "outputs": [
    {
     "data": {
      "text/plain": [
       "Index(['SIGNIFICANT', 'SERIOUS', 'REPORT_NUMBER', 'OPERATOR_ID', 'NAME',\n",
       "       'LOCATION_LATITUDE', 'LOCATION_LONGITUDE', 'LOCATION_CITY_NAME',\n",
       "       'LOCATION_COUNTY_NAME', 'LOCATION_STATE_ABBREVIATION', 'TOTAL_COST',\n",
       "       'TOTAL_COST_IN84', 'TOTAL_COST_CURRENT', 'COMMODITY_RELEASED_TYPE',\n",
       "       'UNINTENTIONAL_RELEASE_BBLS', 'RECOVERED_BBLS', 'ON_OFF_SHORE',\n",
       "       'ACCIDENT_PSIG', 'FATAL', 'INJURE', 'CAUSE', 'MAP_CAUSE',\n",
       "       'MAP_SUBCAUSE', 'LOCAL_DATETIME'],\n",
       "      dtype='object')"
      ]
     },
     "execution_count": 29,
     "metadata": {},
     "output_type": "execute_result"
    }
   ],
   "source": [
    "df_list[3].columns"
   ]
  },
  {
   "cell_type": "markdown",
   "metadata": {},
   "source": [
    "### - gtgg_2002_to_2009"
   ]
  },
  {
   "cell_type": "code",
   "execution_count": 30,
   "metadata": {},
   "outputs": [],
   "source": [
    "df_list[6].drop(columns = ['DOR', 'IYEAR', 'OCS', 'HIGHCON',\n",
    "                           'PEMAIL', 'NFAT', 'GPFAT', 'NINJ', 'GPINJ', 'EVAC',\n",
    "                           'EVACNO', 'STHH', 'TELRN', 'TELDT',\n",
    "                          'MAOPSEC1', 'MAOPSEC2', 'MAOPSEC3', 'MAOPSEC4',\n",
    "                           'MAOPSECC', 'OVERPRS', 'PLAS_DUCT', 'PLAS_BRIT',\n",
    "                           'PLAS_JNT', 'TYSYS_TEXT'\n",
    "                          ],errors='ignore', inplace=True)"
   ]
  },
  {
   "cell_type": "code",
   "execution_count": 31,
   "metadata": {},
   "outputs": [
    {
     "data": {
      "text/plain": [
       "Index(['SIGNIFICANT', 'SERIOUS', 'SYSTEM_TYPE', 'REPORT_NUMBER', 'OPERATOR_ID',\n",
       "       'NAME', 'LOCATION_STATE_ABBREVIATION', 'LOCATION_LATITUDE',\n",
       "       'LOCATION_LONGITUDE', 'ON_OFF_SHORE', 'PIPE_FACILITY_TYPE',\n",
       "       'RELEASE_TYPE', 'FATAL', 'INJURE', 'TOTAL_COST', 'TOTAL_COST_IN84',\n",
       "       'TOTAL_COST_CURRENT', 'IGNITE_IND', 'EXPLODE_IND', 'ACCIDENT_PSIG',\n",
       "       'MOP_PSIG', 'SYSTEM_PART_DETAILS', 'MATERIAL_INVOLVED', 'ITEM_INVOLVED',\n",
       "       'INSTALLATION_YEAR', 'PIPE_DIAMETER', 'INCIDENT_AREA_TYPE', 'CAUSE',\n",
       "       'CAUSE_DETAILS', 'MAP_CAUSE', 'MAP_SUBCAUSE', 'NARRATIVE',\n",
       "       'LOCAL_DATETIME'],\n",
       "      dtype='object')"
      ]
     },
     "execution_count": 31,
     "metadata": {},
     "output_type": "execute_result"
    }
   ],
   "source": [
    "df_list[6].columns"
   ]
  },
  {
   "cell_type": "markdown",
   "metadata": {},
   "source": [
    "### - gd_2004_to_2009"
   ]
  },
  {
   "cell_type": "code",
   "execution_count": 32,
   "metadata": {},
   "outputs": [],
   "source": [
    "df_list[8].drop(columns = ['FF', 'DOR', 'IYEAR', 'OCS', 'HIGHCON',\n",
    "                           'PEMAIL', 'NFAT', 'GPFAT', 'NINJ', 'GPINJ', 'EVAC',\n",
    "                           'EVACNO', 'STHH', 'STMN', 'TELRN', 'TELDT',\n",
    "                           'MAOPEST', 'OVERPRS', 'PLAS_DUCT', 'PLAS_BRIT',\n",
    "                           'PLAS_JNT', 'TYSYS_TEXT', 'NOTIF', 'MARKED', 'PERM_MARK',\n",
    "                           'MKD_IN_TIME', 'PIPE_DAMAGE', 'PRS_TEST' \n",
    "                          ],errors='ignore', inplace=True)"
   ]
  },
  {
   "cell_type": "code",
   "execution_count": 33,
   "metadata": {},
   "outputs": [
    {
     "data": {
      "text/plain": [
       "Index(['SIGNIFICANT', 'SERIOUS', 'REPORT_NUMBER', 'OPERATOR_ID', 'NAME',\n",
       "       'LOCATION_CITY_NAME', 'LOCATION_COUNTY_NAME',\n",
       "       'LOCATION_STATE_ABBREVIATION', 'CLASS_LOCATION_TYPE', 'RELEASE_TYPE',\n",
       "       'FATAL', 'INJURE', 'TOTAL_COST', 'TOTAL_COST_IN84',\n",
       "       'TOTAL_COST_CURRENT', 'IGNITE_IND', 'EXPLODE_IND', 'ACCIDENT_PSIG',\n",
       "       'MOP_PSIG', 'SYSTEM_PART_DETAILS', 'MATERIAL_INVOLVED',\n",
       "       'INCIDENT_AREA_TYPE', 'CAUSE', 'CAUSE_DETAILS', 'MAP_CAUSE',\n",
       "       'MAP_SUBCAUSE', 'NARRATIVE', 'LOCAL_DATETIME'],\n",
       "      dtype='object')"
      ]
     },
     "execution_count": 33,
     "metadata": {},
     "output_type": "execute_result"
    }
   ],
   "source": [
    "df_list[8].columns"
   ]
  },
  {
   "cell_type": "markdown",
   "metadata": {},
   "source": [
    "### - hl_2010_to_Present"
   ]
  },
  {
   "cell_type": "code",
   "execution_count": 34,
   "metadata": {},
   "outputs": [
    {
     "data": {
      "text/plain": [
       "Index(['SIGNIFICANT', 'SERIOUS', 'REPORT_NUMBER', 'OPERATOR_ID', 'NAME',\n",
       "       'LOCAL_DATETIME', 'LOCATION_LATITUDE', 'LOCATION_LONGITUDE',\n",
       "       'COMMODITY_RELEASED_TYPE', 'UNINTENTIONAL_RELEASE_BBLS',\n",
       "       'RECOVERED_BBLS', 'NET_LOSS_BBLS', 'FATAL', 'INJURE', 'IGNITE_IND',\n",
       "       'EXPLODE_IND', 'ON_OFF_SHORE', 'INCIDENT_AREA_TYPE',\n",
       "       'PIPE_FACILITY_TYPE', 'ITEM_INVOLVED', 'MATERIAL_INVOLVED',\n",
       "       'RELEASE_TYPE', 'TOTAL_COST', 'TOTAL_COST_IN84', 'TOTAL_COST_CURRENT',\n",
       "       'ACCIDENT_PSIG', 'MOP_PSIG', 'CAUSE', 'CAUSE_DETAILS', 'MAP_CAUSE',\n",
       "       'MAP_SUBCAUSE', 'NARRATIVE', 'LOCATION_CITY_NAME',\n",
       "       'LOCATION_COUNTY_NAME', 'LOCATION_STATE_ABBREVIATION'],\n",
       "      dtype='object')"
      ]
     },
     "execution_count": 34,
     "metadata": {},
     "output_type": "execute_result"
    }
   ],
   "source": [
    "df_list[2].columns"
   ]
  },
  {
   "cell_type": "markdown",
   "metadata": {},
   "source": [
    "### - gtgg_2010_to_Present"
   ]
  },
  {
   "cell_type": "code",
   "execution_count": 35,
   "metadata": {},
   "outputs": [],
   "source": [
    "df_list[7].drop(columns = ['INCIDENT_AREA_SUBTYPE', 'CLASS_LOCATION_TYPE', 'PIR_RADIUS', \n",
    "                          'HEAT_DAMAGE_IND', 'NON_HEAT_DAMAGE_IND',\n",
    "                           'HCA_FATALITIES_IND', 'EST_COST_INTENT_REL',\n",
    "                           'EST_COST_INTENT_REL_CURRENT',],errors='ignore', inplace=True)"
   ]
  },
  {
   "cell_type": "code",
   "execution_count": 36,
   "metadata": {},
   "outputs": [
    {
     "data": {
      "text/plain": [
       "Index(['SIGNIFICANT', 'SERIOUS', 'SYSTEM_TYPE', 'REPORT_NUMBER', 'OPERATOR_ID',\n",
       "       'NAME', 'LOCAL_DATETIME', 'LOCATION_LATITUDE', 'LOCATION_LONGITUDE',\n",
       "       'COMMODITY_RELEASED_TYPE', 'UNINTENTIONAL_RELEASE_BBLS',\n",
       "       'ACCOMPANYING_LIQUID', 'FATAL', 'INJURE', 'IGNITE_IND', 'EXPLODE_IND',\n",
       "       'ON_OFF_SHORE', 'INCIDENT_AREA_TYPE', 'PIPE_FACILITY_TYPE',\n",
       "       'ITEM_INVOLVED', 'INSTALLATION_YEAR', 'MATERIAL_INVOLVED',\n",
       "       'RELEASE_TYPE', 'TOTAL_COST', 'TOTAL_COST_IN84', 'TOTAL_COST_CURRENT',\n",
       "       'ACCIDENT_PSIG', 'MOP_PSIG', 'CAUSE', 'CAUSE_DETAILS', 'MAP_CAUSE',\n",
       "       'MAP_SUBCAUSE', 'NARRATIVE', 'LOCATION_CITY_NAME',\n",
       "       'LOCATION_COUNTY_NAME', 'LOCATION_STATE_ABBREVIATION'],\n",
       "      dtype='object')"
      ]
     },
     "execution_count": 36,
     "metadata": {},
     "output_type": "execute_result"
    }
   ],
   "source": [
    "df_list[7].columns"
   ]
  },
  {
   "cell_type": "markdown",
   "metadata": {},
   "source": [
    "### - gd_2010_to_Present"
   ]
  },
  {
   "cell_type": "code",
   "execution_count": 37,
   "metadata": {},
   "outputs": [],
   "source": [
    "df_list[5].drop(columns = ['FF','CLASS_LOCATION_TYPE', 'INCIDENT_AREA_SUBTYPE', 'EST_COST_UNINTENTIONAL_RELEASE',\n",
    "                           'EST_COST_UNINTENT_REL_CURRENT', 'EST_COST_INTENT_REL_CURRENT', 'COMMERCIAL_AFFECTED',\n",
    "                           'INDUSTRIAL_AFFECTED','RESIDENCES_AFFECTED'],errors='ignore', inplace=True)"
   ]
  },
  {
   "cell_type": "code",
   "execution_count": 38,
   "metadata": {},
   "outputs": [
    {
     "data": {
      "text/plain": [
       "Index(['SIGNIFICANT', 'SERIOUS', 'REPORT_NUMBER', 'OPERATOR_ID', 'NAME',\n",
       "       'LOCAL_DATETIME', 'LOCATION_STREET_ADDRESS', 'LOCATION_CITY_NAME',\n",
       "       'LOCATION_COUNTY_NAME', 'LOCATION_STATE_ABBREVIATION',\n",
       "       'LOCATION_LATITUDE', 'LOCATION_LONGITUDE', 'COMMODITY_RELEASED_TYPE',\n",
       "       'UNINTENTIONAL_RELEASE_BBLS', 'FATAL', 'INJURE', 'IGNITE_IND',\n",
       "       'EXPLODE_IND', 'INCIDENT_AREA_TYPE', 'PIPE_FACILITY_TYPE',\n",
       "       'INSTALLATION_YEAR', 'MATERIAL_INVOLVED', 'RELEASE_TYPE', 'TOTAL_COST',\n",
       "       'TOTAL_COST_IN84', 'TOTAL_COST_CURRENT', 'ACCIDENT_PSIG', 'NORMAL_PSIG',\n",
       "       'MOP_PSIG', 'CAUSE', 'CAUSE_DETAILS', 'MAP_CAUSE', 'MAP_SUBCAUSE',\n",
       "       'NARRATIVE'],\n",
       "      dtype='object')"
      ]
     },
     "execution_count": 38,
     "metadata": {},
     "output_type": "execute_result"
    }
   ],
   "source": [
    "df_list[5].columns"
   ]
  },
  {
   "cell_type": "markdown",
   "metadata": {},
   "source": [
    "### - LNG_2010_to_Present"
   ]
  },
  {
   "cell_type": "code",
   "execution_count": 39,
   "metadata": {},
   "outputs": [],
   "source": [
    "df_list[4].drop(columns = ['UNINTENTIONAL_RELEASE_IND','INTENTIONAL_RELEASE_IND', 'EMERGENCY_SHUTDOWN_IND',\n",
    "                           'RESULTED_FROM_OTHER_IND', 'NUM_OPER_AND_CONTRACTOR_EVAC',\n",
    "                          'FACILITY_STATUS', 'FACILITY_LIQUID_VAPOR_RATE', 'FACILITY_NUM_VAPORIZERS',\n",
    "                           'FACILITY_TOTAL_CAPACITY', 'FACILITY_SOURCE_LIQUEFY_IND',\n",
    "                           'FACILITY_NUMBER_TANKS', 'FACILITY_VOLUME_STORAGE',\n",
    "                           'EST_COST_INTENTIONAL_RELEASE', 'EST_COST_INTENT_REL_CURRENT',\n",
    "                           'CCS_IN_PLACE_IND', 'CCS_OPERATING_IND', 'CCS_FUNCTIONAL_IND',\n",
    "                          ],errors='ignore', inplace=True)"
   ]
  },
  {
   "cell_type": "code",
   "execution_count": 40,
   "metadata": {},
   "outputs": [
    {
     "data": {
      "text/plain": [
       "Index(['SIGNIFICANT', 'SERIOUS', 'REPORT_NUMBER', 'OPERATOR_ID', 'NAME',\n",
       "       'LOCAL_DATETIME', 'COMMODITY_RELEASED_TYPE', 'FATAL', 'INJURE',\n",
       "       'IGNITE_IND', 'EXPLODE_IND', 'LOCATION_CITY_NAME',\n",
       "       'LOCATION_STATE_ABBREVIATION', 'PIPE_FACILITY_TYPE', 'ITEM_INVOLVED',\n",
       "       'TOTAL_COST', 'TOTAL_COST_IN84', 'TOTAL_COST_CURRENT', 'CAUSE',\n",
       "       'CAUSE_DETAILS', 'MAP_CAUSE', 'MAP_SUBCAUSE', 'NARRATIVE'],\n",
       "      dtype='object')"
      ]
     },
     "execution_count": 40,
     "metadata": {},
     "output_type": "execute_result"
    }
   ],
   "source": [
    "df_list[4].columns"
   ]
  },
  {
   "cell_type": "markdown",
   "metadata": {},
   "source": [
    "### 6. Concatenate Datasets and create final Dataframe for Data Visualization"
   ]
  },
  {
   "cell_type": "code",
   "execution_count": 41,
   "metadata": {},
   "outputs": [
    {
     "data": {
      "text/plain": [
       "(18692, 51)"
      ]
     },
     "execution_count": 41,
     "metadata": {},
     "output_type": "execute_result"
    }
   ],
   "source": [
    "mergedStuff = pd.concat(df_list , ignore_index=True)\n",
    "mergedStuff.shape"
   ]
  },
  {
   "cell_type": "code",
   "execution_count": 42,
   "metadata": {},
   "outputs": [
    {
     "data": {
      "text/plain": [
       "array([nan, 'NO DATA', 'STEEL', 'OTHER',\n",
       "       'MATERIAL OTHER THAN CARBON STEEL', 'CARBON STEEL', 'PLASTIC',\n",
       "       'COPPER', 'CAST/WROUGHT IRON', 'UNKNOWN', 'DUCTILE IRON',\n",
       "       'MATERIAL OTHER THAN CARBON STEEL OR PLASTIC',\n",
       "       'POLYETHELENE PLASTIC', 'OTHER MATERIAL', 'OTHER PLASTIC',\n",
       "       'CAST IRON', 'POLYETHYLENE PLASTIC'], dtype=object)"
      ]
     },
     "execution_count": 42,
     "metadata": {},
     "output_type": "execute_result"
    }
   ],
   "source": [
    "df = mergedStuff.isna().sum()\n",
    "mergedStuff['MATERIAL_INVOLVED'].unique()"
   ]
  },
  {
   "cell_type": "code",
   "execution_count": 43,
   "metadata": {},
   "outputs": [],
   "source": [
    "def final_df(df, nan_values):\n",
    "\n",
    "    total_nan = df.isna().sum()\n",
    "        \n",
    "    filter_nan = total_nan > nan_values\n",
    "    \n",
    "    useless_columns = df.columns[filter_nan].to_list()\n",
    "    \n",
    "    return df.drop(columns=useless_columns)"
   ]
  },
  {
   "cell_type": "code",
   "execution_count": 44,
   "metadata": {},
   "outputs": [],
   "source": [
    "merged_df_datavis = final_df(mergedStuff, 6500)"
   ]
  },
  {
   "cell_type": "markdown",
   "metadata": {},
   "source": [
    "## 7. Processing Dataset to Visualization"
   ]
  },
  {
   "cell_type": "code",
   "execution_count": 45,
   "metadata": {},
   "outputs": [],
   "source": [
    "processed_df = df_clean(merged_df_datavis, fillna_cat_col(merged_df_datavis, nan_col_selection(merged_df_datavis)), fillna_num_col(merged_df_datavis, nan_col_selection(merged_df_datavis)))"
   ]
  },
  {
   "cell_type": "code",
   "execution_count": 46,
   "metadata": {},
   "outputs": [],
   "source": [
    "processed_df = processed_df[['LOCAL_DATETIME', 'REPORT_NUMBER',\n",
    "                             'SIGNIFICANT', 'SERIOUS',\n",
    "                             'ON_OFF_SHORE', 'LOCATION_CITY_NAME', 'LOCATION_COUNTY_NAME','LOCATION_STATE_ABBREVIATION','INCIDENT_AREA_TYPE', \n",
    "                             'CAUSE', 'MAP_CAUSE', 'MAP_SUBCAUSE',\n",
    "                             'FATAL', 'INJURE', 'UNINTENTIONAL_RELEASE_BBLS', 'TOTAL_COST_IN84', 'TOTAL_COST_CURRENT',\n",
    "                             'ACCIDENT_PSIG', 'MOP_PSIG', 'NAME', 'OPERATOR_ID', 'MATERIAL_INVOLVED', 'COMMODITY_RELEASED_TYPE'\n",
    "                            ]]"
   ]
  },
  {
   "cell_type": "code",
   "execution_count": 47,
   "metadata": {},
   "outputs": [],
   "source": [
    "processed_df = processed_df.sort_values('LOCAL_DATETIME', ignore_index=True)"
   ]
  },
  {
   "cell_type": "code",
   "execution_count": 48,
   "metadata": {},
   "outputs": [],
   "source": [
    "processed_df[[ 'TOTAL_COST_IN84', 'TOTAL_COST_CURRENT']] = processed_df[[ 'TOTAL_COST_IN84', 'TOTAL_COST_CURRENT']].astype('int')"
   ]
  },
  {
   "cell_type": "code",
   "execution_count": 49,
   "metadata": {},
   "outputs": [],
   "source": [
    "processed_df.loc[processed_df['ON_OFF_SHORE'].str.contains('YES') == True, ['ON_OFF_SHORE']] = 'ONSHORE'"
   ]
  },
  {
   "cell_type": "code",
   "execution_count": 50,
   "metadata": {},
   "outputs": [],
   "source": [
    "processed_df.loc[processed_df['ON_OFF_SHORE'].str.contains('NO') == True, ['ON_OFF_SHORE']] = 'OFFSHORE'"
   ]
  },
  {
   "cell_type": "markdown",
   "metadata": {},
   "source": [
    "### 7.1 Scrap EEUU State abbreviations"
   ]
  },
  {
   "cell_type": "code",
   "execution_count": 51,
   "metadata": {},
   "outputs": [],
   "source": [
    "url = 'https://www.infoplease.com/us/postal-information/state-abbreviations-and-state-postal-codes'"
   ]
  },
  {
   "cell_type": "code",
   "execution_count": 52,
   "metadata": {},
   "outputs": [],
   "source": [
    "tables_df = pd.read_html(url)"
   ]
  },
  {
   "cell_type": "code",
   "execution_count": 53,
   "metadata": {},
   "outputs": [],
   "source": [
    "def replace_state(code, state_list, code_list):\n",
    "    \n",
    "    for i in range(len(code_list)):\n",
    "        \n",
    "        if code == code_list[i]:\n",
    "            \n",
    "            return state_list[i]\n",
    "        \n",
    "        elif code == 'NO DATA':\n",
    "            \n",
    "            return 'NO DATA'"
   ]
  },
  {
   "cell_type": "code",
   "execution_count": 54,
   "metadata": {},
   "outputs": [],
   "source": [
    "def upper(column):\n",
    "    \n",
    "    return column.upper()"
   ]
  },
  {
   "cell_type": "code",
   "execution_count": 55,
   "metadata": {},
   "outputs": [],
   "source": [
    "tables_df[1].rename(columns={'Territory/Associate' : 'State/District'}, inplace = True)\n",
    "\n",
    "states = pd.concat([tables_df[0],tables_df[1]])"
   ]
  },
  {
   "cell_type": "code",
   "execution_count": 56,
   "metadata": {},
   "outputs": [],
   "source": [
    "processed_df['LOCATION_STATE_ABBREVIATION'] = processed_df['LOCATION_STATE_ABBREVIATION'].replace(['  ', '', 'GM'], ['NO DATA', 'NO DATA', 'GU'])"
   ]
  },
  {
   "cell_type": "code",
   "execution_count": 57,
   "metadata": {},
   "outputs": [],
   "source": [
    "processed_df['LOCATION_STATE_ABBREVIATION'] = processed_df.apply(lambda x: replace_state(x['LOCATION_STATE_ABBREVIATION'], list(states['State/District']), list(states['Postal Code'])), axis=1)"
   ]
  },
  {
   "cell_type": "code",
   "execution_count": 58,
   "metadata": {},
   "outputs": [],
   "source": [
    "processed_df['LOCATION_STATE_ABBREVIATION'] = processed_df.apply(lambda x: x['LOCATION_STATE_ABBREVIATION'].upper(), axis = 1)"
   ]
  },
  {
   "cell_type": "markdown",
   "metadata": {},
   "source": [
    "### 7.2 Correct column values"
   ]
  },
  {
   "cell_type": "code",
   "execution_count": 59,
   "metadata": {},
   "outputs": [
    {
     "data": {
      "text/plain": [
       "array(['WITHIN/UNDER BUILDING', 'NO DATA', 'OTHER',\n",
       "       'UNDER GROUND OR UNDER WATER', 'UNDER PAVEMENT', 'UNDER WATER',\n",
       "       'UNDER GROUND', 'ABOVE GROUND', 'OPEN DITCH',\n",
       "       'INSIDE/UNDER BUILDING', 'ABOVEGROUND', 'UNDERGROUND',\n",
       "       'TANK, INCLUDING ATTACHED APPURTENANCES', 'TRANSITION AREA',\n",
       "       'BELOWGROUND STORAGE OR ABOVEGROUND STORAGE VESSEL, INCLUDING ATTACHED APPURTENANCE'],\n",
       "      dtype=object)"
      ]
     },
     "execution_count": 59,
     "metadata": {},
     "output_type": "execute_result"
    }
   ],
   "source": [
    "# INCIDENT_AREA_TYPE\n",
    "\n",
    "processed_df['INCIDENT_AREA_TYPE'].unique()"
   ]
  },
  {
   "cell_type": "code",
   "execution_count": 60,
   "metadata": {},
   "outputs": [],
   "source": [
    "processed_df['INCIDENT_AREA_TYPE'].replace(['UNDER GROUND', 'UNDER PAVEMENT', 'ABOVE GROUND', 'WITHIN/UNDER BUILDING'], \n",
    "                                           ['UNDERGROUND', 'UNDERGROUND', 'ABOVEGROUND', 'INSIDE/UNDER BUILDING'], inplace=True)"
   ]
  },
  {
   "cell_type": "code",
   "execution_count": 61,
   "metadata": {},
   "outputs": [
    {
     "data": {
      "text/plain": [
       "array(['STEEL', 'NO DATA', 'CAST IRON', 'OTHER', 'POLYETHYLENE PLASTIC',\n",
       "       'OTHER PLASTIC', 'POLYETHELENE PLASTIC', 'CAST/WROUGHT IRON',\n",
       "       'OTHER MATERIAL', 'PLASTIC', 'CARBON STEEL',\n",
       "       'MATERIAL OTHER THAN CARBON STEEL',\n",
       "       'MATERIAL OTHER THAN CARBON STEEL OR PLASTIC', 'UNKNOWN',\n",
       "       'DUCTILE IRON', 'COPPER'], dtype=object)"
      ]
     },
     "execution_count": 61,
     "metadata": {},
     "output_type": "execute_result"
    }
   ],
   "source": [
    "# MATERIAL INVOLVED\n",
    "\n",
    "processed_df['MATERIAL_INVOLVED'].unique()"
   ]
  },
  {
   "cell_type": "code",
   "execution_count": 62,
   "metadata": {},
   "outputs": [],
   "source": [
    "processed_df['MATERIAL_INVOLVED'].replace(['POLYETHELENE PLASTIC', 'CAST/WROUGHT IRON', 'OTHER MATERIAL', 'MATERIAL OTHER THAN CARBON STEEL', 'UNKNOWN', 'MATERIAL OTHER THAN CARBON STEEL OR PLASTIC', 'STEEL'], \n",
    "                                           ['POLYETHYLENE PLASTIC', 'CAST IRON', 'OTHER', 'OTHER', 'OTHER', 'OTHER', 'CARBON STEEL'], inplace=True)"
   ]
  },
  {
   "cell_type": "markdown",
   "metadata": {},
   "source": [
    "### 7.3 Export to directory"
   ]
  },
  {
   "cell_type": "code",
   "execution_count": 72,
   "metadata": {},
   "outputs": [],
   "source": [
    "processed_df.to_csv('../data/processed/pipelines_incident.csv')"
   ]
  },
  {
   "cell_type": "code",
   "execution_count": 63,
   "metadata": {},
   "outputs": [
    {
     "data": {
      "text/html": [
       "<div>\n",
       "<style scoped>\n",
       "    .dataframe tbody tr th:only-of-type {\n",
       "        vertical-align: middle;\n",
       "    }\n",
       "\n",
       "    .dataframe tbody tr th {\n",
       "        vertical-align: top;\n",
       "    }\n",
       "\n",
       "    .dataframe thead th {\n",
       "        text-align: right;\n",
       "    }\n",
       "</style>\n",
       "<table border=\"1\" class=\"dataframe\">\n",
       "  <thead>\n",
       "    <tr style=\"text-align: right;\">\n",
       "      <th></th>\n",
       "      <th>10966</th>\n",
       "      <th>9626</th>\n",
       "      <th>6515</th>\n",
       "      <th>7848</th>\n",
       "      <th>9621</th>\n",
       "      <th>6725</th>\n",
       "      <th>5212</th>\n",
       "      <th>7317</th>\n",
       "      <th>3510</th>\n",
       "      <th>7469</th>\n",
       "    </tr>\n",
       "  </thead>\n",
       "  <tbody>\n",
       "    <tr>\n",
       "      <th>LOCAL_DATETIME</th>\n",
       "      <td>2008-10-15 03:01:00</td>\n",
       "      <td>2006-09-03 05:30:00</td>\n",
       "      <td>2002-01-17 11:00:00</td>\n",
       "      <td>2004-01-30 12:09:00</td>\n",
       "      <td>2006-08-31 18:15:00</td>\n",
       "      <td>2002-05-17 03:10:00</td>\n",
       "      <td>1998-07-01 02:15:00</td>\n",
       "      <td>2003-03-26 17:00:00</td>\n",
       "      <td>1994-01-13 08:11:00</td>\n",
       "      <td>2003-06-16 22:30:00</td>\n",
       "    </tr>\n",
       "    <tr>\n",
       "      <th>REPORT_NUMBER</th>\n",
       "      <td>20080144</td>\n",
       "      <td>20060264</td>\n",
       "      <td>20020076</td>\n",
       "      <td>20040044</td>\n",
       "      <td>20060260</td>\n",
       "      <td>20020196</td>\n",
       "      <td>19980142</td>\n",
       "      <td>20030130</td>\n",
       "      <td>19940042</td>\n",
       "      <td>20030088</td>\n",
       "    </tr>\n",
       "    <tr>\n",
       "      <th>SIGNIFICANT</th>\n",
       "      <td>NO</td>\n",
       "      <td>NO</td>\n",
       "      <td>NO</td>\n",
       "      <td>NO</td>\n",
       "      <td>YES</td>\n",
       "      <td>NO</td>\n",
       "      <td>YES</td>\n",
       "      <td>NO</td>\n",
       "      <td>YES</td>\n",
       "      <td>YES</td>\n",
       "    </tr>\n",
       "    <tr>\n",
       "      <th>SERIOUS</th>\n",
       "      <td>NO</td>\n",
       "      <td>NO</td>\n",
       "      <td>NO</td>\n",
       "      <td>NO</td>\n",
       "      <td>NO</td>\n",
       "      <td>NO</td>\n",
       "      <td>YES</td>\n",
       "      <td>NO</td>\n",
       "      <td>NO</td>\n",
       "      <td>YES</td>\n",
       "    </tr>\n",
       "    <tr>\n",
       "      <th>ON_OFF_SHORE</th>\n",
       "      <td>OFFSHORE</td>\n",
       "      <td>OFFSHORE</td>\n",
       "      <td>OFFSHORE</td>\n",
       "      <td>OFFSHORE</td>\n",
       "      <td>OFFSHORE</td>\n",
       "      <td>OFFSHORE</td>\n",
       "      <td>OFFSHORE</td>\n",
       "      <td>OFFSHORE</td>\n",
       "      <td>ONSHORE</td>\n",
       "      <td>OFFSHORE</td>\n",
       "    </tr>\n",
       "    <tr>\n",
       "      <th>LOCATION_CITY_NAME</th>\n",
       "      <td>BRENTWOOD</td>\n",
       "      <td>GANADO</td>\n",
       "      <td></td>\n",
       "      <td>LINWOOD</td>\n",
       "      <td>KERMIT</td>\n",
       "      <td>CARSON</td>\n",
       "      <td>SPRINGFIELD</td>\n",
       "      <td>EL PASO</td>\n",
       "      <td></td>\n",
       "      <td>DERRY</td>\n",
       "    </tr>\n",
       "    <tr>\n",
       "      <th>LOCATION_COUNTY_NAME</th>\n",
       "      <td>CONTRA COSTA COUNTY</td>\n",
       "      <td>JACKSON</td>\n",
       "      <td>BEAVER</td>\n",
       "      <td>DELAWARE</td>\n",
       "      <td>WINKLER</td>\n",
       "      <td>NO DATA</td>\n",
       "      <td>HAMPDEN</td>\n",
       "      <td>EL PASO</td>\n",
       "      <td>YORK</td>\n",
       "      <td>SIERRA</td>\n",
       "    </tr>\n",
       "    <tr>\n",
       "      <th>LOCATION_STATE_ABBREVIATION</th>\n",
       "      <td>CALIFORNIA</td>\n",
       "      <td>TEXAS</td>\n",
       "      <td>OKLAHOMA</td>\n",
       "      <td>PENNSYLVANIA</td>\n",
       "      <td>TEXAS</td>\n",
       "      <td>CALIFORNIA</td>\n",
       "      <td>MASSACHUSETTS</td>\n",
       "      <td>TEXAS</td>\n",
       "      <td>NEBRASKA</td>\n",
       "      <td>NEW MEXICO</td>\n",
       "    </tr>\n",
       "    <tr>\n",
       "      <th>INCIDENT_AREA_TYPE</th>\n",
       "      <td>ABOVEGROUND</td>\n",
       "      <td>NO DATA</td>\n",
       "      <td>NO DATA</td>\n",
       "      <td>NO DATA</td>\n",
       "      <td>NO DATA</td>\n",
       "      <td>NO DATA</td>\n",
       "      <td>NO DATA</td>\n",
       "      <td>NO DATA</td>\n",
       "      <td>NO DATA</td>\n",
       "      <td>ABOVEGROUND</td>\n",
       "    </tr>\n",
       "    <tr>\n",
       "      <th>CAUSE</th>\n",
       "      <td>OTHER OUTSIDE FORCE DAMAGE</td>\n",
       "      <td>EQUIPMENT</td>\n",
       "      <td>CORROSION</td>\n",
       "      <td>NATURAL FORCES</td>\n",
       "      <td>EQUIPMENT</td>\n",
       "      <td>EQUIPMENT</td>\n",
       "      <td>OTHER</td>\n",
       "      <td>EQUIPMENT</td>\n",
       "      <td>FAILED PIPE</td>\n",
       "      <td>DAMAGE BY OUTSIDE FORCES</td>\n",
       "    </tr>\n",
       "    <tr>\n",
       "      <th>MAP_CAUSE</th>\n",
       "      <td>OTHER OUTSIDE FORCE DAMAGE</td>\n",
       "      <td>MATERIAL/WELD/EQUIP FAILURE</td>\n",
       "      <td>CORROSION</td>\n",
       "      <td>NATURAL FORCE DAMAGE</td>\n",
       "      <td>MATERIAL/WELD/EQUIP FAILURE</td>\n",
       "      <td>MATERIAL/WELD/EQUIP FAILURE</td>\n",
       "      <td>ALL OTHER CAUSES</td>\n",
       "      <td>MATERIAL/WELD/EQUIP FAILURE</td>\n",
       "      <td>MATERIAL/WELD/EQUIP FAILURE</td>\n",
       "      <td>EXCAVATION DAMAGE</td>\n",
       "    </tr>\n",
       "    <tr>\n",
       "      <th>MAP_SUBCAUSE</th>\n",
       "      <td>FIRE/EXPLOSION AS PRIMARY CAUSE</td>\n",
       "      <td>UNSPECIFIED EQUIPMENT FAILURE</td>\n",
       "      <td>INTERNAL</td>\n",
       "      <td>UNSPECIFIED NATURAL FORCE DAMAGE</td>\n",
       "      <td>THREADS STRIPPED, BROKEN PIPE COUPLING</td>\n",
       "      <td>THREADS STRIPPED, BROKEN PIPE COUPLING</td>\n",
       "      <td>MISCELLANEOUS</td>\n",
       "      <td>UNSPECIFIED EQUIPMENT FAILURE</td>\n",
       "      <td>UNSPECIFIED PIPE BODY OR SEAM</td>\n",
       "      <td>THIRD PARTY EXCAVATION DAMAGE</td>\n",
       "    </tr>\n",
       "    <tr>\n",
       "      <th>FATAL</th>\n",
       "      <td>0</td>\n",
       "      <td>0</td>\n",
       "      <td>0</td>\n",
       "      <td>0</td>\n",
       "      <td>0</td>\n",
       "      <td>0</td>\n",
       "      <td>0</td>\n",
       "      <td>0</td>\n",
       "      <td>0</td>\n",
       "      <td>1</td>\n",
       "    </tr>\n",
       "    <tr>\n",
       "      <th>INJURE</th>\n",
       "      <td>0</td>\n",
       "      <td>0</td>\n",
       "      <td>0</td>\n",
       "      <td>0</td>\n",
       "      <td>0</td>\n",
       "      <td>0</td>\n",
       "      <td>1</td>\n",
       "      <td>0</td>\n",
       "      <td>0</td>\n",
       "      <td>0</td>\n",
       "    </tr>\n",
       "    <tr>\n",
       "      <th>UNINTENTIONAL_RELEASE_BBLS</th>\n",
       "      <td>0</td>\n",
       "      <td>20</td>\n",
       "      <td>7</td>\n",
       "      <td>20</td>\n",
       "      <td>1371</td>\n",
       "      <td>20</td>\n",
       "      <td>0</td>\n",
       "      <td>10</td>\n",
       "      <td>505</td>\n",
       "      <td>0</td>\n",
       "    </tr>\n",
       "    <tr>\n",
       "      <th>TOTAL_COST_IN84</th>\n",
       "      <td>27945</td>\n",
       "      <td>2345</td>\n",
       "      <td>431</td>\n",
       "      <td>3745</td>\n",
       "      <td>21228</td>\n",
       "      <td>827</td>\n",
       "      <td>80329</td>\n",
       "      <td>1920</td>\n",
       "      <td>37446</td>\n",
       "      <td>0</td>\n",
       "    </tr>\n",
       "    <tr>\n",
       "      <th>TOTAL_COST_CURRENT</th>\n",
       "      <td>60879</td>\n",
       "      <td>5110</td>\n",
       "      <td>939</td>\n",
       "      <td>8159</td>\n",
       "      <td>46247</td>\n",
       "      <td>1802</td>\n",
       "      <td>174999</td>\n",
       "      <td>4184</td>\n",
       "      <td>81578</td>\n",
       "      <td>0</td>\n",
       "    </tr>\n",
       "    <tr>\n",
       "      <th>ACCIDENT_PSIG</th>\n",
       "      <td>55</td>\n",
       "      <td>0</td>\n",
       "      <td>250</td>\n",
       "      <td>0</td>\n",
       "      <td>16</td>\n",
       "      <td>90</td>\n",
       "      <td>0.33</td>\n",
       "      <td>0</td>\n",
       "      <td>1315</td>\n",
       "      <td>305</td>\n",
       "    </tr>\n",
       "    <tr>\n",
       "      <th>MOP_PSIG</th>\n",
       "      <td>60</td>\n",
       "      <td>0</td>\n",
       "      <td>0</td>\n",
       "      <td>0</td>\n",
       "      <td>0</td>\n",
       "      <td>0</td>\n",
       "      <td>0</td>\n",
       "      <td>0</td>\n",
       "      <td>0</td>\n",
       "      <td>525</td>\n",
       "    </tr>\n",
       "    <tr>\n",
       "      <th>NAME</th>\n",
       "      <td>PACIFIC GAS &amp; ELECTRIC CO</td>\n",
       "      <td>TEPPCO CRUDE PIPELINE, L.P.</td>\n",
       "      <td>JAYHAWK PIPELINE CORP</td>\n",
       "      <td>PPL INTERSTATE ENERGY CO</td>\n",
       "      <td>PLAINS PIPELINE, L.P.</td>\n",
       "      <td>SOUTHERN CALIFORNIA EDISON CO</td>\n",
       "      <td>BAY STATE GAS CO</td>\n",
       "      <td>SHELL PIPELINE CO., L.P.</td>\n",
       "      <td>KANEB PIPELINE CO</td>\n",
       "      <td>PUBLIC SERVICE COMPANY OF NEW MEXICO - GAS SVCS</td>\n",
       "    </tr>\n",
       "    <tr>\n",
       "      <th>OPERATOR_ID</th>\n",
       "      <td>15007</td>\n",
       "      <td>30829</td>\n",
       "      <td>9175</td>\n",
       "      <td>8166</td>\n",
       "      <td>300</td>\n",
       "      <td>26090</td>\n",
       "      <td>1209</td>\n",
       "      <td>31174</td>\n",
       "      <td>10012</td>\n",
       "      <td>6141</td>\n",
       "    </tr>\n",
       "    <tr>\n",
       "      <th>MATERIAL_INVOLVED</th>\n",
       "      <td>OTHER</td>\n",
       "      <td>NO DATA</td>\n",
       "      <td>NO DATA</td>\n",
       "      <td>NO DATA</td>\n",
       "      <td>NO DATA</td>\n",
       "      <td>NO DATA</td>\n",
       "      <td>NO DATA</td>\n",
       "      <td>NO DATA</td>\n",
       "      <td>NO DATA</td>\n",
       "      <td>CARBON STEEL</td>\n",
       "    </tr>\n",
       "    <tr>\n",
       "      <th>COMMODITY_RELEASED_TYPE</th>\n",
       "      <td>NO DATA</td>\n",
       "      <td>CRUDE OIL</td>\n",
       "      <td>PETROLEUM CRUDE OIL</td>\n",
       "      <td>NO. 6 FUEL OIL</td>\n",
       "      <td>CRUDE OIL</td>\n",
       "      <td>GAS OIL</td>\n",
       "      <td>NO DATA</td>\n",
       "      <td>LOW SULFUR DIESEL</td>\n",
       "      <td>OIL AND GASOLINE</td>\n",
       "      <td>NO DATA</td>\n",
       "    </tr>\n",
       "  </tbody>\n",
       "</table>\n",
       "</div>"
      ],
      "text/plain": [
       "                                                       10966  \\\n",
       "LOCAL_DATETIME                           2008-10-15 03:01:00   \n",
       "REPORT_NUMBER                                       20080144   \n",
       "SIGNIFICANT                                               NO   \n",
       "SERIOUS                                                   NO   \n",
       "ON_OFF_SHORE                                        OFFSHORE   \n",
       "LOCATION_CITY_NAME                                 BRENTWOOD   \n",
       "LOCATION_COUNTY_NAME                     CONTRA COSTA COUNTY   \n",
       "LOCATION_STATE_ABBREVIATION                       CALIFORNIA   \n",
       "INCIDENT_AREA_TYPE                               ABOVEGROUND   \n",
       "CAUSE                             OTHER OUTSIDE FORCE DAMAGE   \n",
       "MAP_CAUSE                         OTHER OUTSIDE FORCE DAMAGE   \n",
       "MAP_SUBCAUSE                 FIRE/EXPLOSION AS PRIMARY CAUSE   \n",
       "FATAL                                                      0   \n",
       "INJURE                                                     0   \n",
       "UNINTENTIONAL_RELEASE_BBLS                                 0   \n",
       "TOTAL_COST_IN84                                        27945   \n",
       "TOTAL_COST_CURRENT                                     60879   \n",
       "ACCIDENT_PSIG                                             55   \n",
       "MOP_PSIG                                                  60   \n",
       "NAME                               PACIFIC GAS & ELECTRIC CO   \n",
       "OPERATOR_ID                                            15007   \n",
       "MATERIAL_INVOLVED                                      OTHER   \n",
       "COMMODITY_RELEASED_TYPE                              NO DATA   \n",
       "\n",
       "                                                     9626   \\\n",
       "LOCAL_DATETIME                         2006-09-03 05:30:00   \n",
       "REPORT_NUMBER                                     20060264   \n",
       "SIGNIFICANT                                             NO   \n",
       "SERIOUS                                                 NO   \n",
       "ON_OFF_SHORE                                      OFFSHORE   \n",
       "LOCATION_CITY_NAME                                  GANADO   \n",
       "LOCATION_COUNTY_NAME                               JACKSON   \n",
       "LOCATION_STATE_ABBREVIATION                          TEXAS   \n",
       "INCIDENT_AREA_TYPE                                 NO DATA   \n",
       "CAUSE                                            EQUIPMENT   \n",
       "MAP_CAUSE                      MATERIAL/WELD/EQUIP FAILURE   \n",
       "MAP_SUBCAUSE                 UNSPECIFIED EQUIPMENT FAILURE   \n",
       "FATAL                                                    0   \n",
       "INJURE                                                   0   \n",
       "UNINTENTIONAL_RELEASE_BBLS                              20   \n",
       "TOTAL_COST_IN84                                       2345   \n",
       "TOTAL_COST_CURRENT                                    5110   \n",
       "ACCIDENT_PSIG                                            0   \n",
       "MOP_PSIG                                                 0   \n",
       "NAME                           TEPPCO CRUDE PIPELINE, L.P.   \n",
       "OPERATOR_ID                                          30829   \n",
       "MATERIAL_INVOLVED                                  NO DATA   \n",
       "COMMODITY_RELEASED_TYPE                          CRUDE OIL   \n",
       "\n",
       "                                             6515   \\\n",
       "LOCAL_DATETIME                 2002-01-17 11:00:00   \n",
       "REPORT_NUMBER                             20020076   \n",
       "SIGNIFICANT                                     NO   \n",
       "SERIOUS                                         NO   \n",
       "ON_OFF_SHORE                              OFFSHORE   \n",
       "LOCATION_CITY_NAME                                   \n",
       "LOCATION_COUNTY_NAME                        BEAVER   \n",
       "LOCATION_STATE_ABBREVIATION               OKLAHOMA   \n",
       "INCIDENT_AREA_TYPE                         NO DATA   \n",
       "CAUSE                                    CORROSION   \n",
       "MAP_CAUSE                                CORROSION   \n",
       "MAP_SUBCAUSE                              INTERNAL   \n",
       "FATAL                                            0   \n",
       "INJURE                                           0   \n",
       "UNINTENTIONAL_RELEASE_BBLS                       7   \n",
       "TOTAL_COST_IN84                                431   \n",
       "TOTAL_COST_CURRENT                             939   \n",
       "ACCIDENT_PSIG                                  250   \n",
       "MOP_PSIG                                         0   \n",
       "NAME                         JAYHAWK PIPELINE CORP   \n",
       "OPERATOR_ID                                   9175   \n",
       "MATERIAL_INVOLVED                          NO DATA   \n",
       "COMMODITY_RELEASED_TYPE        PETROLEUM CRUDE OIL   \n",
       "\n",
       "                                                        7848   \\\n",
       "LOCAL_DATETIME                            2004-01-30 12:09:00   \n",
       "REPORT_NUMBER                                        20040044   \n",
       "SIGNIFICANT                                                NO   \n",
       "SERIOUS                                                    NO   \n",
       "ON_OFF_SHORE                                         OFFSHORE   \n",
       "LOCATION_CITY_NAME                                    LINWOOD   \n",
       "LOCATION_COUNTY_NAME                                 DELAWARE   \n",
       "LOCATION_STATE_ABBREVIATION                      PENNSYLVANIA   \n",
       "INCIDENT_AREA_TYPE                                    NO DATA   \n",
       "CAUSE                                          NATURAL FORCES   \n",
       "MAP_CAUSE                                NATURAL FORCE DAMAGE   \n",
       "MAP_SUBCAUSE                 UNSPECIFIED NATURAL FORCE DAMAGE   \n",
       "FATAL                                                       0   \n",
       "INJURE                                                      0   \n",
       "UNINTENTIONAL_RELEASE_BBLS                                 20   \n",
       "TOTAL_COST_IN84                                          3745   \n",
       "TOTAL_COST_CURRENT                                       8159   \n",
       "ACCIDENT_PSIG                                               0   \n",
       "MOP_PSIG                                                    0   \n",
       "NAME                                PPL INTERSTATE ENERGY CO    \n",
       "OPERATOR_ID                                              8166   \n",
       "MATERIAL_INVOLVED                                     NO DATA   \n",
       "COMMODITY_RELEASED_TYPE                        NO. 6 FUEL OIL   \n",
       "\n",
       "                                                              9621   \\\n",
       "LOCAL_DATETIME                                  2006-08-31 18:15:00   \n",
       "REPORT_NUMBER                                              20060260   \n",
       "SIGNIFICANT                                                     YES   \n",
       "SERIOUS                                                          NO   \n",
       "ON_OFF_SHORE                                               OFFSHORE   \n",
       "LOCATION_CITY_NAME                                           KERMIT   \n",
       "LOCATION_COUNTY_NAME                                        WINKLER   \n",
       "LOCATION_STATE_ABBREVIATION                                   TEXAS   \n",
       "INCIDENT_AREA_TYPE                                          NO DATA   \n",
       "CAUSE                                                     EQUIPMENT   \n",
       "MAP_CAUSE                               MATERIAL/WELD/EQUIP FAILURE   \n",
       "MAP_SUBCAUSE                 THREADS STRIPPED, BROKEN PIPE COUPLING   \n",
       "FATAL                                                             0   \n",
       "INJURE                                                            0   \n",
       "UNINTENTIONAL_RELEASE_BBLS                                     1371   \n",
       "TOTAL_COST_IN84                                               21228   \n",
       "TOTAL_COST_CURRENT                                            46247   \n",
       "ACCIDENT_PSIG                                                    16   \n",
       "MOP_PSIG                                                          0   \n",
       "NAME                                          PLAINS PIPELINE, L.P.   \n",
       "OPERATOR_ID                                                     300   \n",
       "MATERIAL_INVOLVED                                           NO DATA   \n",
       "COMMODITY_RELEASED_TYPE                                   CRUDE OIL   \n",
       "\n",
       "                                                              6725   \\\n",
       "LOCAL_DATETIME                                  2002-05-17 03:10:00   \n",
       "REPORT_NUMBER                                              20020196   \n",
       "SIGNIFICANT                                                      NO   \n",
       "SERIOUS                                                          NO   \n",
       "ON_OFF_SHORE                                               OFFSHORE   \n",
       "LOCATION_CITY_NAME                                           CARSON   \n",
       "LOCATION_COUNTY_NAME                                        NO DATA   \n",
       "LOCATION_STATE_ABBREVIATION                              CALIFORNIA   \n",
       "INCIDENT_AREA_TYPE                                          NO DATA   \n",
       "CAUSE                                                     EQUIPMENT   \n",
       "MAP_CAUSE                               MATERIAL/WELD/EQUIP FAILURE   \n",
       "MAP_SUBCAUSE                 THREADS STRIPPED, BROKEN PIPE COUPLING   \n",
       "FATAL                                                             0   \n",
       "INJURE                                                            0   \n",
       "UNINTENTIONAL_RELEASE_BBLS                                       20   \n",
       "TOTAL_COST_IN84                                                 827   \n",
       "TOTAL_COST_CURRENT                                             1802   \n",
       "ACCIDENT_PSIG                                                    90   \n",
       "MOP_PSIG                                                          0   \n",
       "NAME                                  SOUTHERN CALIFORNIA EDISON CO   \n",
       "OPERATOR_ID                                                   26090   \n",
       "MATERIAL_INVOLVED                                           NO DATA   \n",
       "COMMODITY_RELEASED_TYPE                                     GAS OIL   \n",
       "\n",
       "                                           5212   \\\n",
       "LOCAL_DATETIME               1998-07-01 02:15:00   \n",
       "REPORT_NUMBER                           19980142   \n",
       "SIGNIFICANT                                  YES   \n",
       "SERIOUS                                      YES   \n",
       "ON_OFF_SHORE                            OFFSHORE   \n",
       "LOCATION_CITY_NAME                   SPRINGFIELD   \n",
       "LOCATION_COUNTY_NAME                     HAMPDEN   \n",
       "LOCATION_STATE_ABBREVIATION        MASSACHUSETTS   \n",
       "INCIDENT_AREA_TYPE                       NO DATA   \n",
       "CAUSE                                      OTHER   \n",
       "MAP_CAUSE                       ALL OTHER CAUSES   \n",
       "MAP_SUBCAUSE                       MISCELLANEOUS   \n",
       "FATAL                                          0   \n",
       "INJURE                                         1   \n",
       "UNINTENTIONAL_RELEASE_BBLS                     0   \n",
       "TOTAL_COST_IN84                            80329   \n",
       "TOTAL_COST_CURRENT                        174999   \n",
       "ACCIDENT_PSIG                               0.33   \n",
       "MOP_PSIG                                       0   \n",
       "NAME                            BAY STATE GAS CO   \n",
       "OPERATOR_ID                                 1209   \n",
       "MATERIAL_INVOLVED                        NO DATA   \n",
       "COMMODITY_RELEASED_TYPE                  NO DATA   \n",
       "\n",
       "                                                     7317   \\\n",
       "LOCAL_DATETIME                         2003-03-26 17:00:00   \n",
       "REPORT_NUMBER                                     20030130   \n",
       "SIGNIFICANT                                             NO   \n",
       "SERIOUS                                                 NO   \n",
       "ON_OFF_SHORE                                      OFFSHORE   \n",
       "LOCATION_CITY_NAME                                 EL PASO   \n",
       "LOCATION_COUNTY_NAME                               EL PASO   \n",
       "LOCATION_STATE_ABBREVIATION                          TEXAS   \n",
       "INCIDENT_AREA_TYPE                                 NO DATA   \n",
       "CAUSE                                            EQUIPMENT   \n",
       "MAP_CAUSE                      MATERIAL/WELD/EQUIP FAILURE   \n",
       "MAP_SUBCAUSE                 UNSPECIFIED EQUIPMENT FAILURE   \n",
       "FATAL                                                    0   \n",
       "INJURE                                                   0   \n",
       "UNINTENTIONAL_RELEASE_BBLS                              10   \n",
       "TOTAL_COST_IN84                                       1920   \n",
       "TOTAL_COST_CURRENT                                    4184   \n",
       "ACCIDENT_PSIG                                            0   \n",
       "MOP_PSIG                                                 0   \n",
       "NAME                              SHELL PIPELINE CO., L.P.   \n",
       "OPERATOR_ID                                          31174   \n",
       "MATERIAL_INVOLVED                                  NO DATA   \n",
       "COMMODITY_RELEASED_TYPE                  LOW SULFUR DIESEL   \n",
       "\n",
       "                                                     3510   \\\n",
       "LOCAL_DATETIME                         1994-01-13 08:11:00   \n",
       "REPORT_NUMBER                                     19940042   \n",
       "SIGNIFICANT                                            YES   \n",
       "SERIOUS                                                 NO   \n",
       "ON_OFF_SHORE                                       ONSHORE   \n",
       "LOCATION_CITY_NAME                                           \n",
       "LOCATION_COUNTY_NAME                                  YORK   \n",
       "LOCATION_STATE_ABBREVIATION                       NEBRASKA   \n",
       "INCIDENT_AREA_TYPE                                 NO DATA   \n",
       "CAUSE                                          FAILED PIPE   \n",
       "MAP_CAUSE                      MATERIAL/WELD/EQUIP FAILURE   \n",
       "MAP_SUBCAUSE                 UNSPECIFIED PIPE BODY OR SEAM   \n",
       "FATAL                                                    0   \n",
       "INJURE                                                   0   \n",
       "UNINTENTIONAL_RELEASE_BBLS                             505   \n",
       "TOTAL_COST_IN84                                      37446   \n",
       "TOTAL_COST_CURRENT                                   81578   \n",
       "ACCIDENT_PSIG                                         1315   \n",
       "MOP_PSIG                                                 0   \n",
       "NAME                                     KANEB PIPELINE CO   \n",
       "OPERATOR_ID                                          10012   \n",
       "MATERIAL_INVOLVED                                  NO DATA   \n",
       "COMMODITY_RELEASED_TYPE                   OIL AND GASOLINE   \n",
       "\n",
       "                                                                       7469   \n",
       "LOCAL_DATETIME                                           2003-06-16 22:30:00  \n",
       "REPORT_NUMBER                                                       20030088  \n",
       "SIGNIFICANT                                                              YES  \n",
       "SERIOUS                                                                  YES  \n",
       "ON_OFF_SHORE                                                        OFFSHORE  \n",
       "LOCATION_CITY_NAME                                                     DERRY  \n",
       "LOCATION_COUNTY_NAME                                                  SIERRA  \n",
       "LOCATION_STATE_ABBREVIATION                                       NEW MEXICO  \n",
       "INCIDENT_AREA_TYPE                                               ABOVEGROUND  \n",
       "CAUSE                                               DAMAGE BY OUTSIDE FORCES  \n",
       "MAP_CAUSE                                                  EXCAVATION DAMAGE  \n",
       "MAP_SUBCAUSE                                   THIRD PARTY EXCAVATION DAMAGE  \n",
       "FATAL                                                                      1  \n",
       "INJURE                                                                     0  \n",
       "UNINTENTIONAL_RELEASE_BBLS                                                 0  \n",
       "TOTAL_COST_IN84                                                            0  \n",
       "TOTAL_COST_CURRENT                                                         0  \n",
       "ACCIDENT_PSIG                                                            305  \n",
       "MOP_PSIG                                                                 525  \n",
       "NAME                         PUBLIC SERVICE COMPANY OF NEW MEXICO - GAS SVCS  \n",
       "OPERATOR_ID                                                             6141  \n",
       "MATERIAL_INVOLVED                                               CARBON STEEL  \n",
       "COMMODITY_RELEASED_TYPE                                              NO DATA  "
      ]
     },
     "execution_count": 63,
     "metadata": {},
     "output_type": "execute_result"
    }
   ],
   "source": [
    "processed_df.sample(10).T"
   ]
  },
  {
   "cell_type": "markdown",
   "metadata": {},
   "source": [
    "## 8. Data Visualization"
   ]
  },
  {
   "cell_type": "markdown",
   "metadata": {},
   "source": [
    "### 8.1 Correlation between variables"
   ]
  },
  {
   "cell_type": "code",
   "execution_count": 66,
   "metadata": {},
   "outputs": [
    {
     "data": {
      "text/html": [
       "<div>\n",
       "<style scoped>\n",
       "    .dataframe tbody tr th:only-of-type {\n",
       "        vertical-align: middle;\n",
       "    }\n",
       "\n",
       "    .dataframe tbody tr th {\n",
       "        vertical-align: top;\n",
       "    }\n",
       "\n",
       "    .dataframe thead th {\n",
       "        text-align: right;\n",
       "    }\n",
       "</style>\n",
       "<table border=\"1\" class=\"dataframe\">\n",
       "  <thead>\n",
       "    <tr style=\"text-align: right;\">\n",
       "      <th></th>\n",
       "      <th>REPORT_NUMBER</th>\n",
       "      <th>FATAL</th>\n",
       "      <th>INJURE</th>\n",
       "      <th>UNINTENTIONAL_RELEASE_BBLS</th>\n",
       "      <th>TOTAL_COST_IN84</th>\n",
       "      <th>TOTAL_COST_CURRENT</th>\n",
       "      <th>ACCIDENT_PSIG</th>\n",
       "      <th>MOP_PSIG</th>\n",
       "      <th>OPERATOR_ID</th>\n",
       "    </tr>\n",
       "  </thead>\n",
       "  <tbody>\n",
       "    <tr>\n",
       "      <th>REPORT_NUMBER</th>\n",
       "      <td>1.000000</td>\n",
       "      <td>-0.036985</td>\n",
       "      <td>-0.019117</td>\n",
       "      <td>0.096316</td>\n",
       "      <td>0.019141</td>\n",
       "      <td>0.018888</td>\n",
       "      <td>0.053838</td>\n",
       "      <td>0.317816</td>\n",
       "      <td>0.294913</td>\n",
       "    </tr>\n",
       "    <tr>\n",
       "      <th>FATAL</th>\n",
       "      <td>-0.036985</td>\n",
       "      <td>1.000000</td>\n",
       "      <td>0.046663</td>\n",
       "      <td>0.001408</td>\n",
       "      <td>0.066232</td>\n",
       "      <td>0.066270</td>\n",
       "      <td>-0.031685</td>\n",
       "      <td>-0.029446</td>\n",
       "      <td>-0.027488</td>\n",
       "    </tr>\n",
       "    <tr>\n",
       "      <th>INJURE</th>\n",
       "      <td>-0.019117</td>\n",
       "      <td>0.046663</td>\n",
       "      <td>1.000000</td>\n",
       "      <td>0.014856</td>\n",
       "      <td>0.030908</td>\n",
       "      <td>0.030925</td>\n",
       "      <td>-0.007197</td>\n",
       "      <td>-0.012769</td>\n",
       "      <td>-0.018022</td>\n",
       "    </tr>\n",
       "    <tr>\n",
       "      <th>UNINTENTIONAL_RELEASE_BBLS</th>\n",
       "      <td>0.096316</td>\n",
       "      <td>0.001408</td>\n",
       "      <td>0.014856</td>\n",
       "      <td>1.000000</td>\n",
       "      <td>0.028623</td>\n",
       "      <td>0.026918</td>\n",
       "      <td>0.122386</td>\n",
       "      <td>0.100280</td>\n",
       "      <td>-0.012459</td>\n",
       "    </tr>\n",
       "    <tr>\n",
       "      <th>TOTAL_COST_IN84</th>\n",
       "      <td>0.019141</td>\n",
       "      <td>0.066232</td>\n",
       "      <td>0.030908</td>\n",
       "      <td>0.028623</td>\n",
       "      <td>1.000000</td>\n",
       "      <td>0.999991</td>\n",
       "      <td>0.011554</td>\n",
       "      <td>0.011659</td>\n",
       "      <td>-0.009528</td>\n",
       "    </tr>\n",
       "    <tr>\n",
       "      <th>TOTAL_COST_CURRENT</th>\n",
       "      <td>0.018888</td>\n",
       "      <td>0.066270</td>\n",
       "      <td>0.030925</td>\n",
       "      <td>0.026918</td>\n",
       "      <td>0.999991</td>\n",
       "      <td>1.000000</td>\n",
       "      <td>0.011024</td>\n",
       "      <td>0.011135</td>\n",
       "      <td>-0.009510</td>\n",
       "    </tr>\n",
       "    <tr>\n",
       "      <th>ACCIDENT_PSIG</th>\n",
       "      <td>0.053838</td>\n",
       "      <td>-0.031685</td>\n",
       "      <td>-0.007197</td>\n",
       "      <td>0.122386</td>\n",
       "      <td>0.011554</td>\n",
       "      <td>0.011024</td>\n",
       "      <td>1.000000</td>\n",
       "      <td>0.616886</td>\n",
       "      <td>0.063236</td>\n",
       "    </tr>\n",
       "    <tr>\n",
       "      <th>MOP_PSIG</th>\n",
       "      <td>0.317816</td>\n",
       "      <td>-0.029446</td>\n",
       "      <td>-0.012769</td>\n",
       "      <td>0.100280</td>\n",
       "      <td>0.011659</td>\n",
       "      <td>0.011135</td>\n",
       "      <td>0.616886</td>\n",
       "      <td>1.000000</td>\n",
       "      <td>0.139551</td>\n",
       "    </tr>\n",
       "    <tr>\n",
       "      <th>OPERATOR_ID</th>\n",
       "      <td>0.294913</td>\n",
       "      <td>-0.027488</td>\n",
       "      <td>-0.018022</td>\n",
       "      <td>-0.012459</td>\n",
       "      <td>-0.009528</td>\n",
       "      <td>-0.009510</td>\n",
       "      <td>0.063236</td>\n",
       "      <td>0.139551</td>\n",
       "      <td>1.000000</td>\n",
       "    </tr>\n",
       "  </tbody>\n",
       "</table>\n",
       "</div>"
      ],
      "text/plain": [
       "                            REPORT_NUMBER     FATAL    INJURE  \\\n",
       "REPORT_NUMBER                    1.000000 -0.036985 -0.019117   \n",
       "FATAL                           -0.036985  1.000000  0.046663   \n",
       "INJURE                          -0.019117  0.046663  1.000000   \n",
       "UNINTENTIONAL_RELEASE_BBLS       0.096316  0.001408  0.014856   \n",
       "TOTAL_COST_IN84                  0.019141  0.066232  0.030908   \n",
       "TOTAL_COST_CURRENT               0.018888  0.066270  0.030925   \n",
       "ACCIDENT_PSIG                    0.053838 -0.031685 -0.007197   \n",
       "MOP_PSIG                         0.317816 -0.029446 -0.012769   \n",
       "OPERATOR_ID                      0.294913 -0.027488 -0.018022   \n",
       "\n",
       "                            UNINTENTIONAL_RELEASE_BBLS  TOTAL_COST_IN84  \\\n",
       "REPORT_NUMBER                                 0.096316         0.019141   \n",
       "FATAL                                         0.001408         0.066232   \n",
       "INJURE                                        0.014856         0.030908   \n",
       "UNINTENTIONAL_RELEASE_BBLS                    1.000000         0.028623   \n",
       "TOTAL_COST_IN84                               0.028623         1.000000   \n",
       "TOTAL_COST_CURRENT                            0.026918         0.999991   \n",
       "ACCIDENT_PSIG                                 0.122386         0.011554   \n",
       "MOP_PSIG                                      0.100280         0.011659   \n",
       "OPERATOR_ID                                  -0.012459        -0.009528   \n",
       "\n",
       "                            TOTAL_COST_CURRENT  ACCIDENT_PSIG  MOP_PSIG  \\\n",
       "REPORT_NUMBER                         0.018888       0.053838  0.317816   \n",
       "FATAL                                 0.066270      -0.031685 -0.029446   \n",
       "INJURE                                0.030925      -0.007197 -0.012769   \n",
       "UNINTENTIONAL_RELEASE_BBLS            0.026918       0.122386  0.100280   \n",
       "TOTAL_COST_IN84                       0.999991       0.011554  0.011659   \n",
       "TOTAL_COST_CURRENT                    1.000000       0.011024  0.011135   \n",
       "ACCIDENT_PSIG                         0.011024       1.000000  0.616886   \n",
       "MOP_PSIG                              0.011135       0.616886  1.000000   \n",
       "OPERATOR_ID                          -0.009510       0.063236  0.139551   \n",
       "\n",
       "                            OPERATOR_ID  \n",
       "REPORT_NUMBER                  0.294913  \n",
       "FATAL                         -0.027488  \n",
       "INJURE                        -0.018022  \n",
       "UNINTENTIONAL_RELEASE_BBLS    -0.012459  \n",
       "TOTAL_COST_IN84               -0.009528  \n",
       "TOTAL_COST_CURRENT            -0.009510  \n",
       "ACCIDENT_PSIG                  0.063236  \n",
       "MOP_PSIG                       0.139551  \n",
       "OPERATOR_ID                    1.000000  "
      ]
     },
     "execution_count": 66,
     "metadata": {},
     "output_type": "execute_result"
    }
   ],
   "source": [
    "processed_df.corr(method='pearson')"
   ]
  },
  {
   "cell_type": "code",
   "execution_count": null,
   "metadata": {},
   "outputs": [],
   "source": []
  }
 ],
 "metadata": {
  "kernelspec": {
   "display_name": "Python [conda env:ironhack_env]",
   "language": "python",
   "name": "conda-env-ironhack_env-py"
  },
  "language_info": {
   "codemirror_mode": {
    "name": "ipython",
    "version": 3
   },
   "file_extension": ".py",
   "mimetype": "text/x-python",
   "name": "python",
   "nbconvert_exporter": "python",
   "pygments_lexer": "ipython3",
   "version": "3.8.8"
  }
 },
 "nbformat": 4,
 "nbformat_minor": 4
}
