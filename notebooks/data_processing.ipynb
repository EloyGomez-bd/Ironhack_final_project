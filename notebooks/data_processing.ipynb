{
 "cells": [
  {
   "cell_type": "code",
   "execution_count": 1,
   "metadata": {},
   "outputs": [],
   "source": [
    "import os \n",
    "import pandas as pd\n",
    "import numpy as np\n",
    "from datetime import datetime\n",
    "import seaborn as sn"
   ]
  },
  {
   "cell_type": "markdown",
   "metadata": {},
   "source": [
    "## Obtaining Data"
   ]
  },
  {
   "cell_type": "code",
   "execution_count": 2,
   "metadata": {},
   "outputs": [],
   "source": [
    "path = '../data/raw/'"
   ]
  },
  {
   "cell_type": "code",
   "execution_count": 3,
   "metadata": {},
   "outputs": [],
   "source": [
    "def df_classifier(path,service,sheet):\n",
    "    \n",
    "    df_list =[]\n",
    "    \n",
    "    for root, dirs, files in os.walk(path):\n",
    "        \n",
    "        for filename in files:\n",
    "            \n",
    "            if filename.startswith(service):\n",
    "                \n",
    "                df_list.append(pd.read_excel(f'{path}{filename}', sheet_name=sheet))\n",
    "            \n",
    "                print(filename)\n",
    "                \n",
    "            elif service == 'all':\n",
    "                \n",
    "                df_list.append(pd.read_excel(f'{path}{filename}', sheet_name=sheet))\n",
    "                \n",
    "                print(filename)\n",
    "                \n",
    "    return df_list"
   ]
  },
  {
   "cell_type": "code",
   "execution_count": 4,
   "metadata": {},
   "outputs": [
    {
     "name": "stdout",
     "output_type": "stream",
     "text": [
      "hl1986to2001.xlsx\n",
      "gtgg1986to2001.xlsx\n",
      "hl2010toPresent.xlsx\n",
      "hl2002to2009.xlsx\n",
      "lng2011toPresent.xlsx\n",
      "gd2010toPresent.xlsx\n",
      "gtgg2002to2009.xlsx\n",
      "gtggungs2010toPresent.xlsx\n",
      "gdmar2004to2009.xlsx\n",
      "gd1986tofeb2004.xlsx\n"
     ]
    }
   ],
   "source": [
    "df_list = df_classifier(path, 'all', 1)"
   ]
  },
  {
   "cell_type": "markdown",
   "metadata": {},
   "source": [
    "## Cleaning Data"
   ]
  },
  {
   "cell_type": "markdown",
   "metadata": {},
   "source": [
    "### 0. Previous modifications before removing nan columns"
   ]
  },
  {
   "cell_type": "code",
   "execution_count": 6,
   "metadata": {},
   "outputs": [],
   "source": [
    "columns_to_fill_empty = ['ONSHORE_CITY_NAME', 'OFF_ACCIDENT_ORIGIN', 'ONSHORE_COUNTY_NAME', 'OFFSHORE_COUNTY_NAME',\n",
    "                         'ONSHORE_STATE_ABBREVIATION', 'OFFSHORE_STATE_ABBREVIATION']"
   ]
  },
  {
   "cell_type": "code",
   "execution_count": 7,
   "metadata": {},
   "outputs": [],
   "source": [
    "columns_to_fill_zeros = ['INJURE','FATAL', 'INC_PRS']"
   ]
  },
  {
   "cell_type": "code",
   "execution_count": 8,
   "metadata": {},
   "outputs": [],
   "source": [
    "def fillna_empty(df, column):\n",
    "\n",
    "    \"\"\"Fill column nan values with empty values\"\"\"\n",
    "\n",
    "    if column in df:\n",
    "            \n",
    "            return df[column].fillna('', inplace=True)"
   ]
  },
  {
   "cell_type": "code",
   "execution_count": 9,
   "metadata": {},
   "outputs": [],
   "source": [
    "def fillna_zeros(df, column):\n",
    "\n",
    "    \"\"\"Fill column nan values with zeros\"\"\"\n",
    "\n",
    "    if column in df:\n",
    "            \n",
    "        return df[column].fillna(0, inplace=True)"
   ]
  },
  {
   "cell_type": "code",
   "execution_count": 10,
   "metadata": {},
   "outputs": [],
   "source": [
    "# Fix nan Values\n",
    "\n",
    "def preliminary_fill_nan(df_list):\n",
    "\n",
    "    for df in df_list:\n",
    "    \n",
    "        for column in columns_to_fill_empty:\n",
    "        \n",
    "            fillna_empty(df, column)\n",
    "        \n",
    "        for column in columns_to_fill_zeros: \n",
    "    \n",
    "            fillna_zeros(df, column)"
   ]
  },
  {
   "cell_type": "code",
   "execution_count": 11,
   "metadata": {},
   "outputs": [],
   "source": [
    "# Fix locations of datesets hl2010toPresent and gtggungs2010toPresent\n",
    "\n",
    "def on_offshore(df_list, list_index):\n",
    "    \n",
    "    preliminary_fill_nan(df_list)\n",
    "    \n",
    "    for i in list_index:\n",
    "\n",
    "        df_list[i]['LOCATION_CITY_NAME'] = df_list[i].apply(lambda x:\n",
    "                                                     x.ONSHORE_CITY_NAME +\n",
    "                                                     x.OFF_ACCIDENT_ORIGIN, axis=1)\n",
    "        df_list[i]['LOCATION_COUNTY_NAME'] = df_list[i].apply(lambda x:\n",
    "                                                     x.ONSHORE_COUNTY_NAME +\n",
    "                                                     x.OFFSHORE_COUNTY_NAME, axis=1)\n",
    "        df_list[i]['LOCATION_STATE_ABBREVIATION'] = df_list[i].apply(lambda x:\n",
    "                                                     x.ONSHORE_STATE_ABBREVIATION +\n",
    "                                                     x.OFFSHORE_STATE_ABBREVIATION, axis=1)"
   ]
  },
  {
   "cell_type": "code",
   "execution_count": 12,
   "metadata": {},
   "outputs": [],
   "source": [
    "on_offshore(df_list,[2,7])"
   ]
  },
  {
   "cell_type": "markdown",
   "metadata": {},
   "source": [
    "### 1. Fixing Datetime Column"
   ]
  },
  {
   "cell_type": "code",
   "execution_count": 13,
   "metadata": {},
   "outputs": [],
   "source": [
    "def time(df_column):\n",
    "    \n",
    "    \"\"\"This function convert string type column into datetime type\"\"\"\n",
    "    \n",
    "    return pd.to_datetime(df_column, format=\"%Y-%m-%d %H:%M:%S\")"
   ]
  },
  {
   "cell_type": "code",
   "execution_count": 14,
   "metadata": {},
   "outputs": [],
   "source": [
    "def add_zeros(df, df_column, leading: int, trailing: int):\n",
    "    \n",
    "    \"\"\" Add leading zeros and trailing zeros to a value from a column data frame\"\"\"\n",
    "    \n",
    "    # Add leading zeros (4)\n",
    "\n",
    "    df[df_column] = df.apply(lambda x: x[df_column].zfill(leading), axis=1)\n",
    "\n",
    "    # Add trailing zeros (6)\n",
    "\n",
    "    df[df_column] = df.apply(lambda x: x[df_column].ljust(trailing, '0'), axis=1)\n",
    "    \n",
    "    return df[df_column]"
   ]
  },
  {
   "cell_type": "code",
   "execution_count": 15,
   "metadata": {},
   "outputs": [],
   "source": [
    "def insert_colon(df, df_column, to_insert: str, step):\n",
    "    \n",
    "    \"\"\" Insert a string into a value column (also string) \"\"\"\n",
    "    \n",
    "    df[df_column] = df.apply(lambda x: to_insert.join(x[df_column][i:i+2] for i in range(0, len(x[df_column]), step)), axis=1)\n",
    "    \n",
    "    return df[df_column]"
   ]
  },
  {
   "cell_type": "code",
   "execution_count": 16,
   "metadata": {},
   "outputs": [],
   "source": [
    "def datetime_format(df, df_column, leading, trailing, insertion, step):\n",
    "    \n",
    "    \"\"\" Transform a string into a datetime format\"\"\"\n",
    "    \n",
    "    # Add leading and trailing zeros\n",
    "\n",
    "    add_zeros(df, df_column, leading, trailing)\n",
    "\n",
    "    # And insert colon in the date to fit the format\n",
    "\n",
    "    insert_colon(df, df_column, insertion, step)\n",
    "    \n",
    "    return df[df_column]"
   ]
  },
  {
   "cell_type": "code",
   "execution_count": 17,
   "metadata": {},
   "outputs": [],
   "source": [
    "def remove_blank_spaces(df, df_column, value: str):\n",
    "    \n",
    "    \"\"\"Find blank spaces into a column and replace them by a value\"\"\"\n",
    "    \n",
    "    df.loc[df[df_column].str.contains(r'\\s+') == True, ['DTHH']] = value"
   ]
  },
  {
   "cell_type": "code",
   "execution_count": 18,
   "metadata": {},
   "outputs": [],
   "source": [
    "def change_column_type(df, df_column, new_type: str):\n",
    "    \n",
    "    df[df_column] = df[df_column].astype(new_type)\n",
    "    \n",
    "    return df[df_column]"
   ]
  },
  {
   "cell_type": "code",
   "execution_count": 19,
   "metadata": {},
   "outputs": [],
   "source": [
    "def fixing_datetime_column(df_list):\n",
    "    \n",
    "    for df in df_list:\n",
    "\n",
    "        df.rename(columns={'IHOUR' : 'DTHH'}, inplace=True)\n",
    "\n",
    "        if 'DTHH' in df:\n",
    "\n",
    "            if df['DTHH'].dtype == 'object':\n",
    "\n",
    "                # It seems there are some rows with 'spaces' we need to feel to convert the column to integer\n",
    "\n",
    "                remove_blank_spaces(df, 'DTHH', '0000')\n",
    "\n",
    "            df['DTHH'].fillna(0, inplace = True)\n",
    "\n",
    "            change_column_type(df, 'DTHH', 'int64')\n",
    "\n",
    "            # Check that there are no times above 2400\n",
    "\n",
    "            df.loc[df['DTHH'] >= 2400, ['DTHH']] = 0\n",
    "\n",
    "            # Convert column to string\n",
    "\n",
    "            change_column_type(df, 'DTHH', 'str')\n",
    "\n",
    "            datetime_format(df, 'DTHH', 4, 6, ':', 2)\n",
    "\n",
    "            df['LOCAL_DATETIME'] = df['IDATE'].astype('str').str.cat(df['DTHH'],sep=\" \")\n",
    "\n",
    "            df.drop(df[df['LOCAL_DATETIME'] == '1998-09-17 01:63:00'].index, inplace = True)\n",
    "            \n",
    "        if df['LOCAL_DATETIME'].dtype == 'object':\n",
    "    \n",
    "            df['LOCAL_DATETIME'] = df.apply(lambda x: time(x.LOCAL_DATETIME), axis=1)\n",
    "        \n",
    "    return df['LOCAL_DATETIME']"
   ]
  },
  {
   "cell_type": "markdown",
   "metadata": {},
   "source": [
    "### 2. Drop columns with high nan percentage"
   ]
  },
  {
   "cell_type": "code",
   "execution_count": 21,
   "metadata": {},
   "outputs": [],
   "source": [
    "def nan_removal(df, percentage):\n",
    "\n",
    "    nan_values = df.isna().sum()\n",
    "        \n",
    "    nan_percentage = nan_values / len(df) * 100\n",
    "        \n",
    "    filter_nan_percentage = nan_percentage > percentage\n",
    "    \n",
    "    high_nan_columns = df.columns[filter_nan_percentage].to_list()\n",
    "    \n",
    "    return df.drop(columns=high_nan_columns, inplace=True)"
   ]
  },
  {
   "cell_type": "markdown",
   "metadata": {},
   "source": [
    "### 3. Renaming of variables to be used."
   ]
  },
  {
   "cell_type": "code",
   "execution_count": 22,
   "metadata": {},
   "outputs": [],
   "source": [
    "for df in df_list:\n",
    "    \n",
    "    df.rename(columns={'ACCTY' : 'LOCATION_CITY_NAME',\n",
    "                       'FACILITY_NAME' : 'LOCATION_CITY_NAME',\n",
    "                       'ACCITY' : 'LOCATION_CITY_NAME',\n",
    "                      'ACCNT' : 'LOCATION_COUNTY_NAME',\n",
    "                       'ACCOUNTY' : 'LOCATION_COUNTY_NAME',\n",
    "                       'ACCST' : 'LOCATION_STATE_ABBREVIATION',\n",
    "                       'ACSTATE' : 'LOCATION_STATE_ABBREVIATION',\n",
    "                       'FACILITY_STATE' : 'LOCATION_STATE_ABBREVIATION',\n",
    "                       'ACZIP' : 'LOCATION_POSTAL_CODE',\n",
    "                       'LATITUDE' : 'LOCATION_LATITUDE',\n",
    "                       'LONGITUDE' : 'LOCATION_LONGITUDE',\n",
    "                       'FACILITY_LATITUDE' : 'LOCATION_LATITUDE',\n",
    "                       'FACILITY_LONGITUDE' : 'LOCATION_LONGITUDE',\n",
    "                       'RPTID' : 'REPORT_NUMBER',\n",
    "                       'INADR' : 'LOCATION_STREET_ADDRESS',\n",
    "                       'CLASS' : 'CLASS_LOCATION_TYPE',\n",
    "                       'COMM' : 'COMMODITY_RELEASED_TYPE',\n",
    "                       'CSYS' : 'SYSTEM_PART_INVOLVED',\n",
    "                       'OFFSHORE' : 'ON_OFF_SHORE',\n",
    "                       'SHORE' : 'ON_OFF_SHORE',\n",
    "                       'OFFSHORE_TEXT' : 'ON_OFF_SHORE',\n",
    "                      'OPID' : 'OPERATOR_ID',\n",
    "                      'IFED' : 'FEDERAL',\n",
    "                       'INTER_INTRA':'PIPE_FACILITY_TYPE',\n",
    "                       'INTER_TEXT' : 'PIPE_FACILITY_TYPE',\n",
    "                       'INTER' : 'PIPE_FACILITY_TYPE',\n",
    "                       'TFAT' : 'FATAL',\n",
    "                       'EFAT' : 'NUM_EMP_FATALITIES',\n",
    "                       'FAT' : 'FATAL',\n",
    "                       'TINJ' : 'INJURE',\n",
    "                       'EINJ' : 'NUM_EMP_INJURIES',\n",
    "                       'INJ' : 'INJURE',\n",
    "                       'ACPRS' : 'ACCIDENT_PSIG',\n",
    "                       'INPRS' : 'ACCIDENT_PSIG',\n",
    "                       'INC_PRS' : 'ACCIDENT_PSIG',\n",
    "                       'MAOP' : 'MOP_PSIG',\n",
    "                       'MXPRS' : 'MOP_PSIG',\n",
    "                       'DSPRS' : 'MOP_PSIG',\n",
    "                       'PRTST' : 'MOP_CFR_SECTION',\n",
    "                       'TEST' : 'EX_HYDROTEST_PRESSURE',\n",
    "                       'PRTLK' : 'CUSTOMER_TYPE',\n",
    "                       'MLKD' : 'MATERIAL_INVOLVED',\n",
    "                       'MLKD_TEXT' : 'MATERIAL_INVOLVED',\n",
    "                       'NMDIA' : 'PIPE_DIAMETER',\n",
    "                       'NPS' : 'PIPE_DIAMETER',\n",
    "                       'THK' : 'WT_STEEL',\n",
    "                       'SPEC' : 'PIPE_SPECIFICATION',\n",
    "                       'PRTYR' : 'INSTALLATION_YEAR',\n",
    "                       'ITMYR' : 'INSTALLATION_YEAR',\n",
    "                       'MANYR' : 'MANUFACTURED_YEAR',\n",
    "                       'MANU' : 'PIPE_MANUFACTURER',\n",
    "                       'LOCLK' : 'INCIDENT_AREA_TYPE',\n",
    "                       'LOCLK_TEXT' : 'INCIDENT_AREA_TYPE',\n",
    "                       'PNAME' : 'PREPARER_NAME',\n",
    "                       'PHONE' : 'PREPARER_PHONE',\n",
    "                       'PPHONE' : 'PREPARER_PHONE',\n",
    "                       'PROT' : 'UNDER_CATHODIC_PROTECTION_IND',\n",
    "                       'FACAT' : 'UNDER_CATHODIC_PROTECTION_IND',\n",
    "                       'CAULK' : 'CAUSE_DETAILS',\n",
    "                       'ITYPE' : 'RELEASE_TYPE',\n",
    "                       'LRTYPE_TEXT' : 'RELEASE_TYPE',\n",
    "                       'ORGLK' : 'ITEM_INVOLVED',\n",
    "                       'PRTSY_TEXT' : 'ITEM_INVOLVED',\n",
    "                       'PRTSY' : 'ITEM_INVOLVED',\n",
    "                       'PRTFL' : 'SYSTEM_PART_DETAILS',\n",
    "                       'PRTFL_TEXT' : 'SYSTEM_PART_DETAILS',\n",
    "                       'LOSS' : 'UNINTENTIONAL_RELEASE_BBLS',\n",
    "                       'RECOV' : 'RECOVERED_BBLS',\n",
    "                       'FIRE' : 'IGNITE_IND',\n",
    "                       'IGNITE' : 'IGNITE_IND',\n",
    "                       'EXP' : 'EXPLODE_IND',\n",
    "                       'EXPLO' : 'EXPLODE_IND',\n",
    "                       'SMYS' : 'PIPE_SMYS',\n",
    "                       'CORRO' : 'CORROSION_TYPE',\n",
    "                       'UNINTENTIONAL_RELEASE' : 'UNINTENTIONAL_RELEASE_BBLS'\n",
    "                      }, inplace=True)"
   ]
  },
  {
   "cell_type": "markdown",
   "metadata": {},
   "source": [
    "### 4. Fill nan values and remove useless columns"
   ]
  },
  {
   "cell_type": "code",
   "execution_count": 23,
   "metadata": {},
   "outputs": [],
   "source": [
    "def nan_col_selection(df):\n",
    "    \n",
    "    return df.columns[df.isna().any()].tolist()"
   ]
  },
  {
   "cell_type": "code",
   "execution_count": 24,
   "metadata": {},
   "outputs": [],
   "source": [
    "def fillna_num_col(df, column_list):\n",
    "    \n",
    "    return df[column_list].select_dtypes(include=['float64', 'int64']).fillna(0)"
   ]
  },
  {
   "cell_type": "code",
   "execution_count": 25,
   "metadata": {},
   "outputs": [],
   "source": [
    "def fillna_cat_col(df, column_list):\n",
    "    \n",
    "    return df[column_list].select_dtypes(exclude=['float64', 'int64']).fillna('NO DATA')"
   ]
  },
  {
   "cell_type": "code",
   "execution_count": 26,
   "metadata": {},
   "outputs": [],
   "source": [
    "def df_clean(df, df_cat, df_num):\n",
    "    \n",
    "    for column in df_cat.columns:\n",
    "    \n",
    "        df[column] = df_cat[column]\n",
    "    \n",
    "    for column in df_num.columns:\n",
    "    \n",
    "        df[column] = df_num[column]\n",
    "        \n",
    "    return df"
   ]
  },
  {
   "cell_type": "code",
   "execution_count": 27,
   "metadata": {},
   "outputs": [],
   "source": [
    "for df in df_list:\n",
    "    \n",
    "    df.drop(columns=[\n",
    "                        'DATAFILE_AS_OF','OPSTREET', 'OPCITY', 'OPCOUNTY', 'OPSTATE',\n",
    "                       'OPZIP', 'PPPRP', 'PPPRPCURRENT', 'EMRPRP', 'ACSTREET',\n",
    "                       'EMRPRPCURRENT', 'ENVPRP', 'ENVPRPCURRENT', 'OPCPRP', 'OPCPRPCURRENT',\n",
    "                       'PRODPRP', 'PRODPRPCURRENT', 'OOPRP', 'OOPRPCURRENT', 'OOPPRP', 'GASPRP',\n",
    "                       'GASPRPCURRENT', 'OPPRP', 'OPPRPCURRENT', 'NUM_EMP_FATALITIES',\n",
    "                       'OOPPRPCURRENT', 'IPE', 'IA_IPE', 'OM_IPE', 'NUM_EMP_INJURIES',\n",
    "                        'SUPPLEMENTAL_NUMBER', 'REPORT_RECEIVED_DATE', 'REPORT_TYPE',\n",
    "                        'OPERATOR_STREET_ADDRESS', 'OPERATOR_CITY_NAME', 'CUSTOMER_TYPE',\n",
    "                        'OPERATOR_STATE_ABBREVIATION', 'OPERATOR_POSTAL_CODE', 'IYEAR',\n",
    "                        'LOCATION_POSTAL_CODE', 'ONSHORE_POSTAL_CODE', \n",
    "                        'ONSHORE_CITY_NAME', 'OFF_ACCIDENT_ORIGIN', 'ONSHORE_COUNTY_NAME', \n",
    "                        'OFFSHORE_COUNTY_NAME', 'ONSHORE_STATE_ABBREVIATION', 'OFFSHORE_STATE_ABBREVIATION',\n",
    "                        'EST_COST_OPER_PAID','EST_COST_OPER_PAID_CURRENT', 'EST_COST_GAS_RELEASED',\n",
    "                       'EST_COST_GAS_RELEASED_CURRENT', 'EST_COST_PROP_DAMAGE',\n",
    "                       'EST_COST_PROP_DAMAGE_CURRENT', 'EST_COST_EMERGENCY',\n",
    "                       'EST_COST_EMERGENCY_CURRENT', 'EST_COST_ENVIRONMENTAL', 'IDATE', 'DTHH',\n",
    "                       'EST_COST_ENVIRONMENTAL_CURRENT', 'EST_COST_OTHER',\n",
    "                       'EST_COST_OTHER_CURRENT', 'CORLC', 'EXT_INT_CORROSION',\n",
    "                        'PREPARER_NAME', 'PREPARER_TITLE', 'PREPARER_EMAIL','PREPARER_PHONE',\n",
    "                       'PREPARER_TELEPHONE', 'PREPARED_DATE', 'AUTHORIZER_NAME',\n",
    "                       'AUTHORIZER_TITLE', 'AUTHORIZER_TELEPHONE', 'AUTHORIZER_EMAIL', 'FATALITY_IND',\n",
    "                        'INJURY_IND','SHUTDOWN_DUE_ACCIDENT_IND', 'INCIDENT_IDENTIFIED_DATETIME',\n",
    "                           'ON_SITE_DATETIME', 'DESIGNATED_NAME', 'NUM_PUB_EVACUATED',\n",
    "                           'PIPE_FAC_NAME', 'SEGMENT_NAME', 'FEDERAL', 'LOCATION_TYPE', \n",
    "                           'CROSSING','SYSTEM_PART_INVOLVED', 'DESIGNATED_LOCATION', 'WILDLIFE_IMPACT_IND',\n",
    "                           'SOIL_CONTAMINATION','LONG_TERM_ASSESSMENT', 'REMEDIATION_IND', \n",
    "                           'WATER_CONTAM_IND', 'COULD_BE_HCA', 'COMMODITY_REACHED_HCA', 'ACCIDENT_PRESSURE',\n",
    "                           'PRESSURE_RESTRICTION_IND', 'PART_C_QUESTION_2_IND', 'PIPELINE_FUNCTION', 'SCADA_IN_PLACE_IND', 'CPM_IN_PLACE_IND',\n",
    "                           'ACCIDENT_IDENTIFIER', 'INVESTIGATION_STATUS', 'EMPLOYEE_DRUG_TEST_IND',\n",
    "                            'CONTRACTOR_DRUG_TEST_IND','SPILL_TYPE_CATEGORY', 'MOP_CFR_SECTION',\n",
    "                           'SCADA_OPERATING_IND', 'SCADA_FUNCTIONAL_IND', 'SCADA_DETECTION_IND',\n",
    "                           'SCADA_CONF_IND','NRC_RPT_NUM', 'NRC_RPT_DATETIME', 'INTENTIONAL_RELEASE'\n",
    "                          ],errors='ignore', inplace=True)\n",
    "    \n",
    "    nan_removal(df, 20)\n",
    "    \n",
    "    df_clean(df, fillna_cat_col(df, nan_col_selection(df)), fillna_num_col(df, nan_col_selection(df)))"
   ]
  },
  {
   "cell_type": "markdown",
   "metadata": {},
   "source": [
    "### 5. Selecting variables"
   ]
  },
  {
   "cell_type": "markdown",
   "metadata": {},
   "source": [
    "### - hl_1986_to_2001"
   ]
  },
  {
   "cell_type": "code",
   "execution_count": 28,
   "metadata": {},
   "outputs": [],
   "source": [
    "df_list[0].drop(columns = ['COOR', 'SPLOC', 'TELRN', 'ORGLO',\n",
    "                          'CAUSO', 'NFAT', 'NINJ', 'CORR', 'PREVT',\n",
    "                          'JNT', 'MOP_PSIG', 'DUR', 'CAULO', 'TMPMK',\n",
    "                          'FACTD', 'ONECL', 'ONEOT', 'EXCAL'],errors='ignore', inplace=True)"
   ]
  },
  {
   "cell_type": "code",
   "execution_count": 29,
   "metadata": {},
   "outputs": [],
   "source": [
    "df_list[0].PIPE_FACILITY_TYPE.replace(['YES', 'NO'],['INTERSTATE', 'INTRASTATE'], inplace=True)"
   ]
  },
  {
   "cell_type": "code",
   "execution_count": 30,
   "metadata": {},
   "outputs": [],
   "source": [
    "df_list[0].ON_OFF_SHORE.replace(['YES', 'NO'],['OFFSHORE', 'ONSHORE'], inplace=True)"
   ]
  },
  {
   "cell_type": "code",
   "execution_count": 31,
   "metadata": {},
   "outputs": [
    {
     "data": {
      "text/plain": [
       "Index(['SIGNIFICANT', 'SERIOUS', 'REPORT_NUMBER', 'OPERATOR_ID', 'NAME',\n",
       "       'PIPE_FACILITY_TYPE', 'LOCATION_STATE_ABBREVIATION',\n",
       "       'LOCATION_COUNTY_NAME', 'LOCATION_CITY_NAME', 'ON_OFF_SHORE',\n",
       "       'ITEM_INVOLVED', 'INSTALLATION_YEAR', 'CAUSE', 'MAP_CAUSE',\n",
       "       'MAP_SUBCAUSE', 'FATAL', 'INJURE', 'TOTAL_COST', 'TOTAL_COST_IN84',\n",
       "       'TOTAL_COST_CURRENT', 'COMMODITY_RELEASED_TYPE', 'CLASS_LOCATION_TYPE',\n",
       "       'UNINTENTIONAL_RELEASE_BBLS', 'RECOVERED_BBLS', 'IGNITE_IND',\n",
       "       'EXPLODE_IND', 'PIPE_DIAMETER', 'WT_STEEL', 'PIPE_SMYS',\n",
       "       'ACCIDENT_PSIG', 'UNDER_CATHODIC_PROTECTION_IND', 'CORROSION_TYPE',\n",
       "       'CAUSE_DETAILS', 'NARRATIVE', 'LOCAL_DATETIME'],\n",
       "      dtype='object')"
      ]
     },
     "execution_count": 31,
     "metadata": {},
     "output_type": "execute_result"
    }
   ],
   "source": [
    "df_list[0].columns"
   ]
  },
  {
   "cell_type": "markdown",
   "metadata": {},
   "source": [
    "### - gtgg_1986_to_2001"
   ]
  },
  {
   "cell_type": "code",
   "execution_count": 32,
   "metadata": {},
   "outputs": [],
   "source": [
    "df_list[1].drop(columns = ['MPOST', 'SURVY', 'OFFAREA', 'BNUMB',\n",
    "                          'OFFST', 'OCS', 'OPJUD', 'STHH',\n",
    "                          'STMN', 'TELRN', 'TELRT', 'MPEST', 'PRTFO',\n",
    "                          'PRTSY', 'PRTSO', 'SEAM', 'LOCLO', 'DESCO',\n",
    "                            'CAUCO', 'DMGO', 'NOTIF', 'MARK', 'MRKTP',\n",
    "                          'CAULO', 'STAT', 'CTEST', 'MEDO', 'MLKDO'], errors='ignore', inplace=True)"
   ]
  },
  {
   "cell_type": "code",
   "execution_count": 33,
   "metadata": {},
   "outputs": [],
   "source": [
    "df_list[1].ON_OFF_SHORE.replace(['YES', 'NO'],['OFFSHORE', 'ONSHORE'], inplace=True)"
   ]
  },
  {
   "cell_type": "code",
   "execution_count": 34,
   "metadata": {},
   "outputs": [],
   "source": [
    "df_list[1].COMMODITY_RELEASED_TYPE = 'NATURAL GAS'"
   ]
  },
  {
   "cell_type": "code",
   "execution_count": 35,
   "metadata": {},
   "outputs": [
    {
     "data": {
      "text/plain": [
       "Index(['SIGNIFICANT', 'SERIOUS', 'SYSTEM_TYPE', 'REPORT_NUMBER', 'OPERATOR_ID',\n",
       "       'NAME', 'LOCATION_CITY_NAME', 'LOCATION_COUNTY_NAME',\n",
       "       'LOCATION_STATE_ABBREVIATION', 'CLASS_LOCATION_TYPE', 'ON_OFF_SHORE',\n",
       "       'RELEASE_TYPE', 'FATAL', 'INJURE', 'TOTAL_COST', 'TOTAL_COST_IN84',\n",
       "       'TOTAL_COST_CURRENT', 'ACCIDENT_PSIG', 'MOP_PSIG',\n",
       "       'EX_HYDROTEST_PRESSURE', 'CAUSE', 'MAP_CAUSE', 'MAP_SUBCAUSE',\n",
       "       'SYSTEM_PART_DETAILS', 'MATERIAL_INVOLVED', 'ITEM_INVOLVED',\n",
       "       'INSTALLATION_YEAR', 'PIPE_DIAMETER', 'WT_STEEL', 'PIPE_SPECIFICATION',\n",
       "       'PIPE_SMYS', 'PIPE_MANUFACTURER', 'MANUFACTURED_YEAR',\n",
       "       'INCIDENT_AREA_TYPE', 'UNDER_CATHODIC_PROTECTION_IND', 'CAUSE_DETAILS',\n",
       "       'NARRATIVE', 'LOCAL_DATETIME'],\n",
       "      dtype='object')"
      ]
     },
     "execution_count": 35,
     "metadata": {},
     "output_type": "execute_result"
    }
   ],
   "source": [
    "df_list[1].columns"
   ]
  },
  {
   "cell_type": "markdown",
   "metadata": {},
   "source": [
    "### - gd_1986_to_2004"
   ]
  },
  {
   "cell_type": "code",
   "execution_count": 36,
   "metadata": {},
   "outputs": [],
   "source": [
    "df_list[9].drop(columns = ['OPJUD', 'STHH', 'STMN', 'TELRN', 'TELRT' ,\n",
    "                           'MPEST', 'NOTIF', 'MARK', 'STAT'],errors='ignore', inplace=True)"
   ]
  },
  {
   "cell_type": "code",
   "execution_count": 37,
   "metadata": {},
   "outputs": [
    {
     "data": {
      "text/plain": [
       "Index(['SIGNIFICANT', 'SERIOUS', 'REPORT_NUMBER', 'OPERATOR_ID', 'NAME',\n",
       "       'LOCATION_STREET_ADDRESS', 'LOCATION_CITY_NAME', 'LOCATION_COUNTY_NAME',\n",
       "       'LOCATION_STATE_ABBREVIATION', 'CLASS_LOCATION_TYPE', 'FATAL', 'INJURE',\n",
       "       'TOTAL_COST', 'TOTAL_COST_IN84', 'TOTAL_COST_CURRENT', 'ACCIDENT_PSIG',\n",
       "       'MOP_PSIG', 'EX_HYDROTEST_PRESSURE', 'CAUSE', 'MAP_CAUSE',\n",
       "       'MAP_SUBCAUSE', 'SYSTEM_PART_DETAILS', 'MATERIAL_INVOLVED',\n",
       "       'PIPE_DIAMETER', 'WT_STEEL', 'PIPE_SPECIFICATION', 'PIPE_MANUFACTURER',\n",
       "       'MANUFACTURED_YEAR', 'INSTALLATION_YEAR', 'INCIDENT_AREA_TYPE',\n",
       "       'UNDER_CATHODIC_PROTECTION_IND', 'CAUSE_DETAILS', 'NARRATIVE',\n",
       "       'LOCAL_DATETIME'],\n",
       "      dtype='object')"
      ]
     },
     "execution_count": 37,
     "metadata": {},
     "output_type": "execute_result"
    }
   ],
   "source": [
    "df_list[9].columns"
   ]
  },
  {
   "cell_type": "markdown",
   "metadata": {},
   "source": [
    "### - hl_2002_to_2009"
   ]
  },
  {
   "cell_type": "code",
   "execution_count": 38,
   "metadata": {},
   "outputs": [],
   "source": [
    "df_list[3].drop(columns = ['DOR', 'IYEAR', 'SPILLED', 'CLASS_TEXT', 'SPUNIT_TEXT',\n",
    "                           'PEMAIL', 'NFAT', 'GPFAT', 'NINJ', 'GPINJ',\n",
    "                          'IO_DRUG', 'IO_ALCO'],errors='ignore', inplace=True)"
   ]
  },
  {
   "cell_type": "code",
   "execution_count": 39,
   "metadata": {},
   "outputs": [
    {
     "data": {
      "text/plain": [
       "Index(['SIGNIFICANT', 'SERIOUS', 'REPORT_NUMBER', 'OPERATOR_ID', 'NAME',\n",
       "       'LOCATION_LATITUDE', 'LOCATION_LONGITUDE', 'LOCATION_CITY_NAME',\n",
       "       'LOCATION_COUNTY_NAME', 'LOCATION_STATE_ABBREVIATION', 'TOTAL_COST',\n",
       "       'TOTAL_COST_IN84', 'TOTAL_COST_CURRENT', 'COMMODITY_RELEASED_TYPE',\n",
       "       'UNINTENTIONAL_RELEASE_BBLS', 'RECOVERED_BBLS', 'ON_OFF_SHORE',\n",
       "       'ACCIDENT_PSIG', 'FATAL', 'INJURE', 'CAUSE', 'MAP_CAUSE',\n",
       "       'MAP_SUBCAUSE', 'LOCAL_DATETIME'],\n",
       "      dtype='object')"
      ]
     },
     "execution_count": 39,
     "metadata": {},
     "output_type": "execute_result"
    }
   ],
   "source": [
    "df_list[3].columns"
   ]
  },
  {
   "cell_type": "markdown",
   "metadata": {},
   "source": [
    "### - gtgg_2002_to_2009"
   ]
  },
  {
   "cell_type": "code",
   "execution_count": 40,
   "metadata": {},
   "outputs": [],
   "source": [
    "df_list[6].drop(columns = ['DOR', 'IYEAR', 'OCS', 'HIGHCON',\n",
    "                           'PEMAIL', 'NFAT', 'GPFAT', 'NINJ', 'GPINJ', 'EVAC',\n",
    "                           'EVACNO', 'STHH', 'TELRN', 'TELDT',\n",
    "                          'MAOPSEC1', 'MAOPSEC2', 'MAOPSEC3', 'MAOPSEC4',\n",
    "                           'MAOPSECC', 'OVERPRS', 'PLAS_DUCT', 'PLAS_BRIT',\n",
    "                           'PLAS_JNT', 'TYSYS_TEXT'\n",
    "                          ],errors='ignore', inplace=True)"
   ]
  },
  {
   "cell_type": "code",
   "execution_count": 41,
   "metadata": {},
   "outputs": [
    {
     "data": {
      "text/plain": [
       "Index(['SIGNIFICANT', 'SERIOUS', 'SYSTEM_TYPE', 'REPORT_NUMBER', 'OPERATOR_ID',\n",
       "       'NAME', 'LOCATION_STATE_ABBREVIATION', 'LOCATION_LATITUDE',\n",
       "       'LOCATION_LONGITUDE', 'ON_OFF_SHORE', 'PIPE_FACILITY_TYPE',\n",
       "       'RELEASE_TYPE', 'FATAL', 'INJURE', 'TOTAL_COST', 'TOTAL_COST_IN84',\n",
       "       'TOTAL_COST_CURRENT', 'IGNITE_IND', 'EXPLODE_IND', 'ACCIDENT_PSIG',\n",
       "       'MOP_PSIG', 'SYSTEM_PART_DETAILS', 'MATERIAL_INVOLVED', 'ITEM_INVOLVED',\n",
       "       'INSTALLATION_YEAR', 'PIPE_DIAMETER', 'INCIDENT_AREA_TYPE', 'CAUSE',\n",
       "       'CAUSE_DETAILS', 'MAP_CAUSE', 'MAP_SUBCAUSE', 'NARRATIVE',\n",
       "       'LOCAL_DATETIME'],\n",
       "      dtype='object')"
      ]
     },
     "execution_count": 41,
     "metadata": {},
     "output_type": "execute_result"
    }
   ],
   "source": [
    "df_list[6].columns"
   ]
  },
  {
   "cell_type": "markdown",
   "metadata": {},
   "source": [
    "### - gd_2004_to_2009"
   ]
  },
  {
   "cell_type": "code",
   "execution_count": 42,
   "metadata": {},
   "outputs": [],
   "source": [
    "df_list[8].drop(columns = ['FF', 'DOR', 'IYEAR', 'OCS', 'HIGHCON',\n",
    "                           'PEMAIL', 'NFAT', 'GPFAT', 'NINJ', 'GPINJ', 'EVAC',\n",
    "                           'EVACNO', 'STHH', 'STMN', 'TELRN', 'TELDT',\n",
    "                           'MAOPEST', 'OVERPRS', 'PLAS_DUCT', 'PLAS_BRIT',\n",
    "                           'PLAS_JNT', 'TYSYS_TEXT', 'NOTIF', 'MARKED', 'PERM_MARK',\n",
    "                           'MKD_IN_TIME', 'PIPE_DAMAGE', 'PRS_TEST' \n",
    "                          ],errors='ignore', inplace=True)"
   ]
  },
  {
   "cell_type": "code",
   "execution_count": 43,
   "metadata": {},
   "outputs": [
    {
     "data": {
      "text/plain": [
       "Index(['SIGNIFICANT', 'SERIOUS', 'REPORT_NUMBER', 'OPERATOR_ID', 'NAME',\n",
       "       'LOCATION_CITY_NAME', 'LOCATION_COUNTY_NAME',\n",
       "       'LOCATION_STATE_ABBREVIATION', 'CLASS_LOCATION_TYPE', 'RELEASE_TYPE',\n",
       "       'FATAL', 'INJURE', 'TOTAL_COST', 'TOTAL_COST_IN84',\n",
       "       'TOTAL_COST_CURRENT', 'IGNITE_IND', 'EXPLODE_IND', 'ACCIDENT_PSIG',\n",
       "       'MOP_PSIG', 'SYSTEM_PART_DETAILS', 'MATERIAL_INVOLVED',\n",
       "       'INCIDENT_AREA_TYPE', 'CAUSE', 'CAUSE_DETAILS', 'MAP_CAUSE',\n",
       "       'MAP_SUBCAUSE', 'NARRATIVE', 'LOCAL_DATETIME'],\n",
       "      dtype='object')"
      ]
     },
     "execution_count": 43,
     "metadata": {},
     "output_type": "execute_result"
    }
   ],
   "source": [
    "df_list[8].columns"
   ]
  },
  {
   "cell_type": "markdown",
   "metadata": {},
   "source": [
    "### - hl_2010_to_Present"
   ]
  },
  {
   "cell_type": "code",
   "execution_count": 44,
   "metadata": {},
   "outputs": [
    {
     "data": {
      "text/plain": [
       "Index(['SIGNIFICANT', 'SERIOUS', 'REPORT_NUMBER', 'OPERATOR_ID', 'NAME',\n",
       "       'LOCAL_DATETIME', 'LOCATION_LATITUDE', 'LOCATION_LONGITUDE',\n",
       "       'COMMODITY_RELEASED_TYPE', 'UNINTENTIONAL_RELEASE_BBLS',\n",
       "       'RECOVERED_BBLS', 'NET_LOSS_BBLS', 'FATAL', 'INJURE', 'IGNITE_IND',\n",
       "       'EXPLODE_IND', 'ON_OFF_SHORE', 'INCIDENT_AREA_TYPE',\n",
       "       'PIPE_FACILITY_TYPE', 'ITEM_INVOLVED', 'MATERIAL_INVOLVED',\n",
       "       'RELEASE_TYPE', 'TOTAL_COST', 'TOTAL_COST_IN84', 'TOTAL_COST_CURRENT',\n",
       "       'ACCIDENT_PSIG', 'MOP_PSIG', 'CAUSE', 'CAUSE_DETAILS', 'MAP_CAUSE',\n",
       "       'MAP_SUBCAUSE', 'NARRATIVE', 'LOCATION_CITY_NAME',\n",
       "       'LOCATION_COUNTY_NAME', 'LOCATION_STATE_ABBREVIATION'],\n",
       "      dtype='object')"
      ]
     },
     "execution_count": 44,
     "metadata": {},
     "output_type": "execute_result"
    }
   ],
   "source": [
    "df_list[2].columns"
   ]
  },
  {
   "cell_type": "markdown",
   "metadata": {},
   "source": [
    "### - gtgg_2010_to_Present"
   ]
  },
  {
   "cell_type": "code",
   "execution_count": 45,
   "metadata": {},
   "outputs": [],
   "source": [
    "df_list[7].drop(columns = ['INCIDENT_AREA_SUBTYPE', 'CLASS_LOCATION_TYPE', 'PIR_RADIUS', \n",
    "                          'HEAT_DAMAGE_IND', 'NON_HEAT_DAMAGE_IND',\n",
    "                           'HCA_FATALITIES_IND', 'EST_COST_INTENT_REL',\n",
    "                           'EST_COST_INTENT_REL_CURRENT',],errors='ignore', inplace=True)"
   ]
  },
  {
   "cell_type": "code",
   "execution_count": 46,
   "metadata": {},
   "outputs": [
    {
     "data": {
      "text/plain": [
       "Index(['SIGNIFICANT', 'SERIOUS', 'SYSTEM_TYPE', 'REPORT_NUMBER', 'OPERATOR_ID',\n",
       "       'NAME', 'LOCAL_DATETIME', 'LOCATION_LATITUDE', 'LOCATION_LONGITUDE',\n",
       "       'COMMODITY_RELEASED_TYPE', 'UNINTENTIONAL_RELEASE_BBLS',\n",
       "       'ACCOMPANYING_LIQUID', 'FATAL', 'INJURE', 'IGNITE_IND', 'EXPLODE_IND',\n",
       "       'ON_OFF_SHORE', 'INCIDENT_AREA_TYPE', 'PIPE_FACILITY_TYPE',\n",
       "       'ITEM_INVOLVED', 'INSTALLATION_YEAR', 'MATERIAL_INVOLVED',\n",
       "       'RELEASE_TYPE', 'TOTAL_COST', 'TOTAL_COST_IN84', 'TOTAL_COST_CURRENT',\n",
       "       'ACCIDENT_PSIG', 'MOP_PSIG', 'CAUSE', 'CAUSE_DETAILS', 'MAP_CAUSE',\n",
       "       'MAP_SUBCAUSE', 'NARRATIVE', 'LOCATION_CITY_NAME',\n",
       "       'LOCATION_COUNTY_NAME', 'LOCATION_STATE_ABBREVIATION'],\n",
       "      dtype='object')"
      ]
     },
     "execution_count": 46,
     "metadata": {},
     "output_type": "execute_result"
    }
   ],
   "source": [
    "df_list[7].columns"
   ]
  },
  {
   "cell_type": "markdown",
   "metadata": {},
   "source": [
    "### - gd_2010_to_Present"
   ]
  },
  {
   "cell_type": "code",
   "execution_count": 47,
   "metadata": {},
   "outputs": [],
   "source": [
    "df_list[5].drop(columns = ['FF','CLASS_LOCATION_TYPE', 'INCIDENT_AREA_SUBTYPE', 'EST_COST_UNINTENTIONAL_RELEASE',\n",
    "                           'EST_COST_UNINTENT_REL_CURRENT', 'EST_COST_INTENT_REL_CURRENT', 'COMMERCIAL_AFFECTED',\n",
    "                           'INDUSTRIAL_AFFECTED','RESIDENCES_AFFECTED'],errors='ignore', inplace=True)"
   ]
  },
  {
   "cell_type": "code",
   "execution_count": 48,
   "metadata": {},
   "outputs": [
    {
     "data": {
      "text/plain": [
       "Index(['SIGNIFICANT', 'SERIOUS', 'REPORT_NUMBER', 'OPERATOR_ID', 'NAME',\n",
       "       'LOCAL_DATETIME', 'LOCATION_STREET_ADDRESS', 'LOCATION_CITY_NAME',\n",
       "       'LOCATION_COUNTY_NAME', 'LOCATION_STATE_ABBREVIATION',\n",
       "       'LOCATION_LATITUDE', 'LOCATION_LONGITUDE', 'COMMODITY_RELEASED_TYPE',\n",
       "       'UNINTENTIONAL_RELEASE_BBLS', 'FATAL', 'INJURE', 'IGNITE_IND',\n",
       "       'EXPLODE_IND', 'INCIDENT_AREA_TYPE', 'PIPE_FACILITY_TYPE',\n",
       "       'INSTALLATION_YEAR', 'MATERIAL_INVOLVED', 'RELEASE_TYPE', 'TOTAL_COST',\n",
       "       'TOTAL_COST_IN84', 'TOTAL_COST_CURRENT', 'ACCIDENT_PSIG', 'NORMAL_PSIG',\n",
       "       'MOP_PSIG', 'CAUSE', 'CAUSE_DETAILS', 'MAP_CAUSE', 'MAP_SUBCAUSE',\n",
       "       'NARRATIVE'],\n",
       "      dtype='object')"
      ]
     },
     "execution_count": 48,
     "metadata": {},
     "output_type": "execute_result"
    }
   ],
   "source": [
    "df_list[5].columns"
   ]
  },
  {
   "cell_type": "markdown",
   "metadata": {},
   "source": [
    "### - LNG_2010_to_Present"
   ]
  },
  {
   "cell_type": "code",
   "execution_count": 49,
   "metadata": {},
   "outputs": [],
   "source": [
    "df_list[4].drop(columns = ['UNINTENTIONAL_RELEASE_IND','INTENTIONAL_RELEASE_IND', 'EMERGENCY_SHUTDOWN_IND',\n",
    "                           'RESULTED_FROM_OTHER_IND', 'NUM_OPER_AND_CONTRACTOR_EVAC',\n",
    "                          'FACILITY_STATUS', 'FACILITY_LIQUID_VAPOR_RATE', 'FACILITY_NUM_VAPORIZERS',\n",
    "                           'FACILITY_TOTAL_CAPACITY', 'FACILITY_SOURCE_LIQUEFY_IND',\n",
    "                           'FACILITY_NUMBER_TANKS', 'FACILITY_VOLUME_STORAGE',\n",
    "                           'EST_COST_INTENTIONAL_RELEASE', 'EST_COST_INTENT_REL_CURRENT',\n",
    "                           'CCS_IN_PLACE_IND', 'CCS_OPERATING_IND', 'CCS_FUNCTIONAL_IND',\n",
    "                          ],errors='ignore', inplace=True)"
   ]
  },
  {
   "cell_type": "code",
   "execution_count": 50,
   "metadata": {},
   "outputs": [
    {
     "data": {
      "text/plain": [
       "Index(['SIGNIFICANT', 'SERIOUS', 'REPORT_NUMBER', 'OPERATOR_ID', 'NAME',\n",
       "       'LOCAL_DATETIME', 'COMMODITY_RELEASED_TYPE', 'FATAL', 'INJURE',\n",
       "       'IGNITE_IND', 'EXPLODE_IND', 'LOCATION_CITY_NAME',\n",
       "       'LOCATION_STATE_ABBREVIATION', 'PIPE_FACILITY_TYPE', 'ITEM_INVOLVED',\n",
       "       'TOTAL_COST', 'TOTAL_COST_IN84', 'TOTAL_COST_CURRENT', 'CAUSE',\n",
       "       'CAUSE_DETAILS', 'MAP_CAUSE', 'MAP_SUBCAUSE', 'NARRATIVE'],\n",
       "      dtype='object')"
      ]
     },
     "execution_count": 50,
     "metadata": {},
     "output_type": "execute_result"
    }
   ],
   "source": [
    "df_list[4].columns"
   ]
  },
  {
   "cell_type": "markdown",
   "metadata": {},
   "source": [
    "### 6. Concatenate Datasets and create final Dataframe for Data Visualization"
   ]
  },
  {
   "cell_type": "code",
   "execution_count": 51,
   "metadata": {},
   "outputs": [
    {
     "data": {
      "text/plain": [
       "(18692, 51)"
      ]
     },
     "execution_count": 51,
     "metadata": {},
     "output_type": "execute_result"
    }
   ],
   "source": [
    "mergedStuff = pd.concat(df_list , ignore_index=True)\n",
    "mergedStuff.shape"
   ]
  },
  {
   "cell_type": "code",
   "execution_count": 52,
   "metadata": {},
   "outputs": [],
   "source": [
    "def final_df(df, nan_values):\n",
    "\n",
    "    total_nan = df.isna().sum()\n",
    "        \n",
    "    filter_nan = total_nan > nan_values\n",
    "    \n",
    "    useless_columns = df.columns[filter_nan].to_list()\n",
    "    \n",
    "    return df.drop(columns=useless_columns)"
   ]
  },
  {
   "cell_type": "code",
   "execution_count": 53,
   "metadata": {},
   "outputs": [],
   "source": [
    "merged_df_datavis = final_df(mergedStuff, 6500)"
   ]
  },
  {
   "cell_type": "markdown",
   "metadata": {},
   "source": [
    "## 7. Processing Dataset to Visualization"
   ]
  },
  {
   "cell_type": "code",
   "execution_count": 54,
   "metadata": {},
   "outputs": [],
   "source": [
    "processed_df = df_clean(merged_df_datavis, fillna_cat_col(merged_df_datavis, nan_col_selection(merged_df_datavis)), fillna_num_col(merged_df_datavis, nan_col_selection(merged_df_datavis)))"
   ]
  },
  {
   "cell_type": "code",
   "execution_count": 55,
   "metadata": {},
   "outputs": [],
   "source": [
    "order_list = ['LOCAL_DATETIME', 'REPORT_NUMBER',\n",
    "                             'SIGNIFICANT', 'SERIOUS',\n",
    "                             'ON_OFF_SHORE', 'LOCATION_CITY_NAME', 'LOCATION_COUNTY_NAME','LOCATION_STATE_ABBREVIATION','INCIDENT_AREA_TYPE', \n",
    "                             'CAUSE', 'MAP_CAUSE', 'MAP_SUBCAUSE',\n",
    "                             'FATAL', 'INJURE', 'UNINTENTIONAL_RELEASE_BBLS', 'TOTAL_COST_IN84', 'TOTAL_COST_CURRENT',\n",
    "                             'ACCIDENT_PSIG', 'MOP_PSIG', 'NAME', 'OPERATOR_ID', 'MATERIAL_INVOLVED', 'COMMODITY_RELEASED_TYPE'\n",
    "                            ]"
   ]
  },
  {
   "cell_type": "code",
   "execution_count": 56,
   "metadata": {},
   "outputs": [],
   "source": [
    "processed_df = processed_df[order_list]"
   ]
  },
  {
   "cell_type": "code",
   "execution_count": 57,
   "metadata": {},
   "outputs": [],
   "source": [
    "processed_df = processed_df.sort_values('LOCAL_DATETIME', ignore_index=True)"
   ]
  },
  {
   "cell_type": "code",
   "execution_count": 58,
   "metadata": {},
   "outputs": [],
   "source": [
    "processed_df[[ 'TOTAL_COST_IN84', 'TOTAL_COST_CURRENT']] = processed_df[[ 'TOTAL_COST_IN84', 'TOTAL_COST_CURRENT']].astype('int')"
   ]
  },
  {
   "cell_type": "code",
   "execution_count": 59,
   "metadata": {},
   "outputs": [],
   "source": [
    "processed_df.loc[processed_df['ON_OFF_SHORE'].str.contains('YES') == True, ['ON_OFF_SHORE']] = 'ONSHORE'"
   ]
  },
  {
   "cell_type": "code",
   "execution_count": 60,
   "metadata": {},
   "outputs": [],
   "source": [
    "processed_df.loc[processed_df['ON_OFF_SHORE'].str.contains('NO') == True, ['ON_OFF_SHORE']] = 'OFFSHORE'"
   ]
  },
  {
   "cell_type": "markdown",
   "metadata": {},
   "source": [
    "### 7.1.1 Scrap EEUU State abbreviations"
   ]
  },
  {
   "cell_type": "code",
   "execution_count": 61,
   "metadata": {},
   "outputs": [],
   "source": [
    "url = 'https://www.infoplease.com/us/postal-information/state-abbreviations-and-state-postal-codes'"
   ]
  },
  {
   "cell_type": "code",
   "execution_count": 62,
   "metadata": {},
   "outputs": [],
   "source": [
    "tables_df = pd.read_html(url)"
   ]
  },
  {
   "cell_type": "code",
   "execution_count": 63,
   "metadata": {},
   "outputs": [],
   "source": [
    "def replace_state(code, state_list, code_list):\n",
    "    \n",
    "    for i in range(len(code_list)):\n",
    "        \n",
    "        if code == code_list[i]:\n",
    "            \n",
    "            return state_list[i]\n",
    "        \n",
    "        elif code == 'NO DATA':\n",
    "            \n",
    "            return 'NO DATA'"
   ]
  },
  {
   "cell_type": "code",
   "execution_count": 64,
   "metadata": {},
   "outputs": [],
   "source": [
    "def upper(column):\n",
    "    \n",
    "    return column.upper()"
   ]
  },
  {
   "cell_type": "code",
   "execution_count": 65,
   "metadata": {},
   "outputs": [],
   "source": [
    "tables_df[1].rename(columns={'Territory/Associate' : 'State/District'}, inplace = True)\n",
    "\n",
    "states = pd.concat([tables_df[0],tables_df[1]])"
   ]
  },
  {
   "cell_type": "code",
   "execution_count": 66,
   "metadata": {},
   "outputs": [],
   "source": [
    "processed_df['LOCATION_STATE_ABBREVIATION'] = processed_df['LOCATION_STATE_ABBREVIATION'].replace(['  ', '', 'GM'], ['NO DATA', 'NO DATA', 'GU'])"
   ]
  },
  {
   "cell_type": "code",
   "execution_count": 67,
   "metadata": {},
   "outputs": [],
   "source": [
    "processed_df['LOCATION_STATE_ABBREVIATION'] = processed_df.apply(lambda x: replace_state(x['LOCATION_STATE_ABBREVIATION'], list(states['State/District']), list(states['Postal Code'])), axis=1)"
   ]
  },
  {
   "cell_type": "code",
   "execution_count": 68,
   "metadata": {},
   "outputs": [],
   "source": [
    "processed_df['LOCATION_STATE_ABBREVIATION'] = processed_df.apply(lambda x: x['LOCATION_STATE_ABBREVIATION'].upper(), axis = 1)"
   ]
  },
  {
   "cell_type": "markdown",
   "metadata": {},
   "source": [
    "### 7.1.2 Obtain Pipeline Mileage Table"
   ]
  },
  {
   "cell_type": "code",
   "execution_count": 80,
   "metadata": {},
   "outputs": [],
   "source": [
    "import requests\n",
    "from bs4 import BeautifulSoup"
   ]
  },
  {
   "cell_type": "code",
   "execution_count": 81,
   "metadata": {},
   "outputs": [],
   "source": [
    "url_mileage = 'https://www.ncsl.org/research/energy/state-gas-pipelines.aspx'"
   ]
  },
  {
   "cell_type": "code",
   "execution_count": 82,
   "metadata": {},
   "outputs": [],
   "source": [
    "html = requests.get(url_mileage).content\n",
    "soup = BeautifulSoup(html, 'html.parser')"
   ]
  },
  {
   "cell_type": "code",
   "execution_count": 86,
   "metadata": {},
   "outputs": [],
   "source": [
    "table = soup.find('table', {'class': 'NCSLGray'})"
   ]
  },
  {
   "cell_type": "code",
   "execution_count": 98,
   "metadata": {},
   "outputs": [],
   "source": [
    "rows = table.find_all('tr')\n",
    "rows = [row.text.strip().split(\"\\n\") for row in rows]"
   ]
  },
  {
   "cell_type": "code",
   "execution_count": 171,
   "metadata": {},
   "outputs": [],
   "source": [
    "for row in rows:\n",
    "    \n",
    "    list_to_remove = [\"\", \"\\r\"]\n",
    "    \n",
    "    for elements in list_to_remove:\n",
    "        \n",
    "        while(elements in row):\n",
    "        \n",
    "            row.remove(elements)"
   ]
  },
  {
   "cell_type": "code",
   "execution_count": 172,
   "metadata": {},
   "outputs": [],
   "source": [
    "clean_list = [item.strip() for row in rows for item in row]"
   ]
  },
  {
   "cell_type": "code",
   "execution_count": 173,
   "metadata": {},
   "outputs": [],
   "source": [
    "del clean_list[0:1]"
   ]
  },
  {
   "cell_type": "code",
   "execution_count": 174,
   "metadata": {},
   "outputs": [],
   "source": [
    "df = pd.DataFrame([clean_list[i:i+7] for i in range(0,len(clean_list),7)])"
   ]
  },
  {
   "cell_type": "code",
   "execution_count": 175,
   "metadata": {},
   "outputs": [],
   "source": [
    "df.columns = df.loc[0]"
   ]
  },
  {
   "cell_type": "code",
   "execution_count": 176,
   "metadata": {},
   "outputs": [],
   "source": [
    "df = df.drop(df.index[0]).set_index(['Jurisdiction'])"
   ]
  },
  {
   "cell_type": "code",
   "execution_count": 177,
   "metadata": {},
   "outputs": [],
   "source": [
    "df = df.iloc[:-1]"
   ]
  },
  {
   "cell_type": "code",
   "execution_count": 184,
   "metadata": {},
   "outputs": [],
   "source": [
    "df.index = df.index.str.upper()"
   ]
  },
  {
   "cell_type": "code",
   "execution_count": 179,
   "metadata": {},
   "outputs": [],
   "source": [
    "df.to_csv('../data/processed/pipeline_mileage.csv')"
   ]
  },
  {
   "cell_type": "markdown",
   "metadata": {},
   "source": [
    "### 7.2 Correct column values"
   ]
  },
  {
   "cell_type": "code",
   "execution_count": 69,
   "metadata": {},
   "outputs": [
    {
     "data": {
      "text/plain": [
       "array(['WITHIN/UNDER BUILDING', 'NO DATA', 'OTHER',\n",
       "       'UNDER GROUND OR UNDER WATER', 'UNDER PAVEMENT', 'UNDER WATER',\n",
       "       'UNDER GROUND', 'ABOVE GROUND', 'OPEN DITCH',\n",
       "       'INSIDE/UNDER BUILDING', 'ABOVEGROUND', 'UNDERGROUND',\n",
       "       'TANK, INCLUDING ATTACHED APPURTENANCES', 'TRANSITION AREA',\n",
       "       'BELOWGROUND STORAGE OR ABOVEGROUND STORAGE VESSEL, INCLUDING ATTACHED APPURTENANCE'],\n",
       "      dtype=object)"
      ]
     },
     "execution_count": 69,
     "metadata": {},
     "output_type": "execute_result"
    }
   ],
   "source": [
    "# INCIDENT_AREA_TYPE\n",
    "\n",
    "processed_df['INCIDENT_AREA_TYPE'].unique()"
   ]
  },
  {
   "cell_type": "code",
   "execution_count": 70,
   "metadata": {},
   "outputs": [],
   "source": [
    "processed_df['INCIDENT_AREA_TYPE'].replace(['UNDER GROUND', 'UNDER PAVEMENT', 'ABOVE GROUND', 'WITHIN/UNDER BUILDING'], \n",
    "                                           ['UNDERGROUND', 'UNDERGROUND', 'ABOVEGROUND', 'INSIDE/UNDER BUILDING'], inplace=True)"
   ]
  },
  {
   "cell_type": "code",
   "execution_count": 71,
   "metadata": {},
   "outputs": [
    {
     "data": {
      "text/plain": [
       "array(['STEEL', 'NO DATA', 'CAST IRON', 'OTHER', 'POLYETHYLENE PLASTIC',\n",
       "       'OTHER PLASTIC', 'POLYETHELENE PLASTIC', 'CAST/WROUGHT IRON',\n",
       "       'OTHER MATERIAL', 'PLASTIC', 'CARBON STEEL',\n",
       "       'MATERIAL OTHER THAN CARBON STEEL',\n",
       "       'MATERIAL OTHER THAN CARBON STEEL OR PLASTIC', 'UNKNOWN',\n",
       "       'DUCTILE IRON', 'COPPER'], dtype=object)"
      ]
     },
     "execution_count": 71,
     "metadata": {},
     "output_type": "execute_result"
    }
   ],
   "source": [
    "# MATERIAL INVOLVED\n",
    "\n",
    "processed_df['MATERIAL_INVOLVED'].unique()"
   ]
  },
  {
   "cell_type": "code",
   "execution_count": 72,
   "metadata": {},
   "outputs": [],
   "source": [
    "processed_df['MATERIAL_INVOLVED'].replace(['POLYETHELENE PLASTIC', 'CAST/WROUGHT IRON', 'OTHER MATERIAL', 'MATERIAL OTHER THAN CARBON STEEL', 'UNKNOWN', 'MATERIAL OTHER THAN CARBON STEEL OR PLASTIC', 'STEEL'], \n",
    "                                           ['POLYETHYLENE PLASTIC', 'CAST IRON', 'OTHER', 'OTHER', 'OTHER', 'OTHER', 'CARBON STEEL'], inplace=True)"
   ]
  },
  {
   "cell_type": "markdown",
   "metadata": {},
   "source": [
    "### 7.3 Export to directory"
   ]
  },
  {
   "cell_type": "code",
   "execution_count": 73,
   "metadata": {},
   "outputs": [],
   "source": [
    "processed_df.to_csv('../data/processed/pipelines_incident.csv')"
   ]
  },
  {
   "cell_type": "code",
   "execution_count": 74,
   "metadata": {},
   "outputs": [
    {
     "data": {
      "text/html": [
       "<div>\n",
       "<style scoped>\n",
       "    .dataframe tbody tr th:only-of-type {\n",
       "        vertical-align: middle;\n",
       "    }\n",
       "\n",
       "    .dataframe tbody tr th {\n",
       "        vertical-align: top;\n",
       "    }\n",
       "\n",
       "    .dataframe thead th {\n",
       "        text-align: right;\n",
       "    }\n",
       "</style>\n",
       "<table border=\"1\" class=\"dataframe\">\n",
       "  <thead>\n",
       "    <tr style=\"text-align: right;\">\n",
       "      <th></th>\n",
       "      <th>9564</th>\n",
       "      <th>874</th>\n",
       "      <th>2398</th>\n",
       "      <th>5845</th>\n",
       "      <th>10251</th>\n",
       "      <th>3678</th>\n",
       "      <th>10472</th>\n",
       "      <th>10163</th>\n",
       "      <th>4150</th>\n",
       "      <th>9309</th>\n",
       "    </tr>\n",
       "  </thead>\n",
       "  <tbody>\n",
       "    <tr>\n",
       "      <th>LOCAL_DATETIME</th>\n",
       "      <td>2006-08-02 09:30:00</td>\n",
       "      <td>1987-12-14 10:40:00</td>\n",
       "      <td>1991-06-01 11:15:00</td>\n",
       "      <td>2000-03-15 15:45:00</td>\n",
       "      <td>2007-09-07 18:04:00</td>\n",
       "      <td>1994-04-12 07:20:00</td>\n",
       "      <td>2008-01-21 10:00:00</td>\n",
       "      <td>2007-07-17 09:07:00</td>\n",
       "      <td>1995-08-01 10:48:00</td>\n",
       "      <td>2006-03-21 10:30:00</td>\n",
       "    </tr>\n",
       "    <tr>\n",
       "      <th>REPORT_NUMBER</th>\n",
       "      <td>20060243</td>\n",
       "      <td>19880006</td>\n",
       "      <td>19910105</td>\n",
       "      <td>20000075</td>\n",
       "      <td>20070280</td>\n",
       "      <td>19940137</td>\n",
       "      <td>20080048</td>\n",
       "      <td>20070112</td>\n",
       "      <td>19950110</td>\n",
       "      <td>20060089</td>\n",
       "    </tr>\n",
       "    <tr>\n",
       "      <th>SIGNIFICANT</th>\n",
       "      <td>NO</td>\n",
       "      <td>NO</td>\n",
       "      <td>YES</td>\n",
       "      <td>YES</td>\n",
       "      <td>YES</td>\n",
       "      <td>YES</td>\n",
       "      <td>NO</td>\n",
       "      <td>YES</td>\n",
       "      <td>YES</td>\n",
       "      <td>NO</td>\n",
       "    </tr>\n",
       "    <tr>\n",
       "      <th>SERIOUS</th>\n",
       "      <td>NO</td>\n",
       "      <td>NO</td>\n",
       "      <td>NO</td>\n",
       "      <td>NO</td>\n",
       "      <td>NO</td>\n",
       "      <td>YES</td>\n",
       "      <td>NO</td>\n",
       "      <td>NO</td>\n",
       "      <td>YES</td>\n",
       "      <td>NO</td>\n",
       "    </tr>\n",
       "    <tr>\n",
       "      <th>ON_OFF_SHORE</th>\n",
       "      <td>OFFSHORE</td>\n",
       "      <td>ONSHORE</td>\n",
       "      <td>ONSHORE</td>\n",
       "      <td>ONSHORE</td>\n",
       "      <td>OFFSHORE</td>\n",
       "      <td>OFFSHORE</td>\n",
       "      <td>OFFSHORE</td>\n",
       "      <td>OFFSHORE</td>\n",
       "      <td>OFFSHORE</td>\n",
       "      <td>OFFSHORE</td>\n",
       "    </tr>\n",
       "    <tr>\n",
       "      <th>LOCATION_CITY_NAME</th>\n",
       "      <td>LIMA</td>\n",
       "      <td>SEYMOUR</td>\n",
       "      <td>LITTLE ROCK</td>\n",
       "      <td>VICKSBURG</td>\n",
       "      <td>NO DATA</td>\n",
       "      <td>FLORENCE</td>\n",
       "      <td>ALLEN</td>\n",
       "      <td>DAVIDSON</td>\n",
       "      <td>INCLINE VILLAGE</td>\n",
       "      <td>HORNBECK</td>\n",
       "    </tr>\n",
       "    <tr>\n",
       "      <th>LOCATION_COUNTY_NAME</th>\n",
       "      <td>ALLEN</td>\n",
       "      <td>SEVIER</td>\n",
       "      <td>PULASKI</td>\n",
       "      <td>WARREN</td>\n",
       "      <td>BRAZOS</td>\n",
       "      <td>PIKE</td>\n",
       "      <td>PONTOTOC</td>\n",
       "      <td>MECKLENBURG</td>\n",
       "      <td>WASHOE</td>\n",
       "      <td>SABINE</td>\n",
       "    </tr>\n",
       "    <tr>\n",
       "      <th>LOCATION_STATE_ABBREVIATION</th>\n",
       "      <td>OHIO</td>\n",
       "      <td>TENNESSEE</td>\n",
       "      <td>ARKANSAS</td>\n",
       "      <td>MISSISSIPPI</td>\n",
       "      <td>TEXAS</td>\n",
       "      <td>ILLINOIS</td>\n",
       "      <td>OKLAHOMA</td>\n",
       "      <td>NORTH CAROLINA</td>\n",
       "      <td>NEVADA</td>\n",
       "      <td>LOUISIANA</td>\n",
       "    </tr>\n",
       "    <tr>\n",
       "      <th>INCIDENT_AREA_TYPE</th>\n",
       "      <td>NO DATA</td>\n",
       "      <td>UNDERGROUND</td>\n",
       "      <td>UNDERGROUND</td>\n",
       "      <td>UNDERGROUND</td>\n",
       "      <td>NO DATA</td>\n",
       "      <td>INSIDE/UNDER BUILDING</td>\n",
       "      <td>NO DATA</td>\n",
       "      <td>OPEN DITCH</td>\n",
       "      <td>ABOVEGROUND</td>\n",
       "      <td>NO DATA</td>\n",
       "    </tr>\n",
       "    <tr>\n",
       "      <th>CAUSE</th>\n",
       "      <td>EQUIPMENT</td>\n",
       "      <td>DAMAGE BY OUTSIDE FORCE</td>\n",
       "      <td>DAMAGE BY OUTSIDE FORCE</td>\n",
       "      <td>OTHER</td>\n",
       "      <td>EXCAVATION DAMAGE</td>\n",
       "      <td>CONSTRUCTION/OPERATING ERROR</td>\n",
       "      <td>EQUIPMENT</td>\n",
       "      <td>EXCAVATION DAMAGE</td>\n",
       "      <td>DAMAGE BY OUTSIDE FORCES</td>\n",
       "      <td>OTHER</td>\n",
       "    </tr>\n",
       "    <tr>\n",
       "      <th>MAP_CAUSE</th>\n",
       "      <td>MATERIAL/WELD/EQUIP FAILURE</td>\n",
       "      <td>EXCAVATION DAMAGE</td>\n",
       "      <td>EXCAVATION DAMAGE</td>\n",
       "      <td>ALL OTHER CAUSES</td>\n",
       "      <td>EXCAVATION DAMAGE</td>\n",
       "      <td>MATERIAL/WELD/EQUIP FAILURE</td>\n",
       "      <td>MATERIAL/WELD/EQUIP FAILURE</td>\n",
       "      <td>EXCAVATION DAMAGE</td>\n",
       "      <td>EXCAVATION DAMAGE</td>\n",
       "      <td>ALL OTHER CAUSES</td>\n",
       "    </tr>\n",
       "    <tr>\n",
       "      <th>MAP_SUBCAUSE</th>\n",
       "      <td>UNSPECIFIED EQUIPMENT FAILURE</td>\n",
       "      <td>THIRD PARTY EXCAVATION DAMAGE</td>\n",
       "      <td>THIRD PARTY EXCAVATION DAMAGE</td>\n",
       "      <td>MISCELLANEOUS</td>\n",
       "      <td>THIRD PARTY EXCAVATION DAMAGE</td>\n",
       "      <td>UNSPECIFIED MATERIAL/WELD FAILURE</td>\n",
       "      <td>RUPTURED OR LEAKING SEAL/PUMP PACKING</td>\n",
       "      <td>THIRD PARTY EXCAVATION DAMAGE</td>\n",
       "      <td>THIRD PARTY EXCAVATION DAMAGE</td>\n",
       "      <td>MISCELLANEOUS</td>\n",
       "    </tr>\n",
       "    <tr>\n",
       "      <th>FATAL</th>\n",
       "      <td>0</td>\n",
       "      <td>0</td>\n",
       "      <td>0</td>\n",
       "      <td>0</td>\n",
       "      <td>0</td>\n",
       "      <td>0</td>\n",
       "      <td>0</td>\n",
       "      <td>0</td>\n",
       "      <td>0</td>\n",
       "      <td>0</td>\n",
       "    </tr>\n",
       "    <tr>\n",
       "      <th>INJURE</th>\n",
       "      <td>0</td>\n",
       "      <td>0</td>\n",
       "      <td>0</td>\n",
       "      <td>0</td>\n",
       "      <td>0</td>\n",
       "      <td>1</td>\n",
       "      <td>0</td>\n",
       "      <td>0</td>\n",
       "      <td>1</td>\n",
       "      <td>0</td>\n",
       "    </tr>\n",
       "    <tr>\n",
       "      <th>UNINTENTIONAL_RELEASE_BBLS</th>\n",
       "      <td>1</td>\n",
       "      <td>0</td>\n",
       "      <td>0</td>\n",
       "      <td>0</td>\n",
       "      <td>1477</td>\n",
       "      <td>0</td>\n",
       "      <td>10</td>\n",
       "      <td>0</td>\n",
       "      <td>0</td>\n",
       "      <td>10</td>\n",
       "    </tr>\n",
       "    <tr>\n",
       "      <th>TOTAL_COST_IN84</th>\n",
       "      <td>8789</td>\n",
       "      <td>23142</td>\n",
       "      <td>72249</td>\n",
       "      <td>87850</td>\n",
       "      <td>1500634</td>\n",
       "      <td>14978</td>\n",
       "      <td>9892</td>\n",
       "      <td>199858</td>\n",
       "      <td>293</td>\n",
       "      <td>7060</td>\n",
       "    </tr>\n",
       "    <tr>\n",
       "      <th>TOTAL_COST_CURRENT</th>\n",
       "      <td>19148</td>\n",
       "      <td>50417</td>\n",
       "      <td>157397</td>\n",
       "      <td>191383</td>\n",
       "      <td>3269167</td>\n",
       "      <td>32631</td>\n",
       "      <td>21551</td>\n",
       "      <td>435397</td>\n",
       "      <td>639</td>\n",
       "      <td>15380</td>\n",
       "    </tr>\n",
       "    <tr>\n",
       "      <th>ACCIDENT_PSIG</th>\n",
       "      <td>0</td>\n",
       "      <td>500</td>\n",
       "      <td>560</td>\n",
       "      <td>345</td>\n",
       "      <td>1215</td>\n",
       "      <td>400</td>\n",
       "      <td>10</td>\n",
       "      <td>60</td>\n",
       "      <td>43</td>\n",
       "      <td>2</td>\n",
       "    </tr>\n",
       "    <tr>\n",
       "      <th>MOP_PSIG</th>\n",
       "      <td>0</td>\n",
       "      <td>640</td>\n",
       "      <td>830</td>\n",
       "      <td>475</td>\n",
       "      <td>0</td>\n",
       "      <td>400</td>\n",
       "      <td>0</td>\n",
       "      <td>60</td>\n",
       "      <td>60</td>\n",
       "      <td>0</td>\n",
       "    </tr>\n",
       "    <tr>\n",
       "      <th>NAME</th>\n",
       "      <td>BUCKEYE PARTNERS, LP</td>\n",
       "      <td>EAST TENNESSEE NATURAL GAS CO</td>\n",
       "      <td>TEXAS EASTERN GAS PIPELINE CO</td>\n",
       "      <td>KOCH GATEWAY PIPELINE CO</td>\n",
       "      <td>EXXONMOBIL PIPELINE COMPANY</td>\n",
       "      <td>CENTRAL ILLINOIS PUBLIC SERVICE</td>\n",
       "      <td>MAGELLAN PIPELINE COMPANY, LP</td>\n",
       "      <td>PUBLIC SERVICE OF NORTH CAROLINA, INC</td>\n",
       "      <td>SOUTHWEST GAS CORP</td>\n",
       "      <td>TE PRODUCTS PIPELINE COMPANY, LIMITED PARTNERSHIP</td>\n",
       "    </tr>\n",
       "    <tr>\n",
       "      <th>OPERATOR_ID</th>\n",
       "      <td>1845</td>\n",
       "      <td>4070</td>\n",
       "      <td>19235</td>\n",
       "      <td>20230</td>\n",
       "      <td>4906</td>\n",
       "      <td>2204</td>\n",
       "      <td>22610</td>\n",
       "      <td>15938</td>\n",
       "      <td>18536</td>\n",
       "      <td>19237</td>\n",
       "    </tr>\n",
       "    <tr>\n",
       "      <th>MATERIAL_INVOLVED</th>\n",
       "      <td>NO DATA</td>\n",
       "      <td>CARBON STEEL</td>\n",
       "      <td>CARBON STEEL</td>\n",
       "      <td>CARBON STEEL</td>\n",
       "      <td>NO DATA</td>\n",
       "      <td>CARBON STEEL</td>\n",
       "      <td>NO DATA</td>\n",
       "      <td>POLYETHYLENE PLASTIC</td>\n",
       "      <td>POLYETHYLENE PLASTIC</td>\n",
       "      <td>NO DATA</td>\n",
       "    </tr>\n",
       "    <tr>\n",
       "      <th>COMMODITY_RELEASED_TYPE</th>\n",
       "      <td>GASOLINE</td>\n",
       "      <td>NO DATA</td>\n",
       "      <td>NO DATA</td>\n",
       "      <td>NO DATA</td>\n",
       "      <td>UNLEADED GASOLINE</td>\n",
       "      <td>NO DATA</td>\n",
       "      <td>DIESEL FUEL</td>\n",
       "      <td>NO DATA</td>\n",
       "      <td>NO DATA</td>\n",
       "      <td>GASOLINE UL REG</td>\n",
       "    </tr>\n",
       "  </tbody>\n",
       "</table>\n",
       "</div>"
      ],
      "text/plain": [
       "                                                     9564   \\\n",
       "LOCAL_DATETIME                         2006-08-02 09:30:00   \n",
       "REPORT_NUMBER                                     20060243   \n",
       "SIGNIFICANT                                             NO   \n",
       "SERIOUS                                                 NO   \n",
       "ON_OFF_SHORE                                      OFFSHORE   \n",
       "LOCATION_CITY_NAME                                    LIMA   \n",
       "LOCATION_COUNTY_NAME                                 ALLEN   \n",
       "LOCATION_STATE_ABBREVIATION                           OHIO   \n",
       "INCIDENT_AREA_TYPE                                 NO DATA   \n",
       "CAUSE                                            EQUIPMENT   \n",
       "MAP_CAUSE                      MATERIAL/WELD/EQUIP FAILURE   \n",
       "MAP_SUBCAUSE                 UNSPECIFIED EQUIPMENT FAILURE   \n",
       "FATAL                                                    0   \n",
       "INJURE                                                   0   \n",
       "UNINTENTIONAL_RELEASE_BBLS                               1   \n",
       "TOTAL_COST_IN84                                       8789   \n",
       "TOTAL_COST_CURRENT                                   19148   \n",
       "ACCIDENT_PSIG                                            0   \n",
       "MOP_PSIG                                                 0   \n",
       "NAME                                  BUCKEYE PARTNERS, LP   \n",
       "OPERATOR_ID                                           1845   \n",
       "MATERIAL_INVOLVED                                  NO DATA   \n",
       "COMMODITY_RELEASED_TYPE                           GASOLINE   \n",
       "\n",
       "                                                     874    \\\n",
       "LOCAL_DATETIME                         1987-12-14 10:40:00   \n",
       "REPORT_NUMBER                                     19880006   \n",
       "SIGNIFICANT                                             NO   \n",
       "SERIOUS                                                 NO   \n",
       "ON_OFF_SHORE                                       ONSHORE   \n",
       "LOCATION_CITY_NAME                                 SEYMOUR   \n",
       "LOCATION_COUNTY_NAME                                SEVIER   \n",
       "LOCATION_STATE_ABBREVIATION                      TENNESSEE   \n",
       "INCIDENT_AREA_TYPE                             UNDERGROUND   \n",
       "CAUSE                              DAMAGE BY OUTSIDE FORCE   \n",
       "MAP_CAUSE                                EXCAVATION DAMAGE   \n",
       "MAP_SUBCAUSE                 THIRD PARTY EXCAVATION DAMAGE   \n",
       "FATAL                                                    0   \n",
       "INJURE                                                   0   \n",
       "UNINTENTIONAL_RELEASE_BBLS                               0   \n",
       "TOTAL_COST_IN84                                      23142   \n",
       "TOTAL_COST_CURRENT                                   50417   \n",
       "ACCIDENT_PSIG                                          500   \n",
       "MOP_PSIG                                               640   \n",
       "NAME                         EAST TENNESSEE NATURAL GAS CO   \n",
       "OPERATOR_ID                                           4070   \n",
       "MATERIAL_INVOLVED                             CARBON STEEL   \n",
       "COMMODITY_RELEASED_TYPE                            NO DATA   \n",
       "\n",
       "                                                     2398   \\\n",
       "LOCAL_DATETIME                         1991-06-01 11:15:00   \n",
       "REPORT_NUMBER                                     19910105   \n",
       "SIGNIFICANT                                            YES   \n",
       "SERIOUS                                                 NO   \n",
       "ON_OFF_SHORE                                       ONSHORE   \n",
       "LOCATION_CITY_NAME                             LITTLE ROCK   \n",
       "LOCATION_COUNTY_NAME                               PULASKI   \n",
       "LOCATION_STATE_ABBREVIATION                       ARKANSAS   \n",
       "INCIDENT_AREA_TYPE                             UNDERGROUND   \n",
       "CAUSE                              DAMAGE BY OUTSIDE FORCE   \n",
       "MAP_CAUSE                                EXCAVATION DAMAGE   \n",
       "MAP_SUBCAUSE                 THIRD PARTY EXCAVATION DAMAGE   \n",
       "FATAL                                                    0   \n",
       "INJURE                                                   0   \n",
       "UNINTENTIONAL_RELEASE_BBLS                               0   \n",
       "TOTAL_COST_IN84                                      72249   \n",
       "TOTAL_COST_CURRENT                                  157397   \n",
       "ACCIDENT_PSIG                                          560   \n",
       "MOP_PSIG                                               830   \n",
       "NAME                         TEXAS EASTERN GAS PIPELINE CO   \n",
       "OPERATOR_ID                                          19235   \n",
       "MATERIAL_INVOLVED                             CARBON STEEL   \n",
       "COMMODITY_RELEASED_TYPE                            NO DATA   \n",
       "\n",
       "                                                5845   \\\n",
       "LOCAL_DATETIME                    2000-03-15 15:45:00   \n",
       "REPORT_NUMBER                                20000075   \n",
       "SIGNIFICANT                                       YES   \n",
       "SERIOUS                                            NO   \n",
       "ON_OFF_SHORE                                  ONSHORE   \n",
       "LOCATION_CITY_NAME                          VICKSBURG   \n",
       "LOCATION_COUNTY_NAME                           WARREN   \n",
       "LOCATION_STATE_ABBREVIATION               MISSISSIPPI   \n",
       "INCIDENT_AREA_TYPE                        UNDERGROUND   \n",
       "CAUSE                                           OTHER   \n",
       "MAP_CAUSE                            ALL OTHER CAUSES   \n",
       "MAP_SUBCAUSE                            MISCELLANEOUS   \n",
       "FATAL                                               0   \n",
       "INJURE                                              0   \n",
       "UNINTENTIONAL_RELEASE_BBLS                          0   \n",
       "TOTAL_COST_IN84                                 87850   \n",
       "TOTAL_COST_CURRENT                             191383   \n",
       "ACCIDENT_PSIG                                     345   \n",
       "MOP_PSIG                                          475   \n",
       "NAME                         KOCH GATEWAY PIPELINE CO   \n",
       "OPERATOR_ID                                     20230   \n",
       "MATERIAL_INVOLVED                        CARBON STEEL   \n",
       "COMMODITY_RELEASED_TYPE                       NO DATA   \n",
       "\n",
       "                                                     10251  \\\n",
       "LOCAL_DATETIME                         2007-09-07 18:04:00   \n",
       "REPORT_NUMBER                                     20070280   \n",
       "SIGNIFICANT                                            YES   \n",
       "SERIOUS                                                 NO   \n",
       "ON_OFF_SHORE                                      OFFSHORE   \n",
       "LOCATION_CITY_NAME                                 NO DATA   \n",
       "LOCATION_COUNTY_NAME                                BRAZOS   \n",
       "LOCATION_STATE_ABBREVIATION                          TEXAS   \n",
       "INCIDENT_AREA_TYPE                                 NO DATA   \n",
       "CAUSE                                    EXCAVATION DAMAGE   \n",
       "MAP_CAUSE                                EXCAVATION DAMAGE   \n",
       "MAP_SUBCAUSE                 THIRD PARTY EXCAVATION DAMAGE   \n",
       "FATAL                                                    0   \n",
       "INJURE                                                   0   \n",
       "UNINTENTIONAL_RELEASE_BBLS                            1477   \n",
       "TOTAL_COST_IN84                                    1500634   \n",
       "TOTAL_COST_CURRENT                                 3269167   \n",
       "ACCIDENT_PSIG                                         1215   \n",
       "MOP_PSIG                                                 0   \n",
       "NAME                           EXXONMOBIL PIPELINE COMPANY   \n",
       "OPERATOR_ID                                           4906   \n",
       "MATERIAL_INVOLVED                                  NO DATA   \n",
       "COMMODITY_RELEASED_TYPE                  UNLEADED GASOLINE   \n",
       "\n",
       "                                                         3678   \\\n",
       "LOCAL_DATETIME                             1994-04-12 07:20:00   \n",
       "REPORT_NUMBER                                         19940137   \n",
       "SIGNIFICANT                                                YES   \n",
       "SERIOUS                                                    YES   \n",
       "ON_OFF_SHORE                                          OFFSHORE   \n",
       "LOCATION_CITY_NAME                                    FLORENCE   \n",
       "LOCATION_COUNTY_NAME                                      PIKE   \n",
       "LOCATION_STATE_ABBREVIATION                           ILLINOIS   \n",
       "INCIDENT_AREA_TYPE                       INSIDE/UNDER BUILDING   \n",
       "CAUSE                             CONSTRUCTION/OPERATING ERROR   \n",
       "MAP_CAUSE                          MATERIAL/WELD/EQUIP FAILURE   \n",
       "MAP_SUBCAUSE                 UNSPECIFIED MATERIAL/WELD FAILURE   \n",
       "FATAL                                                        0   \n",
       "INJURE                                                       1   \n",
       "UNINTENTIONAL_RELEASE_BBLS                                   0   \n",
       "TOTAL_COST_IN84                                          14978   \n",
       "TOTAL_COST_CURRENT                                       32631   \n",
       "ACCIDENT_PSIG                                              400   \n",
       "MOP_PSIG                                                   400   \n",
       "NAME                           CENTRAL ILLINOIS PUBLIC SERVICE   \n",
       "OPERATOR_ID                                               2204   \n",
       "MATERIAL_INVOLVED                                 CARBON STEEL   \n",
       "COMMODITY_RELEASED_TYPE                                NO DATA   \n",
       "\n",
       "                                                             10472  \\\n",
       "LOCAL_DATETIME                                 2008-01-21 10:00:00   \n",
       "REPORT_NUMBER                                             20080048   \n",
       "SIGNIFICANT                                                     NO   \n",
       "SERIOUS                                                         NO   \n",
       "ON_OFF_SHORE                                              OFFSHORE   \n",
       "LOCATION_CITY_NAME                                           ALLEN   \n",
       "LOCATION_COUNTY_NAME                                      PONTOTOC   \n",
       "LOCATION_STATE_ABBREVIATION                               OKLAHOMA   \n",
       "INCIDENT_AREA_TYPE                                         NO DATA   \n",
       "CAUSE                                                    EQUIPMENT   \n",
       "MAP_CAUSE                              MATERIAL/WELD/EQUIP FAILURE   \n",
       "MAP_SUBCAUSE                 RUPTURED OR LEAKING SEAL/PUMP PACKING   \n",
       "FATAL                                                            0   \n",
       "INJURE                                                           0   \n",
       "UNINTENTIONAL_RELEASE_BBLS                                      10   \n",
       "TOTAL_COST_IN84                                               9892   \n",
       "TOTAL_COST_CURRENT                                           21551   \n",
       "ACCIDENT_PSIG                                                   10   \n",
       "MOP_PSIG                                                         0   \n",
       "NAME                                 MAGELLAN PIPELINE COMPANY, LP   \n",
       "OPERATOR_ID                                                  22610   \n",
       "MATERIAL_INVOLVED                                          NO DATA   \n",
       "COMMODITY_RELEASED_TYPE                                DIESEL FUEL   \n",
       "\n",
       "                                                             10163  \\\n",
       "LOCAL_DATETIME                                 2007-07-17 09:07:00   \n",
       "REPORT_NUMBER                                             20070112   \n",
       "SIGNIFICANT                                                    YES   \n",
       "SERIOUS                                                         NO   \n",
       "ON_OFF_SHORE                                              OFFSHORE   \n",
       "LOCATION_CITY_NAME                                        DAVIDSON   \n",
       "LOCATION_COUNTY_NAME                                   MECKLENBURG   \n",
       "LOCATION_STATE_ABBREVIATION                         NORTH CAROLINA   \n",
       "INCIDENT_AREA_TYPE                                      OPEN DITCH   \n",
       "CAUSE                                            EXCAVATION DAMAGE   \n",
       "MAP_CAUSE                                        EXCAVATION DAMAGE   \n",
       "MAP_SUBCAUSE                         THIRD PARTY EXCAVATION DAMAGE   \n",
       "FATAL                                                            0   \n",
       "INJURE                                                           0   \n",
       "UNINTENTIONAL_RELEASE_BBLS                                       0   \n",
       "TOTAL_COST_IN84                                             199858   \n",
       "TOTAL_COST_CURRENT                                          435397   \n",
       "ACCIDENT_PSIG                                                   60   \n",
       "MOP_PSIG                                                        60   \n",
       "NAME                         PUBLIC SERVICE OF NORTH CAROLINA, INC   \n",
       "OPERATOR_ID                                                  15938   \n",
       "MATERIAL_INVOLVED                             POLYETHYLENE PLASTIC   \n",
       "COMMODITY_RELEASED_TYPE                                    NO DATA   \n",
       "\n",
       "                                                     4150   \\\n",
       "LOCAL_DATETIME                         1995-08-01 10:48:00   \n",
       "REPORT_NUMBER                                     19950110   \n",
       "SIGNIFICANT                                            YES   \n",
       "SERIOUS                                                YES   \n",
       "ON_OFF_SHORE                                      OFFSHORE   \n",
       "LOCATION_CITY_NAME                         INCLINE VILLAGE   \n",
       "LOCATION_COUNTY_NAME                                WASHOE   \n",
       "LOCATION_STATE_ABBREVIATION                         NEVADA   \n",
       "INCIDENT_AREA_TYPE                             ABOVEGROUND   \n",
       "CAUSE                             DAMAGE BY OUTSIDE FORCES   \n",
       "MAP_CAUSE                                EXCAVATION DAMAGE   \n",
       "MAP_SUBCAUSE                 THIRD PARTY EXCAVATION DAMAGE   \n",
       "FATAL                                                    0   \n",
       "INJURE                                                   1   \n",
       "UNINTENTIONAL_RELEASE_BBLS                               0   \n",
       "TOTAL_COST_IN84                                        293   \n",
       "TOTAL_COST_CURRENT                                     639   \n",
       "ACCIDENT_PSIG                                           43   \n",
       "MOP_PSIG                                                60   \n",
       "NAME                                    SOUTHWEST GAS CORP   \n",
       "OPERATOR_ID                                          18536   \n",
       "MATERIAL_INVOLVED                     POLYETHYLENE PLASTIC   \n",
       "COMMODITY_RELEASED_TYPE                            NO DATA   \n",
       "\n",
       "                                                                         9309   \n",
       "LOCAL_DATETIME                                             2006-03-21 10:30:00  \n",
       "REPORT_NUMBER                                                         20060089  \n",
       "SIGNIFICANT                                                                 NO  \n",
       "SERIOUS                                                                     NO  \n",
       "ON_OFF_SHORE                                                          OFFSHORE  \n",
       "LOCATION_CITY_NAME                                                    HORNBECK  \n",
       "LOCATION_COUNTY_NAME                                                    SABINE  \n",
       "LOCATION_STATE_ABBREVIATION                                          LOUISIANA  \n",
       "INCIDENT_AREA_TYPE                                                     NO DATA  \n",
       "CAUSE                                                                    OTHER  \n",
       "MAP_CAUSE                                                     ALL OTHER CAUSES  \n",
       "MAP_SUBCAUSE                                                     MISCELLANEOUS  \n",
       "FATAL                                                                        0  \n",
       "INJURE                                                                       0  \n",
       "UNINTENTIONAL_RELEASE_BBLS                                                  10  \n",
       "TOTAL_COST_IN84                                                           7060  \n",
       "TOTAL_COST_CURRENT                                                       15380  \n",
       "ACCIDENT_PSIG                                                                2  \n",
       "MOP_PSIG                                                                     0  \n",
       "NAME                         TE PRODUCTS PIPELINE COMPANY, LIMITED PARTNERSHIP  \n",
       "OPERATOR_ID                                                              19237  \n",
       "MATERIAL_INVOLVED                                                      NO DATA  \n",
       "COMMODITY_RELEASED_TYPE                                        GASOLINE UL REG  "
      ]
     },
     "execution_count": 74,
     "metadata": {},
     "output_type": "execute_result"
    }
   ],
   "source": [
    "processed_df.sample(10).T"
   ]
  },
  {
   "cell_type": "markdown",
   "metadata": {},
   "source": [
    "## 8. Data Visualization"
   ]
  },
  {
   "cell_type": "markdown",
   "metadata": {},
   "source": [
    "### 8.1 Correlation between variables"
   ]
  },
  {
   "cell_type": "code",
   "execution_count": 75,
   "metadata": {},
   "outputs": [
    {
     "data": {
      "text/html": [
       "<div>\n",
       "<style scoped>\n",
       "    .dataframe tbody tr th:only-of-type {\n",
       "        vertical-align: middle;\n",
       "    }\n",
       "\n",
       "    .dataframe tbody tr th {\n",
       "        vertical-align: top;\n",
       "    }\n",
       "\n",
       "    .dataframe thead th {\n",
       "        text-align: right;\n",
       "    }\n",
       "</style>\n",
       "<table border=\"1\" class=\"dataframe\">\n",
       "  <thead>\n",
       "    <tr style=\"text-align: right;\">\n",
       "      <th></th>\n",
       "      <th>REPORT_NUMBER</th>\n",
       "      <th>FATAL</th>\n",
       "      <th>INJURE</th>\n",
       "      <th>UNINTENTIONAL_RELEASE_BBLS</th>\n",
       "      <th>TOTAL_COST_IN84</th>\n",
       "      <th>TOTAL_COST_CURRENT</th>\n",
       "      <th>ACCIDENT_PSIG</th>\n",
       "      <th>MOP_PSIG</th>\n",
       "      <th>OPERATOR_ID</th>\n",
       "    </tr>\n",
       "  </thead>\n",
       "  <tbody>\n",
       "    <tr>\n",
       "      <th>REPORT_NUMBER</th>\n",
       "      <td>1.000000</td>\n",
       "      <td>-0.036985</td>\n",
       "      <td>-0.019117</td>\n",
       "      <td>0.096316</td>\n",
       "      <td>0.019141</td>\n",
       "      <td>0.018888</td>\n",
       "      <td>0.053838</td>\n",
       "      <td>0.317816</td>\n",
       "      <td>0.294913</td>\n",
       "    </tr>\n",
       "    <tr>\n",
       "      <th>FATAL</th>\n",
       "      <td>-0.036985</td>\n",
       "      <td>1.000000</td>\n",
       "      <td>0.046663</td>\n",
       "      <td>0.001408</td>\n",
       "      <td>0.066232</td>\n",
       "      <td>0.066270</td>\n",
       "      <td>-0.031685</td>\n",
       "      <td>-0.029446</td>\n",
       "      <td>-0.027488</td>\n",
       "    </tr>\n",
       "    <tr>\n",
       "      <th>INJURE</th>\n",
       "      <td>-0.019117</td>\n",
       "      <td>0.046663</td>\n",
       "      <td>1.000000</td>\n",
       "      <td>0.014856</td>\n",
       "      <td>0.030908</td>\n",
       "      <td>0.030925</td>\n",
       "      <td>-0.007197</td>\n",
       "      <td>-0.012769</td>\n",
       "      <td>-0.018022</td>\n",
       "    </tr>\n",
       "    <tr>\n",
       "      <th>UNINTENTIONAL_RELEASE_BBLS</th>\n",
       "      <td>0.096316</td>\n",
       "      <td>0.001408</td>\n",
       "      <td>0.014856</td>\n",
       "      <td>1.000000</td>\n",
       "      <td>0.028623</td>\n",
       "      <td>0.026918</td>\n",
       "      <td>0.122386</td>\n",
       "      <td>0.100280</td>\n",
       "      <td>-0.012459</td>\n",
       "    </tr>\n",
       "    <tr>\n",
       "      <th>TOTAL_COST_IN84</th>\n",
       "      <td>0.019141</td>\n",
       "      <td>0.066232</td>\n",
       "      <td>0.030908</td>\n",
       "      <td>0.028623</td>\n",
       "      <td>1.000000</td>\n",
       "      <td>0.999991</td>\n",
       "      <td>0.011554</td>\n",
       "      <td>0.011659</td>\n",
       "      <td>-0.009528</td>\n",
       "    </tr>\n",
       "    <tr>\n",
       "      <th>TOTAL_COST_CURRENT</th>\n",
       "      <td>0.018888</td>\n",
       "      <td>0.066270</td>\n",
       "      <td>0.030925</td>\n",
       "      <td>0.026918</td>\n",
       "      <td>0.999991</td>\n",
       "      <td>1.000000</td>\n",
       "      <td>0.011024</td>\n",
       "      <td>0.011135</td>\n",
       "      <td>-0.009510</td>\n",
       "    </tr>\n",
       "    <tr>\n",
       "      <th>ACCIDENT_PSIG</th>\n",
       "      <td>0.053838</td>\n",
       "      <td>-0.031685</td>\n",
       "      <td>-0.007197</td>\n",
       "      <td>0.122386</td>\n",
       "      <td>0.011554</td>\n",
       "      <td>0.011024</td>\n",
       "      <td>1.000000</td>\n",
       "      <td>0.616886</td>\n",
       "      <td>0.063236</td>\n",
       "    </tr>\n",
       "    <tr>\n",
       "      <th>MOP_PSIG</th>\n",
       "      <td>0.317816</td>\n",
       "      <td>-0.029446</td>\n",
       "      <td>-0.012769</td>\n",
       "      <td>0.100280</td>\n",
       "      <td>0.011659</td>\n",
       "      <td>0.011135</td>\n",
       "      <td>0.616886</td>\n",
       "      <td>1.000000</td>\n",
       "      <td>0.139551</td>\n",
       "    </tr>\n",
       "    <tr>\n",
       "      <th>OPERATOR_ID</th>\n",
       "      <td>0.294913</td>\n",
       "      <td>-0.027488</td>\n",
       "      <td>-0.018022</td>\n",
       "      <td>-0.012459</td>\n",
       "      <td>-0.009528</td>\n",
       "      <td>-0.009510</td>\n",
       "      <td>0.063236</td>\n",
       "      <td>0.139551</td>\n",
       "      <td>1.000000</td>\n",
       "    </tr>\n",
       "  </tbody>\n",
       "</table>\n",
       "</div>"
      ],
      "text/plain": [
       "                            REPORT_NUMBER     FATAL    INJURE  \\\n",
       "REPORT_NUMBER                    1.000000 -0.036985 -0.019117   \n",
       "FATAL                           -0.036985  1.000000  0.046663   \n",
       "INJURE                          -0.019117  0.046663  1.000000   \n",
       "UNINTENTIONAL_RELEASE_BBLS       0.096316  0.001408  0.014856   \n",
       "TOTAL_COST_IN84                  0.019141  0.066232  0.030908   \n",
       "TOTAL_COST_CURRENT               0.018888  0.066270  0.030925   \n",
       "ACCIDENT_PSIG                    0.053838 -0.031685 -0.007197   \n",
       "MOP_PSIG                         0.317816 -0.029446 -0.012769   \n",
       "OPERATOR_ID                      0.294913 -0.027488 -0.018022   \n",
       "\n",
       "                            UNINTENTIONAL_RELEASE_BBLS  TOTAL_COST_IN84  \\\n",
       "REPORT_NUMBER                                 0.096316         0.019141   \n",
       "FATAL                                         0.001408         0.066232   \n",
       "INJURE                                        0.014856         0.030908   \n",
       "UNINTENTIONAL_RELEASE_BBLS                    1.000000         0.028623   \n",
       "TOTAL_COST_IN84                               0.028623         1.000000   \n",
       "TOTAL_COST_CURRENT                            0.026918         0.999991   \n",
       "ACCIDENT_PSIG                                 0.122386         0.011554   \n",
       "MOP_PSIG                                      0.100280         0.011659   \n",
       "OPERATOR_ID                                  -0.012459        -0.009528   \n",
       "\n",
       "                            TOTAL_COST_CURRENT  ACCIDENT_PSIG  MOP_PSIG  \\\n",
       "REPORT_NUMBER                         0.018888       0.053838  0.317816   \n",
       "FATAL                                 0.066270      -0.031685 -0.029446   \n",
       "INJURE                                0.030925      -0.007197 -0.012769   \n",
       "UNINTENTIONAL_RELEASE_BBLS            0.026918       0.122386  0.100280   \n",
       "TOTAL_COST_IN84                       0.999991       0.011554  0.011659   \n",
       "TOTAL_COST_CURRENT                    1.000000       0.011024  0.011135   \n",
       "ACCIDENT_PSIG                         0.011024       1.000000  0.616886   \n",
       "MOP_PSIG                              0.011135       0.616886  1.000000   \n",
       "OPERATOR_ID                          -0.009510       0.063236  0.139551   \n",
       "\n",
       "                            OPERATOR_ID  \n",
       "REPORT_NUMBER                  0.294913  \n",
       "FATAL                         -0.027488  \n",
       "INJURE                        -0.018022  \n",
       "UNINTENTIONAL_RELEASE_BBLS    -0.012459  \n",
       "TOTAL_COST_IN84               -0.009528  \n",
       "TOTAL_COST_CURRENT            -0.009510  \n",
       "ACCIDENT_PSIG                  0.063236  \n",
       "MOP_PSIG                       0.139551  \n",
       "OPERATOR_ID                    1.000000  "
      ]
     },
     "execution_count": 75,
     "metadata": {},
     "output_type": "execute_result"
    }
   ],
   "source": [
    "processed_df.corr(method='pearson')"
   ]
  }
 ],
 "metadata": {
  "kernelspec": {
   "display_name": "Python [conda env:ironhack_env]",
   "language": "python",
   "name": "conda-env-ironhack_env-py"
  },
  "language_info": {
   "codemirror_mode": {
    "name": "ipython",
    "version": 3
   },
   "file_extension": ".py",
   "mimetype": "text/x-python",
   "name": "python",
   "nbconvert_exporter": "python",
   "pygments_lexer": "ipython3",
   "version": "3.8.8"
  }
 },
 "nbformat": 4,
 "nbformat_minor": 4
}
